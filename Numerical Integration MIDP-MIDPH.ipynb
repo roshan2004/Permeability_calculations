{
 "cells": [
  {
   "cell_type": "markdown",
   "id": "a721e2c7",
   "metadata": {},
   "source": [
    "In the case of monoester metabolites, two PMFs were calculated, both for the neutral (protonated) and charged (deprotonated) forms, and from them the weighted average was calculated which is used in the calculations of permeability. The weighted average for $\\Delta G(z)$ is given by:\n",
    "$$\\Delta G(z) = \\Delta G(z)_P\\frac{e^{\\frac{-\\Delta G(z)_P}{RT}}}{Q(z)} + \\Delta G(z)_{PH}\\frac{e^{\\frac{-\\Delta G(z)_{PH}}{RT}}}{Q(z)}$$\n",
    "where, $Q(z)$ is the sum of two states given by, $$Q(z) = e^{\\frac{-\\Delta G(z)_P}{RT}} + e^{\\frac{-\\Delta G(z)_{PH}}{RT}}$$\n",
    "Here, $\\Delta G(z)_P$ is the PMF of the charged (deprotonated) phthalate and $\\Delta G(z)_{PH}$ is the PMF of the uncharged (protonated) phthalate calculated for every $z$."
   ]
  },
  {
   "cell_type": "code",
   "execution_count": 2,
   "id": "30b890ef",
   "metadata": {},
   "outputs": [],
   "source": [
    "# The weighted average of the PMF is already done and is saved in xvg files with small letter names like \n",
    "# midp-midph.xvg"
   ]
  },
  {
   "cell_type": "code",
   "execution_count": 3,
   "id": "c5880181",
   "metadata": {},
   "outputs": [],
   "source": [
    "# Importing necessary libraries\n",
    "import pandas as pd\n",
    "import numpy as np\n",
    "import matplotlib.pyplot as plt\n",
    "from scipy.integrate import trapz, simps #Importing trapz, and simps module from scipy for numerical integration\n"
   ]
  },
  {
   "cell_type": "code",
   "execution_count": 4,
   "id": "32229c67",
   "metadata": {},
   "outputs": [],
   "source": [
    "pmf_midp_midph = pd.read_csv('midp-midph.xvg', header = None, delim_whitespace=True)"
   ]
  },
  {
   "cell_type": "code",
   "execution_count": 5,
   "id": "b6a512ea",
   "metadata": {},
   "outputs": [
    {
     "data": {
      "text/html": [
       "<div>\n",
       "<style scoped>\n",
       "    .dataframe tbody tr th:only-of-type {\n",
       "        vertical-align: middle;\n",
       "    }\n",
       "\n",
       "    .dataframe tbody tr th {\n",
       "        vertical-align: top;\n",
       "    }\n",
       "\n",
       "    .dataframe thead th {\n",
       "        text-align: right;\n",
       "    }\n",
       "</style>\n",
       "<table border=\"1\" class=\"dataframe\">\n",
       "  <thead>\n",
       "    <tr style=\"text-align: right;\">\n",
       "      <th></th>\n",
       "      <th>0</th>\n",
       "      <th>1</th>\n",
       "    </tr>\n",
       "  </thead>\n",
       "  <tbody>\n",
       "    <tr>\n",
       "      <th>0</th>\n",
       "      <td>0.005007</td>\n",
       "      <td>-10.516287</td>\n",
       "    </tr>\n",
       "    <tr>\n",
       "      <th>1</th>\n",
       "      <td>0.015021</td>\n",
       "      <td>-10.599797</td>\n",
       "    </tr>\n",
       "    <tr>\n",
       "      <th>2</th>\n",
       "      <td>0.025035</td>\n",
       "      <td>-10.749347</td>\n",
       "    </tr>\n",
       "    <tr>\n",
       "      <th>3</th>\n",
       "      <td>0.035049</td>\n",
       "      <td>-10.884686</td>\n",
       "    </tr>\n",
       "    <tr>\n",
       "      <th>4</th>\n",
       "      <td>0.045063</td>\n",
       "      <td>-11.138086</td>\n",
       "    </tr>\n",
       "  </tbody>\n",
       "</table>\n",
       "</div>"
      ],
      "text/plain": [
       "          0          1\n",
       "0  0.005007 -10.516287\n",
       "1  0.015021 -10.599797\n",
       "2  0.025035 -10.749347\n",
       "3  0.035049 -10.884686\n",
       "4  0.045063 -11.138086"
      ]
     },
     "execution_count": 5,
     "metadata": {},
     "output_type": "execute_result"
    }
   ],
   "source": [
    "# Checking the few data from pmf_midp_midph # Note, there are no error bars in here\n",
    "pmf_midp_midph.head()"
   ]
  },
  {
   "cell_type": "code",
   "execution_count": 6,
   "id": "c811b1fe",
   "metadata": {},
   "outputs": [],
   "source": [
    "# Extrapolating for the data at 0\n",
    "df = pd.DataFrame({0: [0.000000], 1: -10.516287})\n",
    "df = df.append(pmf_midp_midph)\n",
    "df = df.reset_index(drop=True)"
   ]
  },
  {
   "cell_type": "code",
   "execution_count": 7,
   "id": "fe938e82",
   "metadata": {},
   "outputs": [],
   "source": [
    "# Just making a copy to have same name as original\n",
    "pmf_midp_midph = df.copy(deep=True)"
   ]
  },
  {
   "cell_type": "code",
   "execution_count": 8,
   "id": "a07c673d",
   "metadata": {},
   "outputs": [
    {
     "data": {
      "text/html": [
       "<div>\n",
       "<style scoped>\n",
       "    .dataframe tbody tr th:only-of-type {\n",
       "        vertical-align: middle;\n",
       "    }\n",
       "\n",
       "    .dataframe tbody tr th {\n",
       "        vertical-align: top;\n",
       "    }\n",
       "\n",
       "    .dataframe thead th {\n",
       "        text-align: right;\n",
       "    }\n",
       "</style>\n",
       "<table border=\"1\" class=\"dataframe\">\n",
       "  <thead>\n",
       "    <tr style=\"text-align: right;\">\n",
       "      <th></th>\n",
       "      <th>0</th>\n",
       "      <th>1</th>\n",
       "    </tr>\n",
       "  </thead>\n",
       "  <tbody>\n",
       "    <tr>\n",
       "      <th>0</th>\n",
       "      <td>0.000000</td>\n",
       "      <td>-10.516287</td>\n",
       "    </tr>\n",
       "    <tr>\n",
       "      <th>1</th>\n",
       "      <td>0.005007</td>\n",
       "      <td>-10.516287</td>\n",
       "    </tr>\n",
       "    <tr>\n",
       "      <th>2</th>\n",
       "      <td>0.015021</td>\n",
       "      <td>-10.599797</td>\n",
       "    </tr>\n",
       "    <tr>\n",
       "      <th>3</th>\n",
       "      <td>0.025035</td>\n",
       "      <td>-10.749347</td>\n",
       "    </tr>\n",
       "    <tr>\n",
       "      <th>4</th>\n",
       "      <td>0.035049</td>\n",
       "      <td>-10.884686</td>\n",
       "    </tr>\n",
       "  </tbody>\n",
       "</table>\n",
       "</div>"
      ],
      "text/plain": [
       "          0          1\n",
       "0  0.000000 -10.516287\n",
       "1  0.005007 -10.516287\n",
       "2  0.015021 -10.599797\n",
       "3  0.025035 -10.749347\n",
       "4  0.035049 -10.884686"
      ]
     },
     "execution_count": 8,
     "metadata": {},
     "output_type": "execute_result"
    }
   ],
   "source": [
    "pmf_midp_midph.head()"
   ]
  },
  {
   "cell_type": "code",
   "execution_count": 9,
   "id": "42603a17",
   "metadata": {},
   "outputs": [],
   "source": [
    "# We don't want the values of z distance above 4, so\n",
    "pmf_midp_midph = pmf_midp_midph[pmf_midp_midph[0] <= 4.000000]"
   ]
  },
  {
   "cell_type": "code",
   "execution_count": 10,
   "id": "d2a1cc9d",
   "metadata": {},
   "outputs": [
    {
     "data": {
      "text/html": [
       "<div>\n",
       "<style scoped>\n",
       "    .dataframe tbody tr th:only-of-type {\n",
       "        vertical-align: middle;\n",
       "    }\n",
       "\n",
       "    .dataframe tbody tr th {\n",
       "        vertical-align: top;\n",
       "    }\n",
       "\n",
       "    .dataframe thead th {\n",
       "        text-align: right;\n",
       "    }\n",
       "</style>\n",
       "<table border=\"1\" class=\"dataframe\">\n",
       "  <thead>\n",
       "    <tr style=\"text-align: right;\">\n",
       "      <th></th>\n",
       "      <th>0</th>\n",
       "      <th>1</th>\n",
       "    </tr>\n",
       "  </thead>\n",
       "  <tbody>\n",
       "    <tr>\n",
       "      <th>395</th>\n",
       "      <td>3.950529</td>\n",
       "      <td>-0.060531</td>\n",
       "    </tr>\n",
       "    <tr>\n",
       "      <th>396</th>\n",
       "      <td>3.960543</td>\n",
       "      <td>-0.028826</td>\n",
       "    </tr>\n",
       "    <tr>\n",
       "      <th>397</th>\n",
       "      <td>3.970557</td>\n",
       "      <td>0.016891</td>\n",
       "    </tr>\n",
       "    <tr>\n",
       "      <th>398</th>\n",
       "      <td>3.980571</td>\n",
       "      <td>0.005322</td>\n",
       "    </tr>\n",
       "    <tr>\n",
       "      <th>399</th>\n",
       "      <td>3.990585</td>\n",
       "      <td>-0.027244</td>\n",
       "    </tr>\n",
       "  </tbody>\n",
       "</table>\n",
       "</div>"
      ],
      "text/plain": [
       "            0         1\n",
       "395  3.950529 -0.060531\n",
       "396  3.960543 -0.028826\n",
       "397  3.970557  0.016891\n",
       "398  3.980571  0.005322\n",
       "399  3.990585 -0.027244"
      ]
     },
     "execution_count": 10,
     "metadata": {},
     "output_type": "execute_result"
    }
   ],
   "source": [
    "pmf_midp_midph.tail()"
   ]
  },
  {
   "cell_type": "code",
   "execution_count": 11,
   "id": "71bc19a6",
   "metadata": {},
   "outputs": [],
   "source": [
    "# Just extrapolating to have the same value in z = 4 nm as in z = 3.990585\n",
    "pmf_midp_midph = pmf_midp_midph.append({0: 4.000000, 1: -0.027244468}, ignore_index = True)"
   ]
  },
  {
   "cell_type": "code",
   "execution_count": 13,
   "id": "e519f8a8",
   "metadata": {},
   "outputs": [
    {
     "data": {
      "text/html": [
       "<div>\n",
       "<style scoped>\n",
       "    .dataframe tbody tr th:only-of-type {\n",
       "        vertical-align: middle;\n",
       "    }\n",
       "\n",
       "    .dataframe tbody tr th {\n",
       "        vertical-align: top;\n",
       "    }\n",
       "\n",
       "    .dataframe thead th {\n",
       "        text-align: right;\n",
       "    }\n",
       "</style>\n",
       "<table border=\"1\" class=\"dataframe\">\n",
       "  <thead>\n",
       "    <tr style=\"text-align: right;\">\n",
       "      <th></th>\n",
       "      <th>0</th>\n",
       "      <th>1</th>\n",
       "    </tr>\n",
       "  </thead>\n",
       "  <tbody>\n",
       "    <tr>\n",
       "      <th>396</th>\n",
       "      <td>3.960543</td>\n",
       "      <td>-0.028826</td>\n",
       "    </tr>\n",
       "    <tr>\n",
       "      <th>397</th>\n",
       "      <td>3.970557</td>\n",
       "      <td>0.016891</td>\n",
       "    </tr>\n",
       "    <tr>\n",
       "      <th>398</th>\n",
       "      <td>3.980571</td>\n",
       "      <td>0.005322</td>\n",
       "    </tr>\n",
       "    <tr>\n",
       "      <th>399</th>\n",
       "      <td>3.990585</td>\n",
       "      <td>-0.027244</td>\n",
       "    </tr>\n",
       "    <tr>\n",
       "      <th>400</th>\n",
       "      <td>4.000000</td>\n",
       "      <td>-0.027244</td>\n",
       "    </tr>\n",
       "  </tbody>\n",
       "</table>\n",
       "</div>"
      ],
      "text/plain": [
       "            0         1\n",
       "396  3.960543 -0.028826\n",
       "397  3.970557  0.016891\n",
       "398  3.980571  0.005322\n",
       "399  3.990585 -0.027244\n",
       "400  4.000000 -0.027244"
      ]
     },
     "execution_count": 13,
     "metadata": {},
     "output_type": "execute_result"
    }
   ],
   "source": [
    "pmf_midp_midph.tail()"
   ]
  },
  {
   "cell_type": "code",
   "execution_count": 14,
   "id": "74dda182",
   "metadata": {},
   "outputs": [
    {
     "data": {
      "text/plain": [
       "[<matplotlib.lines.Line2D at 0x7f13e3ce4af0>]"
      ]
     },
     "execution_count": 14,
     "metadata": {},
     "output_type": "execute_result"
    },
    {
     "data": {
      "image/png": "[encoded data removed]",
      "text/plain": [
       "<Figure size 432x288 with 1 Axes>"
      ]
     },
     "metadata": {
      "needs_background": "light"
     },
     "output_type": "display_data"
    }
   ],
   "source": [
    "# Now, check a rough plot for free energy\n",
    "plt.plot(pmf_midp_midph[0], pmf_midp_midph[1])"
   ]
  },
  {
   "cell_type": "markdown",
   "id": "8242dd19",
   "metadata": {},
   "source": [
    "Now adding a $e^\\frac{\\Delta G}{RT}$ component in the last column of our PMF data. Here, $\\Delta G$ is obtained from the second column pmf_midp_midph[1] and RT is 2.478 KJ/mol at 298K."
   ]
  },
  {
   "cell_type": "code",
   "execution_count": 15,
   "id": "4cb04528",
   "metadata": {},
   "outputs": [],
   "source": [
    "pmf_midp_midph[2] = np.exp(pmf_midp_midph[1]/2.478)"
   ]
  },
  {
   "cell_type": "code",
   "execution_count": 16,
   "id": "9675a689",
   "metadata": {},
   "outputs": [
    {
     "data": {
      "text/html": [
       "<div>\n",
       "<style scoped>\n",
       "    .dataframe tbody tr th:only-of-type {\n",
       "        vertical-align: middle;\n",
       "    }\n",
       "\n",
       "    .dataframe tbody tr th {\n",
       "        vertical-align: top;\n",
       "    }\n",
       "\n",
       "    .dataframe thead th {\n",
       "        text-align: right;\n",
       "    }\n",
       "</style>\n",
       "<table border=\"1\" class=\"dataframe\">\n",
       "  <thead>\n",
       "    <tr style=\"text-align: right;\">\n",
       "      <th></th>\n",
       "      <th>0</th>\n",
       "      <th>1</th>\n",
       "      <th>2</th>\n",
       "    </tr>\n",
       "  </thead>\n",
       "  <tbody>\n",
       "    <tr>\n",
       "      <th>0</th>\n",
       "      <td>0.000000</td>\n",
       "      <td>-10.516287</td>\n",
       "      <td>0.014352</td>\n",
       "    </tr>\n",
       "    <tr>\n",
       "      <th>1</th>\n",
       "      <td>0.005007</td>\n",
       "      <td>-10.516287</td>\n",
       "      <td>0.014352</td>\n",
       "    </tr>\n",
       "    <tr>\n",
       "      <th>2</th>\n",
       "      <td>0.015021</td>\n",
       "      <td>-10.599797</td>\n",
       "      <td>0.013876</td>\n",
       "    </tr>\n",
       "    <tr>\n",
       "      <th>3</th>\n",
       "      <td>0.025035</td>\n",
       "      <td>-10.749347</td>\n",
       "      <td>0.013064</td>\n",
       "    </tr>\n",
       "    <tr>\n",
       "      <th>4</th>\n",
       "      <td>0.035049</td>\n",
       "      <td>-10.884686</td>\n",
       "      <td>0.012369</td>\n",
       "    </tr>\n",
       "    <tr>\n",
       "      <th>...</th>\n",
       "      <td>...</td>\n",
       "      <td>...</td>\n",
       "      <td>...</td>\n",
       "    </tr>\n",
       "    <tr>\n",
       "      <th>396</th>\n",
       "      <td>3.960543</td>\n",
       "      <td>-0.028826</td>\n",
       "      <td>0.988435</td>\n",
       "    </tr>\n",
       "    <tr>\n",
       "      <th>397</th>\n",
       "      <td>3.970557</td>\n",
       "      <td>0.016891</td>\n",
       "      <td>1.006840</td>\n",
       "    </tr>\n",
       "    <tr>\n",
       "      <th>398</th>\n",
       "      <td>3.980571</td>\n",
       "      <td>0.005322</td>\n",
       "      <td>1.002150</td>\n",
       "    </tr>\n",
       "    <tr>\n",
       "      <th>399</th>\n",
       "      <td>3.990585</td>\n",
       "      <td>-0.027244</td>\n",
       "      <td>0.989066</td>\n",
       "    </tr>\n",
       "    <tr>\n",
       "      <th>400</th>\n",
       "      <td>4.000000</td>\n",
       "      <td>-0.027244</td>\n",
       "      <td>0.989066</td>\n",
       "    </tr>\n",
       "  </tbody>\n",
       "</table>\n",
       "<p>401 rows × 3 columns</p>\n",
       "</div>"
      ],
      "text/plain": [
       "            0          1         2\n",
       "0    0.000000 -10.516287  0.014352\n",
       "1    0.005007 -10.516287  0.014352\n",
       "2    0.015021 -10.599797  0.013876\n",
       "3    0.025035 -10.749347  0.013064\n",
       "4    0.035049 -10.884686  0.012369\n",
       "..        ...        ...       ...\n",
       "396  3.960543  -0.028826  0.988435\n",
       "397  3.970557   0.016891  1.006840\n",
       "398  3.980571   0.005322  1.002150\n",
       "399  3.990585  -0.027244  0.989066\n",
       "400  4.000000  -0.027244  0.989066\n",
       "\n",
       "[401 rows x 3 columns]"
      ]
     },
     "execution_count": 16,
     "metadata": {},
     "output_type": "execute_result"
    }
   ],
   "source": [
    "pmf_midp_midph"
   ]
  },
  {
   "cell_type": "code",
   "execution_count": 17,
   "id": "6c256af3",
   "metadata": {},
   "outputs": [
    {
     "data": {
      "text/plain": [
       "0.9890658667023333"
      ]
     },
     "execution_count": 17,
     "metadata": {},
     "output_type": "execute_result"
    }
   ],
   "source": [
    "# Just checking some values in the last column if it makes sense\n",
    "np.exp(-0.027244/2.478)\n",
    "# So, here the last column index 2 contains the values of the numerator of our integrand that we want to integrate"
   ]
  },
  {
   "cell_type": "markdown",
   "id": "51669333",
   "metadata": {},
   "source": [
    "### Weighted average of Diffusion coefficient for monoisodecyl phthalate (MIDP)"
   ]
  },
  {
   "cell_type": "markdown",
   "id": "8ed03623",
   "metadata": {},
   "source": [
    "Similarly for diffusion coefficient, the weighted average for $D(z)$ is given by:\n",
    "$$D(z) = D(z)_P\\frac{e^{\\frac{-\\Delta G(z)_P}{RT}}}{Q(z)} + D(z)_{PH}\\frac{e^{\\frac{-\\Delta G(z)_{PH}}{RT}}}{Q(z)}$$\n",
    "where, $Q(z)$ is the sum of two states given by, $$Q(z) = e^{\\frac{-\\Delta G(z)_P}{RT}} + e^{\\frac{-\\Delta G(z)_{PH}}{RT}}$$\n",
    "Here, $\\Delta G(z)_P$ is the PMF of the charged (deprotonated) phthalate and $\\Delta G(z)_{PH}$ is the PMF of the uncharged (protonated) phthalate calculated for every $z$."
   ]
  },
  {
   "cell_type": "markdown",
   "id": "af571870",
   "metadata": {},
   "source": [
    "So, for the weighted average of Diffusion coefficient, we need the free energy of both the charged(deprotonated(P)) and uncharged (protonated(PH)) phthalate"
   ]
  },
  {
   "cell_type": "code",
   "execution_count": 18,
   "id": "09ecdf09",
   "metadata": {},
   "outputs": [],
   "source": [
    "# Here, the pmf for both charged and uncharged monoester metabolites are given by the xvg files with their usual names\n",
    "# Like 6-MIDP.xvg, 6-MIDPH.xvg"
   ]
  },
  {
   "cell_type": "code",
   "execution_count": 19,
   "id": "4fd1dadb",
   "metadata": {},
   "outputs": [],
   "source": [
    "pmf_midp =  pd.read_csv('6-MIDP.xvg', header = None, delim_whitespace=True)\n",
    "pmf_midph = pd.read_csv('6-MIDPH.xvg', header = None, delim_whitespace=True)"
   ]
  },
  {
   "cell_type": "code",
   "execution_count": 20,
   "id": "c039776e",
   "metadata": {},
   "outputs": [
    {
     "data": {
      "text/html": [
       "<div>\n",
       "<style scoped>\n",
       "    .dataframe tbody tr th:only-of-type {\n",
       "        vertical-align: middle;\n",
       "    }\n",
       "\n",
       "    .dataframe tbody tr th {\n",
       "        vertical-align: top;\n",
       "    }\n",
       "\n",
       "    .dataframe thead th {\n",
       "        text-align: right;\n",
       "    }\n",
       "</style>\n",
       "<table border=\"1\" class=\"dataframe\">\n",
       "  <thead>\n",
       "    <tr style=\"text-align: right;\">\n",
       "      <th></th>\n",
       "      <th>0</th>\n",
       "      <th>1</th>\n",
       "    </tr>\n",
       "  </thead>\n",
       "  <tbody>\n",
       "    <tr>\n",
       "      <th>0</th>\n",
       "      <td>0.005007</td>\n",
       "      <td>30.49231</td>\n",
       "    </tr>\n",
       "    <tr>\n",
       "      <th>1</th>\n",
       "      <td>0.015021</td>\n",
       "      <td>30.25589</td>\n",
       "    </tr>\n",
       "    <tr>\n",
       "      <th>2</th>\n",
       "      <td>0.025035</td>\n",
       "      <td>29.87711</td>\n",
       "    </tr>\n",
       "    <tr>\n",
       "      <th>3</th>\n",
       "      <td>0.035049</td>\n",
       "      <td>29.40022</td>\n",
       "    </tr>\n",
       "    <tr>\n",
       "      <th>4</th>\n",
       "      <td>0.045063</td>\n",
       "      <td>28.78913</td>\n",
       "    </tr>\n",
       "  </tbody>\n",
       "</table>\n",
       "</div>"
      ],
      "text/plain": [
       "          0         1\n",
       "0  0.005007  30.49231\n",
       "1  0.015021  30.25589\n",
       "2  0.025035  29.87711\n",
       "3  0.035049  29.40022\n",
       "4  0.045063  28.78913"
      ]
     },
     "execution_count": 20,
     "metadata": {},
     "output_type": "execute_result"
    }
   ],
   "source": [
    "pmf_midp.head()"
   ]
  },
  {
   "cell_type": "code",
   "execution_count": 21,
   "id": "1abf337a",
   "metadata": {},
   "outputs": [
    {
     "data": {
      "text/html": [
       "<div>\n",
       "<style scoped>\n",
       "    .dataframe tbody tr th:only-of-type {\n",
       "        vertical-align: middle;\n",
       "    }\n",
       "\n",
       "    .dataframe tbody tr th {\n",
       "        vertical-align: top;\n",
       "    }\n",
       "\n",
       "    .dataframe thead th {\n",
       "        text-align: right;\n",
       "    }\n",
       "</style>\n",
       "<table border=\"1\" class=\"dataframe\">\n",
       "  <thead>\n",
       "    <tr style=\"text-align: right;\">\n",
       "      <th></th>\n",
       "      <th>0</th>\n",
       "      <th>1</th>\n",
       "    </tr>\n",
       "  </thead>\n",
       "  <tbody>\n",
       "    <tr>\n",
       "      <th>0</th>\n",
       "      <td>0.005026</td>\n",
       "      <td>-10.51629</td>\n",
       "    </tr>\n",
       "    <tr>\n",
       "      <th>1</th>\n",
       "      <td>0.015078</td>\n",
       "      <td>-10.59980</td>\n",
       "    </tr>\n",
       "    <tr>\n",
       "      <th>2</th>\n",
       "      <td>0.025130</td>\n",
       "      <td>-10.74935</td>\n",
       "    </tr>\n",
       "    <tr>\n",
       "      <th>3</th>\n",
       "      <td>0.035182</td>\n",
       "      <td>-10.88469</td>\n",
       "    </tr>\n",
       "    <tr>\n",
       "      <th>4</th>\n",
       "      <td>0.045233</td>\n",
       "      <td>-11.13809</td>\n",
       "    </tr>\n",
       "  </tbody>\n",
       "</table>\n",
       "</div>"
      ],
      "text/plain": [
       "          0         1\n",
       "0  0.005026 -10.51629\n",
       "1  0.015078 -10.59980\n",
       "2  0.025130 -10.74935\n",
       "3  0.035182 -10.88469\n",
       "4  0.045233 -11.13809"
      ]
     },
     "execution_count": 21,
     "metadata": {},
     "output_type": "execute_result"
    }
   ],
   "source": [
    "pmf_midph.head()"
   ]
  },
  {
   "cell_type": "code",
   "execution_count": 22,
   "id": "641e63dd",
   "metadata": {},
   "outputs": [],
   "source": [
    "# Extrapolating for the data at 0 for both\n",
    "df = pd.DataFrame({0: [0.000000], 1: 30.49231})\n",
    "df = df.append(pmf_midp)\n",
    "df = df.reset_index(drop=True)"
   ]
  },
  {
   "cell_type": "code",
   "execution_count": 23,
   "id": "60772f94",
   "metadata": {},
   "outputs": [],
   "source": [
    "# Just making a copy to have same name as original\n",
    "pmf_midp = df.copy(deep=True)"
   ]
  },
  {
   "cell_type": "code",
   "execution_count": 24,
   "id": "6e51567d",
   "metadata": {},
   "outputs": [
    {
     "data": {
      "text/html": [
       "<div>\n",
       "<style scoped>\n",
       "    .dataframe tbody tr th:only-of-type {\n",
       "        vertical-align: middle;\n",
       "    }\n",
       "\n",
       "    .dataframe tbody tr th {\n",
       "        vertical-align: top;\n",
       "    }\n",
       "\n",
       "    .dataframe thead th {\n",
       "        text-align: right;\n",
       "    }\n",
       "</style>\n",
       "<table border=\"1\" class=\"dataframe\">\n",
       "  <thead>\n",
       "    <tr style=\"text-align: right;\">\n",
       "      <th></th>\n",
       "      <th>0</th>\n",
       "      <th>1</th>\n",
       "    </tr>\n",
       "  </thead>\n",
       "  <tbody>\n",
       "    <tr>\n",
       "      <th>0</th>\n",
       "      <td>0.000000</td>\n",
       "      <td>30.49231</td>\n",
       "    </tr>\n",
       "    <tr>\n",
       "      <th>1</th>\n",
       "      <td>0.005007</td>\n",
       "      <td>30.49231</td>\n",
       "    </tr>\n",
       "    <tr>\n",
       "      <th>2</th>\n",
       "      <td>0.015021</td>\n",
       "      <td>30.25589</td>\n",
       "    </tr>\n",
       "    <tr>\n",
       "      <th>3</th>\n",
       "      <td>0.025035</td>\n",
       "      <td>29.87711</td>\n",
       "    </tr>\n",
       "    <tr>\n",
       "      <th>4</th>\n",
       "      <td>0.035049</td>\n",
       "      <td>29.40022</td>\n",
       "    </tr>\n",
       "  </tbody>\n",
       "</table>\n",
       "</div>"
      ],
      "text/plain": [
       "          0         1\n",
       "0  0.000000  30.49231\n",
       "1  0.005007  30.49231\n",
       "2  0.015021  30.25589\n",
       "3  0.025035  29.87711\n",
       "4  0.035049  29.40022"
      ]
     },
     "execution_count": 24,
     "metadata": {},
     "output_type": "execute_result"
    }
   ],
   "source": [
    "pmf_midp.head()"
   ]
  },
  {
   "cell_type": "code",
   "execution_count": 25,
   "id": "0eb11b2f",
   "metadata": {},
   "outputs": [],
   "source": [
    "# We don't want the values of z distance above 4, so\n",
    "pmf_midp = pmf_midp[pmf_midp[0] <= 4.000000]"
   ]
  },
  {
   "cell_type": "code",
   "execution_count": 26,
   "id": "e405bb8f",
   "metadata": {},
   "outputs": [
    {
     "data": {
      "text/html": [
       "<div>\n",
       "<style scoped>\n",
       "    .dataframe tbody tr th:only-of-type {\n",
       "        vertical-align: middle;\n",
       "    }\n",
       "\n",
       "    .dataframe tbody tr th {\n",
       "        vertical-align: top;\n",
       "    }\n",
       "\n",
       "    .dataframe thead th {\n",
       "        text-align: right;\n",
       "    }\n",
       "</style>\n",
       "<table border=\"1\" class=\"dataframe\">\n",
       "  <thead>\n",
       "    <tr style=\"text-align: right;\">\n",
       "      <th></th>\n",
       "      <th>0</th>\n",
       "      <th>1</th>\n",
       "    </tr>\n",
       "  </thead>\n",
       "  <tbody>\n",
       "    <tr>\n",
       "      <th>395</th>\n",
       "      <td>3.950529</td>\n",
       "      <td>-0.069026</td>\n",
       "    </tr>\n",
       "    <tr>\n",
       "      <th>396</th>\n",
       "      <td>3.960543</td>\n",
       "      <td>-0.037444</td>\n",
       "    </tr>\n",
       "    <tr>\n",
       "      <th>397</th>\n",
       "      <td>3.970557</td>\n",
       "      <td>0.008044</td>\n",
       "    </tr>\n",
       "    <tr>\n",
       "      <th>398</th>\n",
       "      <td>3.980571</td>\n",
       "      <td>-0.003486</td>\n",
       "    </tr>\n",
       "    <tr>\n",
       "      <th>399</th>\n",
       "      <td>3.990585</td>\n",
       "      <td>-0.036008</td>\n",
       "    </tr>\n",
       "  </tbody>\n",
       "</table>\n",
       "</div>"
      ],
      "text/plain": [
       "            0         1\n",
       "395  3.950529 -0.069026\n",
       "396  3.960543 -0.037444\n",
       "397  3.970557  0.008044\n",
       "398  3.980571 -0.003486\n",
       "399  3.990585 -0.036008"
      ]
     },
     "execution_count": 26,
     "metadata": {},
     "output_type": "execute_result"
    }
   ],
   "source": [
    "pmf_midp.tail()"
   ]
  },
  {
   "cell_type": "code",
   "execution_count": 27,
   "id": "bf6fec44",
   "metadata": {},
   "outputs": [],
   "source": [
    "# Just extrapolating to have the same value in z = 4 nm as in z = 3.990585\n",
    "pmf_midp = pmf_midp.append({0: 4.000000, 1: -0.036008}, ignore_index = True)"
   ]
  },
  {
   "cell_type": "code",
   "execution_count": 28,
   "id": "1ec39b75",
   "metadata": {},
   "outputs": [
    {
     "data": {
      "text/html": [
       "<div>\n",
       "<style scoped>\n",
       "    .dataframe tbody tr th:only-of-type {\n",
       "        vertical-align: middle;\n",
       "    }\n",
       "\n",
       "    .dataframe tbody tr th {\n",
       "        vertical-align: top;\n",
       "    }\n",
       "\n",
       "    .dataframe thead th {\n",
       "        text-align: right;\n",
       "    }\n",
       "</style>\n",
       "<table border=\"1\" class=\"dataframe\">\n",
       "  <thead>\n",
       "    <tr style=\"text-align: right;\">\n",
       "      <th></th>\n",
       "      <th>0</th>\n",
       "      <th>1</th>\n",
       "    </tr>\n",
       "  </thead>\n",
       "  <tbody>\n",
       "    <tr>\n",
       "      <th>396</th>\n",
       "      <td>3.960543</td>\n",
       "      <td>-0.037444</td>\n",
       "    </tr>\n",
       "    <tr>\n",
       "      <th>397</th>\n",
       "      <td>3.970557</td>\n",
       "      <td>0.008044</td>\n",
       "    </tr>\n",
       "    <tr>\n",
       "      <th>398</th>\n",
       "      <td>3.980571</td>\n",
       "      <td>-0.003486</td>\n",
       "    </tr>\n",
       "    <tr>\n",
       "      <th>399</th>\n",
       "      <td>3.990585</td>\n",
       "      <td>-0.036008</td>\n",
       "    </tr>\n",
       "    <tr>\n",
       "      <th>400</th>\n",
       "      <td>4.000000</td>\n",
       "      <td>-0.036008</td>\n",
       "    </tr>\n",
       "  </tbody>\n",
       "</table>\n",
       "</div>"
      ],
      "text/plain": [
       "            0         1\n",
       "396  3.960543 -0.037444\n",
       "397  3.970557  0.008044\n",
       "398  3.980571 -0.003486\n",
       "399  3.990585 -0.036008\n",
       "400  4.000000 -0.036008"
      ]
     },
     "execution_count": 28,
     "metadata": {},
     "output_type": "execute_result"
    }
   ],
   "source": [
    "pmf_midp.tail()"
   ]
  },
  {
   "cell_type": "code",
   "execution_count": 29,
   "id": "f4ef7365",
   "metadata": {},
   "outputs": [],
   "source": [
    "# Similarly for midph,\n",
    "# Extrapolating for the data at 0 for both\n",
    "df = pd.DataFrame({0: [0.000000], 1: -10.51629})\n",
    "df = df.append(pmf_midph)\n",
    "df = df.reset_index(drop=True)\n",
    "# Just making a copy to have same name as original\n",
    "pmf_midph = df.copy(deep=True)"
   ]
  },
  {
   "cell_type": "code",
   "execution_count": 31,
   "id": "d5a0a0a6",
   "metadata": {},
   "outputs": [
    {
     "data": {
      "text/html": [
       "<div>\n",
       "<style scoped>\n",
       "    .dataframe tbody tr th:only-of-type {\n",
       "        vertical-align: middle;\n",
       "    }\n",
       "\n",
       "    .dataframe tbody tr th {\n",
       "        vertical-align: top;\n",
       "    }\n",
       "\n",
       "    .dataframe thead th {\n",
       "        text-align: right;\n",
       "    }\n",
       "</style>\n",
       "<table border=\"1\" class=\"dataframe\">\n",
       "  <thead>\n",
       "    <tr style=\"text-align: right;\">\n",
       "      <th></th>\n",
       "      <th>0</th>\n",
       "      <th>1</th>\n",
       "    </tr>\n",
       "  </thead>\n",
       "  <tbody>\n",
       "    <tr>\n",
       "      <th>0</th>\n",
       "      <td>0.000000</td>\n",
       "      <td>-10.51629</td>\n",
       "    </tr>\n",
       "    <tr>\n",
       "      <th>1</th>\n",
       "      <td>0.005026</td>\n",
       "      <td>-10.51629</td>\n",
       "    </tr>\n",
       "    <tr>\n",
       "      <th>2</th>\n",
       "      <td>0.015078</td>\n",
       "      <td>-10.59980</td>\n",
       "    </tr>\n",
       "    <tr>\n",
       "      <th>3</th>\n",
       "      <td>0.025130</td>\n",
       "      <td>-10.74935</td>\n",
       "    </tr>\n",
       "    <tr>\n",
       "      <th>4</th>\n",
       "      <td>0.035182</td>\n",
       "      <td>-10.88469</td>\n",
       "    </tr>\n",
       "  </tbody>\n",
       "</table>\n",
       "</div>"
      ],
      "text/plain": [
       "          0         1\n",
       "0  0.000000 -10.51629\n",
       "1  0.005026 -10.51629\n",
       "2  0.015078 -10.59980\n",
       "3  0.025130 -10.74935\n",
       "4  0.035182 -10.88469"
      ]
     },
     "execution_count": 31,
     "metadata": {},
     "output_type": "execute_result"
    }
   ],
   "source": [
    "pmf_midph.head()"
   ]
  },
  {
   "cell_type": "code",
   "execution_count": 32,
   "id": "cae3ad4d",
   "metadata": {},
   "outputs": [],
   "source": [
    "# We don't want the values of z distance above 4, so\n",
    "pmf_midph = pmf_midph[pmf_midph[0] <= 4.000000]"
   ]
  },
  {
   "cell_type": "code",
   "execution_count": 33,
   "id": "172005cc",
   "metadata": {},
   "outputs": [
    {
     "data": {
      "text/html": [
       "<div>\n",
       "<style scoped>\n",
       "    .dataframe tbody tr th:only-of-type {\n",
       "        vertical-align: middle;\n",
       "    }\n",
       "\n",
       "    .dataframe tbody tr th {\n",
       "        vertical-align: top;\n",
       "    }\n",
       "\n",
       "    .dataframe thead th {\n",
       "        text-align: right;\n",
       "    }\n",
       "</style>\n",
       "<table border=\"1\" class=\"dataframe\">\n",
       "  <thead>\n",
       "    <tr style=\"text-align: right;\">\n",
       "      <th></th>\n",
       "      <th>0</th>\n",
       "      <th>1</th>\n",
       "    </tr>\n",
       "  </thead>\n",
       "  <tbody>\n",
       "    <tr>\n",
       "      <th>394</th>\n",
       "      <td>3.955414</td>\n",
       "      <td>19.042615</td>\n",
       "    </tr>\n",
       "    <tr>\n",
       "      <th>395</th>\n",
       "      <td>3.965466</td>\n",
       "      <td>19.066811</td>\n",
       "    </tr>\n",
       "    <tr>\n",
       "      <th>396</th>\n",
       "      <td>3.975517</td>\n",
       "      <td>19.057385</td>\n",
       "    </tr>\n",
       "    <tr>\n",
       "      <th>397</th>\n",
       "      <td>3.985569</td>\n",
       "      <td>19.028376</td>\n",
       "    </tr>\n",
       "    <tr>\n",
       "      <th>398</th>\n",
       "      <td>3.995621</td>\n",
       "      <td>19.029281</td>\n",
       "    </tr>\n",
       "  </tbody>\n",
       "</table>\n",
       "</div>"
      ],
      "text/plain": [
       "            0          1\n",
       "394  3.955414  19.042615\n",
       "395  3.965466  19.066811\n",
       "396  3.975517  19.057385\n",
       "397  3.985569  19.028376\n",
       "398  3.995621  19.029281"
      ]
     },
     "execution_count": 33,
     "metadata": {},
     "output_type": "execute_result"
    }
   ],
   "source": [
    "pmf_midph.tail()"
   ]
  },
  {
   "cell_type": "code",
   "execution_count": 34,
   "id": "d84494e8",
   "metadata": {},
   "outputs": [],
   "source": [
    "# Just extrapolating to have the same value in z = 4 nm as in z = 3.995621\n",
    "pmf_midph = pmf_midph.append({0: 4.000000, 1: 19.029281}, ignore_index = True)"
   ]
  },
  {
   "cell_type": "code",
   "execution_count": 35,
   "id": "715721be",
   "metadata": {},
   "outputs": [
    {
     "data": {
      "text/html": [
       "<div>\n",
       "<style scoped>\n",
       "    .dataframe tbody tr th:only-of-type {\n",
       "        vertical-align: middle;\n",
       "    }\n",
       "\n",
       "    .dataframe tbody tr th {\n",
       "        vertical-align: top;\n",
       "    }\n",
       "\n",
       "    .dataframe thead th {\n",
       "        text-align: right;\n",
       "    }\n",
       "</style>\n",
       "<table border=\"1\" class=\"dataframe\">\n",
       "  <thead>\n",
       "    <tr style=\"text-align: right;\">\n",
       "      <th></th>\n",
       "      <th>0</th>\n",
       "      <th>1</th>\n",
       "    </tr>\n",
       "  </thead>\n",
       "  <tbody>\n",
       "    <tr>\n",
       "      <th>0</th>\n",
       "      <td>0.000000</td>\n",
       "      <td>-10.516290</td>\n",
       "    </tr>\n",
       "    <tr>\n",
       "      <th>1</th>\n",
       "      <td>0.005026</td>\n",
       "      <td>-10.516290</td>\n",
       "    </tr>\n",
       "    <tr>\n",
       "      <th>2</th>\n",
       "      <td>0.015078</td>\n",
       "      <td>-10.599800</td>\n",
       "    </tr>\n",
       "    <tr>\n",
       "      <th>3</th>\n",
       "      <td>0.025130</td>\n",
       "      <td>-10.749350</td>\n",
       "    </tr>\n",
       "    <tr>\n",
       "      <th>4</th>\n",
       "      <td>0.035182</td>\n",
       "      <td>-10.884690</td>\n",
       "    </tr>\n",
       "    <tr>\n",
       "      <th>...</th>\n",
       "      <td>...</td>\n",
       "      <td>...</td>\n",
       "    </tr>\n",
       "    <tr>\n",
       "      <th>395</th>\n",
       "      <td>3.965466</td>\n",
       "      <td>19.066811</td>\n",
       "    </tr>\n",
       "    <tr>\n",
       "      <th>396</th>\n",
       "      <td>3.975517</td>\n",
       "      <td>19.057385</td>\n",
       "    </tr>\n",
       "    <tr>\n",
       "      <th>397</th>\n",
       "      <td>3.985569</td>\n",
       "      <td>19.028376</td>\n",
       "    </tr>\n",
       "    <tr>\n",
       "      <th>398</th>\n",
       "      <td>3.995621</td>\n",
       "      <td>19.029281</td>\n",
       "    </tr>\n",
       "    <tr>\n",
       "      <th>399</th>\n",
       "      <td>4.000000</td>\n",
       "      <td>19.029281</td>\n",
       "    </tr>\n",
       "  </tbody>\n",
       "</table>\n",
       "<p>400 rows × 2 columns</p>\n",
       "</div>"
      ],
      "text/plain": [
       "            0          1\n",
       "0    0.000000 -10.516290\n",
       "1    0.005026 -10.516290\n",
       "2    0.015078 -10.599800\n",
       "3    0.025130 -10.749350\n",
       "4    0.035182 -10.884690\n",
       "..        ...        ...\n",
       "395  3.965466  19.066811\n",
       "396  3.975517  19.057385\n",
       "397  3.985569  19.028376\n",
       "398  3.995621  19.029281\n",
       "399  4.000000  19.029281\n",
       "\n",
       "[400 rows x 2 columns]"
      ]
     },
     "execution_count": 35,
     "metadata": {},
     "output_type": "execute_result"
    }
   ],
   "source": [
    "pmf_midph"
   ]
  },
  {
   "cell_type": "code",
   "execution_count": 37,
   "id": "29c1dc6a",
   "metadata": {},
   "outputs": [
    {
     "data": {
      "text/html": [
       "<div>\n",
       "<style scoped>\n",
       "    .dataframe tbody tr th:only-of-type {\n",
       "        vertical-align: middle;\n",
       "    }\n",
       "\n",
       "    .dataframe tbody tr th {\n",
       "        vertical-align: top;\n",
       "    }\n",
       "\n",
       "    .dataframe thead th {\n",
       "        text-align: right;\n",
       "    }\n",
       "</style>\n",
       "<table border=\"1\" class=\"dataframe\">\n",
       "  <thead>\n",
       "    <tr style=\"text-align: right;\">\n",
       "      <th></th>\n",
       "      <th>0</th>\n",
       "      <th>1</th>\n",
       "    </tr>\n",
       "  </thead>\n",
       "  <tbody>\n",
       "    <tr>\n",
       "      <th>0</th>\n",
       "      <td>0.000000</td>\n",
       "      <td>30.492310</td>\n",
       "    </tr>\n",
       "    <tr>\n",
       "      <th>1</th>\n",
       "      <td>0.005007</td>\n",
       "      <td>30.492310</td>\n",
       "    </tr>\n",
       "    <tr>\n",
       "      <th>2</th>\n",
       "      <td>0.015021</td>\n",
       "      <td>30.255890</td>\n",
       "    </tr>\n",
       "    <tr>\n",
       "      <th>3</th>\n",
       "      <td>0.025035</td>\n",
       "      <td>29.877110</td>\n",
       "    </tr>\n",
       "    <tr>\n",
       "      <th>4</th>\n",
       "      <td>0.035049</td>\n",
       "      <td>29.400220</td>\n",
       "    </tr>\n",
       "    <tr>\n",
       "      <th>...</th>\n",
       "      <td>...</td>\n",
       "      <td>...</td>\n",
       "    </tr>\n",
       "    <tr>\n",
       "      <th>396</th>\n",
       "      <td>3.960543</td>\n",
       "      <td>-0.037444</td>\n",
       "    </tr>\n",
       "    <tr>\n",
       "      <th>397</th>\n",
       "      <td>3.970557</td>\n",
       "      <td>0.008044</td>\n",
       "    </tr>\n",
       "    <tr>\n",
       "      <th>398</th>\n",
       "      <td>3.980571</td>\n",
       "      <td>-0.003486</td>\n",
       "    </tr>\n",
       "    <tr>\n",
       "      <th>399</th>\n",
       "      <td>3.990585</td>\n",
       "      <td>-0.036008</td>\n",
       "    </tr>\n",
       "    <tr>\n",
       "      <th>400</th>\n",
       "      <td>4.000000</td>\n",
       "      <td>-0.036008</td>\n",
       "    </tr>\n",
       "  </tbody>\n",
       "</table>\n",
       "<p>401 rows × 2 columns</p>\n",
       "</div>"
      ],
      "text/plain": [
       "            0          1\n",
       "0    0.000000  30.492310\n",
       "1    0.005007  30.492310\n",
       "2    0.015021  30.255890\n",
       "3    0.025035  29.877110\n",
       "4    0.035049  29.400220\n",
       "..        ...        ...\n",
       "396  3.960543  -0.037444\n",
       "397  3.970557   0.008044\n",
       "398  3.980571  -0.003486\n",
       "399  3.990585  -0.036008\n",
       "400  4.000000  -0.036008\n",
       "\n",
       "[401 rows x 2 columns]"
      ]
     },
     "execution_count": 37,
     "metadata": {},
     "output_type": "execute_result"
    }
   ],
   "source": [
    "pmf_midp"
   ]
  },
  {
   "cell_type": "code",
   "execution_count": 38,
   "id": "7d113a2a",
   "metadata": {},
   "outputs": [
    {
     "data": {
      "text/html": [
       "<div>\n",
       "<style scoped>\n",
       "    .dataframe tbody tr th:only-of-type {\n",
       "        vertical-align: middle;\n",
       "    }\n",
       "\n",
       "    .dataframe tbody tr th {\n",
       "        vertical-align: top;\n",
       "    }\n",
       "\n",
       "    .dataframe thead th {\n",
       "        text-align: right;\n",
       "    }\n",
       "</style>\n",
       "<table border=\"1\" class=\"dataframe\">\n",
       "  <thead>\n",
       "    <tr style=\"text-align: right;\">\n",
       "      <th></th>\n",
       "      <th>0</th>\n",
       "      <th>1</th>\n",
       "      <th>2</th>\n",
       "    </tr>\n",
       "  </thead>\n",
       "  <tbody>\n",
       "    <tr>\n",
       "      <th>0</th>\n",
       "      <td>0.000000</td>\n",
       "      <td>-10.516287</td>\n",
       "      <td>0.014352</td>\n",
       "    </tr>\n",
       "    <tr>\n",
       "      <th>1</th>\n",
       "      <td>0.005007</td>\n",
       "      <td>-10.516287</td>\n",
       "      <td>0.014352</td>\n",
       "    </tr>\n",
       "    <tr>\n",
       "      <th>2</th>\n",
       "      <td>0.015021</td>\n",
       "      <td>-10.599797</td>\n",
       "      <td>0.013876</td>\n",
       "    </tr>\n",
       "    <tr>\n",
       "      <th>3</th>\n",
       "      <td>0.025035</td>\n",
       "      <td>-10.749347</td>\n",
       "      <td>0.013064</td>\n",
       "    </tr>\n",
       "    <tr>\n",
       "      <th>4</th>\n",
       "      <td>0.035049</td>\n",
       "      <td>-10.884686</td>\n",
       "      <td>0.012369</td>\n",
       "    </tr>\n",
       "    <tr>\n",
       "      <th>...</th>\n",
       "      <td>...</td>\n",
       "      <td>...</td>\n",
       "      <td>...</td>\n",
       "    </tr>\n",
       "    <tr>\n",
       "      <th>396</th>\n",
       "      <td>3.960543</td>\n",
       "      <td>-0.028826</td>\n",
       "      <td>0.988435</td>\n",
       "    </tr>\n",
       "    <tr>\n",
       "      <th>397</th>\n",
       "      <td>3.970557</td>\n",
       "      <td>0.016891</td>\n",
       "      <td>1.006840</td>\n",
       "    </tr>\n",
       "    <tr>\n",
       "      <th>398</th>\n",
       "      <td>3.980571</td>\n",
       "      <td>0.005322</td>\n",
       "      <td>1.002150</td>\n",
       "    </tr>\n",
       "    <tr>\n",
       "      <th>399</th>\n",
       "      <td>3.990585</td>\n",
       "      <td>-0.027244</td>\n",
       "      <td>0.989066</td>\n",
       "    </tr>\n",
       "    <tr>\n",
       "      <th>400</th>\n",
       "      <td>4.000000</td>\n",
       "      <td>-0.027244</td>\n",
       "      <td>0.989066</td>\n",
       "    </tr>\n",
       "  </tbody>\n",
       "</table>\n",
       "<p>401 rows × 3 columns</p>\n",
       "</div>"
      ],
      "text/plain": [
       "            0          1         2\n",
       "0    0.000000 -10.516287  0.014352\n",
       "1    0.005007 -10.516287  0.014352\n",
       "2    0.015021 -10.599797  0.013876\n",
       "3    0.025035 -10.749347  0.013064\n",
       "4    0.035049 -10.884686  0.012369\n",
       "..        ...        ...       ...\n",
       "396  3.960543  -0.028826  0.988435\n",
       "397  3.970557   0.016891  1.006840\n",
       "398  3.980571   0.005322  1.002150\n",
       "399  3.990585  -0.027244  0.989066\n",
       "400  4.000000  -0.027244  0.989066\n",
       "\n",
       "[401 rows x 3 columns]"
      ]
     },
     "execution_count": 38,
     "metadata": {},
     "output_type": "execute_result"
    }
   ],
   "source": [
    "pmf_midp_midph"
   ]
  },
  {
   "cell_type": "code",
   "execution_count": 40,
   "id": "ec4b9ad3",
   "metadata": {},
   "outputs": [
    {
     "data": {
      "text/plain": [
       "<matplotlib.legend.Legend at 0x7f13e445f8e0>"
      ]
     },
     "execution_count": 40,
     "metadata": {},
     "output_type": "execute_result"
    },
    {
     "data": {
      "image/png": "[encoded data removed]",
      "text/plain": [
       "<Figure size 720x576 with 1 Axes>"
      ]
     },
     "metadata": {
      "needs_background": "light"
     },
     "output_type": "display_data"
    }
   ],
   "source": [
    "# Now, check a rough plot for free energy\n",
    "plt.figure(figsize = (10,8))\n",
    "plt.plot(pmf_midp[0], pmf_midp[1], color = 'r', label = 'MIDP')\n",
    "plt.plot(-pmf_midp[0], pmf_midp[1], color = 'r')\n",
    "plt.plot(pmf_midph[0], pmf_midph[1], color = 'g', label = 'MIDPH')\n",
    "plt.plot(-pmf_midph[0], pmf_midph[1], color = 'g')\n",
    "plt.plot(pmf_midp_midph[0], pmf_midp_midph[1], color = 'cyan', label = 'Weighted')\n",
    "plt.plot(-pmf_midp_midph[0], pmf_midp_midph[1], color = 'cyan')\n",
    "\n",
    "plt.legend()"
   ]
  },
  {
   "cell_type": "code",
   "execution_count": 41,
   "id": "18194523",
   "metadata": {},
   "outputs": [],
   "source": [
    "diff_midp = pd.read_csv('MIDP_dif.txt', header = None, delim_whitespace=True)\n",
    "diff_midph = pd.read_csv('MIDPH_dif.txt', header = None, delim_whitespace = True)"
   ]
  },
  {
   "cell_type": "code",
   "execution_count": 42,
   "id": "d3f16860",
   "metadata": {},
   "outputs": [
    {
     "data": {
      "text/plain": [
       "<matplotlib.legend.Legend at 0x7f13e4904370>"
      ]
     },
     "execution_count": 42,
     "metadata": {},
     "output_type": "execute_result"
    },
    {
     "data": {
      "image/png": "[encoded data removed]",
      "text/plain": [
       "<Figure size 432x288 with 1 Axes>"
      ]
     },
     "metadata": {
      "needs_background": "light"
     },
     "output_type": "display_data"
    }
   ],
   "source": [
    "# Plotting both diffusion coefficients\n",
    "plt.plot(diff_midp[0], diff_midp[1], '--o', color = 'k', label = 'MIDP')\n",
    "plt.plot(diff_midph[0], diff_midph[1], '--o', color = 'r', label = 'MIDPH')\n",
    "plt.legend()"
   ]
  },
  {
   "cell_type": "code",
   "execution_count": 46,
   "id": "facfeb44",
   "metadata": {},
   "outputs": [
    {
     "data": {
      "text/plain": [
       "True"
      ]
     },
     "execution_count": 46,
     "metadata": {},
     "output_type": "execute_result"
    }
   ],
   "source": [
    "any(pmf_midp_midph[0] == pmf_midp[0]) # As the z distance of mehp, and the weighted average midp_midph is same, \n",
    "# we can interpolate on either of them"
   ]
  },
  {
   "cell_type": "code",
   "execution_count": 47,
   "id": "ce355349",
   "metadata": {},
   "outputs": [],
   "source": [
    "diff_midp_inter = np.interp(pmf_midp[0], diff_midp[0], diff_midp[1])\n",
    "diff_midph_inter = np.interp(pmf_midp[0],diff_midph[0], diff_midph[1])"
   ]
  },
  {
   "cell_type": "code",
   "execution_count": 48,
   "id": "c4c64bb9",
   "metadata": {},
   "outputs": [
    {
     "data": {
      "text/plain": [
       "401"
      ]
     },
     "execution_count": 48,
     "metadata": {},
     "output_type": "execute_result"
    }
   ],
   "source": [
    "len(diff_midp_inter)"
   ]
  },
  {
   "cell_type": "code",
   "execution_count": 49,
   "id": "e3f548a5",
   "metadata": {},
   "outputs": [
    {
     "data": {
      "text/plain": [
       "401"
      ]
     },
     "execution_count": 49,
     "metadata": {},
     "output_type": "execute_result"
    }
   ],
   "source": [
    "len(diff_midph_inter)"
   ]
  },
  {
   "cell_type": "code",
   "execution_count": 50,
   "id": "16e00e58",
   "metadata": {},
   "outputs": [
    {
     "data": {
      "text/plain": [
       "<matplotlib.legend.Legend at 0x7f13e38de6d0>"
      ]
     },
     "execution_count": 50,
     "metadata": {},
     "output_type": "execute_result"
    },
    {
     "data": {
      "image/png": "[encoded data removed]",
      "text/plain": [
       "<Figure size 432x288 with 1 Axes>"
      ]
     },
     "metadata": {
      "needs_background": "light"
     },
     "output_type": "display_data"
    }
   ],
   "source": [
    "# Plot both to check the interpolated values if it makes sense or not\n",
    "plt.plot(pmf_midp[0], diff_midp_inter, '--.', color = 'k', label = 'MIDP')\n",
    "plt.plot(pmf_midp[0], diff_midph_inter, '--.', color = 'r', label = 'MIDPH')\n",
    "plt.legend()\n",
    "# It does with many data points"
   ]
  },
  {
   "cell_type": "code",
   "execution_count": 51,
   "id": "3b95c5e7",
   "metadata": {},
   "outputs": [
    {
     "data": {
      "text/plain": [
       "0    0.000000\n",
       "1    0.005007\n",
       "2    0.015021\n",
       "3    0.025035\n",
       "4    0.035049\n",
       "Name: 0, dtype: float64"
      ]
     },
     "execution_count": 51,
     "metadata": {},
     "output_type": "execute_result"
    }
   ],
   "source": [
    "pmf_midp_midph[0].head()"
   ]
  },
  {
   "cell_type": "code",
   "execution_count": 52,
   "id": "2aa670ca",
   "metadata": {},
   "outputs": [
    {
     "data": {
      "text/plain": [
       "0    0.000000\n",
       "1    0.005007\n",
       "2    0.015021\n",
       "3    0.025035\n",
       "4    0.035049\n",
       "Name: 0, dtype: float64"
      ]
     },
     "execution_count": 52,
     "metadata": {},
     "output_type": "execute_result"
    }
   ],
   "source": [
    "pmf_midp[0].head()"
   ]
  },
  {
   "cell_type": "code",
   "execution_count": 53,
   "id": "89672be5",
   "metadata": {},
   "outputs": [
    {
     "data": {
      "text/plain": [
       "0    0.000000\n",
       "1    0.005026\n",
       "2    0.015078\n",
       "3    0.025130\n",
       "4    0.035182\n",
       "Name: 0, dtype: float64"
      ]
     },
     "execution_count": 53,
     "metadata": {},
     "output_type": "execute_result"
    }
   ],
   "source": [
    "pmf_midph[0].head()"
   ]
  },
  {
   "cell_type": "markdown",
   "id": "d608df37",
   "metadata": {},
   "source": [
    "So, since the z distance of pmf_midph is not same as of pme_midp, and weighted average(pme_midp_midph), we are now interpolating the value of pmf for midph at same z distance as that of midp and the weighted average. Let's make a new dataframe midph with interpolated values for pmf which we can use for our calculations"
   ]
  },
  {
   "cell_type": "code",
   "execution_count": 54,
   "id": "b69c41ea",
   "metadata": {},
   "outputs": [],
   "source": [
    "midph = np.interp(pmf_midp[0], pmf_midph[0], pmf_midph[1])"
   ]
  },
  {
   "cell_type": "code",
   "execution_count": 55,
   "id": "461e7aa6",
   "metadata": {},
   "outputs": [
    {
     "data": {
      "text/plain": [
       "0     -10.516290\n",
       "1     -10.516290\n",
       "2     -10.599800\n",
       "3     -10.749350\n",
       "4     -10.884690\n",
       "         ...    \n",
       "395    19.066811\n",
       "396    19.057385\n",
       "397    19.028376\n",
       "398    19.029281\n",
       "399    19.029281\n",
       "Name: 1, Length: 400, dtype: float64"
      ]
     },
     "execution_count": 55,
     "metadata": {},
     "output_type": "execute_result"
    }
   ],
   "source": [
    "pmf_midph[1]"
   ]
  },
  {
   "cell_type": "code",
   "execution_count": 57,
   "id": "528dd247",
   "metadata": {},
   "outputs": [
    {
     "data": {
      "text/plain": [
       "0     -10.516290\n",
       "1     -10.516290\n",
       "2     -10.599328\n",
       "3     -10.747942\n",
       "4     -10.882906\n",
       "         ...    \n",
       "396    19.054961\n",
       "397    19.062037\n",
       "398    19.042800\n",
       "399    19.028828\n",
       "400    19.029281\n",
       "Length: 401, dtype: float64"
      ]
     },
     "execution_count": 57,
     "metadata": {},
     "output_type": "execute_result"
    }
   ],
   "source": [
    "pd.Series(midph)"
   ]
  },
  {
   "cell_type": "code",
   "execution_count": 61,
   "id": "4714056b",
   "metadata": {},
   "outputs": [],
   "source": [
    "# As you can see, not much of difference between the original values pmf_midph, and the interpolated ones midph\n",
    "# We can make a plot for both and check if we want"
   ]
  },
  {
   "cell_type": "code",
   "execution_count": 64,
   "id": "0d18e4cf",
   "metadata": {},
   "outputs": [
    {
     "data": {
      "text/plain": [
       "<matplotlib.legend.Legend at 0x7f13e4fc7ac0>"
      ]
     },
     "execution_count": 64,
     "metadata": {},
     "output_type": "execute_result"
    },
    {
     "data": {
      "image/png": "[encoded data removed]",
      "text/plain": [
       "<Figure size 432x288 with 1 Axes>"
      ]
     },
     "metadata": {
      "needs_background": "light"
     },
     "output_type": "display_data"
    }
   ],
   "source": [
    "# Plot both\n",
    "plt.plot(pmf_midph[0], pmf_midph[1], label = 'Original', color = 'k')\n",
    "plt.plot(pmf_midp[0], midph, '--',label = 'Interpolated', color = 'r')\n",
    "plt.legend()\n",
    "# So they coincide, not a difference at all"
   ]
  },
  {
   "cell_type": "markdown",
   "id": "af05dffd",
   "metadata": {},
   "source": [
    "#### Now, for the weighted average of the diffusion coefficient, we need to make a dataframe where we make a separate columns for distance, free energy of deprotonated(P), free energy of protonated(PH), Diffusion coefficient for deprotonated, Diffusion coefficient for protonated, and finally the the partition function (Q(z)) according to the relation $$D(z) = D(z)_P\\frac{e^{\\frac{-\\Delta G(z)_P}{RT}}}{Q(z)} + D(z)_{PH}\\frac{e^{\\frac{-\\Delta G(z)_{PH}}{RT}}}{Q(z)}$$\n",
    "where, $Q(z)$ is the sum of two states given by, $$Q(z) = e^{\\frac{-\\Delta G(z)_P}{RT}} + e^{\\frac{-\\Delta G(z)_{PH}}{RT}}$$"
   ]
  },
  {
   "cell_type": "code",
   "execution_count": 65,
   "id": "5d88d8cb",
   "metadata": {},
   "outputs": [],
   "source": [
    "df_diffusion = pd.DataFrame({'z':pmf_midp[0], 'G_P': pmf_midp[1], 'G_PH': midph, 'D_P': diff_midp_inter, 'D_PH': diff_midph_inter}) "
   ]
  },
  {
   "cell_type": "code",
   "execution_count": 66,
   "id": "c251b6c1",
   "metadata": {},
   "outputs": [
    {
     "data": {
      "text/html": [
       "<div>\n",
       "<style scoped>\n",
       "    .dataframe tbody tr th:only-of-type {\n",
       "        vertical-align: middle;\n",
       "    }\n",
       "\n",
       "    .dataframe tbody tr th {\n",
       "        vertical-align: top;\n",
       "    }\n",
       "\n",
       "    .dataframe thead th {\n",
       "        text-align: right;\n",
       "    }\n",
       "</style>\n",
       "<table border=\"1\" class=\"dataframe\">\n",
       "  <thead>\n",
       "    <tr style=\"text-align: right;\">\n",
       "      <th></th>\n",
       "      <th>z</th>\n",
       "      <th>G_P</th>\n",
       "      <th>G_PH</th>\n",
       "      <th>D_P</th>\n",
       "      <th>D_PH</th>\n",
       "    </tr>\n",
       "  </thead>\n",
       "  <tbody>\n",
       "    <tr>\n",
       "      <th>0</th>\n",
       "      <td>0.000000</td>\n",
       "      <td>30.492310</td>\n",
       "      <td>-10.516290</td>\n",
       "      <td>2.675727e-07</td>\n",
       "      <td>1.813701e-08</td>\n",
       "    </tr>\n",
       "    <tr>\n",
       "      <th>1</th>\n",
       "      <td>0.005007</td>\n",
       "      <td>30.492310</td>\n",
       "      <td>-10.516290</td>\n",
       "      <td>2.658216e-07</td>\n",
       "      <td>2.681732e-08</td>\n",
       "    </tr>\n",
       "    <tr>\n",
       "      <th>2</th>\n",
       "      <td>0.015021</td>\n",
       "      <td>30.255890</td>\n",
       "      <td>-10.599328</td>\n",
       "      <td>2.623192e-07</td>\n",
       "      <td>4.417794e-08</td>\n",
       "    </tr>\n",
       "    <tr>\n",
       "      <th>3</th>\n",
       "      <td>0.025035</td>\n",
       "      <td>29.877110</td>\n",
       "      <td>-10.747942</td>\n",
       "      <td>2.588169e-07</td>\n",
       "      <td>6.153858e-08</td>\n",
       "    </tr>\n",
       "    <tr>\n",
       "      <th>4</th>\n",
       "      <td>0.035049</td>\n",
       "      <td>29.400220</td>\n",
       "      <td>-10.882906</td>\n",
       "      <td>2.553146e-07</td>\n",
       "      <td>7.889920e-08</td>\n",
       "    </tr>\n",
       "    <tr>\n",
       "      <th>...</th>\n",
       "      <td>...</td>\n",
       "      <td>...</td>\n",
       "      <td>...</td>\n",
       "      <td>...</td>\n",
       "      <td>...</td>\n",
       "    </tr>\n",
       "    <tr>\n",
       "      <th>396</th>\n",
       "      <td>3.960543</td>\n",
       "      <td>-0.037444</td>\n",
       "      <td>19.054961</td>\n",
       "      <td>6.751360e-06</td>\n",
       "      <td>5.538583e-06</td>\n",
       "    </tr>\n",
       "    <tr>\n",
       "      <th>397</th>\n",
       "      <td>3.970557</td>\n",
       "      <td>0.008044</td>\n",
       "      <td>19.062037</td>\n",
       "      <td>7.088888e-06</td>\n",
       "      <td>5.735360e-06</td>\n",
       "    </tr>\n",
       "    <tr>\n",
       "      <th>398</th>\n",
       "      <td>3.980571</td>\n",
       "      <td>-0.003486</td>\n",
       "      <td>19.042800</td>\n",
       "      <td>7.426416e-06</td>\n",
       "      <td>5.932138e-06</td>\n",
       "    </tr>\n",
       "    <tr>\n",
       "      <th>399</th>\n",
       "      <td>3.990585</td>\n",
       "      <td>-0.036008</td>\n",
       "      <td>19.028828</td>\n",
       "      <td>7.763944e-06</td>\n",
       "      <td>6.128916e-06</td>\n",
       "    </tr>\n",
       "    <tr>\n",
       "      <th>400</th>\n",
       "      <td>4.000000</td>\n",
       "      <td>-0.036008</td>\n",
       "      <td>19.029281</td>\n",
       "      <td>8.081283e-06</td>\n",
       "      <td>6.313923e-06</td>\n",
       "    </tr>\n",
       "  </tbody>\n",
       "</table>\n",
       "<p>401 rows × 5 columns</p>\n",
       "</div>"
      ],
      "text/plain": [
       "            z        G_P       G_PH           D_P          D_PH\n",
       "0    0.000000  30.492310 -10.516290  2.675727e-07  1.813701e-08\n",
       "1    0.005007  30.492310 -10.516290  2.658216e-07  2.681732e-08\n",
       "2    0.015021  30.255890 -10.599328  2.623192e-07  4.417794e-08\n",
       "3    0.025035  29.877110 -10.747942  2.588169e-07  6.153858e-08\n",
       "4    0.035049  29.400220 -10.882906  2.553146e-07  7.889920e-08\n",
       "..        ...        ...        ...           ...           ...\n",
       "396  3.960543  -0.037444  19.054961  6.751360e-06  5.538583e-06\n",
       "397  3.970557   0.008044  19.062037  7.088888e-06  5.735360e-06\n",
       "398  3.980571  -0.003486  19.042800  7.426416e-06  5.932138e-06\n",
       "399  3.990585  -0.036008  19.028828  7.763944e-06  6.128916e-06\n",
       "400  4.000000  -0.036008  19.029281  8.081283e-06  6.313923e-06\n",
       "\n",
       "[401 rows x 5 columns]"
      ]
     },
     "execution_count": 66,
     "metadata": {},
     "output_type": "execute_result"
    }
   ],
   "source": [
    "df_diffusion"
   ]
  },
  {
   "cell_type": "code",
   "execution_count": 67,
   "id": "45e0a56f",
   "metadata": {},
   "outputs": [],
   "source": [
    "#Adding a column for Q \n",
    "df_diffusion['Q'] = np.exp(-df_diffusion[\"G_P\"]/2.478) + np.exp(-df_diffusion[\"G_PH\"]/2.478)"
   ]
  },
  {
   "cell_type": "code",
   "execution_count": 68,
   "id": "77e4b0e5",
   "metadata": {},
   "outputs": [
    {
     "data": {
      "text/html": [
       "<div>\n",
       "<style scoped>\n",
       "    .dataframe tbody tr th:only-of-type {\n",
       "        vertical-align: middle;\n",
       "    }\n",
       "\n",
       "    .dataframe tbody tr th {\n",
       "        vertical-align: top;\n",
       "    }\n",
       "\n",
       "    .dataframe thead th {\n",
       "        text-align: right;\n",
       "    }\n",
       "</style>\n",
       "<table border=\"1\" class=\"dataframe\">\n",
       "  <thead>\n",
       "    <tr style=\"text-align: right;\">\n",
       "      <th></th>\n",
       "      <th>z</th>\n",
       "      <th>G_P</th>\n",
       "      <th>G_PH</th>\n",
       "      <th>D_P</th>\n",
       "      <th>D_PH</th>\n",
       "      <th>Q</th>\n",
       "    </tr>\n",
       "  </thead>\n",
       "  <tbody>\n",
       "    <tr>\n",
       "      <th>0</th>\n",
       "      <td>0.000000</td>\n",
       "      <td>30.492310</td>\n",
       "      <td>-10.516290</td>\n",
       "      <td>2.675727e-07</td>\n",
       "      <td>1.813701e-08</td>\n",
       "      <td>69.676427</td>\n",
       "    </tr>\n",
       "    <tr>\n",
       "      <th>1</th>\n",
       "      <td>0.005007</td>\n",
       "      <td>30.492310</td>\n",
       "      <td>-10.516290</td>\n",
       "      <td>2.658216e-07</td>\n",
       "      <td>2.681732e-08</td>\n",
       "      <td>69.676427</td>\n",
       "    </tr>\n",
       "    <tr>\n",
       "      <th>2</th>\n",
       "      <td>0.015021</td>\n",
       "      <td>30.255890</td>\n",
       "      <td>-10.599328</td>\n",
       "      <td>2.623192e-07</td>\n",
       "      <td>4.417794e-08</td>\n",
       "      <td>72.050855</td>\n",
       "    </tr>\n",
       "    <tr>\n",
       "      <th>3</th>\n",
       "      <td>0.025035</td>\n",
       "      <td>29.877110</td>\n",
       "      <td>-10.747942</td>\n",
       "      <td>2.588169e-07</td>\n",
       "      <td>6.153858e-08</td>\n",
       "      <td>76.504180</td>\n",
       "    </tr>\n",
       "    <tr>\n",
       "      <th>4</th>\n",
       "      <td>0.035049</td>\n",
       "      <td>29.400220</td>\n",
       "      <td>-10.882906</td>\n",
       "      <td>2.553146e-07</td>\n",
       "      <td>7.889920e-08</td>\n",
       "      <td>80.786531</td>\n",
       "    </tr>\n",
       "    <tr>\n",
       "      <th>...</th>\n",
       "      <td>...</td>\n",
       "      <td>...</td>\n",
       "      <td>...</td>\n",
       "      <td>...</td>\n",
       "      <td>...</td>\n",
       "      <td>...</td>\n",
       "    </tr>\n",
       "    <tr>\n",
       "      <th>396</th>\n",
       "      <td>3.960543</td>\n",
       "      <td>-0.037444</td>\n",
       "      <td>19.054961</td>\n",
       "      <td>6.751360e-06</td>\n",
       "      <td>5.538583e-06</td>\n",
       "      <td>1.015683</td>\n",
       "    </tr>\n",
       "    <tr>\n",
       "      <th>397</th>\n",
       "      <td>3.970557</td>\n",
       "      <td>0.008044</td>\n",
       "      <td>19.062037</td>\n",
       "      <td>7.088888e-06</td>\n",
       "      <td>5.735360e-06</td>\n",
       "      <td>0.997215</td>\n",
       "    </tr>\n",
       "    <tr>\n",
       "      <th>398</th>\n",
       "      <td>3.980571</td>\n",
       "      <td>-0.003486</td>\n",
       "      <td>19.042800</td>\n",
       "      <td>7.426416e-06</td>\n",
       "      <td>5.932138e-06</td>\n",
       "      <td>1.001868</td>\n",
       "    </tr>\n",
       "    <tr>\n",
       "      <th>399</th>\n",
       "      <td>3.990585</td>\n",
       "      <td>-0.036008</td>\n",
       "      <td>19.028828</td>\n",
       "      <td>7.763944e-06</td>\n",
       "      <td>6.128916e-06</td>\n",
       "      <td>1.015100</td>\n",
       "    </tr>\n",
       "    <tr>\n",
       "      <th>400</th>\n",
       "      <td>4.000000</td>\n",
       "      <td>-0.036008</td>\n",
       "      <td>19.029281</td>\n",
       "      <td>8.081283e-06</td>\n",
       "      <td>6.313923e-06</td>\n",
       "      <td>1.015099</td>\n",
       "    </tr>\n",
       "  </tbody>\n",
       "</table>\n",
       "<p>401 rows × 6 columns</p>\n",
       "</div>"
      ],
      "text/plain": [
       "            z        G_P       G_PH           D_P          D_PH          Q\n",
       "0    0.000000  30.492310 -10.516290  2.675727e-07  1.813701e-08  69.676427\n",
       "1    0.005007  30.492310 -10.516290  2.658216e-07  2.681732e-08  69.676427\n",
       "2    0.015021  30.255890 -10.599328  2.623192e-07  4.417794e-08  72.050855\n",
       "3    0.025035  29.877110 -10.747942  2.588169e-07  6.153858e-08  76.504180\n",
       "4    0.035049  29.400220 -10.882906  2.553146e-07  7.889920e-08  80.786531\n",
       "..        ...        ...        ...           ...           ...        ...\n",
       "396  3.960543  -0.037444  19.054961  6.751360e-06  5.538583e-06   1.015683\n",
       "397  3.970557   0.008044  19.062037  7.088888e-06  5.735360e-06   0.997215\n",
       "398  3.980571  -0.003486  19.042800  7.426416e-06  5.932138e-06   1.001868\n",
       "399  3.990585  -0.036008  19.028828  7.763944e-06  6.128916e-06   1.015100\n",
       "400  4.000000  -0.036008  19.029281  8.081283e-06  6.313923e-06   1.015099\n",
       "\n",
       "[401 rows x 6 columns]"
      ]
     },
     "execution_count": 68,
     "metadata": {},
     "output_type": "execute_result"
    }
   ],
   "source": [
    "df_diffusion"
   ]
  },
  {
   "cell_type": "code",
   "execution_count": 69,
   "id": "43bb0be7",
   "metadata": {},
   "outputs": [],
   "source": [
    "# Adding a column for Diffusion coefficient\n",
    "df_diffusion['D'] = df_diffusion['D_P'] * (np.exp(-df_diffusion[\"G_P\"]/2.478)/df_diffusion['Q']) + df_diffusion['D_PH'] * (np.exp(-df_diffusion[\"G_PH\"]/2.478)/df_diffusion['Q'])"
   ]
  },
  {
   "cell_type": "code",
   "execution_count": 70,
   "id": "346a4dfc",
   "metadata": {},
   "outputs": [
    {
     "data": {
      "text/html": [
       "<div>\n",
       "<style scoped>\n",
       "    .dataframe tbody tr th:only-of-type {\n",
       "        vertical-align: middle;\n",
       "    }\n",
       "\n",
       "    .dataframe tbody tr th {\n",
       "        vertical-align: top;\n",
       "    }\n",
       "\n",
       "    .dataframe thead th {\n",
       "        text-align: right;\n",
       "    }\n",
       "</style>\n",
       "<table border=\"1\" class=\"dataframe\">\n",
       "  <thead>\n",
       "    <tr style=\"text-align: right;\">\n",
       "      <th></th>\n",
       "      <th>z</th>\n",
       "      <th>G_P</th>\n",
       "      <th>G_PH</th>\n",
       "      <th>D_P</th>\n",
       "      <th>D_PH</th>\n",
       "      <th>Q</th>\n",
       "      <th>D</th>\n",
       "    </tr>\n",
       "  </thead>\n",
       "  <tbody>\n",
       "    <tr>\n",
       "      <th>0</th>\n",
       "      <td>0.000000</td>\n",
       "      <td>30.492310</td>\n",
       "      <td>-10.516290</td>\n",
       "      <td>2.675727e-07</td>\n",
       "      <td>1.813701e-08</td>\n",
       "      <td>69.676427</td>\n",
       "      <td>1.813703e-08</td>\n",
       "    </tr>\n",
       "    <tr>\n",
       "      <th>1</th>\n",
       "      <td>0.005007</td>\n",
       "      <td>30.492310</td>\n",
       "      <td>-10.516290</td>\n",
       "      <td>2.658216e-07</td>\n",
       "      <td>2.681732e-08</td>\n",
       "      <td>69.676427</td>\n",
       "      <td>2.681734e-08</td>\n",
       "    </tr>\n",
       "    <tr>\n",
       "      <th>2</th>\n",
       "      <td>0.015021</td>\n",
       "      <td>30.255890</td>\n",
       "      <td>-10.599328</td>\n",
       "      <td>2.623192e-07</td>\n",
       "      <td>4.417794e-08</td>\n",
       "      <td>72.050855</td>\n",
       "      <td>4.417796e-08</td>\n",
       "    </tr>\n",
       "    <tr>\n",
       "      <th>3</th>\n",
       "      <td>0.025035</td>\n",
       "      <td>29.877110</td>\n",
       "      <td>-10.747942</td>\n",
       "      <td>2.588169e-07</td>\n",
       "      <td>6.153858e-08</td>\n",
       "      <td>76.504180</td>\n",
       "      <td>6.153859e-08</td>\n",
       "    </tr>\n",
       "    <tr>\n",
       "      <th>4</th>\n",
       "      <td>0.035049</td>\n",
       "      <td>29.400220</td>\n",
       "      <td>-10.882906</td>\n",
       "      <td>2.553146e-07</td>\n",
       "      <td>7.889920e-08</td>\n",
       "      <td>80.786531</td>\n",
       "      <td>7.889921e-08</td>\n",
       "    </tr>\n",
       "    <tr>\n",
       "      <th>...</th>\n",
       "      <td>...</td>\n",
       "      <td>...</td>\n",
       "      <td>...</td>\n",
       "      <td>...</td>\n",
       "      <td>...</td>\n",
       "      <td>...</td>\n",
       "      <td>...</td>\n",
       "    </tr>\n",
       "    <tr>\n",
       "      <th>396</th>\n",
       "      <td>3.960543</td>\n",
       "      <td>-0.037444</td>\n",
       "      <td>19.054961</td>\n",
       "      <td>6.751360e-06</td>\n",
       "      <td>5.538583e-06</td>\n",
       "      <td>1.015683</td>\n",
       "      <td>6.750814e-06</td>\n",
       "    </tr>\n",
       "    <tr>\n",
       "      <th>397</th>\n",
       "      <td>3.970557</td>\n",
       "      <td>0.008044</td>\n",
       "      <td>19.062037</td>\n",
       "      <td>7.088888e-06</td>\n",
       "      <td>5.735360e-06</td>\n",
       "      <td>0.997215</td>\n",
       "      <td>7.088269e-06</td>\n",
       "    </tr>\n",
       "    <tr>\n",
       "      <th>398</th>\n",
       "      <td>3.980571</td>\n",
       "      <td>-0.003486</td>\n",
       "      <td>19.042800</td>\n",
       "      <td>7.426416e-06</td>\n",
       "      <td>5.932138e-06</td>\n",
       "      <td>1.001868</td>\n",
       "      <td>7.425731e-06</td>\n",
       "    </tr>\n",
       "    <tr>\n",
       "      <th>399</th>\n",
       "      <td>3.990585</td>\n",
       "      <td>-0.036008</td>\n",
       "      <td>19.028828</td>\n",
       "      <td>7.763944e-06</td>\n",
       "      <td>6.128916e-06</td>\n",
       "      <td>1.015100</td>\n",
       "      <td>7.763200e-06</td>\n",
       "    </tr>\n",
       "    <tr>\n",
       "      <th>400</th>\n",
       "      <td>4.000000</td>\n",
       "      <td>-0.036008</td>\n",
       "      <td>19.029281</td>\n",
       "      <td>8.081283e-06</td>\n",
       "      <td>6.313923e-06</td>\n",
       "      <td>1.015099</td>\n",
       "      <td>8.080478e-06</td>\n",
       "    </tr>\n",
       "  </tbody>\n",
       "</table>\n",
       "<p>401 rows × 7 columns</p>\n",
       "</div>"
      ],
      "text/plain": [
       "            z        G_P       G_PH           D_P          D_PH          Q  \\\n",
       "0    0.000000  30.492310 -10.516290  2.675727e-07  1.813701e-08  69.676427   \n",
       "1    0.005007  30.492310 -10.516290  2.658216e-07  2.681732e-08  69.676427   \n",
       "2    0.015021  30.255890 -10.599328  2.623192e-07  4.417794e-08  72.050855   \n",
       "3    0.025035  29.877110 -10.747942  2.588169e-07  6.153858e-08  76.504180   \n",
       "4    0.035049  29.400220 -10.882906  2.553146e-07  7.889920e-08  80.786531   \n",
       "..        ...        ...        ...           ...           ...        ...   \n",
       "396  3.960543  -0.037444  19.054961  6.751360e-06  5.538583e-06   1.015683   \n",
       "397  3.970557   0.008044  19.062037  7.088888e-06  5.735360e-06   0.997215   \n",
       "398  3.980571  -0.003486  19.042800  7.426416e-06  5.932138e-06   1.001868   \n",
       "399  3.990585  -0.036008  19.028828  7.763944e-06  6.128916e-06   1.015100   \n",
       "400  4.000000  -0.036008  19.029281  8.081283e-06  6.313923e-06   1.015099   \n",
       "\n",
       "                D  \n",
       "0    1.813703e-08  \n",
       "1    2.681734e-08  \n",
       "2    4.417796e-08  \n",
       "3    6.153859e-08  \n",
       "4    7.889921e-08  \n",
       "..            ...  \n",
       "396  6.750814e-06  \n",
       "397  7.088269e-06  \n",
       "398  7.425731e-06  \n",
       "399  7.763200e-06  \n",
       "400  8.080478e-06  \n",
       "\n",
       "[401 rows x 7 columns]"
      ]
     },
     "execution_count": 70,
     "metadata": {},
     "output_type": "execute_result"
    }
   ],
   "source": [
    "df_diffusion"
   ]
  },
  {
   "cell_type": "code",
   "execution_count": 71,
   "id": "7bbccf87",
   "metadata": {},
   "outputs": [
    {
     "data": {
      "text/plain": [
       "[<matplotlib.lines.Line2D at 0x7f13de3a5370>]"
      ]
     },
     "execution_count": 71,
     "metadata": {},
     "output_type": "execute_result"
    },
    {
     "data": {
      "image/png": "[encoded data removed]",
      "text/plain": [
       "<Figure size 432x288 with 1 Axes>"
      ]
     },
     "metadata": {
      "needs_background": "light"
     },
     "output_type": "display_data"
    }
   ],
   "source": [
    "# Plot of weighted average of diffusion coefficient\n",
    "plt.plot(df_diffusion['z'], df_diffusion['D'])"
   ]
  },
  {
   "cell_type": "code",
   "execution_count": 73,
   "id": "54815199",
   "metadata": {},
   "outputs": [
    {
     "data": {
      "text/plain": [
       "<matplotlib.legend.Legend at 0x7f13de3ac9d0>"
      ]
     },
     "execution_count": 73,
     "metadata": {},
     "output_type": "execute_result"
    },
    {
     "data": {
      "image/png": "[encoded data removed]",
      "text/plain": [
       "<Figure size 432x288 with 1 Axes>"
      ]
     },
     "metadata": {
      "needs_background": "light"
     },
     "output_type": "display_data"
    }
   ],
   "source": [
    "# For checking how identical the plots for diffusion coefficients are -\n",
    "plt.plot(df_diffusion['z'], df_diffusion['D_P'],label = 'MIDP', color = 'k')\n",
    "plt.plot(df_diffusion['z'], df_diffusion['D_PH'], label = 'MIDPH',  color = 'r')\n",
    "plt.plot(df_diffusion['z'], df_diffusion['D'], label = 'Weighted Average', color='b')\n",
    "plt.legend()\n",
    "# Here the weighted average is almost identical to MIDP"
   ]
  },
  {
   "cell_type": "markdown",
   "id": "16970060",
   "metadata": {},
   "source": [
    "##### My first approach for the numerical integration will be to convert the distance in z which are in nm into cm for both weighted pmf as well as weighted diffusion coefficient."
   ]
  },
  {
   "cell_type": "code",
   "execution_count": 74,
   "id": "ca7fdbbd",
   "metadata": {},
   "outputs": [
    {
     "data": {
      "text/html": [
       "<div>\n",
       "<style scoped>\n",
       "    .dataframe tbody tr th:only-of-type {\n",
       "        vertical-align: middle;\n",
       "    }\n",
       "\n",
       "    .dataframe tbody tr th {\n",
       "        vertical-align: top;\n",
       "    }\n",
       "\n",
       "    .dataframe thead th {\n",
       "        text-align: right;\n",
       "    }\n",
       "</style>\n",
       "<table border=\"1\" class=\"dataframe\">\n",
       "  <thead>\n",
       "    <tr style=\"text-align: right;\">\n",
       "      <th></th>\n",
       "      <th>0</th>\n",
       "      <th>1</th>\n",
       "      <th>2</th>\n",
       "    </tr>\n",
       "  </thead>\n",
       "  <tbody>\n",
       "    <tr>\n",
       "      <th>0</th>\n",
       "      <td>0.000000e+00</td>\n",
       "      <td>-10.516287</td>\n",
       "      <td>0.014352</td>\n",
       "    </tr>\n",
       "    <tr>\n",
       "      <th>1</th>\n",
       "      <td>5.007009e-10</td>\n",
       "      <td>-10.516287</td>\n",
       "      <td>0.014352</td>\n",
       "    </tr>\n",
       "    <tr>\n",
       "      <th>2</th>\n",
       "      <td>1.502102e-09</td>\n",
       "      <td>-10.599797</td>\n",
       "      <td>0.013876</td>\n",
       "    </tr>\n",
       "    <tr>\n",
       "      <th>3</th>\n",
       "      <td>2.503504e-09</td>\n",
       "      <td>-10.749347</td>\n",
       "      <td>0.013064</td>\n",
       "    </tr>\n",
       "    <tr>\n",
       "      <th>4</th>\n",
       "      <td>3.504905e-09</td>\n",
       "      <td>-10.884686</td>\n",
       "      <td>0.012369</td>\n",
       "    </tr>\n",
       "  </tbody>\n",
       "</table>\n",
       "</div>"
      ],
      "text/plain": [
       "              0          1         2\n",
       "0  0.000000e+00 -10.516287  0.014352\n",
       "1  5.007009e-10 -10.516287  0.014352\n",
       "2  1.502102e-09 -10.599797  0.013876\n",
       "3  2.503504e-09 -10.749347  0.013064\n",
       "4  3.504905e-09 -10.884686  0.012369"
      ]
     },
     "execution_count": 74,
     "metadata": {},
     "output_type": "execute_result"
    }
   ],
   "source": [
    "# For pmf_dep it will be ---\n",
    "pmf_midp_midph[0] = pmf_midp_midph[0] * 1 * 10 ** -7\n",
    "pmf_midp_midph.head()\n",
    "# Here, the only columns we need to worry about is at the index 0 and 2 which are the values for z-distance in cm,\n",
    "# exp(Delta G/RT)"
   ]
  },
  {
   "cell_type": "code",
   "execution_count": 75,
   "id": "a131f9b9",
   "metadata": {},
   "outputs": [
    {
     "data": {
      "text/html": [
       "<div>\n",
       "<style scoped>\n",
       "    .dataframe tbody tr th:only-of-type {\n",
       "        vertical-align: middle;\n",
       "    }\n",
       "\n",
       "    .dataframe tbody tr th {\n",
       "        vertical-align: top;\n",
       "    }\n",
       "\n",
       "    .dataframe thead th {\n",
       "        text-align: right;\n",
       "    }\n",
       "</style>\n",
       "<table border=\"1\" class=\"dataframe\">\n",
       "  <thead>\n",
       "    <tr style=\"text-align: right;\">\n",
       "      <th></th>\n",
       "      <th>0</th>\n",
       "      <th>1</th>\n",
       "      <th>2</th>\n",
       "    </tr>\n",
       "  </thead>\n",
       "  <tbody>\n",
       "    <tr>\n",
       "      <th>396</th>\n",
       "      <td>3.960543e-07</td>\n",
       "      <td>-0.028826</td>\n",
       "      <td>0.988435</td>\n",
       "    </tr>\n",
       "    <tr>\n",
       "      <th>397</th>\n",
       "      <td>3.970557e-07</td>\n",
       "      <td>0.016891</td>\n",
       "      <td>1.006840</td>\n",
       "    </tr>\n",
       "    <tr>\n",
       "      <th>398</th>\n",
       "      <td>3.980571e-07</td>\n",
       "      <td>0.005322</td>\n",
       "      <td>1.002150</td>\n",
       "    </tr>\n",
       "    <tr>\n",
       "      <th>399</th>\n",
       "      <td>3.990585e-07</td>\n",
       "      <td>-0.027244</td>\n",
       "      <td>0.989066</td>\n",
       "    </tr>\n",
       "    <tr>\n",
       "      <th>400</th>\n",
       "      <td>4.000000e-07</td>\n",
       "      <td>-0.027244</td>\n",
       "      <td>0.989066</td>\n",
       "    </tr>\n",
       "  </tbody>\n",
       "</table>\n",
       "</div>"
      ],
      "text/plain": [
       "                0         1         2\n",
       "396  3.960543e-07 -0.028826  0.988435\n",
       "397  3.970557e-07  0.016891  1.006840\n",
       "398  3.980571e-07  0.005322  1.002150\n",
       "399  3.990585e-07 -0.027244  0.989066\n",
       "400  4.000000e-07 -0.027244  0.989066"
      ]
     },
     "execution_count": 75,
     "metadata": {},
     "output_type": "execute_result"
    }
   ],
   "source": [
    "pmf_midp_midph.tail()"
   ]
  },
  {
   "cell_type": "code",
   "execution_count": 76,
   "id": "6c12cae5",
   "metadata": {},
   "outputs": [
    {
     "data": {
      "text/plain": [
       "0.9890658667023333"
      ]
     },
     "execution_count": 76,
     "metadata": {},
     "output_type": "execute_result"
    }
   ],
   "source": [
    "np.exp(-0.027244/2.478) #just checking values again"
   ]
  },
  {
   "cell_type": "code",
   "execution_count": 77,
   "id": "fff141f5",
   "metadata": {},
   "outputs": [
    {
     "data": {
      "text/html": [
       "<div>\n",
       "<style scoped>\n",
       "    .dataframe tbody tr th:only-of-type {\n",
       "        vertical-align: middle;\n",
       "    }\n",
       "\n",
       "    .dataframe tbody tr th {\n",
       "        vertical-align: top;\n",
       "    }\n",
       "\n",
       "    .dataframe thead th {\n",
       "        text-align: right;\n",
       "    }\n",
       "</style>\n",
       "<table border=\"1\" class=\"dataframe\">\n",
       "  <thead>\n",
       "    <tr style=\"text-align: right;\">\n",
       "      <th></th>\n",
       "      <th>z</th>\n",
       "      <th>G_P</th>\n",
       "      <th>G_PH</th>\n",
       "      <th>D_P</th>\n",
       "      <th>D_PH</th>\n",
       "      <th>Q</th>\n",
       "      <th>D</th>\n",
       "    </tr>\n",
       "  </thead>\n",
       "  <tbody>\n",
       "    <tr>\n",
       "      <th>0</th>\n",
       "      <td>0.000000e+00</td>\n",
       "      <td>30.49231</td>\n",
       "      <td>-10.516290</td>\n",
       "      <td>2.675727e-07</td>\n",
       "      <td>1.813701e-08</td>\n",
       "      <td>69.676427</td>\n",
       "      <td>1.813703e-08</td>\n",
       "    </tr>\n",
       "    <tr>\n",
       "      <th>1</th>\n",
       "      <td>5.007009e-10</td>\n",
       "      <td>30.49231</td>\n",
       "      <td>-10.516290</td>\n",
       "      <td>2.658216e-07</td>\n",
       "      <td>2.681732e-08</td>\n",
       "      <td>69.676427</td>\n",
       "      <td>2.681734e-08</td>\n",
       "    </tr>\n",
       "    <tr>\n",
       "      <th>2</th>\n",
       "      <td>1.502102e-09</td>\n",
       "      <td>30.25589</td>\n",
       "      <td>-10.599328</td>\n",
       "      <td>2.623192e-07</td>\n",
       "      <td>4.417794e-08</td>\n",
       "      <td>72.050855</td>\n",
       "      <td>4.417796e-08</td>\n",
       "    </tr>\n",
       "    <tr>\n",
       "      <th>3</th>\n",
       "      <td>2.503504e-09</td>\n",
       "      <td>29.87711</td>\n",
       "      <td>-10.747942</td>\n",
       "      <td>2.588169e-07</td>\n",
       "      <td>6.153858e-08</td>\n",
       "      <td>76.504180</td>\n",
       "      <td>6.153859e-08</td>\n",
       "    </tr>\n",
       "    <tr>\n",
       "      <th>4</th>\n",
       "      <td>3.504905e-09</td>\n",
       "      <td>29.40022</td>\n",
       "      <td>-10.882906</td>\n",
       "      <td>2.553146e-07</td>\n",
       "      <td>7.889920e-08</td>\n",
       "      <td>80.786531</td>\n",
       "      <td>7.889921e-08</td>\n",
       "    </tr>\n",
       "  </tbody>\n",
       "</table>\n",
       "</div>"
      ],
      "text/plain": [
       "              z       G_P       G_PH           D_P          D_PH          Q  \\\n",
       "0  0.000000e+00  30.49231 -10.516290  2.675727e-07  1.813701e-08  69.676427   \n",
       "1  5.007009e-10  30.49231 -10.516290  2.658216e-07  2.681732e-08  69.676427   \n",
       "2  1.502102e-09  30.25589 -10.599328  2.623192e-07  4.417794e-08  72.050855   \n",
       "3  2.503504e-09  29.87711 -10.747942  2.588169e-07  6.153858e-08  76.504180   \n",
       "4  3.504905e-09  29.40022 -10.882906  2.553146e-07  7.889920e-08  80.786531   \n",
       "\n",
       "              D  \n",
       "0  1.813703e-08  \n",
       "1  2.681734e-08  \n",
       "2  4.417796e-08  \n",
       "3  6.153859e-08  \n",
       "4  7.889921e-08  "
      ]
     },
     "execution_count": 77,
     "metadata": {},
     "output_type": "execute_result"
    }
   ],
   "source": [
    "df_diffusion['z'] = df_diffusion['z'] * 1 * 10 ** -7\n",
    "df_diffusion.head()"
   ]
  },
  {
   "cell_type": "code",
   "execution_count": 78,
   "id": "67887598",
   "metadata": {},
   "outputs": [
    {
     "data": {
      "text/plain": [
       "<AxesSubplot:xlabel='z'>"
      ]
     },
     "execution_count": 78,
     "metadata": {},
     "output_type": "execute_result"
    },
    {
     "data": {
      "image/png": "[encoded data removed]",
      "text/plain": [
       "<Figure size 432x288 with 1 Axes>"
      ]
     },
     "metadata": {
      "needs_background": "light"
     },
     "output_type": "display_data"
    },
    {
     "data": {
      "image/png": "[encoded data removed]",
      "text/plain": [
       "<Figure size 432x288 with 1 Axes>"
      ]
     },
     "metadata": {
      "needs_background": "light"
     },
     "output_type": "display_data"
    },
    {
     "data": {
      "image/png": "[encoded data removed]",
      "text/plain": [
       "<Figure size 432x288 with 1 Axes>"
      ]
     },
     "metadata": {
      "needs_background": "light"
     },
     "output_type": "display_data"
    },
    {
     "data": {
      "image/png": "[encoded data removed]",
      "text/plain": [
       "<Figure size 432x288 with 1 Axes>"
      ]
     },
     "metadata": {
      "needs_background": "light"
     },
     "output_type": "display_data"
    },
    {
     "data": {
      "image/png": "[encoded data removed]",
      "text/plain": [
       "<Figure size 432x288 with 1 Axes>"
      ]
     },
     "metadata": {
      "needs_background": "light"
     },
     "output_type": "display_data"
    }
   ],
   "source": [
    "# Play with plots\n",
    "df_diffusion.plot('z', 'G_P')\n",
    "df_diffusion.plot('z', 'G_PH')\n",
    "df_diffusion.plot('z', 'D_P')\n",
    "df_diffusion.plot('z', 'D_PH')\n",
    "df_diffusion.plot('z', 'D')"
   ]
  },
  {
   "cell_type": "markdown",
   "id": "a9161528",
   "metadata": {},
   "source": [
    "#### Now, we can perform numerical integration with either composite trapezoidal rule, or the simpson's rule"
   ]
  },
  {
   "cell_type": "markdown",
   "id": "7a164512",
   "metadata": {},
   "source": [
    "$$\\int_{0}^{4 \\times 10 ^{-7}} \\frac{\\exp\\left ( \\frac{\\Delta G(z)}{RT} \\right )}{D(z)} dz$$"
   ]
  },
  {
   "cell_type": "code",
   "execution_count": 79,
   "id": "16788723",
   "metadata": {},
   "outputs": [],
   "source": [
    "#trapz(values of the function to integrate, sample points(z) corresponding to the function values, optional (dz)\n",
    "#- spacing between the sample points(z))"
   ]
  },
  {
   "cell_type": "code",
   "execution_count": 81,
   "id": "6a4b310b",
   "metadata": {},
   "outputs": [],
   "source": [
    "integrand = pmf_midp_midph[2]/df_diffusion['D']"
   ]
  },
  {
   "cell_type": "code",
   "execution_count": 82,
   "id": "e7e2aa20",
   "metadata": {},
   "outputs": [
    {
     "data": {
      "text/plain": [
       "0      791313.594579\n",
       "1      535178.901126\n",
       "2      314103.712361\n",
       "3      212285.829436\n",
       "4      156774.846792\n",
       "           ...      \n",
       "396    146417.136154\n",
       "397    142043.123003\n",
       "398    134956.438131\n",
       "399    127404.385049\n",
       "400    122401.877731\n",
       "Length: 401, dtype: float64"
      ]
     },
     "execution_count": 82,
     "metadata": {},
     "output_type": "execute_result"
    }
   ],
   "source": [
    "integrand"
   ]
  },
  {
   "cell_type": "code",
   "execution_count": 83,
   "id": "51c838af",
   "metadata": {},
   "outputs": [],
   "source": [
    "#Let's check some values of the integrand. For the first value at z = 0,"
   ]
  },
  {
   "cell_type": "code",
   "execution_count": 84,
   "id": "e9996b2e",
   "metadata": {},
   "outputs": [
    {
     "data": {
      "text/plain": [
       "-10.516287"
      ]
     },
     "execution_count": 84,
     "metadata": {},
     "output_type": "execute_result"
    }
   ],
   "source": [
    "pmf_midp_midph[1].to_numpy()[0] # This is the pmf"
   ]
  },
  {
   "cell_type": "code",
   "execution_count": 85,
   "id": "ff78d23c",
   "metadata": {},
   "outputs": [
    {
     "data": {
      "text/plain": [
       "1.8137025210188298e-08"
      ]
     },
     "execution_count": 85,
     "metadata": {},
     "output_type": "execute_result"
    }
   ],
   "source": [
    "df_diffusion['D'].to_numpy()[0]"
   ]
  },
  {
   "cell_type": "code",
   "execution_count": 86,
   "id": "f40fe8e4",
   "metadata": {},
   "outputs": [
    {
     "data": {
      "text/plain": [
       "791313.5945793464"
      ]
     },
     "execution_count": 86,
     "metadata": {},
     "output_type": "execute_result"
    }
   ],
   "source": [
    "#Delta G = -10.516287, RT = 2.478, D(z) = 1.8137025210188298e-08 cm^2/s\n",
    "np.exp(-10.516287/2.478)/1.8137025210188298e-08"
   ]
  },
  {
   "cell_type": "code",
   "execution_count": 87,
   "id": "7221cc1a",
   "metadata": {},
   "outputs": [
    {
     "data": {
      "text/plain": [
       "791313.5945793464"
      ]
     },
     "execution_count": 87,
     "metadata": {},
     "output_type": "execute_result"
    }
   ],
   "source": [
    "integrand[0]"
   ]
  },
  {
   "cell_type": "code",
   "execution_count": 88,
   "id": "7e8cc1ab",
   "metadata": {},
   "outputs": [
    {
     "data": {
      "text/plain": [
       "0.060047408930172304"
      ]
     },
     "execution_count": 88,
     "metadata": {},
     "output_type": "execute_result"
    }
   ],
   "source": [
    "trapz(integrand, df_diffusion['z']) # or"
   ]
  },
  {
   "cell_type": "code",
   "execution_count": 89,
   "id": "5becec68",
   "metadata": {},
   "outputs": [
    {
     "data": {
      "text/plain": [
       "0.060047408930172304"
      ]
     },
     "execution_count": 89,
     "metadata": {},
     "output_type": "execute_result"
    }
   ],
   "source": [
    "trapz(integrand, pmf_midp_midph[0]) # Using the same z - distance "
   ]
  },
  {
   "cell_type": "code",
   "execution_count": 91,
   "id": "576a54cd",
   "metadata": {},
   "outputs": [
    {
     "data": {
      "text/plain": [
       "16.653507916767502"
      ]
     },
     "execution_count": 91,
     "metadata": {},
     "output_type": "execute_result"
    }
   ],
   "source": [
    "# The permeability will be 1/integral\n",
    "1/trapz(integrand, pmf_midp_midph[0]) # in cm/s"
   ]
  },
  {
   "cell_type": "markdown",
   "id": "e2f3b107",
   "metadata": {},
   "source": [
    "The calculated value of permeability for monoester(MIDP-MIDPH) is $$16.65\\;cm/s$$"
   ]
  },
  {
   "cell_type": "code",
   "execution_count": 92,
   "id": "dde2a8f4",
   "metadata": {},
   "outputs": [
    {
     "data": {
      "text/plain": [
       "<matplotlib.legend.Legend at 0x7f13de118e80>"
      ]
     },
     "execution_count": 92,
     "metadata": {},
     "output_type": "execute_result"
    },
    {
     "data": {
      "image/png": "[encoded data removed]",
      "text/plain": [
       "<Figure size 720x576 with 1 Axes>"
      ]
     },
     "metadata": {
      "needs_background": "light"
     },
     "output_type": "display_data"
    }
   ],
   "source": [
    "# Let's look at the plot of the integrand\n",
    "plt.figure(figsize = (10,8))\n",
    "plt.plot(pmf_midp_midph[0], integrand, label = r'$\\frac{\\exp\\left ( \\frac{\\Delta G(z)}{RT} \\right )}{D(z)}$')\n",
    "plt.xlabel('Distance(z)/cm', fontsize = 14)\n",
    "plt.ylabel(r'$\\frac{\\exp\\left ( \\frac{\\Delta G(z)}{RT} \\right )}{D(z)}$', fontsize = 16)\n",
    "plt.legend()"
   ]
  },
  {
   "cell_type": "markdown",
   "id": "93204ba0",
   "metadata": {},
   "source": [
    "### Using Simpson's method"
   ]
  },
  {
   "cell_type": "code",
   "execution_count": 94,
   "id": "11cbb03e",
   "metadata": {},
   "outputs": [
    {
     "data": {
      "text/plain": [
       "17.83467753004883"
      ]
     },
     "execution_count": 94,
     "metadata": {},
     "output_type": "execute_result"
    }
   ],
   "source": [
    "1/simps(integrand, pmf_midp_midph[0]) # Not much of a difference in terms of order"
   ]
  },
  {
   "cell_type": "code",
   "execution_count": 95,
   "id": "7f140d4d",
   "metadata": {},
   "outputs": [],
   "source": [
    "integ = pd.DataFrame({'0': pmf_midp_midph[0], '1': integrand})"
   ]
  },
  {
   "cell_type": "code",
   "execution_count": 96,
   "id": "19bed40f",
   "metadata": {},
   "outputs": [
    {
     "data": {
      "text/html": [
       "<div>\n",
       "<style scoped>\n",
       "    .dataframe tbody tr th:only-of-type {\n",
       "        vertical-align: middle;\n",
       "    }\n",
       "\n",
       "    .dataframe tbody tr th {\n",
       "        vertical-align: top;\n",
       "    }\n",
       "\n",
       "    .dataframe thead th {\n",
       "        text-align: right;\n",
       "    }\n",
       "</style>\n",
       "<table border=\"1\" class=\"dataframe\">\n",
       "  <thead>\n",
       "    <tr style=\"text-align: right;\">\n",
       "      <th></th>\n",
       "      <th>0</th>\n",
       "      <th>1</th>\n",
       "    </tr>\n",
       "  </thead>\n",
       "  <tbody>\n",
       "    <tr>\n",
       "      <th>0</th>\n",
       "      <td>0.000000e+00</td>\n",
       "      <td>791313.594579</td>\n",
       "    </tr>\n",
       "    <tr>\n",
       "      <th>1</th>\n",
       "      <td>5.007009e-10</td>\n",
       "      <td>535178.901126</td>\n",
       "    </tr>\n",
       "    <tr>\n",
       "      <th>2</th>\n",
       "      <td>1.502102e-09</td>\n",
       "      <td>314103.712361</td>\n",
       "    </tr>\n",
       "    <tr>\n",
       "      <th>3</th>\n",
       "      <td>2.503504e-09</td>\n",
       "      <td>212285.829436</td>\n",
       "    </tr>\n",
       "    <tr>\n",
       "      <th>4</th>\n",
       "      <td>3.504905e-09</td>\n",
       "      <td>156774.846792</td>\n",
       "    </tr>\n",
       "    <tr>\n",
       "      <th>...</th>\n",
       "      <td>...</td>\n",
       "      <td>...</td>\n",
       "    </tr>\n",
       "    <tr>\n",
       "      <th>396</th>\n",
       "      <td>3.960543e-07</td>\n",
       "      <td>146417.136154</td>\n",
       "    </tr>\n",
       "    <tr>\n",
       "      <th>397</th>\n",
       "      <td>3.970557e-07</td>\n",
       "      <td>142043.123003</td>\n",
       "    </tr>\n",
       "    <tr>\n",
       "      <th>398</th>\n",
       "      <td>3.980571e-07</td>\n",
       "      <td>134956.438131</td>\n",
       "    </tr>\n",
       "    <tr>\n",
       "      <th>399</th>\n",
       "      <td>3.990585e-07</td>\n",
       "      <td>127404.385049</td>\n",
       "    </tr>\n",
       "    <tr>\n",
       "      <th>400</th>\n",
       "      <td>4.000000e-07</td>\n",
       "      <td>122401.877731</td>\n",
       "    </tr>\n",
       "  </tbody>\n",
       "</table>\n",
       "<p>401 rows × 2 columns</p>\n",
       "</div>"
      ],
      "text/plain": [
       "                0              1\n",
       "0    0.000000e+00  791313.594579\n",
       "1    5.007009e-10  535178.901126\n",
       "2    1.502102e-09  314103.712361\n",
       "3    2.503504e-09  212285.829436\n",
       "4    3.504905e-09  156774.846792\n",
       "..            ...            ...\n",
       "396  3.960543e-07  146417.136154\n",
       "397  3.970557e-07  142043.123003\n",
       "398  3.980571e-07  134956.438131\n",
       "399  3.990585e-07  127404.385049\n",
       "400  4.000000e-07  122401.877731\n",
       "\n",
       "[401 rows x 2 columns]"
      ]
     },
     "execution_count": 96,
     "metadata": {},
     "output_type": "execute_result"
    }
   ],
   "source": [
    "integ"
   ]
  },
  {
   "cell_type": "code",
   "execution_count": 97,
   "id": "ec891a87",
   "metadata": {},
   "outputs": [],
   "source": [
    "# You can also export the data to xmgrace and calculate the area by yourself\n",
    "integ.to_csv('integrand_midp_midph.xvg', index = False, header = None, sep = ' ')"
   ]
  },
  {
   "cell_type": "code",
   "execution_count": 100,
   "id": "9e66765a",
   "metadata": {},
   "outputs": [],
   "source": [
    "!xmgrace integrand_midp_midph.xvg #Gives us the same area as the value of our integral computed with trapezoidal rule"
   ]
  },
  {
   "cell_type": "markdown",
   "id": "f91ef72f",
   "metadata": {},
   "source": [
    "#### My another approach for the numerical integration will be to convert diffusion coefficient (cm^2/s) into nm^2/s, integrate it over the distance in nm, and finally convert into cm/s"
   ]
  },
  {
   "cell_type": "code",
   "execution_count": 101,
   "id": "1fd4b4cc",
   "metadata": {},
   "outputs": [
    {
     "data": {
      "text/html": [
       "<div>\n",
       "<style scoped>\n",
       "    .dataframe tbody tr th:only-of-type {\n",
       "        vertical-align: middle;\n",
       "    }\n",
       "\n",
       "    .dataframe tbody tr th {\n",
       "        vertical-align: top;\n",
       "    }\n",
       "\n",
       "    .dataframe thead th {\n",
       "        text-align: right;\n",
       "    }\n",
       "</style>\n",
       "<table border=\"1\" class=\"dataframe\">\n",
       "  <thead>\n",
       "    <tr style=\"text-align: right;\">\n",
       "      <th></th>\n",
       "      <th>0</th>\n",
       "      <th>1</th>\n",
       "      <th>2</th>\n",
       "    </tr>\n",
       "  </thead>\n",
       "  <tbody>\n",
       "    <tr>\n",
       "      <th>0</th>\n",
       "      <td>0.000000e+00</td>\n",
       "      <td>-10.516287</td>\n",
       "      <td>0.014352</td>\n",
       "    </tr>\n",
       "    <tr>\n",
       "      <th>1</th>\n",
       "      <td>5.007009e-10</td>\n",
       "      <td>-10.516287</td>\n",
       "      <td>0.014352</td>\n",
       "    </tr>\n",
       "    <tr>\n",
       "      <th>2</th>\n",
       "      <td>1.502102e-09</td>\n",
       "      <td>-10.599797</td>\n",
       "      <td>0.013876</td>\n",
       "    </tr>\n",
       "    <tr>\n",
       "      <th>3</th>\n",
       "      <td>2.503504e-09</td>\n",
       "      <td>-10.749347</td>\n",
       "      <td>0.013064</td>\n",
       "    </tr>\n",
       "    <tr>\n",
       "      <th>4</th>\n",
       "      <td>3.504905e-09</td>\n",
       "      <td>-10.884686</td>\n",
       "      <td>0.012369</td>\n",
       "    </tr>\n",
       "  </tbody>\n",
       "</table>\n",
       "</div>"
      ],
      "text/plain": [
       "              0          1         2\n",
       "0  0.000000e+00 -10.516287  0.014352\n",
       "1  5.007009e-10 -10.516287  0.014352\n",
       "2  1.502102e-09 -10.599797  0.013876\n",
       "3  2.503504e-09 -10.749347  0.013064\n",
       "4  3.504905e-09 -10.884686  0.012369"
      ]
     },
     "execution_count": 101,
     "metadata": {},
     "output_type": "execute_result"
    }
   ],
   "source": [
    "pmf_midp_midph.head()"
   ]
  },
  {
   "cell_type": "code",
   "execution_count": 102,
   "id": "0dee87ce",
   "metadata": {},
   "outputs": [
    {
     "data": {
      "text/html": [
       "<div>\n",
       "<style scoped>\n",
       "    .dataframe tbody tr th:only-of-type {\n",
       "        vertical-align: middle;\n",
       "    }\n",
       "\n",
       "    .dataframe tbody tr th {\n",
       "        vertical-align: top;\n",
       "    }\n",
       "\n",
       "    .dataframe thead th {\n",
       "        text-align: right;\n",
       "    }\n",
       "</style>\n",
       "<table border=\"1\" class=\"dataframe\">\n",
       "  <thead>\n",
       "    <tr style=\"text-align: right;\">\n",
       "      <th></th>\n",
       "      <th>z</th>\n",
       "      <th>G_P</th>\n",
       "      <th>G_PH</th>\n",
       "      <th>D_P</th>\n",
       "      <th>D_PH</th>\n",
       "      <th>Q</th>\n",
       "      <th>D</th>\n",
       "    </tr>\n",
       "  </thead>\n",
       "  <tbody>\n",
       "    <tr>\n",
       "      <th>0</th>\n",
       "      <td>0.000000e+00</td>\n",
       "      <td>30.49231</td>\n",
       "      <td>-10.516290</td>\n",
       "      <td>2.675727e-07</td>\n",
       "      <td>1.813701e-08</td>\n",
       "      <td>69.676427</td>\n",
       "      <td>1.813703e-08</td>\n",
       "    </tr>\n",
       "    <tr>\n",
       "      <th>1</th>\n",
       "      <td>5.007009e-10</td>\n",
       "      <td>30.49231</td>\n",
       "      <td>-10.516290</td>\n",
       "      <td>2.658216e-07</td>\n",
       "      <td>2.681732e-08</td>\n",
       "      <td>69.676427</td>\n",
       "      <td>2.681734e-08</td>\n",
       "    </tr>\n",
       "    <tr>\n",
       "      <th>2</th>\n",
       "      <td>1.502102e-09</td>\n",
       "      <td>30.25589</td>\n",
       "      <td>-10.599328</td>\n",
       "      <td>2.623192e-07</td>\n",
       "      <td>4.417794e-08</td>\n",
       "      <td>72.050855</td>\n",
       "      <td>4.417796e-08</td>\n",
       "    </tr>\n",
       "    <tr>\n",
       "      <th>3</th>\n",
       "      <td>2.503504e-09</td>\n",
       "      <td>29.87711</td>\n",
       "      <td>-10.747942</td>\n",
       "      <td>2.588169e-07</td>\n",
       "      <td>6.153858e-08</td>\n",
       "      <td>76.504180</td>\n",
       "      <td>6.153859e-08</td>\n",
       "    </tr>\n",
       "    <tr>\n",
       "      <th>4</th>\n",
       "      <td>3.504905e-09</td>\n",
       "      <td>29.40022</td>\n",
       "      <td>-10.882906</td>\n",
       "      <td>2.553146e-07</td>\n",
       "      <td>7.889920e-08</td>\n",
       "      <td>80.786531</td>\n",
       "      <td>7.889921e-08</td>\n",
       "    </tr>\n",
       "  </tbody>\n",
       "</table>\n",
       "</div>"
      ],
      "text/plain": [
       "              z       G_P       G_PH           D_P          D_PH          Q  \\\n",
       "0  0.000000e+00  30.49231 -10.516290  2.675727e-07  1.813701e-08  69.676427   \n",
       "1  5.007009e-10  30.49231 -10.516290  2.658216e-07  2.681732e-08  69.676427   \n",
       "2  1.502102e-09  30.25589 -10.599328  2.623192e-07  4.417794e-08  72.050855   \n",
       "3  2.503504e-09  29.87711 -10.747942  2.588169e-07  6.153858e-08  76.504180   \n",
       "4  3.504905e-09  29.40022 -10.882906  2.553146e-07  7.889920e-08  80.786531   \n",
       "\n",
       "              D  \n",
       "0  1.813703e-08  \n",
       "1  2.681734e-08  \n",
       "2  4.417796e-08  \n",
       "3  6.153859e-08  \n",
       "4  7.889921e-08  "
      ]
     },
     "execution_count": 102,
     "metadata": {},
     "output_type": "execute_result"
    }
   ],
   "source": [
    "df_diffusion.head()"
   ]
  },
  {
   "cell_type": "code",
   "execution_count": 103,
   "id": "c644ba0f",
   "metadata": {},
   "outputs": [],
   "source": [
    "pmf_midp_midph[0] = pmf_midp_midph[0] * 1 * 10 ** 7\n",
    "df_diffusion['z'] = df_diffusion['z'] * 1 * 10 ** 7"
   ]
  },
  {
   "cell_type": "code",
   "execution_count": 104,
   "id": "1d2d550f",
   "metadata": {},
   "outputs": [
    {
     "data": {
      "text/html": [
       "<div>\n",
       "<style scoped>\n",
       "    .dataframe tbody tr th:only-of-type {\n",
       "        vertical-align: middle;\n",
       "    }\n",
       "\n",
       "    .dataframe tbody tr th {\n",
       "        vertical-align: top;\n",
       "    }\n",
       "\n",
       "    .dataframe thead th {\n",
       "        text-align: right;\n",
       "    }\n",
       "</style>\n",
       "<table border=\"1\" class=\"dataframe\">\n",
       "  <thead>\n",
       "    <tr style=\"text-align: right;\">\n",
       "      <th></th>\n",
       "      <th>0</th>\n",
       "      <th>1</th>\n",
       "      <th>2</th>\n",
       "    </tr>\n",
       "  </thead>\n",
       "  <tbody>\n",
       "    <tr>\n",
       "      <th>0</th>\n",
       "      <td>0.000000</td>\n",
       "      <td>-10.516287</td>\n",
       "      <td>0.014352</td>\n",
       "    </tr>\n",
       "    <tr>\n",
       "      <th>1</th>\n",
       "      <td>0.005007</td>\n",
       "      <td>-10.516287</td>\n",
       "      <td>0.014352</td>\n",
       "    </tr>\n",
       "    <tr>\n",
       "      <th>2</th>\n",
       "      <td>0.015021</td>\n",
       "      <td>-10.599797</td>\n",
       "      <td>0.013876</td>\n",
       "    </tr>\n",
       "    <tr>\n",
       "      <th>3</th>\n",
       "      <td>0.025035</td>\n",
       "      <td>-10.749347</td>\n",
       "      <td>0.013064</td>\n",
       "    </tr>\n",
       "    <tr>\n",
       "      <th>4</th>\n",
       "      <td>0.035049</td>\n",
       "      <td>-10.884686</td>\n",
       "      <td>0.012369</td>\n",
       "    </tr>\n",
       "  </tbody>\n",
       "</table>\n",
       "</div>"
      ],
      "text/plain": [
       "          0          1         2\n",
       "0  0.000000 -10.516287  0.014352\n",
       "1  0.005007 -10.516287  0.014352\n",
       "2  0.015021 -10.599797  0.013876\n",
       "3  0.025035 -10.749347  0.013064\n",
       "4  0.035049 -10.884686  0.012369"
      ]
     },
     "execution_count": 104,
     "metadata": {},
     "output_type": "execute_result"
    }
   ],
   "source": [
    "pmf_midp_midph.head()"
   ]
  },
  {
   "cell_type": "code",
   "execution_count": 105,
   "id": "eff4c972",
   "metadata": {},
   "outputs": [
    {
     "data": {
      "text/html": [
       "<div>\n",
       "<style scoped>\n",
       "    .dataframe tbody tr th:only-of-type {\n",
       "        vertical-align: middle;\n",
       "    }\n",
       "\n",
       "    .dataframe tbody tr th {\n",
       "        vertical-align: top;\n",
       "    }\n",
       "\n",
       "    .dataframe thead th {\n",
       "        text-align: right;\n",
       "    }\n",
       "</style>\n",
       "<table border=\"1\" class=\"dataframe\">\n",
       "  <thead>\n",
       "    <tr style=\"text-align: right;\">\n",
       "      <th></th>\n",
       "      <th>z</th>\n",
       "      <th>G_P</th>\n",
       "      <th>G_PH</th>\n",
       "      <th>D_P</th>\n",
       "      <th>D_PH</th>\n",
       "      <th>Q</th>\n",
       "      <th>D</th>\n",
       "    </tr>\n",
       "  </thead>\n",
       "  <tbody>\n",
       "    <tr>\n",
       "      <th>0</th>\n",
       "      <td>0.000000</td>\n",
       "      <td>30.49231</td>\n",
       "      <td>-10.516290</td>\n",
       "      <td>2.675727e-07</td>\n",
       "      <td>1.813701e-08</td>\n",
       "      <td>69.676427</td>\n",
       "      <td>1.813703e-08</td>\n",
       "    </tr>\n",
       "    <tr>\n",
       "      <th>1</th>\n",
       "      <td>0.005007</td>\n",
       "      <td>30.49231</td>\n",
       "      <td>-10.516290</td>\n",
       "      <td>2.658216e-07</td>\n",
       "      <td>2.681732e-08</td>\n",
       "      <td>69.676427</td>\n",
       "      <td>2.681734e-08</td>\n",
       "    </tr>\n",
       "    <tr>\n",
       "      <th>2</th>\n",
       "      <td>0.015021</td>\n",
       "      <td>30.25589</td>\n",
       "      <td>-10.599328</td>\n",
       "      <td>2.623192e-07</td>\n",
       "      <td>4.417794e-08</td>\n",
       "      <td>72.050855</td>\n",
       "      <td>4.417796e-08</td>\n",
       "    </tr>\n",
       "    <tr>\n",
       "      <th>3</th>\n",
       "      <td>0.025035</td>\n",
       "      <td>29.87711</td>\n",
       "      <td>-10.747942</td>\n",
       "      <td>2.588169e-07</td>\n",
       "      <td>6.153858e-08</td>\n",
       "      <td>76.504180</td>\n",
       "      <td>6.153859e-08</td>\n",
       "    </tr>\n",
       "    <tr>\n",
       "      <th>4</th>\n",
       "      <td>0.035049</td>\n",
       "      <td>29.40022</td>\n",
       "      <td>-10.882906</td>\n",
       "      <td>2.553146e-07</td>\n",
       "      <td>7.889920e-08</td>\n",
       "      <td>80.786531</td>\n",
       "      <td>7.889921e-08</td>\n",
       "    </tr>\n",
       "  </tbody>\n",
       "</table>\n",
       "</div>"
      ],
      "text/plain": [
       "          z       G_P       G_PH           D_P          D_PH          Q  \\\n",
       "0  0.000000  30.49231 -10.516290  2.675727e-07  1.813701e-08  69.676427   \n",
       "1  0.005007  30.49231 -10.516290  2.658216e-07  2.681732e-08  69.676427   \n",
       "2  0.015021  30.25589 -10.599328  2.623192e-07  4.417794e-08  72.050855   \n",
       "3  0.025035  29.87711 -10.747942  2.588169e-07  6.153858e-08  76.504180   \n",
       "4  0.035049  29.40022 -10.882906  2.553146e-07  7.889920e-08  80.786531   \n",
       "\n",
       "              D  \n",
       "0  1.813703e-08  \n",
       "1  2.681734e-08  \n",
       "2  4.417796e-08  \n",
       "3  6.153859e-08  \n",
       "4  7.889921e-08  "
      ]
     },
     "execution_count": 105,
     "metadata": {},
     "output_type": "execute_result"
    }
   ],
   "source": [
    "df_diffusion.head()"
   ]
  },
  {
   "cell_type": "code",
   "execution_count": 106,
   "id": "633a7dcd",
   "metadata": {},
   "outputs": [],
   "source": [
    "# Converting diffusion coefficient into nm^2/s and adding it into the last column\n",
    "df_diffusion['D'] = df_diffusion['D'] * 1 * 10 ** 14"
   ]
  },
  {
   "cell_type": "code",
   "execution_count": 107,
   "id": "e9bbc81d",
   "metadata": {},
   "outputs": [
    {
     "data": {
      "text/html": [
       "<div>\n",
       "<style scoped>\n",
       "    .dataframe tbody tr th:only-of-type {\n",
       "        vertical-align: middle;\n",
       "    }\n",
       "\n",
       "    .dataframe tbody tr th {\n",
       "        vertical-align: top;\n",
       "    }\n",
       "\n",
       "    .dataframe thead th {\n",
       "        text-align: right;\n",
       "    }\n",
       "</style>\n",
       "<table border=\"1\" class=\"dataframe\">\n",
       "  <thead>\n",
       "    <tr style=\"text-align: right;\">\n",
       "      <th></th>\n",
       "      <th>z</th>\n",
       "      <th>G_P</th>\n",
       "      <th>G_PH</th>\n",
       "      <th>D_P</th>\n",
       "      <th>D_PH</th>\n",
       "      <th>Q</th>\n",
       "      <th>D</th>\n",
       "    </tr>\n",
       "  </thead>\n",
       "  <tbody>\n",
       "    <tr>\n",
       "      <th>0</th>\n",
       "      <td>0.000000</td>\n",
       "      <td>30.492310</td>\n",
       "      <td>-10.516290</td>\n",
       "      <td>2.675727e-07</td>\n",
       "      <td>1.813701e-08</td>\n",
       "      <td>69.676427</td>\n",
       "      <td>1.813703e+06</td>\n",
       "    </tr>\n",
       "    <tr>\n",
       "      <th>1</th>\n",
       "      <td>0.005007</td>\n",
       "      <td>30.492310</td>\n",
       "      <td>-10.516290</td>\n",
       "      <td>2.658216e-07</td>\n",
       "      <td>2.681732e-08</td>\n",
       "      <td>69.676427</td>\n",
       "      <td>2.681734e+06</td>\n",
       "    </tr>\n",
       "    <tr>\n",
       "      <th>2</th>\n",
       "      <td>0.015021</td>\n",
       "      <td>30.255890</td>\n",
       "      <td>-10.599328</td>\n",
       "      <td>2.623192e-07</td>\n",
       "      <td>4.417794e-08</td>\n",
       "      <td>72.050855</td>\n",
       "      <td>4.417796e+06</td>\n",
       "    </tr>\n",
       "    <tr>\n",
       "      <th>3</th>\n",
       "      <td>0.025035</td>\n",
       "      <td>29.877110</td>\n",
       "      <td>-10.747942</td>\n",
       "      <td>2.588169e-07</td>\n",
       "      <td>6.153858e-08</td>\n",
       "      <td>76.504180</td>\n",
       "      <td>6.153859e+06</td>\n",
       "    </tr>\n",
       "    <tr>\n",
       "      <th>4</th>\n",
       "      <td>0.035049</td>\n",
       "      <td>29.400220</td>\n",
       "      <td>-10.882906</td>\n",
       "      <td>2.553146e-07</td>\n",
       "      <td>7.889920e-08</td>\n",
       "      <td>80.786531</td>\n",
       "      <td>7.889921e+06</td>\n",
       "    </tr>\n",
       "    <tr>\n",
       "      <th>...</th>\n",
       "      <td>...</td>\n",
       "      <td>...</td>\n",
       "      <td>...</td>\n",
       "      <td>...</td>\n",
       "      <td>...</td>\n",
       "      <td>...</td>\n",
       "      <td>...</td>\n",
       "    </tr>\n",
       "    <tr>\n",
       "      <th>396</th>\n",
       "      <td>3.960543</td>\n",
       "      <td>-0.037444</td>\n",
       "      <td>19.054961</td>\n",
       "      <td>6.751360e-06</td>\n",
       "      <td>5.538583e-06</td>\n",
       "      <td>1.015683</td>\n",
       "      <td>6.750814e+08</td>\n",
       "    </tr>\n",
       "    <tr>\n",
       "      <th>397</th>\n",
       "      <td>3.970557</td>\n",
       "      <td>0.008044</td>\n",
       "      <td>19.062037</td>\n",
       "      <td>7.088888e-06</td>\n",
       "      <td>5.735360e-06</td>\n",
       "      <td>0.997215</td>\n",
       "      <td>7.088269e+08</td>\n",
       "    </tr>\n",
       "    <tr>\n",
       "      <th>398</th>\n",
       "      <td>3.980571</td>\n",
       "      <td>-0.003486</td>\n",
       "      <td>19.042800</td>\n",
       "      <td>7.426416e-06</td>\n",
       "      <td>5.932138e-06</td>\n",
       "      <td>1.001868</td>\n",
       "      <td>7.425731e+08</td>\n",
       "    </tr>\n",
       "    <tr>\n",
       "      <th>399</th>\n",
       "      <td>3.990585</td>\n",
       "      <td>-0.036008</td>\n",
       "      <td>19.028828</td>\n",
       "      <td>7.763944e-06</td>\n",
       "      <td>6.128916e-06</td>\n",
       "      <td>1.015100</td>\n",
       "      <td>7.763200e+08</td>\n",
       "    </tr>\n",
       "    <tr>\n",
       "      <th>400</th>\n",
       "      <td>4.000000</td>\n",
       "      <td>-0.036008</td>\n",
       "      <td>19.029281</td>\n",
       "      <td>8.081283e-06</td>\n",
       "      <td>6.313923e-06</td>\n",
       "      <td>1.015099</td>\n",
       "      <td>8.080478e+08</td>\n",
       "    </tr>\n",
       "  </tbody>\n",
       "</table>\n",
       "<p>401 rows × 7 columns</p>\n",
       "</div>"
      ],
      "text/plain": [
       "            z        G_P       G_PH           D_P          D_PH          Q  \\\n",
       "0    0.000000  30.492310 -10.516290  2.675727e-07  1.813701e-08  69.676427   \n",
       "1    0.005007  30.492310 -10.516290  2.658216e-07  2.681732e-08  69.676427   \n",
       "2    0.015021  30.255890 -10.599328  2.623192e-07  4.417794e-08  72.050855   \n",
       "3    0.025035  29.877110 -10.747942  2.588169e-07  6.153858e-08  76.504180   \n",
       "4    0.035049  29.400220 -10.882906  2.553146e-07  7.889920e-08  80.786531   \n",
       "..        ...        ...        ...           ...           ...        ...   \n",
       "396  3.960543  -0.037444  19.054961  6.751360e-06  5.538583e-06   1.015683   \n",
       "397  3.970557   0.008044  19.062037  7.088888e-06  5.735360e-06   0.997215   \n",
       "398  3.980571  -0.003486  19.042800  7.426416e-06  5.932138e-06   1.001868   \n",
       "399  3.990585  -0.036008  19.028828  7.763944e-06  6.128916e-06   1.015100   \n",
       "400  4.000000  -0.036008  19.029281  8.081283e-06  6.313923e-06   1.015099   \n",
       "\n",
       "                D  \n",
       "0    1.813703e+06  \n",
       "1    2.681734e+06  \n",
       "2    4.417796e+06  \n",
       "3    6.153859e+06  \n",
       "4    7.889921e+06  \n",
       "..            ...  \n",
       "396  6.750814e+08  \n",
       "397  7.088269e+08  \n",
       "398  7.425731e+08  \n",
       "399  7.763200e+08  \n",
       "400  8.080478e+08  \n",
       "\n",
       "[401 rows x 7 columns]"
      ]
     },
     "execution_count": 107,
     "metadata": {},
     "output_type": "execute_result"
    }
   ],
   "source": [
    "df_diffusion"
   ]
  },
  {
   "cell_type": "code",
   "execution_count": 109,
   "id": "ead076dd",
   "metadata": {},
   "outputs": [],
   "source": [
    "integrand = pmf_midp_midph[2]/df_diffusion['D']"
   ]
  },
  {
   "cell_type": "code",
   "execution_count": 110,
   "id": "69d0be7d",
   "metadata": {},
   "outputs": [
    {
     "data": {
      "text/plain": [
       "6.004740893017239e-09"
      ]
     },
     "execution_count": 110,
     "metadata": {},
     "output_type": "execute_result"
    }
   ],
   "source": [
    "trapz(integrand, pmf_midp_midph[0])"
   ]
  },
  {
   "cell_type": "code",
   "execution_count": 111,
   "id": "5711adfa",
   "metadata": {},
   "outputs": [
    {
     "data": {
      "text/plain": [
       "166535079.16767478"
      ]
     },
     "execution_count": 111,
     "metadata": {},
     "output_type": "execute_result"
    }
   ],
   "source": [
    "1/trapz(integrand, pmf_midp_midph[0]) # This is now in nm/s"
   ]
  },
  {
   "cell_type": "code",
   "execution_count": 113,
   "id": "25d4cff2",
   "metadata": {},
   "outputs": [
    {
     "data": {
      "text/plain": [
       "16.653507916767477"
      ]
     },
     "execution_count": 113,
     "metadata": {},
     "output_type": "execute_result"
    }
   ],
   "source": [
    "# Converting into cm/s\n",
    "1/trapz(integrand, pmf_midp_midph[0]) * 1 * 10 ** -7 # We got the same answer in both ways"
   ]
  },
  {
   "cell_type": "code",
   "execution_count": null,
   "id": "eba2d80d",
   "metadata": {},
   "outputs": [],
   "source": []
  }
 ],
 "metadata": {
  "kernelspec": {
   "display_name": "Python 3",
   "language": "python",
   "name": "python3"
  },
  "language_info": {
   "codemirror_mode": {
    "name": "ipython",
    "version": 3
   },
   "file_extension": ".py",
   "mimetype": "text/x-python",
   "name": "python",
   "nbconvert_exporter": "python",
   "pygments_lexer": "ipython3",
   "version": "3.8.8"
  }
 },
 "nbformat": 4,
 "nbformat_minor": 5
}

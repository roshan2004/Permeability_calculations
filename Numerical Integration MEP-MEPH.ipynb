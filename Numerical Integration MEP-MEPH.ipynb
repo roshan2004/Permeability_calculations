{
 "cells": [
  {
   "cell_type": "markdown",
   "id": "cbd97640",
   "metadata": {},
   "source": [
    "In the case of monoester metabolites, two PMFs were calculated, both for the neutral (protonated) and charged (deprotonated) forms, and from them the weighted average was calculated which is used in the calculations of permeability. The weighted average for $\\Delta G(z)$ is given by:\n",
    "$$\\Delta G(z) = \\Delta G(z)_P\\frac{e^{\\frac{-\\Delta G(z)_P}{RT}}}{Q(z)} + \\Delta G(z)_{PH}\\frac{e^{\\frac{-\\Delta G(z)_{PH}}{RT}}}{Q(z)}$$\n",
    "where, $Q(z)$ is the sum of two states given by, $$Q(z) = e^{\\frac{-\\Delta G(z)_P}{RT}} + e^{\\frac{-\\Delta G(z)_{PH}}{RT}}$$\n",
    "Here, $\\Delta G(z)_P$ is the PMF of the charged (deprotonated) phthalate and $\\Delta G(z)_{PH}$ is the PMF of the uncharged (protonated) phthalate calculated for every $z$."
   ]
  },
  {
   "cell_type": "code",
   "execution_count": 212,
   "id": "bb6a5a0e",
   "metadata": {},
   "outputs": [],
   "source": [
    "# The weighted average of the PMF is already done and is saved in xvg files with small letter names like \n",
    "# mep-meph.xvg"
   ]
  },
  {
   "cell_type": "code",
   "execution_count": 213,
   "id": "f841342b",
   "metadata": {},
   "outputs": [],
   "source": [
    "# Importing necessary libraries\n",
    "import pandas as pd\n",
    "import numpy as np\n",
    "import matplotlib.pyplot as plt\n",
    "from scipy.integrate import trapz, simps #Importing trapz, and simps module from scipy for numerical integration\n"
   ]
  },
  {
   "cell_type": "code",
   "execution_count": 214,
   "id": "49251724",
   "metadata": {},
   "outputs": [],
   "source": [
    "pmf_mep_meph = pd.read_csv('mep-meph.xvg', header = None, delim_whitespace=True)"
   ]
  },
  {
   "cell_type": "code",
   "execution_count": 215,
   "id": "2bb60692",
   "metadata": {},
   "outputs": [
    {
     "data": {
      "text/html": [
       "<div>\n",
       "<style scoped>\n",
       "    .dataframe tbody tr th:only-of-type {\n",
       "        vertical-align: middle;\n",
       "    }\n",
       "\n",
       "    .dataframe tbody tr th {\n",
       "        vertical-align: top;\n",
       "    }\n",
       "\n",
       "    .dataframe thead th {\n",
       "        text-align: right;\n",
       "    }\n",
       "</style>\n",
       "<table border=\"1\" class=\"dataframe\">\n",
       "  <thead>\n",
       "    <tr style=\"text-align: right;\">\n",
       "      <th></th>\n",
       "      <th>0</th>\n",
       "      <th>1</th>\n",
       "    </tr>\n",
       "  </thead>\n",
       "  <tbody>\n",
       "    <tr>\n",
       "      <th>0</th>\n",
       "      <td>0.005019</td>\n",
       "      <td>18.906007</td>\n",
       "    </tr>\n",
       "    <tr>\n",
       "      <th>1</th>\n",
       "      <td>0.015055</td>\n",
       "      <td>18.795131</td>\n",
       "    </tr>\n",
       "    <tr>\n",
       "      <th>2</th>\n",
       "      <td>0.025092</td>\n",
       "      <td>18.575250</td>\n",
       "    </tr>\n",
       "    <tr>\n",
       "      <th>3</th>\n",
       "      <td>0.035129</td>\n",
       "      <td>18.311036</td>\n",
       "    </tr>\n",
       "    <tr>\n",
       "      <th>4</th>\n",
       "      <td>0.045166</td>\n",
       "      <td>17.977729</td>\n",
       "    </tr>\n",
       "    <tr>\n",
       "      <th>...</th>\n",
       "      <td>...</td>\n",
       "      <td>...</td>\n",
       "    </tr>\n",
       "    <tr>\n",
       "      <th>416</th>\n",
       "      <td>4.180404</td>\n",
       "      <td>-0.506003</td>\n",
       "    </tr>\n",
       "    <tr>\n",
       "      <th>417</th>\n",
       "      <td>4.190441</td>\n",
       "      <td>-0.477159</td>\n",
       "    </tr>\n",
       "    <tr>\n",
       "      <th>418</th>\n",
       "      <td>4.200478</td>\n",
       "      <td>-0.455419</td>\n",
       "    </tr>\n",
       "    <tr>\n",
       "      <th>419</th>\n",
       "      <td>4.210515</td>\n",
       "      <td>-1.459127</td>\n",
       "    </tr>\n",
       "    <tr>\n",
       "      <th>420</th>\n",
       "      <td>4.220552</td>\n",
       "      <td>-2.943741</td>\n",
       "    </tr>\n",
       "  </tbody>\n",
       "</table>\n",
       "<p>421 rows × 2 columns</p>\n",
       "</div>"
      ],
      "text/plain": [
       "            0          1\n",
       "0    0.005019  18.906007\n",
       "1    0.015055  18.795131\n",
       "2    0.025092  18.575250\n",
       "3    0.035129  18.311036\n",
       "4    0.045166  17.977729\n",
       "..        ...        ...\n",
       "416  4.180404  -0.506003\n",
       "417  4.190441  -0.477159\n",
       "418  4.200478  -0.455419\n",
       "419  4.210515  -1.459127\n",
       "420  4.220552  -2.943741\n",
       "\n",
       "[421 rows x 2 columns]"
      ]
     },
     "execution_count": 215,
     "metadata": {},
     "output_type": "execute_result"
    }
   ],
   "source": [
    "# Checking the few data from pmf_mep_meph # Note, there are no error bars in here\n",
    "pmf_mep_meph"
   ]
  },
  {
   "cell_type": "code",
   "execution_count": 216,
   "id": "072ac3dc",
   "metadata": {},
   "outputs": [],
   "source": [
    "# Extrapolating for the data at 0\n",
    "df = pd.DataFrame({0: [0.000000], 1: 18.906007})\n",
    "df = df.append(pmf_mep_meph)\n",
    "df = df.reset_index(drop=True)"
   ]
  },
  {
   "cell_type": "code",
   "execution_count": 217,
   "id": "5533a120",
   "metadata": {},
   "outputs": [],
   "source": [
    "# Just making a copy to have same name as original\n",
    "pmf_mep_meph = df.copy(deep=True)"
   ]
  },
  {
   "cell_type": "code",
   "execution_count": 218,
   "id": "cb33468b",
   "metadata": {},
   "outputs": [
    {
     "data": {
      "text/html": [
       "<div>\n",
       "<style scoped>\n",
       "    .dataframe tbody tr th:only-of-type {\n",
       "        vertical-align: middle;\n",
       "    }\n",
       "\n",
       "    .dataframe tbody tr th {\n",
       "        vertical-align: top;\n",
       "    }\n",
       "\n",
       "    .dataframe thead th {\n",
       "        text-align: right;\n",
       "    }\n",
       "</style>\n",
       "<table border=\"1\" class=\"dataframe\">\n",
       "  <thead>\n",
       "    <tr style=\"text-align: right;\">\n",
       "      <th></th>\n",
       "      <th>0</th>\n",
       "      <th>1</th>\n",
       "    </tr>\n",
       "  </thead>\n",
       "  <tbody>\n",
       "    <tr>\n",
       "      <th>0</th>\n",
       "      <td>0.000000</td>\n",
       "      <td>18.906007</td>\n",
       "    </tr>\n",
       "    <tr>\n",
       "      <th>1</th>\n",
       "      <td>0.005019</td>\n",
       "      <td>18.906007</td>\n",
       "    </tr>\n",
       "    <tr>\n",
       "      <th>2</th>\n",
       "      <td>0.015055</td>\n",
       "      <td>18.795131</td>\n",
       "    </tr>\n",
       "    <tr>\n",
       "      <th>3</th>\n",
       "      <td>0.025092</td>\n",
       "      <td>18.575250</td>\n",
       "    </tr>\n",
       "    <tr>\n",
       "      <th>4</th>\n",
       "      <td>0.035129</td>\n",
       "      <td>18.311036</td>\n",
       "    </tr>\n",
       "  </tbody>\n",
       "</table>\n",
       "</div>"
      ],
      "text/plain": [
       "          0          1\n",
       "0  0.000000  18.906007\n",
       "1  0.005019  18.906007\n",
       "2  0.015055  18.795131\n",
       "3  0.025092  18.575250\n",
       "4  0.035129  18.311036"
      ]
     },
     "execution_count": 218,
     "metadata": {},
     "output_type": "execute_result"
    }
   ],
   "source": [
    "pmf_mep_meph.head()"
   ]
  },
  {
   "cell_type": "code",
   "execution_count": 219,
   "id": "de85e575",
   "metadata": {},
   "outputs": [],
   "source": [
    "# We don't want the values of z distance above 4, so\n",
    "pmf_mep_meph = pmf_mep_meph[pmf_mep_meph[0] <= 4.000000]"
   ]
  },
  {
   "cell_type": "code",
   "execution_count": 220,
   "id": "3b9b61f9",
   "metadata": {},
   "outputs": [
    {
     "data": {
      "text/html": [
       "<div>\n",
       "<style scoped>\n",
       "    .dataframe tbody tr th:only-of-type {\n",
       "        vertical-align: middle;\n",
       "    }\n",
       "\n",
       "    .dataframe tbody tr th {\n",
       "        vertical-align: top;\n",
       "    }\n",
       "\n",
       "    .dataframe thead th {\n",
       "        text-align: right;\n",
       "    }\n",
       "</style>\n",
       "<table border=\"1\" class=\"dataframe\">\n",
       "  <thead>\n",
       "    <tr style=\"text-align: right;\">\n",
       "      <th></th>\n",
       "      <th>0</th>\n",
       "      <th>1</th>\n",
       "    </tr>\n",
       "  </thead>\n",
       "  <tbody>\n",
       "    <tr>\n",
       "      <th>395</th>\n",
       "      <td>3.959590</td>\n",
       "      <td>0.050143</td>\n",
       "    </tr>\n",
       "    <tr>\n",
       "      <th>396</th>\n",
       "      <td>3.969627</td>\n",
       "      <td>0.049512</td>\n",
       "    </tr>\n",
       "    <tr>\n",
       "      <th>397</th>\n",
       "      <td>3.979664</td>\n",
       "      <td>0.042113</td>\n",
       "    </tr>\n",
       "    <tr>\n",
       "      <th>398</th>\n",
       "      <td>3.989701</td>\n",
       "      <td>0.067962</td>\n",
       "    </tr>\n",
       "    <tr>\n",
       "      <th>399</th>\n",
       "      <td>3.999738</td>\n",
       "      <td>0.067372</td>\n",
       "    </tr>\n",
       "  </tbody>\n",
       "</table>\n",
       "</div>"
      ],
      "text/plain": [
       "            0         1\n",
       "395  3.959590  0.050143\n",
       "396  3.969627  0.049512\n",
       "397  3.979664  0.042113\n",
       "398  3.989701  0.067962\n",
       "399  3.999738  0.067372"
      ]
     },
     "execution_count": 220,
     "metadata": {},
     "output_type": "execute_result"
    }
   ],
   "source": [
    "pmf_mep_meph.tail()"
   ]
  },
  {
   "cell_type": "code",
   "execution_count": 221,
   "id": "d82cd1fe",
   "metadata": {},
   "outputs": [],
   "source": [
    "# Just extrapolating to have the same value in z = 4 nm as in z = 3.999738\n",
    "pmf_mep_meph = pmf_mep_meph.append({0: 4.000000, 1: 0.067372}, ignore_index = True)"
   ]
  },
  {
   "cell_type": "code",
   "execution_count": 222,
   "id": "dcaf28d9",
   "metadata": {},
   "outputs": [
    {
     "data": {
      "text/html": [
       "<div>\n",
       "<style scoped>\n",
       "    .dataframe tbody tr th:only-of-type {\n",
       "        vertical-align: middle;\n",
       "    }\n",
       "\n",
       "    .dataframe tbody tr th {\n",
       "        vertical-align: top;\n",
       "    }\n",
       "\n",
       "    .dataframe thead th {\n",
       "        text-align: right;\n",
       "    }\n",
       "</style>\n",
       "<table border=\"1\" class=\"dataframe\">\n",
       "  <thead>\n",
       "    <tr style=\"text-align: right;\">\n",
       "      <th></th>\n",
       "      <th>0</th>\n",
       "      <th>1</th>\n",
       "    </tr>\n",
       "  </thead>\n",
       "  <tbody>\n",
       "    <tr>\n",
       "      <th>396</th>\n",
       "      <td>3.969627</td>\n",
       "      <td>0.049512</td>\n",
       "    </tr>\n",
       "    <tr>\n",
       "      <th>397</th>\n",
       "      <td>3.979664</td>\n",
       "      <td>0.042113</td>\n",
       "    </tr>\n",
       "    <tr>\n",
       "      <th>398</th>\n",
       "      <td>3.989701</td>\n",
       "      <td>0.067962</td>\n",
       "    </tr>\n",
       "    <tr>\n",
       "      <th>399</th>\n",
       "      <td>3.999738</td>\n",
       "      <td>0.067372</td>\n",
       "    </tr>\n",
       "    <tr>\n",
       "      <th>400</th>\n",
       "      <td>4.000000</td>\n",
       "      <td>0.067372</td>\n",
       "    </tr>\n",
       "  </tbody>\n",
       "</table>\n",
       "</div>"
      ],
      "text/plain": [
       "            0         1\n",
       "396  3.969627  0.049512\n",
       "397  3.979664  0.042113\n",
       "398  3.989701  0.067962\n",
       "399  3.999738  0.067372\n",
       "400  4.000000  0.067372"
      ]
     },
     "execution_count": 222,
     "metadata": {},
     "output_type": "execute_result"
    }
   ],
   "source": [
    "pmf_mep_meph.tail()"
   ]
  },
  {
   "cell_type": "code",
   "execution_count": 223,
   "id": "a7039990",
   "metadata": {},
   "outputs": [
    {
     "data": {
      "text/plain": [
       "[<matplotlib.lines.Line2D at 0x7fd9ddb73af0>]"
      ]
     },
     "execution_count": 223,
     "metadata": {},
     "output_type": "execute_result"
    },
    {
     "data": {
      "image/png": "[encoded data removed]",
      "text/plain": [
       "<Figure size 432x288 with 1 Axes>"
      ]
     },
     "metadata": {
      "needs_background": "light"
     },
     "output_type": "display_data"
    }
   ],
   "source": [
    "# Now, check a rough plot for free energy\n",
    "plt.plot(pmf_mep_meph[0], pmf_mep_meph[1])"
   ]
  },
  {
   "cell_type": "markdown",
   "id": "07b1e9de",
   "metadata": {},
   "source": [
    "Now adding a $e^\\frac{\\Delta G}{RT}$ component in the last column of our PMF data. Here, $\\Delta G$ is obtained from the second column pmf_mep_meph[1] and RT is 2.478 KJ/mol at 298K."
   ]
  },
  {
   "cell_type": "code",
   "execution_count": 224,
   "id": "fdafda65",
   "metadata": {},
   "outputs": [],
   "source": [
    "pmf_mep_meph[2] = np.exp(pmf_mep_meph[1]/2.478)"
   ]
  },
  {
   "cell_type": "code",
   "execution_count": 225,
   "id": "9b988b01",
   "metadata": {},
   "outputs": [
    {
     "data": {
      "text/html": [
       "<div>\n",
       "<style scoped>\n",
       "    .dataframe tbody tr th:only-of-type {\n",
       "        vertical-align: middle;\n",
       "    }\n",
       "\n",
       "    .dataframe tbody tr th {\n",
       "        vertical-align: top;\n",
       "    }\n",
       "\n",
       "    .dataframe thead th {\n",
       "        text-align: right;\n",
       "    }\n",
       "</style>\n",
       "<table border=\"1\" class=\"dataframe\">\n",
       "  <thead>\n",
       "    <tr style=\"text-align: right;\">\n",
       "      <th></th>\n",
       "      <th>0</th>\n",
       "      <th>1</th>\n",
       "      <th>2</th>\n",
       "    </tr>\n",
       "  </thead>\n",
       "  <tbody>\n",
       "    <tr>\n",
       "      <th>0</th>\n",
       "      <td>0.000000</td>\n",
       "      <td>18.906007</td>\n",
       "      <td>2058.108789</td>\n",
       "    </tr>\n",
       "    <tr>\n",
       "      <th>1</th>\n",
       "      <td>0.005019</td>\n",
       "      <td>18.906007</td>\n",
       "      <td>2058.108789</td>\n",
       "    </tr>\n",
       "    <tr>\n",
       "      <th>2</th>\n",
       "      <td>0.015055</td>\n",
       "      <td>18.795131</td>\n",
       "      <td>1968.050284</td>\n",
       "    </tr>\n",
       "    <tr>\n",
       "      <th>3</th>\n",
       "      <td>0.025092</td>\n",
       "      <td>18.575250</td>\n",
       "      <td>1800.942423</td>\n",
       "    </tr>\n",
       "    <tr>\n",
       "      <th>4</th>\n",
       "      <td>0.035129</td>\n",
       "      <td>18.311036</td>\n",
       "      <td>1618.801735</td>\n",
       "    </tr>\n",
       "    <tr>\n",
       "      <th>...</th>\n",
       "      <td>...</td>\n",
       "      <td>...</td>\n",
       "      <td>...</td>\n",
       "    </tr>\n",
       "    <tr>\n",
       "      <th>396</th>\n",
       "      <td>3.969627</td>\n",
       "      <td>0.049512</td>\n",
       "      <td>1.020182</td>\n",
       "    </tr>\n",
       "    <tr>\n",
       "      <th>397</th>\n",
       "      <td>3.979664</td>\n",
       "      <td>0.042113</td>\n",
       "      <td>1.017140</td>\n",
       "    </tr>\n",
       "    <tr>\n",
       "      <th>398</th>\n",
       "      <td>3.989701</td>\n",
       "      <td>0.067962</td>\n",
       "      <td>1.027806</td>\n",
       "    </tr>\n",
       "    <tr>\n",
       "      <th>399</th>\n",
       "      <td>3.999738</td>\n",
       "      <td>0.067372</td>\n",
       "      <td>1.027561</td>\n",
       "    </tr>\n",
       "    <tr>\n",
       "      <th>400</th>\n",
       "      <td>4.000000</td>\n",
       "      <td>0.067372</td>\n",
       "      <td>1.027561</td>\n",
       "    </tr>\n",
       "  </tbody>\n",
       "</table>\n",
       "<p>401 rows × 3 columns</p>\n",
       "</div>"
      ],
      "text/plain": [
       "            0          1            2\n",
       "0    0.000000  18.906007  2058.108789\n",
       "1    0.005019  18.906007  2058.108789\n",
       "2    0.015055  18.795131  1968.050284\n",
       "3    0.025092  18.575250  1800.942423\n",
       "4    0.035129  18.311036  1618.801735\n",
       "..        ...        ...          ...\n",
       "396  3.969627   0.049512     1.020182\n",
       "397  3.979664   0.042113     1.017140\n",
       "398  3.989701   0.067962     1.027806\n",
       "399  3.999738   0.067372     1.027561\n",
       "400  4.000000   0.067372     1.027561\n",
       "\n",
       "[401 rows x 3 columns]"
      ]
     },
     "execution_count": 225,
     "metadata": {},
     "output_type": "execute_result"
    }
   ],
   "source": [
    "pmf_mep_meph"
   ]
  },
  {
   "cell_type": "code",
   "execution_count": 226,
   "id": "57fb5f91",
   "metadata": {},
   "outputs": [
    {
     "data": {
      "text/plain": [
       "2058.1087888347274"
      ]
     },
     "execution_count": 226,
     "metadata": {},
     "output_type": "execute_result"
    }
   ],
   "source": [
    "# Just checking some values in the last column if it makes sense\n",
    "np.exp(18.906007/2.478)\n",
    "# So, here the last column index 2 contains the values of the numerator of our integrand that we want to integrate"
   ]
  },
  {
   "cell_type": "markdown",
   "id": "c4d80140",
   "metadata": {},
   "source": [
    "### Weighted average of Diffusion coefficient for monoethyl phthalate (MEP)"
   ]
  },
  {
   "cell_type": "markdown",
   "id": "209a60d9",
   "metadata": {},
   "source": [
    "Similarly for diffusion coefficient, the weighted average for $D(z)$ is given by:\n",
    "$$D(z) = D(z)_P\\frac{e^{\\frac{-\\Delta G(z)_P}{RT}}}{Q(z)} + D(z)_{PH}\\frac{e^{\\frac{-\\Delta G(z)_{PH}}{RT}}}{Q(z)}$$\n",
    "where, $Q(z)$ is the sum of two states given by, $$Q(z) = e^{\\frac{-\\Delta G(z)_P}{RT}} + e^{\\frac{-\\Delta G(z)_{PH}}{RT}}$$\n",
    "Here, $\\Delta G(z)_P$ is the PMF of the charged (deprotonated) phthalate and $\\Delta G(z)_{PH}$ is the PMF of the uncharged (protonated) phthalate calculated for every $z$."
   ]
  },
  {
   "cell_type": "markdown",
   "id": "0f8c780d",
   "metadata": {},
   "source": [
    "So, for the weighted average of Diffusion coefficient, we need the free energy of both the charged(deprotonated(P)) and uncharged (protonated(PH)) phthalate"
   ]
  },
  {
   "cell_type": "code",
   "execution_count": 332,
   "id": "69f8dc85",
   "metadata": {},
   "outputs": [],
   "source": [
    "# Here, the pmf for both charged and uncharged monoester metabolites are given by the xvg files with their usual names\n",
    "# Like 4-MEP.xvg, 4-MEPH.xvg"
   ]
  },
  {
   "cell_type": "code",
   "execution_count": 228,
   "id": "5fb56327",
   "metadata": {},
   "outputs": [],
   "source": [
    "pmf_mep =  pd.read_csv('4-MEP.xvg', header = None, delim_whitespace=True)"
   ]
  },
  {
   "cell_type": "code",
   "execution_count": 229,
   "id": "b3f433d6",
   "metadata": {},
   "outputs": [
    {
     "data": {
      "text/html": [
       "<div>\n",
       "<style scoped>\n",
       "    .dataframe tbody tr th:only-of-type {\n",
       "        vertical-align: middle;\n",
       "    }\n",
       "\n",
       "    .dataframe tbody tr th {\n",
       "        vertical-align: top;\n",
       "    }\n",
       "\n",
       "    .dataframe thead th {\n",
       "        text-align: right;\n",
       "    }\n",
       "</style>\n",
       "<table border=\"1\" class=\"dataframe\">\n",
       "  <thead>\n",
       "    <tr style=\"text-align: right;\">\n",
       "      <th></th>\n",
       "      <th>0</th>\n",
       "      <th>1</th>\n",
       "    </tr>\n",
       "  </thead>\n",
       "  <tbody>\n",
       "    <tr>\n",
       "      <th>0</th>\n",
       "      <td>0.005019</td>\n",
       "      <td>42.28958</td>\n",
       "    </tr>\n",
       "    <tr>\n",
       "      <th>1</th>\n",
       "      <td>0.015055</td>\n",
       "      <td>42.11615</td>\n",
       "    </tr>\n",
       "    <tr>\n",
       "      <th>2</th>\n",
       "      <td>0.025092</td>\n",
       "      <td>41.80657</td>\n",
       "    </tr>\n",
       "    <tr>\n",
       "      <th>3</th>\n",
       "      <td>0.035129</td>\n",
       "      <td>41.34310</td>\n",
       "    </tr>\n",
       "    <tr>\n",
       "      <th>4</th>\n",
       "      <td>0.045166</td>\n",
       "      <td>40.78848</td>\n",
       "    </tr>\n",
       "  </tbody>\n",
       "</table>\n",
       "</div>"
      ],
      "text/plain": [
       "          0         1\n",
       "0  0.005019  42.28958\n",
       "1  0.015055  42.11615\n",
       "2  0.025092  41.80657\n",
       "3  0.035129  41.34310\n",
       "4  0.045166  40.78848"
      ]
     },
     "execution_count": 229,
     "metadata": {},
     "output_type": "execute_result"
    }
   ],
   "source": [
    "pmf_mep.head()"
   ]
  },
  {
   "cell_type": "code",
   "execution_count": 230,
   "id": "3375ffc4",
   "metadata": {},
   "outputs": [],
   "source": [
    "pmf_meph =  pd.read_csv('4-MEPH.xvg', header = None, delim_whitespace=True)"
   ]
  },
  {
   "cell_type": "code",
   "execution_count": 231,
   "id": "a0bbd226",
   "metadata": {},
   "outputs": [
    {
     "data": {
      "text/html": [
       "<div>\n",
       "<style scoped>\n",
       "    .dataframe tbody tr th:only-of-type {\n",
       "        vertical-align: middle;\n",
       "    }\n",
       "\n",
       "    .dataframe tbody tr th {\n",
       "        vertical-align: top;\n",
       "    }\n",
       "\n",
       "    .dataframe thead th {\n",
       "        text-align: right;\n",
       "    }\n",
       "</style>\n",
       "<table border=\"1\" class=\"dataframe\">\n",
       "  <thead>\n",
       "    <tr style=\"text-align: right;\">\n",
       "      <th></th>\n",
       "      <th>0</th>\n",
       "      <th>1</th>\n",
       "    </tr>\n",
       "  </thead>\n",
       "  <tbody>\n",
       "    <tr>\n",
       "      <th>0</th>\n",
       "      <td>0.005015</td>\n",
       "      <td>18.904136</td>\n",
       "    </tr>\n",
       "    <tr>\n",
       "      <th>1</th>\n",
       "      <td>0.015046</td>\n",
       "      <td>18.793218</td>\n",
       "    </tr>\n",
       "    <tr>\n",
       "      <th>2</th>\n",
       "      <td>0.025077</td>\n",
       "      <td>18.573274</td>\n",
       "    </tr>\n",
       "    <tr>\n",
       "      <th>3</th>\n",
       "      <td>0.035108</td>\n",
       "      <td>18.308913</td>\n",
       "    </tr>\n",
       "    <tr>\n",
       "      <th>4</th>\n",
       "      <td>0.045139</td>\n",
       "      <td>17.975430</td>\n",
       "    </tr>\n",
       "  </tbody>\n",
       "</table>\n",
       "</div>"
      ],
      "text/plain": [
       "          0          1\n",
       "0  0.005015  18.904136\n",
       "1  0.015046  18.793218\n",
       "2  0.025077  18.573274\n",
       "3  0.035108  18.308913\n",
       "4  0.045139  17.975430"
      ]
     },
     "execution_count": 231,
     "metadata": {},
     "output_type": "execute_result"
    }
   ],
   "source": [
    "pmf_meph.head()"
   ]
  },
  {
   "cell_type": "code",
   "execution_count": 232,
   "id": "b6f1c512",
   "metadata": {},
   "outputs": [
    {
     "data": {
      "text/html": [
       "<div>\n",
       "<style scoped>\n",
       "    .dataframe tbody tr th:only-of-type {\n",
       "        vertical-align: middle;\n",
       "    }\n",
       "\n",
       "    .dataframe tbody tr th {\n",
       "        vertical-align: top;\n",
       "    }\n",
       "\n",
       "    .dataframe thead th {\n",
       "        text-align: right;\n",
       "    }\n",
       "</style>\n",
       "<table border=\"1\" class=\"dataframe\">\n",
       "  <thead>\n",
       "    <tr style=\"text-align: right;\">\n",
       "      <th></th>\n",
       "      <th>0</th>\n",
       "      <th>1</th>\n",
       "    </tr>\n",
       "  </thead>\n",
       "  <tbody>\n",
       "    <tr>\n",
       "      <th>416</th>\n",
       "      <td>4.180404</td>\n",
       "      <td>-0.515403</td>\n",
       "    </tr>\n",
       "    <tr>\n",
       "      <th>417</th>\n",
       "      <td>4.190441</td>\n",
       "      <td>-0.486536</td>\n",
       "    </tr>\n",
       "    <tr>\n",
       "      <th>418</th>\n",
       "      <td>4.200478</td>\n",
       "      <td>-0.466332</td>\n",
       "    </tr>\n",
       "    <tr>\n",
       "      <th>419</th>\n",
       "      <td>4.210515</td>\n",
       "      <td>-1.464132</td>\n",
       "    </tr>\n",
       "    <tr>\n",
       "      <th>420</th>\n",
       "      <td>4.220552</td>\n",
       "      <td>-2.946601</td>\n",
       "    </tr>\n",
       "  </tbody>\n",
       "</table>\n",
       "</div>"
      ],
      "text/plain": [
       "            0         1\n",
       "416  4.180404 -0.515403\n",
       "417  4.190441 -0.486536\n",
       "418  4.200478 -0.466332\n",
       "419  4.210515 -1.464132\n",
       "420  4.220552 -2.946601"
      ]
     },
     "execution_count": 232,
     "metadata": {},
     "output_type": "execute_result"
    }
   ],
   "source": [
    "pmf_mep.tail()"
   ]
  },
  {
   "cell_type": "code",
   "execution_count": 233,
   "id": "080e0e65",
   "metadata": {},
   "outputs": [
    {
     "data": {
      "text/html": [
       "<div>\n",
       "<style scoped>\n",
       "    .dataframe tbody tr th:only-of-type {\n",
       "        vertical-align: middle;\n",
       "    }\n",
       "\n",
       "    .dataframe tbody tr th {\n",
       "        vertical-align: top;\n",
       "    }\n",
       "\n",
       "    .dataframe thead th {\n",
       "        text-align: right;\n",
       "    }\n",
       "</style>\n",
       "<table border=\"1\" class=\"dataframe\">\n",
       "  <thead>\n",
       "    <tr style=\"text-align: right;\">\n",
       "      <th></th>\n",
       "      <th>0</th>\n",
       "      <th>1</th>\n",
       "    </tr>\n",
       "  </thead>\n",
       "  <tbody>\n",
       "    <tr>\n",
       "      <th>416</th>\n",
       "      <td>4.177891</td>\n",
       "      <td>18.331846</td>\n",
       "    </tr>\n",
       "    <tr>\n",
       "      <th>417</th>\n",
       "      <td>4.187922</td>\n",
       "      <td>18.368044</td>\n",
       "    </tr>\n",
       "    <tr>\n",
       "      <th>418</th>\n",
       "      <td>4.197953</td>\n",
       "      <td>17.953909</td>\n",
       "    </tr>\n",
       "    <tr>\n",
       "      <th>419</th>\n",
       "      <td>4.207984</td>\n",
       "      <td>19.170990</td>\n",
       "    </tr>\n",
       "    <tr>\n",
       "      <th>420</th>\n",
       "      <td>4.218015</td>\n",
       "      <td>19.257816</td>\n",
       "    </tr>\n",
       "  </tbody>\n",
       "</table>\n",
       "</div>"
      ],
      "text/plain": [
       "            0          1\n",
       "416  4.177891  18.331846\n",
       "417  4.187922  18.368044\n",
       "418  4.197953  17.953909\n",
       "419  4.207984  19.170990\n",
       "420  4.218015  19.257816"
      ]
     },
     "execution_count": 233,
     "metadata": {},
     "output_type": "execute_result"
    }
   ],
   "source": [
    "pmf_meph.tail()"
   ]
  },
  {
   "cell_type": "code",
   "execution_count": 234,
   "id": "9fe2ed42",
   "metadata": {},
   "outputs": [],
   "source": [
    "# Extrapolating for the data at 0 for both\n",
    "df = pd.DataFrame({0: [0.000000], 1: 42.28958})\n",
    "df = df.append(pmf_mep)\n",
    "df = df.reset_index(drop=True)"
   ]
  },
  {
   "cell_type": "code",
   "execution_count": 235,
   "id": "f31b3171",
   "metadata": {},
   "outputs": [],
   "source": [
    "# Just making a copy to have same name as original\n",
    "pmf_mep = df.copy(deep=True)"
   ]
  },
  {
   "cell_type": "code",
   "execution_count": 236,
   "id": "cdf3c244",
   "metadata": {},
   "outputs": [
    {
     "data": {
      "text/html": [
       "<div>\n",
       "<style scoped>\n",
       "    .dataframe tbody tr th:only-of-type {\n",
       "        vertical-align: middle;\n",
       "    }\n",
       "\n",
       "    .dataframe tbody tr th {\n",
       "        vertical-align: top;\n",
       "    }\n",
       "\n",
       "    .dataframe thead th {\n",
       "        text-align: right;\n",
       "    }\n",
       "</style>\n",
       "<table border=\"1\" class=\"dataframe\">\n",
       "  <thead>\n",
       "    <tr style=\"text-align: right;\">\n",
       "      <th></th>\n",
       "      <th>0</th>\n",
       "      <th>1</th>\n",
       "    </tr>\n",
       "  </thead>\n",
       "  <tbody>\n",
       "    <tr>\n",
       "      <th>0</th>\n",
       "      <td>0.000000</td>\n",
       "      <td>42.28958</td>\n",
       "    </tr>\n",
       "    <tr>\n",
       "      <th>1</th>\n",
       "      <td>0.005019</td>\n",
       "      <td>42.28958</td>\n",
       "    </tr>\n",
       "    <tr>\n",
       "      <th>2</th>\n",
       "      <td>0.015055</td>\n",
       "      <td>42.11615</td>\n",
       "    </tr>\n",
       "    <tr>\n",
       "      <th>3</th>\n",
       "      <td>0.025092</td>\n",
       "      <td>41.80657</td>\n",
       "    </tr>\n",
       "    <tr>\n",
       "      <th>4</th>\n",
       "      <td>0.035129</td>\n",
       "      <td>41.34310</td>\n",
       "    </tr>\n",
       "  </tbody>\n",
       "</table>\n",
       "</div>"
      ],
      "text/plain": [
       "          0         1\n",
       "0  0.000000  42.28958\n",
       "1  0.005019  42.28958\n",
       "2  0.015055  42.11615\n",
       "3  0.025092  41.80657\n",
       "4  0.035129  41.34310"
      ]
     },
     "execution_count": 236,
     "metadata": {},
     "output_type": "execute_result"
    }
   ],
   "source": [
    "pmf_mep.head()"
   ]
  },
  {
   "cell_type": "code",
   "execution_count": 237,
   "id": "f1ceacc4",
   "metadata": {},
   "outputs": [],
   "source": [
    "# We don't want the values of z distance above 4, so\n",
    "pmf_mep = pmf_mep[pmf_mep[0] <= 4.000000]"
   ]
  },
  {
   "cell_type": "code",
   "execution_count": 238,
   "id": "e00798a3",
   "metadata": {},
   "outputs": [
    {
     "data": {
      "text/html": [
       "<div>\n",
       "<style scoped>\n",
       "    .dataframe tbody tr th:only-of-type {\n",
       "        vertical-align: middle;\n",
       "    }\n",
       "\n",
       "    .dataframe tbody tr th {\n",
       "        vertical-align: top;\n",
       "    }\n",
       "\n",
       "    .dataframe thead th {\n",
       "        text-align: right;\n",
       "    }\n",
       "</style>\n",
       "<table border=\"1\" class=\"dataframe\">\n",
       "  <thead>\n",
       "    <tr style=\"text-align: right;\">\n",
       "      <th></th>\n",
       "      <th>0</th>\n",
       "      <th>1</th>\n",
       "    </tr>\n",
       "  </thead>\n",
       "  <tbody>\n",
       "    <tr>\n",
       "      <th>395</th>\n",
       "      <td>3.959590</td>\n",
       "      <td>0.039707</td>\n",
       "    </tr>\n",
       "    <tr>\n",
       "      <th>396</th>\n",
       "      <td>3.969627</td>\n",
       "      <td>0.039132</td>\n",
       "    </tr>\n",
       "    <tr>\n",
       "      <th>397</th>\n",
       "      <td>3.979664</td>\n",
       "      <td>0.031721</td>\n",
       "    </tr>\n",
       "    <tr>\n",
       "      <th>398</th>\n",
       "      <td>3.989701</td>\n",
       "      <td>0.057453</td>\n",
       "    </tr>\n",
       "    <tr>\n",
       "      <th>399</th>\n",
       "      <td>3.999738</td>\n",
       "      <td>0.056941</td>\n",
       "    </tr>\n",
       "  </tbody>\n",
       "</table>\n",
       "</div>"
      ],
      "text/plain": [
       "            0         1\n",
       "395  3.959590  0.039707\n",
       "396  3.969627  0.039132\n",
       "397  3.979664  0.031721\n",
       "398  3.989701  0.057453\n",
       "399  3.999738  0.056941"
      ]
     },
     "execution_count": 238,
     "metadata": {},
     "output_type": "execute_result"
    }
   ],
   "source": [
    "pmf_mep.tail()"
   ]
  },
  {
   "cell_type": "code",
   "execution_count": 239,
   "id": "cbe75cb3",
   "metadata": {},
   "outputs": [],
   "source": [
    "# Just extrapolating to have the same value in z = 4 nm as in z = 3.999738\n",
    "pmf_mep = pmf_mep.append({0: 4.000000, 1: 0.056941}, ignore_index = True)"
   ]
  },
  {
   "cell_type": "code",
   "execution_count": 240,
   "id": "5a26d32a",
   "metadata": {},
   "outputs": [
    {
     "data": {
      "text/html": [
       "<div>\n",
       "<style scoped>\n",
       "    .dataframe tbody tr th:only-of-type {\n",
       "        vertical-align: middle;\n",
       "    }\n",
       "\n",
       "    .dataframe tbody tr th {\n",
       "        vertical-align: top;\n",
       "    }\n",
       "\n",
       "    .dataframe thead th {\n",
       "        text-align: right;\n",
       "    }\n",
       "</style>\n",
       "<table border=\"1\" class=\"dataframe\">\n",
       "  <thead>\n",
       "    <tr style=\"text-align: right;\">\n",
       "      <th></th>\n",
       "      <th>0</th>\n",
       "      <th>1</th>\n",
       "    </tr>\n",
       "  </thead>\n",
       "  <tbody>\n",
       "    <tr>\n",
       "      <th>0</th>\n",
       "      <td>0.000000</td>\n",
       "      <td>42.289580</td>\n",
       "    </tr>\n",
       "    <tr>\n",
       "      <th>1</th>\n",
       "      <td>0.005019</td>\n",
       "      <td>42.289580</td>\n",
       "    </tr>\n",
       "    <tr>\n",
       "      <th>2</th>\n",
       "      <td>0.015055</td>\n",
       "      <td>42.116150</td>\n",
       "    </tr>\n",
       "    <tr>\n",
       "      <th>3</th>\n",
       "      <td>0.025092</td>\n",
       "      <td>41.806570</td>\n",
       "    </tr>\n",
       "    <tr>\n",
       "      <th>4</th>\n",
       "      <td>0.035129</td>\n",
       "      <td>41.343100</td>\n",
       "    </tr>\n",
       "    <tr>\n",
       "      <th>...</th>\n",
       "      <td>...</td>\n",
       "      <td>...</td>\n",
       "    </tr>\n",
       "    <tr>\n",
       "      <th>396</th>\n",
       "      <td>3.969627</td>\n",
       "      <td>0.039132</td>\n",
       "    </tr>\n",
       "    <tr>\n",
       "      <th>397</th>\n",
       "      <td>3.979664</td>\n",
       "      <td>0.031721</td>\n",
       "    </tr>\n",
       "    <tr>\n",
       "      <th>398</th>\n",
       "      <td>3.989701</td>\n",
       "      <td>0.057453</td>\n",
       "    </tr>\n",
       "    <tr>\n",
       "      <th>399</th>\n",
       "      <td>3.999738</td>\n",
       "      <td>0.056941</td>\n",
       "    </tr>\n",
       "    <tr>\n",
       "      <th>400</th>\n",
       "      <td>4.000000</td>\n",
       "      <td>0.056941</td>\n",
       "    </tr>\n",
       "  </tbody>\n",
       "</table>\n",
       "<p>401 rows × 2 columns</p>\n",
       "</div>"
      ],
      "text/plain": [
       "            0          1\n",
       "0    0.000000  42.289580\n",
       "1    0.005019  42.289580\n",
       "2    0.015055  42.116150\n",
       "3    0.025092  41.806570\n",
       "4    0.035129  41.343100\n",
       "..        ...        ...\n",
       "396  3.969627   0.039132\n",
       "397  3.979664   0.031721\n",
       "398  3.989701   0.057453\n",
       "399  3.999738   0.056941\n",
       "400  4.000000   0.056941\n",
       "\n",
       "[401 rows x 2 columns]"
      ]
     },
     "execution_count": 240,
     "metadata": {},
     "output_type": "execute_result"
    }
   ],
   "source": [
    "pmf_mep"
   ]
  },
  {
   "cell_type": "code",
   "execution_count": 241,
   "id": "425a76db",
   "metadata": {},
   "outputs": [],
   "source": [
    "# Similarly for meph,\n",
    "# Extrapolating for the data at 0 for both\n",
    "df = pd.DataFrame({0: [0.000000], 1: 18.904136})\n",
    "df = df.append(pmf_meph)\n",
    "df = df.reset_index(drop=True)\n",
    "# Just making a copy to have same name as original\n",
    "pmf_meph = df.copy(deep=True)"
   ]
  },
  {
   "cell_type": "code",
   "execution_count": 242,
   "id": "34bee5aa",
   "metadata": {},
   "outputs": [
    {
     "data": {
      "text/html": [
       "<div>\n",
       "<style scoped>\n",
       "    .dataframe tbody tr th:only-of-type {\n",
       "        vertical-align: middle;\n",
       "    }\n",
       "\n",
       "    .dataframe tbody tr th {\n",
       "        vertical-align: top;\n",
       "    }\n",
       "\n",
       "    .dataframe thead th {\n",
       "        text-align: right;\n",
       "    }\n",
       "</style>\n",
       "<table border=\"1\" class=\"dataframe\">\n",
       "  <thead>\n",
       "    <tr style=\"text-align: right;\">\n",
       "      <th></th>\n",
       "      <th>0</th>\n",
       "      <th>1</th>\n",
       "    </tr>\n",
       "  </thead>\n",
       "  <tbody>\n",
       "    <tr>\n",
       "      <th>0</th>\n",
       "      <td>0.000000</td>\n",
       "      <td>18.904136</td>\n",
       "    </tr>\n",
       "    <tr>\n",
       "      <th>1</th>\n",
       "      <td>0.005015</td>\n",
       "      <td>18.904136</td>\n",
       "    </tr>\n",
       "    <tr>\n",
       "      <th>2</th>\n",
       "      <td>0.015046</td>\n",
       "      <td>18.793218</td>\n",
       "    </tr>\n",
       "    <tr>\n",
       "      <th>3</th>\n",
       "      <td>0.025077</td>\n",
       "      <td>18.573274</td>\n",
       "    </tr>\n",
       "    <tr>\n",
       "      <th>4</th>\n",
       "      <td>0.035108</td>\n",
       "      <td>18.308913</td>\n",
       "    </tr>\n",
       "  </tbody>\n",
       "</table>\n",
       "</div>"
      ],
      "text/plain": [
       "          0          1\n",
       "0  0.000000  18.904136\n",
       "1  0.005015  18.904136\n",
       "2  0.015046  18.793218\n",
       "3  0.025077  18.573274\n",
       "4  0.035108  18.308913"
      ]
     },
     "execution_count": 242,
     "metadata": {},
     "output_type": "execute_result"
    }
   ],
   "source": [
    "pmf_meph.head()"
   ]
  },
  {
   "cell_type": "code",
   "execution_count": 243,
   "id": "95d852a9",
   "metadata": {},
   "outputs": [],
   "source": [
    "# We don't want the values of z distance above 4, so\n",
    "pmf_meph = pmf_meph[pmf_meph[0] <= 4.000000]"
   ]
  },
  {
   "cell_type": "code",
   "execution_count": 244,
   "id": "f9dff685",
   "metadata": {},
   "outputs": [
    {
     "data": {
      "text/html": [
       "<div>\n",
       "<style scoped>\n",
       "    .dataframe tbody tr th:only-of-type {\n",
       "        vertical-align: middle;\n",
       "    }\n",
       "\n",
       "    .dataframe tbody tr th {\n",
       "        vertical-align: top;\n",
       "    }\n",
       "\n",
       "    .dataframe thead th {\n",
       "        text-align: right;\n",
       "    }\n",
       "</style>\n",
       "<table border=\"1\" class=\"dataframe\">\n",
       "  <thead>\n",
       "    <tr style=\"text-align: right;\">\n",
       "      <th></th>\n",
       "      <th>0</th>\n",
       "      <th>1</th>\n",
       "    </tr>\n",
       "  </thead>\n",
       "  <tbody>\n",
       "    <tr>\n",
       "      <th>395</th>\n",
       "      <td>3.957210</td>\n",
       "      <td>18.588051</td>\n",
       "    </tr>\n",
       "    <tr>\n",
       "      <th>396</th>\n",
       "      <td>3.967241</td>\n",
       "      <td>18.602947</td>\n",
       "    </tr>\n",
       "    <tr>\n",
       "      <th>397</th>\n",
       "      <td>3.977272</td>\n",
       "      <td>18.592219</td>\n",
       "    </tr>\n",
       "    <tr>\n",
       "      <th>398</th>\n",
       "      <td>3.987303</td>\n",
       "      <td>18.585802</td>\n",
       "    </tr>\n",
       "    <tr>\n",
       "      <th>399</th>\n",
       "      <td>3.997334</td>\n",
       "      <td>18.606724</td>\n",
       "    </tr>\n",
       "  </tbody>\n",
       "</table>\n",
       "</div>"
      ],
      "text/plain": [
       "            0          1\n",
       "395  3.957210  18.588051\n",
       "396  3.967241  18.602947\n",
       "397  3.977272  18.592219\n",
       "398  3.987303  18.585802\n",
       "399  3.997334  18.606724"
      ]
     },
     "execution_count": 244,
     "metadata": {},
     "output_type": "execute_result"
    }
   ],
   "source": [
    "pmf_meph.tail()"
   ]
  },
  {
   "cell_type": "code",
   "execution_count": 245,
   "id": "599231a0",
   "metadata": {},
   "outputs": [],
   "source": [
    "# Just extrapolating to have the same value in z = 4 nm as in z = 3.997334\n",
    "pmf_meph = pmf_meph.append({0: 4.000000, 1: 18.606724}, ignore_index = True)"
   ]
  },
  {
   "cell_type": "code",
   "execution_count": 246,
   "id": "d6363e82",
   "metadata": {},
   "outputs": [
    {
     "data": {
      "text/html": [
       "<div>\n",
       "<style scoped>\n",
       "    .dataframe tbody tr th:only-of-type {\n",
       "        vertical-align: middle;\n",
       "    }\n",
       "\n",
       "    .dataframe tbody tr th {\n",
       "        vertical-align: top;\n",
       "    }\n",
       "\n",
       "    .dataframe thead th {\n",
       "        text-align: right;\n",
       "    }\n",
       "</style>\n",
       "<table border=\"1\" class=\"dataframe\">\n",
       "  <thead>\n",
       "    <tr style=\"text-align: right;\">\n",
       "      <th></th>\n",
       "      <th>0</th>\n",
       "      <th>1</th>\n",
       "    </tr>\n",
       "  </thead>\n",
       "  <tbody>\n",
       "    <tr>\n",
       "      <th>0</th>\n",
       "      <td>0.000000</td>\n",
       "      <td>18.904136</td>\n",
       "    </tr>\n",
       "    <tr>\n",
       "      <th>1</th>\n",
       "      <td>0.005015</td>\n",
       "      <td>18.904136</td>\n",
       "    </tr>\n",
       "    <tr>\n",
       "      <th>2</th>\n",
       "      <td>0.015046</td>\n",
       "      <td>18.793218</td>\n",
       "    </tr>\n",
       "    <tr>\n",
       "      <th>3</th>\n",
       "      <td>0.025077</td>\n",
       "      <td>18.573274</td>\n",
       "    </tr>\n",
       "    <tr>\n",
       "      <th>4</th>\n",
       "      <td>0.035108</td>\n",
       "      <td>18.308913</td>\n",
       "    </tr>\n",
       "    <tr>\n",
       "      <th>...</th>\n",
       "      <td>...</td>\n",
       "      <td>...</td>\n",
       "    </tr>\n",
       "    <tr>\n",
       "      <th>396</th>\n",
       "      <td>3.967241</td>\n",
       "      <td>18.602947</td>\n",
       "    </tr>\n",
       "    <tr>\n",
       "      <th>397</th>\n",
       "      <td>3.977272</td>\n",
       "      <td>18.592219</td>\n",
       "    </tr>\n",
       "    <tr>\n",
       "      <th>398</th>\n",
       "      <td>3.987303</td>\n",
       "      <td>18.585802</td>\n",
       "    </tr>\n",
       "    <tr>\n",
       "      <th>399</th>\n",
       "      <td>3.997334</td>\n",
       "      <td>18.606724</td>\n",
       "    </tr>\n",
       "    <tr>\n",
       "      <th>400</th>\n",
       "      <td>4.000000</td>\n",
       "      <td>18.606724</td>\n",
       "    </tr>\n",
       "  </tbody>\n",
       "</table>\n",
       "<p>401 rows × 2 columns</p>\n",
       "</div>"
      ],
      "text/plain": [
       "            0          1\n",
       "0    0.000000  18.904136\n",
       "1    0.005015  18.904136\n",
       "2    0.015046  18.793218\n",
       "3    0.025077  18.573274\n",
       "4    0.035108  18.308913\n",
       "..        ...        ...\n",
       "396  3.967241  18.602947\n",
       "397  3.977272  18.592219\n",
       "398  3.987303  18.585802\n",
       "399  3.997334  18.606724\n",
       "400  4.000000  18.606724\n",
       "\n",
       "[401 rows x 2 columns]"
      ]
     },
     "execution_count": 246,
     "metadata": {},
     "output_type": "execute_result"
    }
   ],
   "source": [
    "pmf_meph"
   ]
  },
  {
   "cell_type": "code",
   "execution_count": 247,
   "id": "d1939eb8",
   "metadata": {},
   "outputs": [
    {
     "data": {
      "text/html": [
       "<div>\n",
       "<style scoped>\n",
       "    .dataframe tbody tr th:only-of-type {\n",
       "        vertical-align: middle;\n",
       "    }\n",
       "\n",
       "    .dataframe tbody tr th {\n",
       "        vertical-align: top;\n",
       "    }\n",
       "\n",
       "    .dataframe thead th {\n",
       "        text-align: right;\n",
       "    }\n",
       "</style>\n",
       "<table border=\"1\" class=\"dataframe\">\n",
       "  <thead>\n",
       "    <tr style=\"text-align: right;\">\n",
       "      <th></th>\n",
       "      <th>0</th>\n",
       "      <th>1</th>\n",
       "    </tr>\n",
       "  </thead>\n",
       "  <tbody>\n",
       "    <tr>\n",
       "      <th>0</th>\n",
       "      <td>0.000000</td>\n",
       "      <td>42.289580</td>\n",
       "    </tr>\n",
       "    <tr>\n",
       "      <th>1</th>\n",
       "      <td>0.005019</td>\n",
       "      <td>42.289580</td>\n",
       "    </tr>\n",
       "    <tr>\n",
       "      <th>2</th>\n",
       "      <td>0.015055</td>\n",
       "      <td>42.116150</td>\n",
       "    </tr>\n",
       "    <tr>\n",
       "      <th>3</th>\n",
       "      <td>0.025092</td>\n",
       "      <td>41.806570</td>\n",
       "    </tr>\n",
       "    <tr>\n",
       "      <th>4</th>\n",
       "      <td>0.035129</td>\n",
       "      <td>41.343100</td>\n",
       "    </tr>\n",
       "    <tr>\n",
       "      <th>...</th>\n",
       "      <td>...</td>\n",
       "      <td>...</td>\n",
       "    </tr>\n",
       "    <tr>\n",
       "      <th>396</th>\n",
       "      <td>3.969627</td>\n",
       "      <td>0.039132</td>\n",
       "    </tr>\n",
       "    <tr>\n",
       "      <th>397</th>\n",
       "      <td>3.979664</td>\n",
       "      <td>0.031721</td>\n",
       "    </tr>\n",
       "    <tr>\n",
       "      <th>398</th>\n",
       "      <td>3.989701</td>\n",
       "      <td>0.057453</td>\n",
       "    </tr>\n",
       "    <tr>\n",
       "      <th>399</th>\n",
       "      <td>3.999738</td>\n",
       "      <td>0.056941</td>\n",
       "    </tr>\n",
       "    <tr>\n",
       "      <th>400</th>\n",
       "      <td>4.000000</td>\n",
       "      <td>0.056941</td>\n",
       "    </tr>\n",
       "  </tbody>\n",
       "</table>\n",
       "<p>401 rows × 2 columns</p>\n",
       "</div>"
      ],
      "text/plain": [
       "            0          1\n",
       "0    0.000000  42.289580\n",
       "1    0.005019  42.289580\n",
       "2    0.015055  42.116150\n",
       "3    0.025092  41.806570\n",
       "4    0.035129  41.343100\n",
       "..        ...        ...\n",
       "396  3.969627   0.039132\n",
       "397  3.979664   0.031721\n",
       "398  3.989701   0.057453\n",
       "399  3.999738   0.056941\n",
       "400  4.000000   0.056941\n",
       "\n",
       "[401 rows x 2 columns]"
      ]
     },
     "execution_count": 247,
     "metadata": {},
     "output_type": "execute_result"
    }
   ],
   "source": [
    "pmf_mep"
   ]
  },
  {
   "cell_type": "code",
   "execution_count": 248,
   "id": "a288536e",
   "metadata": {},
   "outputs": [
    {
     "data": {
      "text/html": [
       "<div>\n",
       "<style scoped>\n",
       "    .dataframe tbody tr th:only-of-type {\n",
       "        vertical-align: middle;\n",
       "    }\n",
       "\n",
       "    .dataframe tbody tr th {\n",
       "        vertical-align: top;\n",
       "    }\n",
       "\n",
       "    .dataframe thead th {\n",
       "        text-align: right;\n",
       "    }\n",
       "</style>\n",
       "<table border=\"1\" class=\"dataframe\">\n",
       "  <thead>\n",
       "    <tr style=\"text-align: right;\">\n",
       "      <th></th>\n",
       "      <th>0</th>\n",
       "      <th>1</th>\n",
       "    </tr>\n",
       "  </thead>\n",
       "  <tbody>\n",
       "    <tr>\n",
       "      <th>0</th>\n",
       "      <td>0.000000</td>\n",
       "      <td>18.904136</td>\n",
       "    </tr>\n",
       "    <tr>\n",
       "      <th>1</th>\n",
       "      <td>0.005015</td>\n",
       "      <td>18.904136</td>\n",
       "    </tr>\n",
       "    <tr>\n",
       "      <th>2</th>\n",
       "      <td>0.015046</td>\n",
       "      <td>18.793218</td>\n",
       "    </tr>\n",
       "    <tr>\n",
       "      <th>3</th>\n",
       "      <td>0.025077</td>\n",
       "      <td>18.573274</td>\n",
       "    </tr>\n",
       "    <tr>\n",
       "      <th>4</th>\n",
       "      <td>0.035108</td>\n",
       "      <td>18.308913</td>\n",
       "    </tr>\n",
       "    <tr>\n",
       "      <th>...</th>\n",
       "      <td>...</td>\n",
       "      <td>...</td>\n",
       "    </tr>\n",
       "    <tr>\n",
       "      <th>396</th>\n",
       "      <td>3.967241</td>\n",
       "      <td>18.602947</td>\n",
       "    </tr>\n",
       "    <tr>\n",
       "      <th>397</th>\n",
       "      <td>3.977272</td>\n",
       "      <td>18.592219</td>\n",
       "    </tr>\n",
       "    <tr>\n",
       "      <th>398</th>\n",
       "      <td>3.987303</td>\n",
       "      <td>18.585802</td>\n",
       "    </tr>\n",
       "    <tr>\n",
       "      <th>399</th>\n",
       "      <td>3.997334</td>\n",
       "      <td>18.606724</td>\n",
       "    </tr>\n",
       "    <tr>\n",
       "      <th>400</th>\n",
       "      <td>4.000000</td>\n",
       "      <td>18.606724</td>\n",
       "    </tr>\n",
       "  </tbody>\n",
       "</table>\n",
       "<p>401 rows × 2 columns</p>\n",
       "</div>"
      ],
      "text/plain": [
       "            0          1\n",
       "0    0.000000  18.904136\n",
       "1    0.005015  18.904136\n",
       "2    0.015046  18.793218\n",
       "3    0.025077  18.573274\n",
       "4    0.035108  18.308913\n",
       "..        ...        ...\n",
       "396  3.967241  18.602947\n",
       "397  3.977272  18.592219\n",
       "398  3.987303  18.585802\n",
       "399  3.997334  18.606724\n",
       "400  4.000000  18.606724\n",
       "\n",
       "[401 rows x 2 columns]"
      ]
     },
     "execution_count": 248,
     "metadata": {},
     "output_type": "execute_result"
    }
   ],
   "source": [
    "pmf_meph"
   ]
  },
  {
   "cell_type": "code",
   "execution_count": 249,
   "id": "4ea63a53",
   "metadata": {},
   "outputs": [
    {
     "data": {
      "text/plain": [
       "<matplotlib.legend.Legend at 0x7fd9ddb4aee0>"
      ]
     },
     "execution_count": 249,
     "metadata": {},
     "output_type": "execute_result"
    },
    {
     "data": {
      "image/png": "[encoded data removed]",
      "text/plain": [
       "<Figure size 720x576 with 1 Axes>"
      ]
     },
     "metadata": {
      "needs_background": "light"
     },
     "output_type": "display_data"
    }
   ],
   "source": [
    "# Now, check a rough plot for free energy\n",
    "plt.figure(figsize = (10,8))\n",
    "plt.plot(pmf_mep[0], pmf_mep[1], color = 'r', label = 'MEP')\n",
    "plt.plot(-pmf_mep[0], pmf_mep[1], color = 'r')\n",
    "plt.plot(pmf_meph[0], pmf_meph[1], color = 'g', label = 'MEPH')\n",
    "plt.plot(-pmf_meph[0], pmf_meph[1], color = 'g')\n",
    "plt.legend()"
   ]
  },
  {
   "cell_type": "code",
   "execution_count": 250,
   "id": "95696ec2",
   "metadata": {},
   "outputs": [],
   "source": [
    "diff_mep = pd.read_csv('MEP_dif.txt', header = None, delim_whitespace=True)\n",
    "diff_meph = pd.read_csv('MEPH_dif.txt', header = None, delim_whitespace = True)"
   ]
  },
  {
   "cell_type": "code",
   "execution_count": 251,
   "id": "dd43e3a7",
   "metadata": {},
   "outputs": [
    {
     "data": {
      "text/html": [
       "<div>\n",
       "<style scoped>\n",
       "    .dataframe tbody tr th:only-of-type {\n",
       "        vertical-align: middle;\n",
       "    }\n",
       "\n",
       "    .dataframe tbody tr th {\n",
       "        vertical-align: top;\n",
       "    }\n",
       "\n",
       "    .dataframe thead th {\n",
       "        text-align: right;\n",
       "    }\n",
       "</style>\n",
       "<table border=\"1\" class=\"dataframe\">\n",
       "  <thead>\n",
       "    <tr style=\"text-align: right;\">\n",
       "      <th></th>\n",
       "      <th>0</th>\n",
       "      <th>1</th>\n",
       "    </tr>\n",
       "  </thead>\n",
       "  <tbody>\n",
       "    <tr>\n",
       "      <th>0</th>\n",
       "      <td>0.0</td>\n",
       "      <td>6.340288e-08</td>\n",
       "    </tr>\n",
       "    <tr>\n",
       "      <th>1</th>\n",
       "      <td>0.1</td>\n",
       "      <td>2.488933e-07</td>\n",
       "    </tr>\n",
       "    <tr>\n",
       "      <th>2</th>\n",
       "      <td>0.2</td>\n",
       "      <td>5.789317e-08</td>\n",
       "    </tr>\n",
       "    <tr>\n",
       "      <th>3</th>\n",
       "      <td>0.3</td>\n",
       "      <td>3.431468e-07</td>\n",
       "    </tr>\n",
       "    <tr>\n",
       "      <th>4</th>\n",
       "      <td>0.4</td>\n",
       "      <td>3.825089e-07</td>\n",
       "    </tr>\n",
       "  </tbody>\n",
       "</table>\n",
       "</div>"
      ],
      "text/plain": [
       "     0             1\n",
       "0  0.0  6.340288e-08\n",
       "1  0.1  2.488933e-07\n",
       "2  0.2  5.789317e-08\n",
       "3  0.3  3.431468e-07\n",
       "4  0.4  3.825089e-07"
      ]
     },
     "execution_count": 251,
     "metadata": {},
     "output_type": "execute_result"
    }
   ],
   "source": [
    "diff_mep.head()"
   ]
  },
  {
   "cell_type": "code",
   "execution_count": 252,
   "id": "c5e6002d",
   "metadata": {},
   "outputs": [
    {
     "data": {
      "text/html": [
       "<div>\n",
       "<style scoped>\n",
       "    .dataframe tbody tr th:only-of-type {\n",
       "        vertical-align: middle;\n",
       "    }\n",
       "\n",
       "    .dataframe tbody tr th {\n",
       "        vertical-align: top;\n",
       "    }\n",
       "\n",
       "    .dataframe thead th {\n",
       "        text-align: right;\n",
       "    }\n",
       "</style>\n",
       "<table border=\"1\" class=\"dataframe\">\n",
       "  <thead>\n",
       "    <tr style=\"text-align: right;\">\n",
       "      <th></th>\n",
       "      <th>0</th>\n",
       "      <th>1</th>\n",
       "    </tr>\n",
       "  </thead>\n",
       "  <tbody>\n",
       "    <tr>\n",
       "      <th>0</th>\n",
       "      <td>0.0</td>\n",
       "      <td>1.194355e-07</td>\n",
       "    </tr>\n",
       "    <tr>\n",
       "      <th>1</th>\n",
       "      <td>0.1</td>\n",
       "      <td>1.152437e-07</td>\n",
       "    </tr>\n",
       "    <tr>\n",
       "      <th>2</th>\n",
       "      <td>0.2</td>\n",
       "      <td>1.077775e-08</td>\n",
       "    </tr>\n",
       "    <tr>\n",
       "      <th>3</th>\n",
       "      <td>0.3</td>\n",
       "      <td>1.762089e-07</td>\n",
       "    </tr>\n",
       "    <tr>\n",
       "      <th>4</th>\n",
       "      <td>0.4</td>\n",
       "      <td>5.616299e-07</td>\n",
       "    </tr>\n",
       "  </tbody>\n",
       "</table>\n",
       "</div>"
      ],
      "text/plain": [
       "     0             1\n",
       "0  0.0  1.194355e-07\n",
       "1  0.1  1.152437e-07\n",
       "2  0.2  1.077775e-08\n",
       "3  0.3  1.762089e-07\n",
       "4  0.4  5.616299e-07"
      ]
     },
     "execution_count": 252,
     "metadata": {},
     "output_type": "execute_result"
    }
   ],
   "source": [
    "diff_meph.head()"
   ]
  },
  {
   "cell_type": "code",
   "execution_count": 253,
   "id": "fd5fc789",
   "metadata": {},
   "outputs": [
    {
     "data": {
      "text/plain": [
       "<matplotlib.legend.Legend at 0x7fd9ddb10580>"
      ]
     },
     "execution_count": 253,
     "metadata": {},
     "output_type": "execute_result"
    },
    {
     "data": {
      "image/png": "[encoded data removed]",
      "text/plain": [
       "<Figure size 432x288 with 1 Axes>"
      ]
     },
     "metadata": {
      "needs_background": "light"
     },
     "output_type": "display_data"
    }
   ],
   "source": [
    "# Plotting both diffusion coefficients\n",
    "plt.plot(diff_mep[0], diff_mep[1], '--o', color = 'k', label = 'MEP')\n",
    "plt.plot(diff_meph[0], diff_meph[1], '--o', color = 'r', label = 'MEPH')\n",
    "plt.legend()"
   ]
  },
  {
   "cell_type": "markdown",
   "id": "623d964b",
   "metadata": {},
   "source": [
    "Here, the linear interpolation is done for our diffusion coefficient so that we can obtain the missing values at the position specified by the PMF data. The function takes these values **np.interp(The z-coordinates at which to evaluate the interpolated values, The z-coordinates of the data points, The function values of these data points)**"
   ]
  },
  {
   "cell_type": "code",
   "execution_count": 254,
   "id": "326b6e0e",
   "metadata": {},
   "outputs": [],
   "source": [
    "diff_mep_inter = np.interp(pmf_mep[0], diff_mep[0], diff_mep[1])\n",
    "diff_meph_inter = np.interp(pmf_mep[0], diff_meph[0], diff_meph[1])"
   ]
  },
  {
   "cell_type": "code",
   "execution_count": 255,
   "id": "a9347655",
   "metadata": {},
   "outputs": [
    {
     "data": {
      "text/plain": [
       "<matplotlib.legend.Legend at 0x7fd9ddadf2e0>"
      ]
     },
     "execution_count": 255,
     "metadata": {},
     "output_type": "execute_result"
    },
    {
     "data": {
      "image/png": "[encoded data removed]",
      "text/plain": [
       "<Figure size 432x288 with 1 Axes>"
      ]
     },
     "metadata": {
      "needs_background": "light"
     },
     "output_type": "display_data"
    }
   ],
   "source": [
    "# Plot both to check the interpolated values if it makes sense or not\n",
    "plt.plot(pmf_mep[0], diff_mep_inter, '--.', color = 'k', label = 'MEP')\n",
    "plt.plot(pmf_mep[0], diff_meph_inter, '--.', color = 'r', label = 'MEPH')\n",
    "plt.legend()\n",
    "# It does with many data points"
   ]
  },
  {
   "cell_type": "code",
   "execution_count": 256,
   "id": "7209b34d",
   "metadata": {},
   "outputs": [
    {
     "data": {
      "text/plain": [
       "0    0.000000\n",
       "1    0.005019\n",
       "2    0.015055\n",
       "3    0.025092\n",
       "4    0.035129\n",
       "Name: 0, dtype: float64"
      ]
     },
     "execution_count": 256,
     "metadata": {},
     "output_type": "execute_result"
    }
   ],
   "source": [
    "pmf_mep_meph[0].head()"
   ]
  },
  {
   "cell_type": "code",
   "execution_count": 257,
   "id": "cb5ccb2c",
   "metadata": {},
   "outputs": [
    {
     "data": {
      "text/plain": [
       "0    0.000000\n",
       "1    0.005019\n",
       "2    0.015055\n",
       "3    0.025092\n",
       "4    0.035129\n",
       "Name: 0, dtype: float64"
      ]
     },
     "execution_count": 257,
     "metadata": {},
     "output_type": "execute_result"
    }
   ],
   "source": [
    "pmf_mep[0].head()"
   ]
  },
  {
   "cell_type": "code",
   "execution_count": 258,
   "id": "53e49291",
   "metadata": {},
   "outputs": [
    {
     "data": {
      "text/plain": [
       "0    0.000000\n",
       "1    0.005015\n",
       "2    0.015046\n",
       "3    0.025077\n",
       "4    0.035108\n",
       "Name: 0, dtype: float64"
      ]
     },
     "execution_count": 258,
     "metadata": {},
     "output_type": "execute_result"
    }
   ],
   "source": [
    "pmf_meph[0].head()"
   ]
  },
  {
   "cell_type": "markdown",
   "id": "3565cbea",
   "metadata": {},
   "source": [
    "So, since the z distance of pmf_meph is not same as of pme_mep, and weighted average(pme_mep_meph), we are now interpolating the value of pmf for meph at same z distance as that of mep and the weighted average. Let's make a new dataframe meph with interpolated values for pmf which we can use for our calculations."
   ]
  },
  {
   "cell_type": "code",
   "execution_count": 259,
   "id": "c78c9adf",
   "metadata": {},
   "outputs": [],
   "source": [
    "meph = np.interp(pmf_mep[0], pmf_meph[0], pmf_meph[1])"
   ]
  },
  {
   "cell_type": "code",
   "execution_count": 260,
   "id": "683cc05c",
   "metadata": {},
   "outputs": [
    {
     "data": {
      "text/plain": [
       "0      18.904136\n",
       "1      18.904136\n",
       "2      18.793218\n",
       "3      18.573274\n",
       "4      18.308913\n",
       "         ...    \n",
       "396    18.602947\n",
       "397    18.592219\n",
       "398    18.585802\n",
       "399    18.606724\n",
       "400    18.606724\n",
       "Name: 1, Length: 401, dtype: float64"
      ]
     },
     "execution_count": 260,
     "metadata": {},
     "output_type": "execute_result"
    }
   ],
   "source": [
    "pmf_meph[1]"
   ]
  },
  {
   "cell_type": "code",
   "execution_count": 261,
   "id": "4d1a9aaa",
   "metadata": {},
   "outputs": [
    {
     "data": {
      "text/plain": [
       "0      18.904136\n",
       "1      18.904102\n",
       "2      18.793019\n",
       "3      18.572876\n",
       "4      18.308211\n",
       "         ...    \n",
       "396    18.600395\n",
       "397    18.590689\n",
       "398    18.590804\n",
       "399    18.606724\n",
       "400    18.606724\n",
       "Length: 401, dtype: float64"
      ]
     },
     "execution_count": 261,
     "metadata": {},
     "output_type": "execute_result"
    }
   ],
   "source": [
    "pd.Series(meph)"
   ]
  },
  {
   "cell_type": "code",
   "execution_count": 262,
   "id": "cc90dbd5",
   "metadata": {},
   "outputs": [],
   "source": [
    "# As you can see, not much of difference between the original values pmf_meph, and the interpolated ones meph\n",
    "# We can make a plot for both and check if we want"
   ]
  },
  {
   "cell_type": "code",
   "execution_count": 263,
   "id": "77b8b743",
   "metadata": {},
   "outputs": [
    {
     "data": {
      "text/plain": [
       "[<matplotlib.lines.Line2D at 0x7fd9dda38b20>]"
      ]
     },
     "execution_count": 263,
     "metadata": {},
     "output_type": "execute_result"
    },
    {
     "data": {
      "image/png": "[encoded data removed]",
      "text/plain": [
       "<Figure size 432x288 with 1 Axes>"
      ]
     },
     "metadata": {
      "needs_background": "light"
     },
     "output_type": "display_data"
    }
   ],
   "source": [
    "# original\n",
    "plt.plot(pmf_mep[0], pmf_meph[1])"
   ]
  },
  {
   "cell_type": "code",
   "execution_count": 264,
   "id": "ea61b4d2",
   "metadata": {},
   "outputs": [
    {
     "data": {
      "text/plain": [
       "[<matplotlib.lines.Line2D at 0x7fd9dd9f95b0>]"
      ]
     },
     "execution_count": 264,
     "metadata": {},
     "output_type": "execute_result"
    },
    {
     "data": {
      "image/png": "[encoded data removed]",
      "text/plain": [
       "<Figure size 432x288 with 1 Axes>"
      ]
     },
     "metadata": {
      "needs_background": "light"
     },
     "output_type": "display_data"
    }
   ],
   "source": [
    "#Interpolated one\n",
    "plt.plot(pmf_mep[0], meph)"
   ]
  },
  {
   "cell_type": "code",
   "execution_count": 265,
   "id": "8de92300",
   "metadata": {},
   "outputs": [
    {
     "data": {
      "text/plain": [
       "<matplotlib.legend.Legend at 0x7fd9dd9b22b0>"
      ]
     },
     "execution_count": 265,
     "metadata": {},
     "output_type": "execute_result"
    },
    {
     "data": {
      "image/png": "[encoded data removed]",
      "text/plain": [
       "<Figure size 432x288 with 1 Axes>"
      ]
     },
     "metadata": {
      "needs_background": "light"
     },
     "output_type": "display_data"
    }
   ],
   "source": [
    "# Plot both\n",
    "plt.plot(pmf_mep[0], pmf_meph[1], label = 'Original', color = 'k')\n",
    "plt.plot(pmf_mep[0], meph, label = 'Interpolated', color = 'r')\n",
    "plt.legend()\n",
    "# So they coincide, not a difference at all"
   ]
  },
  {
   "cell_type": "markdown",
   "id": "4b510e17",
   "metadata": {},
   "source": [
    "#### Now, for the weighted average of the diffusion coefficient, we need to make a dataframe where we make a separate columns for distance, free energy of deprotonated(P), free energy of protonated(PH), Diffusion coefficient for deprotonated, Diffusion coefficient for protonated, and finally the the partition function (Q(z)) according to the relation $$D(z) = D(z)_P\\frac{e^{\\frac{-\\Delta G(z)_P}{RT}}}{Q(z)} + D(z)_{PH}\\frac{e^{\\frac{-\\Delta G(z)_{PH}}{RT}}}{Q(z)}$$\n",
    "where, $Q(z)$ is the sum of two states given by, $$Q(z) = e^{\\frac{-\\Delta G(z)_P}{RT}} + e^{\\frac{-\\Delta G(z)_{PH}}{RT}}$$"
   ]
  },
  {
   "cell_type": "code",
   "execution_count": 266,
   "id": "ae9f60d3",
   "metadata": {},
   "outputs": [],
   "source": [
    "df_diffusion = pd.DataFrame({'z':pmf_mep[0], 'G_P': pmf_mep[1], 'G_PH': meph, 'D_P': diff_mep_inter, 'D_PH': diff_meph_inter}) "
   ]
  },
  {
   "cell_type": "code",
   "execution_count": 267,
   "id": "f78e7830",
   "metadata": {},
   "outputs": [
    {
     "data": {
      "text/html": [
       "<div>\n",
       "<style scoped>\n",
       "    .dataframe tbody tr th:only-of-type {\n",
       "        vertical-align: middle;\n",
       "    }\n",
       "\n",
       "    .dataframe tbody tr th {\n",
       "        vertical-align: top;\n",
       "    }\n",
       "\n",
       "    .dataframe thead th {\n",
       "        text-align: right;\n",
       "    }\n",
       "</style>\n",
       "<table border=\"1\" class=\"dataframe\">\n",
       "  <thead>\n",
       "    <tr style=\"text-align: right;\">\n",
       "      <th></th>\n",
       "      <th>z</th>\n",
       "      <th>G_P</th>\n",
       "      <th>G_PH</th>\n",
       "      <th>D_P</th>\n",
       "      <th>D_PH</th>\n",
       "    </tr>\n",
       "  </thead>\n",
       "  <tbody>\n",
       "    <tr>\n",
       "      <th>0</th>\n",
       "      <td>0.000000</td>\n",
       "      <td>42.289580</td>\n",
       "      <td>18.904136</td>\n",
       "      <td>6.340288e-08</td>\n",
       "      <td>1.194355e-07</td>\n",
       "    </tr>\n",
       "    <tr>\n",
       "      <th>1</th>\n",
       "      <td>0.005019</td>\n",
       "      <td>42.289580</td>\n",
       "      <td>18.904102</td>\n",
       "      <td>7.271173e-08</td>\n",
       "      <td>1.192251e-07</td>\n",
       "    </tr>\n",
       "    <tr>\n",
       "      <th>2</th>\n",
       "      <td>0.015055</td>\n",
       "      <td>42.116150</td>\n",
       "      <td>18.793019</td>\n",
       "      <td>9.132937e-08</td>\n",
       "      <td>1.188044e-07</td>\n",
       "    </tr>\n",
       "    <tr>\n",
       "      <th>3</th>\n",
       "      <td>0.025092</td>\n",
       "      <td>41.806570</td>\n",
       "      <td>18.572876</td>\n",
       "      <td>1.099470e-07</td>\n",
       "      <td>1.183837e-07</td>\n",
       "    </tr>\n",
       "    <tr>\n",
       "      <th>4</th>\n",
       "      <td>0.035129</td>\n",
       "      <td>41.343100</td>\n",
       "      <td>18.308211</td>\n",
       "      <td>1.285647e-07</td>\n",
       "      <td>1.179629e-07</td>\n",
       "    </tr>\n",
       "    <tr>\n",
       "      <th>...</th>\n",
       "      <td>...</td>\n",
       "      <td>...</td>\n",
       "      <td>...</td>\n",
       "      <td>...</td>\n",
       "      <td>...</td>\n",
       "    </tr>\n",
       "    <tr>\n",
       "      <th>396</th>\n",
       "      <td>3.969627</td>\n",
       "      <td>0.039132</td>\n",
       "      <td>18.600395</td>\n",
       "      <td>1.162657e-05</td>\n",
       "      <td>1.350028e-05</td>\n",
       "    </tr>\n",
       "    <tr>\n",
       "      <th>397</th>\n",
       "      <td>3.979664</td>\n",
       "      <td>0.031721</td>\n",
       "      <td>18.590689</td>\n",
       "      <td>1.168458e-05</td>\n",
       "      <td>1.399256e-05</td>\n",
       "    </tr>\n",
       "    <tr>\n",
       "      <th>398</th>\n",
       "      <td>3.989701</td>\n",
       "      <td>0.057453</td>\n",
       "      <td>18.590804</td>\n",
       "      <td>1.174259e-05</td>\n",
       "      <td>1.448484e-05</td>\n",
       "    </tr>\n",
       "    <tr>\n",
       "      <th>399</th>\n",
       "      <td>3.999738</td>\n",
       "      <td>0.056941</td>\n",
       "      <td>18.606724</td>\n",
       "      <td>1.180061e-05</td>\n",
       "      <td>1.497713e-05</td>\n",
       "    </tr>\n",
       "    <tr>\n",
       "      <th>400</th>\n",
       "      <td>4.000000</td>\n",
       "      <td>0.056941</td>\n",
       "      <td>18.606724</td>\n",
       "      <td>1.180212e-05</td>\n",
       "      <td>1.498998e-05</td>\n",
       "    </tr>\n",
       "  </tbody>\n",
       "</table>\n",
       "<p>401 rows × 5 columns</p>\n",
       "</div>"
      ],
      "text/plain": [
       "            z        G_P       G_PH           D_P          D_PH\n",
       "0    0.000000  42.289580  18.904136  6.340288e-08  1.194355e-07\n",
       "1    0.005019  42.289580  18.904102  7.271173e-08  1.192251e-07\n",
       "2    0.015055  42.116150  18.793019  9.132937e-08  1.188044e-07\n",
       "3    0.025092  41.806570  18.572876  1.099470e-07  1.183837e-07\n",
       "4    0.035129  41.343100  18.308211  1.285647e-07  1.179629e-07\n",
       "..        ...        ...        ...           ...           ...\n",
       "396  3.969627   0.039132  18.600395  1.162657e-05  1.350028e-05\n",
       "397  3.979664   0.031721  18.590689  1.168458e-05  1.399256e-05\n",
       "398  3.989701   0.057453  18.590804  1.174259e-05  1.448484e-05\n",
       "399  3.999738   0.056941  18.606724  1.180061e-05  1.497713e-05\n",
       "400  4.000000   0.056941  18.606724  1.180212e-05  1.498998e-05\n",
       "\n",
       "[401 rows x 5 columns]"
      ]
     },
     "execution_count": 267,
     "metadata": {},
     "output_type": "execute_result"
    }
   ],
   "source": [
    "df_diffusion"
   ]
  },
  {
   "cell_type": "code",
   "execution_count": 268,
   "id": "922ce48d",
   "metadata": {},
   "outputs": [],
   "source": [
    "#Adding a column for Q \n",
    "df_diffusion['Q'] = np.exp(-df_diffusion[\"G_P\"]/2.478) + np.exp(-df_diffusion[\"G_PH\"]/2.478)"
   ]
  },
  {
   "cell_type": "code",
   "execution_count": 269,
   "id": "43f8a8c8",
   "metadata": {},
   "outputs": [
    {
     "data": {
      "text/html": [
       "<div>\n",
       "<style scoped>\n",
       "    .dataframe tbody tr th:only-of-type {\n",
       "        vertical-align: middle;\n",
       "    }\n",
       "\n",
       "    .dataframe tbody tr th {\n",
       "        vertical-align: top;\n",
       "    }\n",
       "\n",
       "    .dataframe thead th {\n",
       "        text-align: right;\n",
       "    }\n",
       "</style>\n",
       "<table border=\"1\" class=\"dataframe\">\n",
       "  <thead>\n",
       "    <tr style=\"text-align: right;\">\n",
       "      <th></th>\n",
       "      <th>z</th>\n",
       "      <th>G_P</th>\n",
       "      <th>G_PH</th>\n",
       "      <th>D_P</th>\n",
       "      <th>D_PH</th>\n",
       "      <th>Q</th>\n",
       "    </tr>\n",
       "  </thead>\n",
       "  <tbody>\n",
       "    <tr>\n",
       "      <th>0</th>\n",
       "      <td>0.000000</td>\n",
       "      <td>42.289580</td>\n",
       "      <td>18.904136</td>\n",
       "      <td>6.340288e-08</td>\n",
       "      <td>1.194355e-07</td>\n",
       "      <td>0.000486</td>\n",
       "    </tr>\n",
       "    <tr>\n",
       "      <th>1</th>\n",
       "      <td>0.005019</td>\n",
       "      <td>42.289580</td>\n",
       "      <td>18.904102</td>\n",
       "      <td>7.271173e-08</td>\n",
       "      <td>1.192251e-07</td>\n",
       "      <td>0.000486</td>\n",
       "    </tr>\n",
       "    <tr>\n",
       "      <th>2</th>\n",
       "      <td>0.015055</td>\n",
       "      <td>42.116150</td>\n",
       "      <td>18.793019</td>\n",
       "      <td>9.132937e-08</td>\n",
       "      <td>1.188044e-07</td>\n",
       "      <td>0.000509</td>\n",
       "    </tr>\n",
       "    <tr>\n",
       "      <th>3</th>\n",
       "      <td>0.025092</td>\n",
       "      <td>41.806570</td>\n",
       "      <td>18.572876</td>\n",
       "      <td>1.099470e-07</td>\n",
       "      <td>1.183837e-07</td>\n",
       "      <td>0.000556</td>\n",
       "    </tr>\n",
       "    <tr>\n",
       "      <th>4</th>\n",
       "      <td>0.035129</td>\n",
       "      <td>41.343100</td>\n",
       "      <td>18.308211</td>\n",
       "      <td>1.285647e-07</td>\n",
       "      <td>1.179629e-07</td>\n",
       "      <td>0.000619</td>\n",
       "    </tr>\n",
       "    <tr>\n",
       "      <th>...</th>\n",
       "      <td>...</td>\n",
       "      <td>...</td>\n",
       "      <td>...</td>\n",
       "      <td>...</td>\n",
       "      <td>...</td>\n",
       "      <td>...</td>\n",
       "    </tr>\n",
       "    <tr>\n",
       "      <th>396</th>\n",
       "      <td>3.969627</td>\n",
       "      <td>0.039132</td>\n",
       "      <td>18.600395</td>\n",
       "      <td>1.162657e-05</td>\n",
       "      <td>1.350028e-05</td>\n",
       "      <td>0.984882</td>\n",
       "    </tr>\n",
       "    <tr>\n",
       "      <th>397</th>\n",
       "      <td>3.979664</td>\n",
       "      <td>0.031721</td>\n",
       "      <td>18.590689</td>\n",
       "      <td>1.168458e-05</td>\n",
       "      <td>1.399256e-05</td>\n",
       "      <td>0.987832</td>\n",
       "    </tr>\n",
       "    <tr>\n",
       "      <th>398</th>\n",
       "      <td>3.989701</td>\n",
       "      <td>0.057453</td>\n",
       "      <td>18.590804</td>\n",
       "      <td>1.174259e-05</td>\n",
       "      <td>1.448484e-05</td>\n",
       "      <td>0.977633</td>\n",
       "    </tr>\n",
       "    <tr>\n",
       "      <th>399</th>\n",
       "      <td>3.999738</td>\n",
       "      <td>0.056941</td>\n",
       "      <td>18.606724</td>\n",
       "      <td>1.180061e-05</td>\n",
       "      <td>1.497713e-05</td>\n",
       "      <td>0.977832</td>\n",
       "    </tr>\n",
       "    <tr>\n",
       "      <th>400</th>\n",
       "      <td>4.000000</td>\n",
       "      <td>0.056941</td>\n",
       "      <td>18.606724</td>\n",
       "      <td>1.180212e-05</td>\n",
       "      <td>1.498998e-05</td>\n",
       "      <td>0.977832</td>\n",
       "    </tr>\n",
       "  </tbody>\n",
       "</table>\n",
       "<p>401 rows × 6 columns</p>\n",
       "</div>"
      ],
      "text/plain": [
       "            z        G_P       G_PH           D_P          D_PH         Q\n",
       "0    0.000000  42.289580  18.904136  6.340288e-08  1.194355e-07  0.000486\n",
       "1    0.005019  42.289580  18.904102  7.271173e-08  1.192251e-07  0.000486\n",
       "2    0.015055  42.116150  18.793019  9.132937e-08  1.188044e-07  0.000509\n",
       "3    0.025092  41.806570  18.572876  1.099470e-07  1.183837e-07  0.000556\n",
       "4    0.035129  41.343100  18.308211  1.285647e-07  1.179629e-07  0.000619\n",
       "..        ...        ...        ...           ...           ...       ...\n",
       "396  3.969627   0.039132  18.600395  1.162657e-05  1.350028e-05  0.984882\n",
       "397  3.979664   0.031721  18.590689  1.168458e-05  1.399256e-05  0.987832\n",
       "398  3.989701   0.057453  18.590804  1.174259e-05  1.448484e-05  0.977633\n",
       "399  3.999738   0.056941  18.606724  1.180061e-05  1.497713e-05  0.977832\n",
       "400  4.000000   0.056941  18.606724  1.180212e-05  1.498998e-05  0.977832\n",
       "\n",
       "[401 rows x 6 columns]"
      ]
     },
     "execution_count": 269,
     "metadata": {},
     "output_type": "execute_result"
    }
   ],
   "source": [
    "df_diffusion"
   ]
  },
  {
   "cell_type": "code",
   "execution_count": 270,
   "id": "9e2ee86b",
   "metadata": {},
   "outputs": [],
   "source": [
    "# Adding a column for Diffusion coefficient\n",
    "df_diffusion['D'] = df_diffusion['D_P'] * (np.exp(-df_diffusion[\"G_P\"]/2.478)/df_diffusion['Q']) + df_diffusion['D_PH'] * (np.exp(-df_diffusion[\"G_PH\"]/2.478)/df_diffusion['Q'])"
   ]
  },
  {
   "cell_type": "code",
   "execution_count": 271,
   "id": "cb36b335",
   "metadata": {},
   "outputs": [
    {
     "data": {
      "text/html": [
       "<div>\n",
       "<style scoped>\n",
       "    .dataframe tbody tr th:only-of-type {\n",
       "        vertical-align: middle;\n",
       "    }\n",
       "\n",
       "    .dataframe tbody tr th {\n",
       "        vertical-align: top;\n",
       "    }\n",
       "\n",
       "    .dataframe thead th {\n",
       "        text-align: right;\n",
       "    }\n",
       "</style>\n",
       "<table border=\"1\" class=\"dataframe\">\n",
       "  <thead>\n",
       "    <tr style=\"text-align: right;\">\n",
       "      <th></th>\n",
       "      <th>z</th>\n",
       "      <th>G_P</th>\n",
       "      <th>G_PH</th>\n",
       "      <th>D_P</th>\n",
       "      <th>D_PH</th>\n",
       "      <th>Q</th>\n",
       "      <th>D</th>\n",
       "    </tr>\n",
       "  </thead>\n",
       "  <tbody>\n",
       "    <tr>\n",
       "      <th>0</th>\n",
       "      <td>0.000000</td>\n",
       "      <td>42.289580</td>\n",
       "      <td>18.904136</td>\n",
       "      <td>6.340288e-08</td>\n",
       "      <td>1.194355e-07</td>\n",
       "      <td>0.000486</td>\n",
       "      <td>1.194310e-07</td>\n",
       "    </tr>\n",
       "    <tr>\n",
       "      <th>1</th>\n",
       "      <td>0.005019</td>\n",
       "      <td>42.289580</td>\n",
       "      <td>18.904102</td>\n",
       "      <td>7.271173e-08</td>\n",
       "      <td>1.192251e-07</td>\n",
       "      <td>0.000486</td>\n",
       "      <td>1.192214e-07</td>\n",
       "    </tr>\n",
       "    <tr>\n",
       "      <th>2</th>\n",
       "      <td>0.015055</td>\n",
       "      <td>42.116150</td>\n",
       "      <td>18.793019</td>\n",
       "      <td>9.132937e-08</td>\n",
       "      <td>1.188044e-07</td>\n",
       "      <td>0.000509</td>\n",
       "      <td>1.188022e-07</td>\n",
       "    </tr>\n",
       "    <tr>\n",
       "      <th>3</th>\n",
       "      <td>0.025092</td>\n",
       "      <td>41.806570</td>\n",
       "      <td>18.572876</td>\n",
       "      <td>1.099470e-07</td>\n",
       "      <td>1.183837e-07</td>\n",
       "      <td>0.000556</td>\n",
       "      <td>1.183830e-07</td>\n",
       "    </tr>\n",
       "    <tr>\n",
       "      <th>4</th>\n",
       "      <td>0.035129</td>\n",
       "      <td>41.343100</td>\n",
       "      <td>18.308211</td>\n",
       "      <td>1.285647e-07</td>\n",
       "      <td>1.179629e-07</td>\n",
       "      <td>0.000619</td>\n",
       "      <td>1.179639e-07</td>\n",
       "    </tr>\n",
       "    <tr>\n",
       "      <th>...</th>\n",
       "      <td>...</td>\n",
       "      <td>...</td>\n",
       "      <td>...</td>\n",
       "      <td>...</td>\n",
       "      <td>...</td>\n",
       "      <td>...</td>\n",
       "      <td>...</td>\n",
       "    </tr>\n",
       "    <tr>\n",
       "      <th>396</th>\n",
       "      <td>3.969627</td>\n",
       "      <td>0.039132</td>\n",
       "      <td>18.600395</td>\n",
       "      <td>1.162657e-05</td>\n",
       "      <td>1.350028e-05</td>\n",
       "      <td>0.984882</td>\n",
       "      <td>1.162762e-05</td>\n",
       "    </tr>\n",
       "    <tr>\n",
       "      <th>397</th>\n",
       "      <td>3.979664</td>\n",
       "      <td>0.031721</td>\n",
       "      <td>18.590689</td>\n",
       "      <td>1.168458e-05</td>\n",
       "      <td>1.399256e-05</td>\n",
       "      <td>0.987832</td>\n",
       "      <td>1.168587e-05</td>\n",
       "    </tr>\n",
       "    <tr>\n",
       "      <th>398</th>\n",
       "      <td>3.989701</td>\n",
       "      <td>0.057453</td>\n",
       "      <td>18.590804</td>\n",
       "      <td>1.174259e-05</td>\n",
       "      <td>1.448484e-05</td>\n",
       "      <td>0.977633</td>\n",
       "      <td>1.174414e-05</td>\n",
       "    </tr>\n",
       "    <tr>\n",
       "      <th>399</th>\n",
       "      <td>3.999738</td>\n",
       "      <td>0.056941</td>\n",
       "      <td>18.606724</td>\n",
       "      <td>1.180061e-05</td>\n",
       "      <td>1.497713e-05</td>\n",
       "      <td>0.977832</td>\n",
       "      <td>1.180239e-05</td>\n",
       "    </tr>\n",
       "    <tr>\n",
       "      <th>400</th>\n",
       "      <td>4.000000</td>\n",
       "      <td>0.056941</td>\n",
       "      <td>18.606724</td>\n",
       "      <td>1.180212e-05</td>\n",
       "      <td>1.498998e-05</td>\n",
       "      <td>0.977832</td>\n",
       "      <td>1.180391e-05</td>\n",
       "    </tr>\n",
       "  </tbody>\n",
       "</table>\n",
       "<p>401 rows × 7 columns</p>\n",
       "</div>"
      ],
      "text/plain": [
       "            z        G_P       G_PH           D_P          D_PH         Q  \\\n",
       "0    0.000000  42.289580  18.904136  6.340288e-08  1.194355e-07  0.000486   \n",
       "1    0.005019  42.289580  18.904102  7.271173e-08  1.192251e-07  0.000486   \n",
       "2    0.015055  42.116150  18.793019  9.132937e-08  1.188044e-07  0.000509   \n",
       "3    0.025092  41.806570  18.572876  1.099470e-07  1.183837e-07  0.000556   \n",
       "4    0.035129  41.343100  18.308211  1.285647e-07  1.179629e-07  0.000619   \n",
       "..        ...        ...        ...           ...           ...       ...   \n",
       "396  3.969627   0.039132  18.600395  1.162657e-05  1.350028e-05  0.984882   \n",
       "397  3.979664   0.031721  18.590689  1.168458e-05  1.399256e-05  0.987832   \n",
       "398  3.989701   0.057453  18.590804  1.174259e-05  1.448484e-05  0.977633   \n",
       "399  3.999738   0.056941  18.606724  1.180061e-05  1.497713e-05  0.977832   \n",
       "400  4.000000   0.056941  18.606724  1.180212e-05  1.498998e-05  0.977832   \n",
       "\n",
       "                D  \n",
       "0    1.194310e-07  \n",
       "1    1.192214e-07  \n",
       "2    1.188022e-07  \n",
       "3    1.183830e-07  \n",
       "4    1.179639e-07  \n",
       "..            ...  \n",
       "396  1.162762e-05  \n",
       "397  1.168587e-05  \n",
       "398  1.174414e-05  \n",
       "399  1.180239e-05  \n",
       "400  1.180391e-05  \n",
       "\n",
       "[401 rows x 7 columns]"
      ]
     },
     "execution_count": 271,
     "metadata": {},
     "output_type": "execute_result"
    }
   ],
   "source": [
    "df_diffusion"
   ]
  },
  {
   "cell_type": "code",
   "execution_count": 272,
   "id": "5ce29ca6",
   "metadata": {},
   "outputs": [
    {
     "data": {
      "text/plain": [
       "[<matplotlib.lines.Line2D at 0x7fd9dd9a2c70>]"
      ]
     },
     "execution_count": 272,
     "metadata": {},
     "output_type": "execute_result"
    },
    {
     "data": {
      "image/png": "[encoded data removed]",
      "text/plain": [
       "<Figure size 432x288 with 1 Axes>"
      ]
     },
     "metadata": {
      "needs_background": "light"
     },
     "output_type": "display_data"
    }
   ],
   "source": [
    "# Plot of weighted average of diffusion coefficient\n",
    "plt.plot(df_diffusion['z'], df_diffusion['D'])"
   ]
  },
  {
   "cell_type": "code",
   "execution_count": 273,
   "id": "24fa404a",
   "metadata": {},
   "outputs": [
    {
     "data": {
      "text/plain": [
       "<matplotlib.legend.Legend at 0x7fd9dd93ad60>"
      ]
     },
     "execution_count": 273,
     "metadata": {},
     "output_type": "execute_result"
    },
    {
     "data": {
      "image/png": "[encoded data removed]",
      "text/plain": [
       "<Figure size 432x288 with 1 Axes>"
      ]
     },
     "metadata": {
      "needs_background": "light"
     },
     "output_type": "display_data"
    }
   ],
   "source": [
    "# For checking how identical the plots for diffusion coefficients are -\n",
    "plt.plot(df_diffusion['z'], df_diffusion['D_P'],label = 'MEP', color = 'k')\n",
    "plt.plot(df_diffusion['z'], df_diffusion['D_PH'], label = 'MEPH',  color = 'r')\n",
    "plt.plot(df_diffusion['z'], df_diffusion['D'], label = 'Weighted Average', color='b')\n",
    "plt.legend()\n",
    "# Here the weighted average is almost identical to MEP"
   ]
  },
  {
   "cell_type": "markdown",
   "id": "4c3e3e22",
   "metadata": {},
   "source": [
    "My first approach for the numerical integration will be to convert the distance in z which are in nm into cm for both weighted pmf as well as weighted diffusion coefficient."
   ]
  },
  {
   "cell_type": "code",
   "execution_count": 274,
   "id": "583f35c6",
   "metadata": {},
   "outputs": [
    {
     "data": {
      "text/html": [
       "<div>\n",
       "<style scoped>\n",
       "    .dataframe tbody tr th:only-of-type {\n",
       "        vertical-align: middle;\n",
       "    }\n",
       "\n",
       "    .dataframe tbody tr th {\n",
       "        vertical-align: top;\n",
       "    }\n",
       "\n",
       "    .dataframe thead th {\n",
       "        text-align: right;\n",
       "    }\n",
       "</style>\n",
       "<table border=\"1\" class=\"dataframe\">\n",
       "  <thead>\n",
       "    <tr style=\"text-align: right;\">\n",
       "      <th></th>\n",
       "      <th>0</th>\n",
       "      <th>1</th>\n",
       "      <th>2</th>\n",
       "    </tr>\n",
       "  </thead>\n",
       "  <tbody>\n",
       "    <tr>\n",
       "      <th>0</th>\n",
       "      <td>0.000000e+00</td>\n",
       "      <td>18.906007</td>\n",
       "      <td>2058.108789</td>\n",
       "    </tr>\n",
       "    <tr>\n",
       "      <th>1</th>\n",
       "      <td>5.018508e-10</td>\n",
       "      <td>18.906007</td>\n",
       "      <td>2058.108789</td>\n",
       "    </tr>\n",
       "    <tr>\n",
       "      <th>2</th>\n",
       "      <td>1.505549e-09</td>\n",
       "      <td>18.795131</td>\n",
       "      <td>1968.050284</td>\n",
       "    </tr>\n",
       "    <tr>\n",
       "      <th>3</th>\n",
       "      <td>2.509248e-09</td>\n",
       "      <td>18.575250</td>\n",
       "      <td>1800.942423</td>\n",
       "    </tr>\n",
       "    <tr>\n",
       "      <th>4</th>\n",
       "      <td>3.512946e-09</td>\n",
       "      <td>18.311036</td>\n",
       "      <td>1618.801735</td>\n",
       "    </tr>\n",
       "  </tbody>\n",
       "</table>\n",
       "</div>"
      ],
      "text/plain": [
       "              0          1            2\n",
       "0  0.000000e+00  18.906007  2058.108789\n",
       "1  5.018508e-10  18.906007  2058.108789\n",
       "2  1.505549e-09  18.795131  1968.050284\n",
       "3  2.509248e-09  18.575250  1800.942423\n",
       "4  3.512946e-09  18.311036  1618.801735"
      ]
     },
     "execution_count": 274,
     "metadata": {},
     "output_type": "execute_result"
    }
   ],
   "source": [
    "# For pmf_dep it will be ---\n",
    "pmf_mep_meph[0] = pmf_mep_meph[0] * 1 * 10 ** -7\n",
    "pmf_mep_meph.head()\n",
    "# Here, the only columns we need to worry about is at the index 0 and 2 which are the values for z-distance in cm,\n",
    "# exp(Delta G/RT)"
   ]
  },
  {
   "cell_type": "code",
   "execution_count": 275,
   "id": "e35cf40a",
   "metadata": {},
   "outputs": [
    {
     "data": {
      "text/html": [
       "<div>\n",
       "<style scoped>\n",
       "    .dataframe tbody tr th:only-of-type {\n",
       "        vertical-align: middle;\n",
       "    }\n",
       "\n",
       "    .dataframe tbody tr th {\n",
       "        vertical-align: top;\n",
       "    }\n",
       "\n",
       "    .dataframe thead th {\n",
       "        text-align: right;\n",
       "    }\n",
       "</style>\n",
       "<table border=\"1\" class=\"dataframe\">\n",
       "  <thead>\n",
       "    <tr style=\"text-align: right;\">\n",
       "      <th></th>\n",
       "      <th>0</th>\n",
       "      <th>1</th>\n",
       "      <th>2</th>\n",
       "    </tr>\n",
       "  </thead>\n",
       "  <tbody>\n",
       "    <tr>\n",
       "      <th>396</th>\n",
       "      <td>3.969627e-07</td>\n",
       "      <td>0.049512</td>\n",
       "      <td>1.020182</td>\n",
       "    </tr>\n",
       "    <tr>\n",
       "      <th>397</th>\n",
       "      <td>3.979664e-07</td>\n",
       "      <td>0.042113</td>\n",
       "      <td>1.017140</td>\n",
       "    </tr>\n",
       "    <tr>\n",
       "      <th>398</th>\n",
       "      <td>3.989701e-07</td>\n",
       "      <td>0.067962</td>\n",
       "      <td>1.027806</td>\n",
       "    </tr>\n",
       "    <tr>\n",
       "      <th>399</th>\n",
       "      <td>3.999738e-07</td>\n",
       "      <td>0.067372</td>\n",
       "      <td>1.027561</td>\n",
       "    </tr>\n",
       "    <tr>\n",
       "      <th>400</th>\n",
       "      <td>4.000000e-07</td>\n",
       "      <td>0.067372</td>\n",
       "      <td>1.027561</td>\n",
       "    </tr>\n",
       "  </tbody>\n",
       "</table>\n",
       "</div>"
      ],
      "text/plain": [
       "                0         1         2\n",
       "396  3.969627e-07  0.049512  1.020182\n",
       "397  3.979664e-07  0.042113  1.017140\n",
       "398  3.989701e-07  0.067962  1.027806\n",
       "399  3.999738e-07  0.067372  1.027561\n",
       "400  4.000000e-07  0.067372  1.027561"
      ]
     },
     "execution_count": 275,
     "metadata": {},
     "output_type": "execute_result"
    }
   ],
   "source": [
    "pmf_mep_meph.tail()"
   ]
  },
  {
   "cell_type": "code",
   "execution_count": 276,
   "id": "aaa5b172",
   "metadata": {},
   "outputs": [
    {
     "data": {
      "text/plain": [
       "1.0275610224627898"
      ]
     },
     "execution_count": 276,
     "metadata": {},
     "output_type": "execute_result"
    }
   ],
   "source": [
    "np.exp(0.067372/2.478) #just checking values again"
   ]
  },
  {
   "cell_type": "code",
   "execution_count": 277,
   "id": "c20abc4a",
   "metadata": {},
   "outputs": [
    {
     "data": {
      "text/html": [
       "<div>\n",
       "<style scoped>\n",
       "    .dataframe tbody tr th:only-of-type {\n",
       "        vertical-align: middle;\n",
       "    }\n",
       "\n",
       "    .dataframe tbody tr th {\n",
       "        vertical-align: top;\n",
       "    }\n",
       "\n",
       "    .dataframe thead th {\n",
       "        text-align: right;\n",
       "    }\n",
       "</style>\n",
       "<table border=\"1\" class=\"dataframe\">\n",
       "  <thead>\n",
       "    <tr style=\"text-align: right;\">\n",
       "      <th></th>\n",
       "      <th>z</th>\n",
       "      <th>G_P</th>\n",
       "      <th>G_PH</th>\n",
       "      <th>D_P</th>\n",
       "      <th>D_PH</th>\n",
       "      <th>Q</th>\n",
       "      <th>D</th>\n",
       "    </tr>\n",
       "  </thead>\n",
       "  <tbody>\n",
       "    <tr>\n",
       "      <th>0</th>\n",
       "      <td>0.000000e+00</td>\n",
       "      <td>42.28958</td>\n",
       "      <td>18.904136</td>\n",
       "      <td>6.340288e-08</td>\n",
       "      <td>1.194355e-07</td>\n",
       "      <td>0.000486</td>\n",
       "      <td>1.194310e-07</td>\n",
       "    </tr>\n",
       "    <tr>\n",
       "      <th>1</th>\n",
       "      <td>5.018508e-10</td>\n",
       "      <td>42.28958</td>\n",
       "      <td>18.904102</td>\n",
       "      <td>7.271173e-08</td>\n",
       "      <td>1.192251e-07</td>\n",
       "      <td>0.000486</td>\n",
       "      <td>1.192214e-07</td>\n",
       "    </tr>\n",
       "    <tr>\n",
       "      <th>2</th>\n",
       "      <td>1.505549e-09</td>\n",
       "      <td>42.11615</td>\n",
       "      <td>18.793019</td>\n",
       "      <td>9.132937e-08</td>\n",
       "      <td>1.188044e-07</td>\n",
       "      <td>0.000509</td>\n",
       "      <td>1.188022e-07</td>\n",
       "    </tr>\n",
       "    <tr>\n",
       "      <th>3</th>\n",
       "      <td>2.509248e-09</td>\n",
       "      <td>41.80657</td>\n",
       "      <td>18.572876</td>\n",
       "      <td>1.099470e-07</td>\n",
       "      <td>1.183837e-07</td>\n",
       "      <td>0.000556</td>\n",
       "      <td>1.183830e-07</td>\n",
       "    </tr>\n",
       "    <tr>\n",
       "      <th>4</th>\n",
       "      <td>3.512946e-09</td>\n",
       "      <td>41.34310</td>\n",
       "      <td>18.308211</td>\n",
       "      <td>1.285647e-07</td>\n",
       "      <td>1.179629e-07</td>\n",
       "      <td>0.000619</td>\n",
       "      <td>1.179639e-07</td>\n",
       "    </tr>\n",
       "  </tbody>\n",
       "</table>\n",
       "</div>"
      ],
      "text/plain": [
       "              z       G_P       G_PH           D_P          D_PH         Q  \\\n",
       "0  0.000000e+00  42.28958  18.904136  6.340288e-08  1.194355e-07  0.000486   \n",
       "1  5.018508e-10  42.28958  18.904102  7.271173e-08  1.192251e-07  0.000486   \n",
       "2  1.505549e-09  42.11615  18.793019  9.132937e-08  1.188044e-07  0.000509   \n",
       "3  2.509248e-09  41.80657  18.572876  1.099470e-07  1.183837e-07  0.000556   \n",
       "4  3.512946e-09  41.34310  18.308211  1.285647e-07  1.179629e-07  0.000619   \n",
       "\n",
       "              D  \n",
       "0  1.194310e-07  \n",
       "1  1.192214e-07  \n",
       "2  1.188022e-07  \n",
       "3  1.183830e-07  \n",
       "4  1.179639e-07  "
      ]
     },
     "execution_count": 277,
     "metadata": {},
     "output_type": "execute_result"
    }
   ],
   "source": [
    "df_diffusion['z'] = df_diffusion['z'] * 1 * 10 ** -7\n",
    "df_diffusion.head()"
   ]
  },
  {
   "cell_type": "code",
   "execution_count": 278,
   "id": "4c83c85e",
   "metadata": {},
   "outputs": [
    {
     "data": {
      "text/html": [
       "<div>\n",
       "<style scoped>\n",
       "    .dataframe tbody tr th:only-of-type {\n",
       "        vertical-align: middle;\n",
       "    }\n",
       "\n",
       "    .dataframe tbody tr th {\n",
       "        vertical-align: top;\n",
       "    }\n",
       "\n",
       "    .dataframe thead th {\n",
       "        text-align: right;\n",
       "    }\n",
       "</style>\n",
       "<table border=\"1\" class=\"dataframe\">\n",
       "  <thead>\n",
       "    <tr style=\"text-align: right;\">\n",
       "      <th></th>\n",
       "      <th>z</th>\n",
       "      <th>G_P</th>\n",
       "      <th>G_PH</th>\n",
       "      <th>D_P</th>\n",
       "      <th>D_PH</th>\n",
       "      <th>Q</th>\n",
       "      <th>D</th>\n",
       "    </tr>\n",
       "  </thead>\n",
       "  <tbody>\n",
       "    <tr>\n",
       "      <th>396</th>\n",
       "      <td>3.969627e-07</td>\n",
       "      <td>0.039132</td>\n",
       "      <td>18.600395</td>\n",
       "      <td>0.000012</td>\n",
       "      <td>0.000014</td>\n",
       "      <td>0.984882</td>\n",
       "      <td>0.000012</td>\n",
       "    </tr>\n",
       "    <tr>\n",
       "      <th>397</th>\n",
       "      <td>3.979664e-07</td>\n",
       "      <td>0.031721</td>\n",
       "      <td>18.590689</td>\n",
       "      <td>0.000012</td>\n",
       "      <td>0.000014</td>\n",
       "      <td>0.987832</td>\n",
       "      <td>0.000012</td>\n",
       "    </tr>\n",
       "    <tr>\n",
       "      <th>398</th>\n",
       "      <td>3.989701e-07</td>\n",
       "      <td>0.057453</td>\n",
       "      <td>18.590804</td>\n",
       "      <td>0.000012</td>\n",
       "      <td>0.000014</td>\n",
       "      <td>0.977633</td>\n",
       "      <td>0.000012</td>\n",
       "    </tr>\n",
       "    <tr>\n",
       "      <th>399</th>\n",
       "      <td>3.999738e-07</td>\n",
       "      <td>0.056941</td>\n",
       "      <td>18.606724</td>\n",
       "      <td>0.000012</td>\n",
       "      <td>0.000015</td>\n",
       "      <td>0.977832</td>\n",
       "      <td>0.000012</td>\n",
       "    </tr>\n",
       "    <tr>\n",
       "      <th>400</th>\n",
       "      <td>4.000000e-07</td>\n",
       "      <td>0.056941</td>\n",
       "      <td>18.606724</td>\n",
       "      <td>0.000012</td>\n",
       "      <td>0.000015</td>\n",
       "      <td>0.977832</td>\n",
       "      <td>0.000012</td>\n",
       "    </tr>\n",
       "  </tbody>\n",
       "</table>\n",
       "</div>"
      ],
      "text/plain": [
       "                z       G_P       G_PH       D_P      D_PH         Q         D\n",
       "396  3.969627e-07  0.039132  18.600395  0.000012  0.000014  0.984882  0.000012\n",
       "397  3.979664e-07  0.031721  18.590689  0.000012  0.000014  0.987832  0.000012\n",
       "398  3.989701e-07  0.057453  18.590804  0.000012  0.000014  0.977633  0.000012\n",
       "399  3.999738e-07  0.056941  18.606724  0.000012  0.000015  0.977832  0.000012\n",
       "400  4.000000e-07  0.056941  18.606724  0.000012  0.000015  0.977832  0.000012"
      ]
     },
     "execution_count": 278,
     "metadata": {},
     "output_type": "execute_result"
    }
   ],
   "source": [
    "df_diffusion.tail()"
   ]
  },
  {
   "cell_type": "code",
   "execution_count": 288,
   "id": "b7f562e6",
   "metadata": {},
   "outputs": [
    {
     "data": {
      "text/plain": [
       "<AxesSubplot:xlabel='z'>"
      ]
     },
     "execution_count": 288,
     "metadata": {},
     "output_type": "execute_result"
    },
    {
     "data": {
      "image/png": "[encoded data removed]",
      "text/plain": [
       "<Figure size 432x288 with 1 Axes>"
      ]
     },
     "metadata": {
      "needs_background": "light"
     },
     "output_type": "display_data"
    },
    {
     "data": {
      "image/png": "[encoded data removed]",
      "text/plain": [
       "<Figure size 432x288 with 1 Axes>"
      ]
     },
     "metadata": {
      "needs_background": "light"
     },
     "output_type": "display_data"
    },
    {
     "data": {
      "image/png": "[encoded data removed]",
      "text/plain": [
       "<Figure size 432x288 with 1 Axes>"
      ]
     },
     "metadata": {
      "needs_background": "light"
     },
     "output_type": "display_data"
    },
    {
     "data": {
      "image/png": "[encoded data removed]",
      "text/plain": [
       "<Figure size 432x288 with 1 Axes>"
      ]
     },
     "metadata": {
      "needs_background": "light"
     },
     "output_type": "display_data"
    },
    {
     "data": {
      "image/png": "[encoded data removed]",
      "text/plain": [
       "<Figure size 432x288 with 1 Axes>"
      ]
     },
     "metadata": {
      "needs_background": "light"
     },
     "output_type": "display_data"
    }
   ],
   "source": [
    "# Play with plots\n",
    "df_diffusion.plot('z', 'G_P')\n",
    "df_diffusion.plot('z', 'G_PH')\n",
    "df_diffusion.plot('z', 'D_P')\n",
    "df_diffusion.plot('z', 'D_PH')\n",
    "df_diffusion.plot('z', 'D')"
   ]
  },
  {
   "cell_type": "code",
   "execution_count": 289,
   "id": "1df9e61c",
   "metadata": {},
   "outputs": [],
   "source": [
    "# Now, we can perform numerical integration with either composite trapezoidal rule, or the simpson's rule"
   ]
  },
  {
   "cell_type": "markdown",
   "id": "864a237f",
   "metadata": {},
   "source": [
    "$$\\int_{0}^{4 \\times 10 ^{-7}} \\frac{\\exp\\left ( \\frac{\\Delta G(z)}{RT} \\right )}{D(z)} dz$$"
   ]
  },
  {
   "cell_type": "code",
   "execution_count": 290,
   "id": "397e0857",
   "metadata": {},
   "outputs": [],
   "source": [
    "#trapz(values of the function to integrate, sample points(z) corresponding to the function values, optional (dz)\n",
    "#- spacing between the sample points(z))"
   ]
  },
  {
   "cell_type": "code",
   "execution_count": 291,
   "id": "038b47bd",
   "metadata": {},
   "outputs": [],
   "source": [
    "integrand = pmf_mep_meph[2]/df_diffusion['D']"
   ]
  },
  {
   "cell_type": "code",
   "execution_count": 292,
   "id": "1978bb02",
   "metadata": {},
   "outputs": [
    {
     "data": {
      "text/plain": [
       "0      1.723261e+10\n",
       "1      1.726291e+10\n",
       "2      1.656578e+10\n",
       "3      1.521285e+10\n",
       "4      1.372286e+10\n",
       "           ...     \n",
       "396    8.773780e+04\n",
       "397    8.704015e+04\n",
       "398    8.751647e+04\n",
       "399    8.706383e+04\n",
       "400    8.705262e+04\n",
       "Length: 401, dtype: float64"
      ]
     },
     "execution_count": 292,
     "metadata": {},
     "output_type": "execute_result"
    }
   ],
   "source": [
    "integrand"
   ]
  },
  {
   "cell_type": "code",
   "execution_count": 293,
   "id": "7468042e",
   "metadata": {},
   "outputs": [],
   "source": [
    "#Let's check some values of the integrand. For the first value at z = 0,"
   ]
  },
  {
   "cell_type": "code",
   "execution_count": 295,
   "id": "b4eb4c6a",
   "metadata": {},
   "outputs": [
    {
     "data": {
      "text/plain": [
       "18.906007"
      ]
     },
     "execution_count": 295,
     "metadata": {},
     "output_type": "execute_result"
    }
   ],
   "source": [
    "pmf_mep_meph[1].to_numpy()[0] # This is the pmf"
   ]
  },
  {
   "cell_type": "code",
   "execution_count": 298,
   "id": "dc65db1c",
   "metadata": {},
   "outputs": [
    {
     "data": {
      "text/plain": [
       "1.1943103448549533e-07"
      ]
     },
     "execution_count": 298,
     "metadata": {},
     "output_type": "execute_result"
    }
   ],
   "source": [
    "df_diffusion['D'].to_numpy()[0]"
   ]
  },
  {
   "cell_type": "code",
   "execution_count": 300,
   "id": "4c3c1d83",
   "metadata": {},
   "outputs": [
    {
     "data": {
      "text/plain": [
       "17232612927.62796"
      ]
     },
     "execution_count": 300,
     "metadata": {},
     "output_type": "execute_result"
    }
   ],
   "source": [
    "#Delta G = 18.906007, RT = 2.478, D(z) = 1.1943103448549533e-07 cm^2/s\n",
    "np.exp(18.906007/2.478)/1.1943103448549533e-07"
   ]
  },
  {
   "cell_type": "code",
   "execution_count": 301,
   "id": "c19bee51",
   "metadata": {},
   "outputs": [
    {
     "data": {
      "text/plain": [
       "17232612927.62796"
      ]
     },
     "execution_count": 301,
     "metadata": {},
     "output_type": "execute_result"
    }
   ],
   "source": [
    "integrand[0] # So it matches"
   ]
  },
  {
   "cell_type": "code",
   "execution_count": 304,
   "id": "43c62d8a",
   "metadata": {},
   "outputs": [
    {
     "data": {
      "text/plain": [
       "170.600012938281"
      ]
     },
     "execution_count": 304,
     "metadata": {},
     "output_type": "execute_result"
    }
   ],
   "source": [
    "trapz(integrand, df_diffusion['z']) # or"
   ]
  },
  {
   "cell_type": "code",
   "execution_count": 305,
   "id": "e59bf6a8",
   "metadata": {},
   "outputs": [
    {
     "data": {
      "text/plain": [
       "170.600012938281"
      ]
     },
     "execution_count": 305,
     "metadata": {},
     "output_type": "execute_result"
    }
   ],
   "source": [
    "trapz(integrand, pmf_mep_meph[0])"
   ]
  },
  {
   "cell_type": "code",
   "execution_count": 308,
   "id": "54e081e6",
   "metadata": {},
   "outputs": [
    {
     "data": {
      "text/plain": [
       "0.005861664268230602"
      ]
     },
     "execution_count": 308,
     "metadata": {},
     "output_type": "execute_result"
    }
   ],
   "source": [
    "# The permeability will be 1/integral\n",
    "1/trapz(integrand, pmf_mep_meph[0]) # in cm/s"
   ]
  },
  {
   "cell_type": "code",
   "execution_count": 307,
   "id": "4ec7dd7e",
   "metadata": {},
   "outputs": [
    {
     "data": {
      "text/plain": [
       "0.005861664268230602"
      ]
     },
     "execution_count": 307,
     "metadata": {},
     "output_type": "execute_result"
    }
   ],
   "source": [
    "1/170.600012938281"
   ]
  },
  {
   "cell_type": "markdown",
   "id": "e335848b",
   "metadata": {},
   "source": [
    "The calculated value of permeability for monoester(MEP-MEPH) is $$5.86 \\times 10^{-3}\\;cm/s$$"
   ]
  },
  {
   "cell_type": "code",
   "execution_count": 309,
   "id": "738e5d01",
   "metadata": {},
   "outputs": [
    {
     "data": {
      "text/plain": [
       "<matplotlib.legend.Legend at 0x7fd9dda80f40>"
      ]
     },
     "execution_count": 309,
     "metadata": {},
     "output_type": "execute_result"
    },
    {
     "data": {
      "image/png": "[encoded data removed]",
      "text/plain": [
       "<Figure size 720x576 with 1 Axes>"
      ]
     },
     "metadata": {
      "needs_background": "light"
     },
     "output_type": "display_data"
    }
   ],
   "source": [
    "# Let's look at the plot of the integrand\n",
    "plt.figure(figsize = (10,8))\n",
    "plt.plot(pmf_mep_meph[0], integrand, label = r'$\\frac{\\exp\\left ( \\frac{\\Delta G(z)}{RT} \\right )}{D(z)}$')\n",
    "plt.xlabel('Distance(z)/cm', fontsize = 14)\n",
    "plt.ylabel(r'$\\frac{\\exp\\left ( \\frac{\\Delta G(z)}{RT} \\right )}{D(z)}$', fontsize = 16)\n",
    "plt.legend()"
   ]
  },
  {
   "cell_type": "markdown",
   "id": "0be0d335",
   "metadata": {},
   "source": [
    "#### Using Simpson's method"
   ]
  },
  {
   "cell_type": "code",
   "execution_count": 312,
   "id": "56408d11",
   "metadata": {},
   "outputs": [
    {
     "data": {
      "text/plain": [
       "0.005875804439657055"
      ]
     },
     "execution_count": 312,
     "metadata": {},
     "output_type": "execute_result"
    }
   ],
   "source": [
    "1/simps(integrand, pmf_mep_meph[0]) # Identical result"
   ]
  },
  {
   "cell_type": "code",
   "execution_count": 313,
   "id": "6d9789f6",
   "metadata": {},
   "outputs": [],
   "source": [
    "integ = pd.DataFrame({'0': pmf_mep_meph[0], '1': integrand})"
   ]
  },
  {
   "cell_type": "code",
   "execution_count": 314,
   "id": "426bf350",
   "metadata": {},
   "outputs": [
    {
     "data": {
      "text/html": [
       "<div>\n",
       "<style scoped>\n",
       "    .dataframe tbody tr th:only-of-type {\n",
       "        vertical-align: middle;\n",
       "    }\n",
       "\n",
       "    .dataframe tbody tr th {\n",
       "        vertical-align: top;\n",
       "    }\n",
       "\n",
       "    .dataframe thead th {\n",
       "        text-align: right;\n",
       "    }\n",
       "</style>\n",
       "<table border=\"1\" class=\"dataframe\">\n",
       "  <thead>\n",
       "    <tr style=\"text-align: right;\">\n",
       "      <th></th>\n",
       "      <th>0</th>\n",
       "      <th>1</th>\n",
       "    </tr>\n",
       "  </thead>\n",
       "  <tbody>\n",
       "    <tr>\n",
       "      <th>0</th>\n",
       "      <td>0.000000e+00</td>\n",
       "      <td>1.723261e+10</td>\n",
       "    </tr>\n",
       "    <tr>\n",
       "      <th>1</th>\n",
       "      <td>5.018508e-10</td>\n",
       "      <td>1.726291e+10</td>\n",
       "    </tr>\n",
       "    <tr>\n",
       "      <th>2</th>\n",
       "      <td>1.505549e-09</td>\n",
       "      <td>1.656578e+10</td>\n",
       "    </tr>\n",
       "    <tr>\n",
       "      <th>3</th>\n",
       "      <td>2.509248e-09</td>\n",
       "      <td>1.521285e+10</td>\n",
       "    </tr>\n",
       "    <tr>\n",
       "      <th>4</th>\n",
       "      <td>3.512946e-09</td>\n",
       "      <td>1.372286e+10</td>\n",
       "    </tr>\n",
       "    <tr>\n",
       "      <th>...</th>\n",
       "      <td>...</td>\n",
       "      <td>...</td>\n",
       "    </tr>\n",
       "    <tr>\n",
       "      <th>396</th>\n",
       "      <td>3.969627e-07</td>\n",
       "      <td>8.773780e+04</td>\n",
       "    </tr>\n",
       "    <tr>\n",
       "      <th>397</th>\n",
       "      <td>3.979664e-07</td>\n",
       "      <td>8.704015e+04</td>\n",
       "    </tr>\n",
       "    <tr>\n",
       "      <th>398</th>\n",
       "      <td>3.989701e-07</td>\n",
       "      <td>8.751647e+04</td>\n",
       "    </tr>\n",
       "    <tr>\n",
       "      <th>399</th>\n",
       "      <td>3.999738e-07</td>\n",
       "      <td>8.706383e+04</td>\n",
       "    </tr>\n",
       "    <tr>\n",
       "      <th>400</th>\n",
       "      <td>4.000000e-07</td>\n",
       "      <td>8.705262e+04</td>\n",
       "    </tr>\n",
       "  </tbody>\n",
       "</table>\n",
       "<p>401 rows × 2 columns</p>\n",
       "</div>"
      ],
      "text/plain": [
       "                0             1\n",
       "0    0.000000e+00  1.723261e+10\n",
       "1    5.018508e-10  1.726291e+10\n",
       "2    1.505549e-09  1.656578e+10\n",
       "3    2.509248e-09  1.521285e+10\n",
       "4    3.512946e-09  1.372286e+10\n",
       "..            ...           ...\n",
       "396  3.969627e-07  8.773780e+04\n",
       "397  3.979664e-07  8.704015e+04\n",
       "398  3.989701e-07  8.751647e+04\n",
       "399  3.999738e-07  8.706383e+04\n",
       "400  4.000000e-07  8.705262e+04\n",
       "\n",
       "[401 rows x 2 columns]"
      ]
     },
     "execution_count": 314,
     "metadata": {},
     "output_type": "execute_result"
    }
   ],
   "source": [
    "integ"
   ]
  },
  {
   "cell_type": "code",
   "execution_count": 315,
   "id": "74e6f78d",
   "metadata": {},
   "outputs": [],
   "source": [
    "# You can also export the data to xmgrace and calculate the area by yourself\n",
    "integ.to_csv('integrand.xvg', index = False, header = None, sep = ' ')"
   ]
  },
  {
   "cell_type": "code",
   "execution_count": 317,
   "id": "4cd5b300",
   "metadata": {},
   "outputs": [],
   "source": [
    "!xmgrace integrand.xvg # Gives us the same area as the value of our integral"
   ]
  },
  {
   "cell_type": "markdown",
   "id": "bc0a6007",
   "metadata": {},
   "source": [
    "#### My another approach for the numerical integration will be to convert diffusion coefficient (cm^2/s) into nm^2/s, integrate it over the distance in nm, and finally convert into cm/s"
   ]
  },
  {
   "cell_type": "code",
   "execution_count": 319,
   "id": "481ce0d1",
   "metadata": {},
   "outputs": [
    {
     "data": {
      "text/html": [
       "<div>\n",
       "<style scoped>\n",
       "    .dataframe tbody tr th:only-of-type {\n",
       "        vertical-align: middle;\n",
       "    }\n",
       "\n",
       "    .dataframe tbody tr th {\n",
       "        vertical-align: top;\n",
       "    }\n",
       "\n",
       "    .dataframe thead th {\n",
       "        text-align: right;\n",
       "    }\n",
       "</style>\n",
       "<table border=\"1\" class=\"dataframe\">\n",
       "  <thead>\n",
       "    <tr style=\"text-align: right;\">\n",
       "      <th></th>\n",
       "      <th>0</th>\n",
       "      <th>1</th>\n",
       "      <th>2</th>\n",
       "    </tr>\n",
       "  </thead>\n",
       "  <tbody>\n",
       "    <tr>\n",
       "      <th>0</th>\n",
       "      <td>0.000000e+00</td>\n",
       "      <td>18.906007</td>\n",
       "      <td>2058.108789</td>\n",
       "    </tr>\n",
       "    <tr>\n",
       "      <th>1</th>\n",
       "      <td>5.018508e-10</td>\n",
       "      <td>18.906007</td>\n",
       "      <td>2058.108789</td>\n",
       "    </tr>\n",
       "    <tr>\n",
       "      <th>2</th>\n",
       "      <td>1.505549e-09</td>\n",
       "      <td>18.795131</td>\n",
       "      <td>1968.050284</td>\n",
       "    </tr>\n",
       "    <tr>\n",
       "      <th>3</th>\n",
       "      <td>2.509248e-09</td>\n",
       "      <td>18.575250</td>\n",
       "      <td>1800.942423</td>\n",
       "    </tr>\n",
       "    <tr>\n",
       "      <th>4</th>\n",
       "      <td>3.512946e-09</td>\n",
       "      <td>18.311036</td>\n",
       "      <td>1618.801735</td>\n",
       "    </tr>\n",
       "  </tbody>\n",
       "</table>\n",
       "</div>"
      ],
      "text/plain": [
       "              0          1            2\n",
       "0  0.000000e+00  18.906007  2058.108789\n",
       "1  5.018508e-10  18.906007  2058.108789\n",
       "2  1.505549e-09  18.795131  1968.050284\n",
       "3  2.509248e-09  18.575250  1800.942423\n",
       "4  3.512946e-09  18.311036  1618.801735"
      ]
     },
     "execution_count": 319,
     "metadata": {},
     "output_type": "execute_result"
    }
   ],
   "source": [
    "pmf_mep_meph.head()"
   ]
  },
  {
   "cell_type": "code",
   "execution_count": 321,
   "id": "c8354ab9",
   "metadata": {},
   "outputs": [
    {
     "data": {
      "text/html": [
       "<div>\n",
       "<style scoped>\n",
       "    .dataframe tbody tr th:only-of-type {\n",
       "        vertical-align: middle;\n",
       "    }\n",
       "\n",
       "    .dataframe tbody tr th {\n",
       "        vertical-align: top;\n",
       "    }\n",
       "\n",
       "    .dataframe thead th {\n",
       "        text-align: right;\n",
       "    }\n",
       "</style>\n",
       "<table border=\"1\" class=\"dataframe\">\n",
       "  <thead>\n",
       "    <tr style=\"text-align: right;\">\n",
       "      <th></th>\n",
       "      <th>z</th>\n",
       "      <th>G_P</th>\n",
       "      <th>G_PH</th>\n",
       "      <th>D_P</th>\n",
       "      <th>D_PH</th>\n",
       "      <th>Q</th>\n",
       "      <th>D</th>\n",
       "    </tr>\n",
       "  </thead>\n",
       "  <tbody>\n",
       "    <tr>\n",
       "      <th>0</th>\n",
       "      <td>0.000000e+00</td>\n",
       "      <td>42.28958</td>\n",
       "      <td>18.904136</td>\n",
       "      <td>6.340288e-08</td>\n",
       "      <td>1.194355e-07</td>\n",
       "      <td>0.000486</td>\n",
       "      <td>1.194310e-07</td>\n",
       "    </tr>\n",
       "    <tr>\n",
       "      <th>1</th>\n",
       "      <td>5.018508e-10</td>\n",
       "      <td>42.28958</td>\n",
       "      <td>18.904102</td>\n",
       "      <td>7.271173e-08</td>\n",
       "      <td>1.192251e-07</td>\n",
       "      <td>0.000486</td>\n",
       "      <td>1.192214e-07</td>\n",
       "    </tr>\n",
       "    <tr>\n",
       "      <th>2</th>\n",
       "      <td>1.505549e-09</td>\n",
       "      <td>42.11615</td>\n",
       "      <td>18.793019</td>\n",
       "      <td>9.132937e-08</td>\n",
       "      <td>1.188044e-07</td>\n",
       "      <td>0.000509</td>\n",
       "      <td>1.188022e-07</td>\n",
       "    </tr>\n",
       "    <tr>\n",
       "      <th>3</th>\n",
       "      <td>2.509248e-09</td>\n",
       "      <td>41.80657</td>\n",
       "      <td>18.572876</td>\n",
       "      <td>1.099470e-07</td>\n",
       "      <td>1.183837e-07</td>\n",
       "      <td>0.000556</td>\n",
       "      <td>1.183830e-07</td>\n",
       "    </tr>\n",
       "    <tr>\n",
       "      <th>4</th>\n",
       "      <td>3.512946e-09</td>\n",
       "      <td>41.34310</td>\n",
       "      <td>18.308211</td>\n",
       "      <td>1.285647e-07</td>\n",
       "      <td>1.179629e-07</td>\n",
       "      <td>0.000619</td>\n",
       "      <td>1.179639e-07</td>\n",
       "    </tr>\n",
       "  </tbody>\n",
       "</table>\n",
       "</div>"
      ],
      "text/plain": [
       "              z       G_P       G_PH           D_P          D_PH         Q  \\\n",
       "0  0.000000e+00  42.28958  18.904136  6.340288e-08  1.194355e-07  0.000486   \n",
       "1  5.018508e-10  42.28958  18.904102  7.271173e-08  1.192251e-07  0.000486   \n",
       "2  1.505549e-09  42.11615  18.793019  9.132937e-08  1.188044e-07  0.000509   \n",
       "3  2.509248e-09  41.80657  18.572876  1.099470e-07  1.183837e-07  0.000556   \n",
       "4  3.512946e-09  41.34310  18.308211  1.285647e-07  1.179629e-07  0.000619   \n",
       "\n",
       "              D  \n",
       "0  1.194310e-07  \n",
       "1  1.192214e-07  \n",
       "2  1.188022e-07  \n",
       "3  1.183830e-07  \n",
       "4  1.179639e-07  "
      ]
     },
     "execution_count": 321,
     "metadata": {},
     "output_type": "execute_result"
    }
   ],
   "source": [
    "df_diffusion.head()"
   ]
  },
  {
   "cell_type": "code",
   "execution_count": 322,
   "id": "fa3759ad",
   "metadata": {},
   "outputs": [],
   "source": [
    "pmf_mep_meph[0] = pmf_mep_meph[0] * 1 * 10 ** 7\n",
    "df_diffusion['z'] = df_diffusion['z'] * 1 * 10 ** 7"
   ]
  },
  {
   "cell_type": "code",
   "execution_count": 323,
   "id": "6bcb4903",
   "metadata": {},
   "outputs": [
    {
     "data": {
      "text/html": [
       "<div>\n",
       "<style scoped>\n",
       "    .dataframe tbody tr th:only-of-type {\n",
       "        vertical-align: middle;\n",
       "    }\n",
       "\n",
       "    .dataframe tbody tr th {\n",
       "        vertical-align: top;\n",
       "    }\n",
       "\n",
       "    .dataframe thead th {\n",
       "        text-align: right;\n",
       "    }\n",
       "</style>\n",
       "<table border=\"1\" class=\"dataframe\">\n",
       "  <thead>\n",
       "    <tr style=\"text-align: right;\">\n",
       "      <th></th>\n",
       "      <th>0</th>\n",
       "      <th>1</th>\n",
       "      <th>2</th>\n",
       "    </tr>\n",
       "  </thead>\n",
       "  <tbody>\n",
       "    <tr>\n",
       "      <th>0</th>\n",
       "      <td>0.000000</td>\n",
       "      <td>18.906007</td>\n",
       "      <td>2058.108789</td>\n",
       "    </tr>\n",
       "    <tr>\n",
       "      <th>1</th>\n",
       "      <td>0.005019</td>\n",
       "      <td>18.906007</td>\n",
       "      <td>2058.108789</td>\n",
       "    </tr>\n",
       "    <tr>\n",
       "      <th>2</th>\n",
       "      <td>0.015055</td>\n",
       "      <td>18.795131</td>\n",
       "      <td>1968.050284</td>\n",
       "    </tr>\n",
       "    <tr>\n",
       "      <th>3</th>\n",
       "      <td>0.025092</td>\n",
       "      <td>18.575250</td>\n",
       "      <td>1800.942423</td>\n",
       "    </tr>\n",
       "    <tr>\n",
       "      <th>4</th>\n",
       "      <td>0.035129</td>\n",
       "      <td>18.311036</td>\n",
       "      <td>1618.801735</td>\n",
       "    </tr>\n",
       "  </tbody>\n",
       "</table>\n",
       "</div>"
      ],
      "text/plain": [
       "          0          1            2\n",
       "0  0.000000  18.906007  2058.108789\n",
       "1  0.005019  18.906007  2058.108789\n",
       "2  0.015055  18.795131  1968.050284\n",
       "3  0.025092  18.575250  1800.942423\n",
       "4  0.035129  18.311036  1618.801735"
      ]
     },
     "execution_count": 323,
     "metadata": {},
     "output_type": "execute_result"
    }
   ],
   "source": [
    "pmf_mep_meph.head()"
   ]
  },
  {
   "cell_type": "code",
   "execution_count": 324,
   "id": "3467b0bc",
   "metadata": {},
   "outputs": [
    {
     "data": {
      "text/html": [
       "<div>\n",
       "<style scoped>\n",
       "    .dataframe tbody tr th:only-of-type {\n",
       "        vertical-align: middle;\n",
       "    }\n",
       "\n",
       "    .dataframe tbody tr th {\n",
       "        vertical-align: top;\n",
       "    }\n",
       "\n",
       "    .dataframe thead th {\n",
       "        text-align: right;\n",
       "    }\n",
       "</style>\n",
       "<table border=\"1\" class=\"dataframe\">\n",
       "  <thead>\n",
       "    <tr style=\"text-align: right;\">\n",
       "      <th></th>\n",
       "      <th>z</th>\n",
       "      <th>G_P</th>\n",
       "      <th>G_PH</th>\n",
       "      <th>D_P</th>\n",
       "      <th>D_PH</th>\n",
       "      <th>Q</th>\n",
       "      <th>D</th>\n",
       "    </tr>\n",
       "  </thead>\n",
       "  <tbody>\n",
       "    <tr>\n",
       "      <th>0</th>\n",
       "      <td>0.000000</td>\n",
       "      <td>42.28958</td>\n",
       "      <td>18.904136</td>\n",
       "      <td>6.340288e-08</td>\n",
       "      <td>1.194355e-07</td>\n",
       "      <td>0.000486</td>\n",
       "      <td>1.194310e-07</td>\n",
       "    </tr>\n",
       "    <tr>\n",
       "      <th>1</th>\n",
       "      <td>0.005019</td>\n",
       "      <td>42.28958</td>\n",
       "      <td>18.904102</td>\n",
       "      <td>7.271173e-08</td>\n",
       "      <td>1.192251e-07</td>\n",
       "      <td>0.000486</td>\n",
       "      <td>1.192214e-07</td>\n",
       "    </tr>\n",
       "    <tr>\n",
       "      <th>2</th>\n",
       "      <td>0.015055</td>\n",
       "      <td>42.11615</td>\n",
       "      <td>18.793019</td>\n",
       "      <td>9.132937e-08</td>\n",
       "      <td>1.188044e-07</td>\n",
       "      <td>0.000509</td>\n",
       "      <td>1.188022e-07</td>\n",
       "    </tr>\n",
       "    <tr>\n",
       "      <th>3</th>\n",
       "      <td>0.025092</td>\n",
       "      <td>41.80657</td>\n",
       "      <td>18.572876</td>\n",
       "      <td>1.099470e-07</td>\n",
       "      <td>1.183837e-07</td>\n",
       "      <td>0.000556</td>\n",
       "      <td>1.183830e-07</td>\n",
       "    </tr>\n",
       "    <tr>\n",
       "      <th>4</th>\n",
       "      <td>0.035129</td>\n",
       "      <td>41.34310</td>\n",
       "      <td>18.308211</td>\n",
       "      <td>1.285647e-07</td>\n",
       "      <td>1.179629e-07</td>\n",
       "      <td>0.000619</td>\n",
       "      <td>1.179639e-07</td>\n",
       "    </tr>\n",
       "  </tbody>\n",
       "</table>\n",
       "</div>"
      ],
      "text/plain": [
       "          z       G_P       G_PH           D_P          D_PH         Q  \\\n",
       "0  0.000000  42.28958  18.904136  6.340288e-08  1.194355e-07  0.000486   \n",
       "1  0.005019  42.28958  18.904102  7.271173e-08  1.192251e-07  0.000486   \n",
       "2  0.015055  42.11615  18.793019  9.132937e-08  1.188044e-07  0.000509   \n",
       "3  0.025092  41.80657  18.572876  1.099470e-07  1.183837e-07  0.000556   \n",
       "4  0.035129  41.34310  18.308211  1.285647e-07  1.179629e-07  0.000619   \n",
       "\n",
       "              D  \n",
       "0  1.194310e-07  \n",
       "1  1.192214e-07  \n",
       "2  1.188022e-07  \n",
       "3  1.183830e-07  \n",
       "4  1.179639e-07  "
      ]
     },
     "execution_count": 324,
     "metadata": {},
     "output_type": "execute_result"
    }
   ],
   "source": [
    "df_diffusion.head()"
   ]
  },
  {
   "cell_type": "code",
   "execution_count": 325,
   "id": "21a59713",
   "metadata": {},
   "outputs": [],
   "source": [
    "# Converting diffusion coefficient into nm^2/s and adding it into the last column\n",
    "df_diffusion['D'] = df_diffusion['D'] * 1 * 10 ** 14"
   ]
  },
  {
   "cell_type": "code",
   "execution_count": 326,
   "id": "2eb52c22",
   "metadata": {},
   "outputs": [
    {
     "data": {
      "text/html": [
       "<div>\n",
       "<style scoped>\n",
       "    .dataframe tbody tr th:only-of-type {\n",
       "        vertical-align: middle;\n",
       "    }\n",
       "\n",
       "    .dataframe tbody tr th {\n",
       "        vertical-align: top;\n",
       "    }\n",
       "\n",
       "    .dataframe thead th {\n",
       "        text-align: right;\n",
       "    }\n",
       "</style>\n",
       "<table border=\"1\" class=\"dataframe\">\n",
       "  <thead>\n",
       "    <tr style=\"text-align: right;\">\n",
       "      <th></th>\n",
       "      <th>z</th>\n",
       "      <th>G_P</th>\n",
       "      <th>G_PH</th>\n",
       "      <th>D_P</th>\n",
       "      <th>D_PH</th>\n",
       "      <th>Q</th>\n",
       "      <th>D</th>\n",
       "    </tr>\n",
       "  </thead>\n",
       "  <tbody>\n",
       "    <tr>\n",
       "      <th>0</th>\n",
       "      <td>0.000000</td>\n",
       "      <td>42.28958</td>\n",
       "      <td>18.904136</td>\n",
       "      <td>6.340288e-08</td>\n",
       "      <td>1.194355e-07</td>\n",
       "      <td>0.000486</td>\n",
       "      <td>1.194310e+07</td>\n",
       "    </tr>\n",
       "    <tr>\n",
       "      <th>1</th>\n",
       "      <td>0.005019</td>\n",
       "      <td>42.28958</td>\n",
       "      <td>18.904102</td>\n",
       "      <td>7.271173e-08</td>\n",
       "      <td>1.192251e-07</td>\n",
       "      <td>0.000486</td>\n",
       "      <td>1.192214e+07</td>\n",
       "    </tr>\n",
       "    <tr>\n",
       "      <th>2</th>\n",
       "      <td>0.015055</td>\n",
       "      <td>42.11615</td>\n",
       "      <td>18.793019</td>\n",
       "      <td>9.132937e-08</td>\n",
       "      <td>1.188044e-07</td>\n",
       "      <td>0.000509</td>\n",
       "      <td>1.188022e+07</td>\n",
       "    </tr>\n",
       "    <tr>\n",
       "      <th>3</th>\n",
       "      <td>0.025092</td>\n",
       "      <td>41.80657</td>\n",
       "      <td>18.572876</td>\n",
       "      <td>1.099470e-07</td>\n",
       "      <td>1.183837e-07</td>\n",
       "      <td>0.000556</td>\n",
       "      <td>1.183830e+07</td>\n",
       "    </tr>\n",
       "    <tr>\n",
       "      <th>4</th>\n",
       "      <td>0.035129</td>\n",
       "      <td>41.34310</td>\n",
       "      <td>18.308211</td>\n",
       "      <td>1.285647e-07</td>\n",
       "      <td>1.179629e-07</td>\n",
       "      <td>0.000619</td>\n",
       "      <td>1.179639e+07</td>\n",
       "    </tr>\n",
       "  </tbody>\n",
       "</table>\n",
       "</div>"
      ],
      "text/plain": [
       "          z       G_P       G_PH           D_P          D_PH         Q  \\\n",
       "0  0.000000  42.28958  18.904136  6.340288e-08  1.194355e-07  0.000486   \n",
       "1  0.005019  42.28958  18.904102  7.271173e-08  1.192251e-07  0.000486   \n",
       "2  0.015055  42.11615  18.793019  9.132937e-08  1.188044e-07  0.000509   \n",
       "3  0.025092  41.80657  18.572876  1.099470e-07  1.183837e-07  0.000556   \n",
       "4  0.035129  41.34310  18.308211  1.285647e-07  1.179629e-07  0.000619   \n",
       "\n",
       "              D  \n",
       "0  1.194310e+07  \n",
       "1  1.192214e+07  \n",
       "2  1.188022e+07  \n",
       "3  1.183830e+07  \n",
       "4  1.179639e+07  "
      ]
     },
     "execution_count": 326,
     "metadata": {},
     "output_type": "execute_result"
    }
   ],
   "source": [
    "df_diffusion.head()"
   ]
  },
  {
   "cell_type": "code",
   "execution_count": 327,
   "id": "e6adfc88",
   "metadata": {},
   "outputs": [],
   "source": [
    "integrand = pmf_mep_meph[2]/df_diffusion['D']"
   ]
  },
  {
   "cell_type": "code",
   "execution_count": 328,
   "id": "297d8ec7",
   "metadata": {},
   "outputs": [
    {
     "data": {
      "text/plain": [
       "1.7060001293828098e-05"
      ]
     },
     "execution_count": 328,
     "metadata": {},
     "output_type": "execute_result"
    }
   ],
   "source": [
    "trapz(integrand, pmf_mep_meph[0])"
   ]
  },
  {
   "cell_type": "code",
   "execution_count": 329,
   "id": "0d4248e2",
   "metadata": {},
   "outputs": [
    {
     "data": {
      "text/plain": [
       "58616.64268230602"
      ]
     },
     "execution_count": 329,
     "metadata": {},
     "output_type": "execute_result"
    }
   ],
   "source": [
    "1/trapz(integrand, pmf_mep_meph[0]) # This is now in nm/s"
   ]
  },
  {
   "cell_type": "code",
   "execution_count": 331,
   "id": "5bc4a089",
   "metadata": {},
   "outputs": [
    {
     "data": {
      "text/plain": [
       "0.005861664268230602"
      ]
     },
     "execution_count": 331,
     "metadata": {},
     "output_type": "execute_result"
    }
   ],
   "source": [
    "# Converting into cm/s\n",
    "1/trapz(integrand, pmf_mep_meph[0]) * 1 * 10 ** -7 # We got the same answer in both ways"
   ]
  },
  {
   "cell_type": "code",
   "execution_count": null,
   "id": "019b6e0d",
   "metadata": {},
   "outputs": [],
   "source": []
  }
 ],
 "metadata": {
  "kernelspec": {
   "display_name": "Python 3",
   "language": "python",
   "name": "python3"
  },
  "language_info": {
   "codemirror_mode": {
    "name": "ipython",
    "version": 3
   },
   "file_extension": ".py",
   "mimetype": "text/x-python",
   "name": "python",
   "nbconvert_exporter": "python",
   "pygments_lexer": "ipython3",
   "version": "3.8.8"
  }
 },
 "nbformat": 4,
 "nbformat_minor": 5
}

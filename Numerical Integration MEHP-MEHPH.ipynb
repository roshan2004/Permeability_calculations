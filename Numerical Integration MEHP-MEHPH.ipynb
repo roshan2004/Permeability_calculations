{
 "cells": [
  {
   "cell_type": "markdown",
   "id": "21b41a95",
   "metadata": {},
   "source": [
    "In the case of monoester metabolites, two PMFs were calculated, both for the neutral (protonated) and charged (deprotonated) forms, and from them the weighted average was calculated which is used in the calculations of permeability. The weighted average for $\\Delta G(z)$ is given by:\n",
    "$$\\Delta G(z) = \\Delta G(z)_P\\frac{e^{\\frac{-\\Delta G(z)_P}{RT}}}{Q(z)} + \\Delta G(z)_{PH}\\frac{e^{\\frac{-\\Delta G(z)_{PH}}{RT}}}{Q(z)}$$\n",
    "where, $Q(z)$ is the sum of two states given by, $$Q(z) = e^{\\frac{-\\Delta G(z)_P}{RT}} + e^{\\frac{-\\Delta G(z)_{PH}}{RT}}$$\n",
    "Here, $\\Delta G(z)_P$ is the PMF of the charged (deprotonated) phthalate and $\\Delta G(z)_{PH}$ is the PMF of the uncharged (protonated) phthalate calculated for every $z$."
   ]
  },
  {
   "cell_type": "code",
   "execution_count": 33,
   "id": "a0b6fc1b",
   "metadata": {},
   "outputs": [],
   "source": [
    "# The weighted average of the PMF is already done and is saved in xvg files with small letter names like \n",
    "# mehp-mehph.xvg"
   ]
  },
  {
   "cell_type": "code",
   "execution_count": 34,
   "id": "f92b4471",
   "metadata": {},
   "outputs": [],
   "source": [
    "# Importing necessary libraries\n",
    "import pandas as pd\n",
    "import numpy as np\n",
    "import matplotlib.pyplot as plt\n",
    "from scipy.integrate import trapz, simps #Importing trapz, and simps module from scipy for numerical integration\n"
   ]
  },
  {
   "cell_type": "code",
   "execution_count": 35,
   "id": "69beedc7",
   "metadata": {},
   "outputs": [],
   "source": [
    "pmf_mehp_mehph = pd.read_csv('mehp-mehph.xvg', header = None, delim_whitespace=True)"
   ]
  },
  {
   "cell_type": "code",
   "execution_count": 36,
   "id": "dea27121",
   "metadata": {},
   "outputs": [
    {
     "data": {
      "text/html": [
       "<div>\n",
       "<style scoped>\n",
       "    .dataframe tbody tr th:only-of-type {\n",
       "        vertical-align: middle;\n",
       "    }\n",
       "\n",
       "    .dataframe tbody tr th {\n",
       "        vertical-align: top;\n",
       "    }\n",
       "\n",
       "    .dataframe thead th {\n",
       "        text-align: right;\n",
       "    }\n",
       "</style>\n",
       "<table border=\"1\" class=\"dataframe\">\n",
       "  <thead>\n",
       "    <tr style=\"text-align: right;\">\n",
       "      <th></th>\n",
       "      <th>0</th>\n",
       "      <th>1</th>\n",
       "    </tr>\n",
       "  </thead>\n",
       "  <tbody>\n",
       "    <tr>\n",
       "      <th>0</th>\n",
       "      <td>0.005005</td>\n",
       "      <td>-4.781046</td>\n",
       "    </tr>\n",
       "    <tr>\n",
       "      <th>1</th>\n",
       "      <td>0.015014</td>\n",
       "      <td>-4.816288</td>\n",
       "    </tr>\n",
       "    <tr>\n",
       "      <th>2</th>\n",
       "      <td>0.025024</td>\n",
       "      <td>-4.848423</td>\n",
       "    </tr>\n",
       "    <tr>\n",
       "      <th>3</th>\n",
       "      <td>0.035033</td>\n",
       "      <td>-4.974581</td>\n",
       "    </tr>\n",
       "    <tr>\n",
       "      <th>4</th>\n",
       "      <td>0.045042</td>\n",
       "      <td>-5.115041</td>\n",
       "    </tr>\n",
       "    <tr>\n",
       "      <th>...</th>\n",
       "      <td>...</td>\n",
       "      <td>...</td>\n",
       "    </tr>\n",
       "    <tr>\n",
       "      <th>416</th>\n",
       "      <td>4.168918</td>\n",
       "      <td>0.053229</td>\n",
       "    </tr>\n",
       "    <tr>\n",
       "      <th>417</th>\n",
       "      <td>4.178927</td>\n",
       "      <td>-0.256834</td>\n",
       "    </tr>\n",
       "    <tr>\n",
       "      <th>418</th>\n",
       "      <td>4.188936</td>\n",
       "      <td>-0.286718</td>\n",
       "    </tr>\n",
       "    <tr>\n",
       "      <th>419</th>\n",
       "      <td>4.198946</td>\n",
       "      <td>-0.058169</td>\n",
       "    </tr>\n",
       "    <tr>\n",
       "      <th>420</th>\n",
       "      <td>4.208955</td>\n",
       "      <td>0.397205</td>\n",
       "    </tr>\n",
       "  </tbody>\n",
       "</table>\n",
       "<p>421 rows × 2 columns</p>\n",
       "</div>"
      ],
      "text/plain": [
       "            0         1\n",
       "0    0.005005 -4.781046\n",
       "1    0.015014 -4.816288\n",
       "2    0.025024 -4.848423\n",
       "3    0.035033 -4.974581\n",
       "4    0.045042 -5.115041\n",
       "..        ...       ...\n",
       "416  4.168918  0.053229\n",
       "417  4.178927 -0.256834\n",
       "418  4.188936 -0.286718\n",
       "419  4.198946 -0.058169\n",
       "420  4.208955  0.397205\n",
       "\n",
       "[421 rows x 2 columns]"
      ]
     },
     "execution_count": 36,
     "metadata": {},
     "output_type": "execute_result"
    }
   ],
   "source": [
    "# Checking the few data from pmf_mep_meph # Note, there are no error bars in here\n",
    "pmf_mehp_mehph"
   ]
  },
  {
   "cell_type": "code",
   "execution_count": 37,
   "id": "fa483841",
   "metadata": {},
   "outputs": [],
   "source": [
    "# Extrapolating for the data at 0\n",
    "df = pd.DataFrame({0: [0.000000], 1: -4.781046})\n",
    "df = df.append(pmf_mehp_mehph)\n",
    "df = df.reset_index(drop=True)"
   ]
  },
  {
   "cell_type": "code",
   "execution_count": 38,
   "id": "825661b3",
   "metadata": {},
   "outputs": [],
   "source": [
    "# Just making a copy to have same name as original\n",
    "pmf_mehp_mehph = df.copy(deep=True)"
   ]
  },
  {
   "cell_type": "code",
   "execution_count": 39,
   "id": "9f91e792",
   "metadata": {},
   "outputs": [
    {
     "data": {
      "text/html": [
       "<div>\n",
       "<style scoped>\n",
       "    .dataframe tbody tr th:only-of-type {\n",
       "        vertical-align: middle;\n",
       "    }\n",
       "\n",
       "    .dataframe tbody tr th {\n",
       "        vertical-align: top;\n",
       "    }\n",
       "\n",
       "    .dataframe thead th {\n",
       "        text-align: right;\n",
       "    }\n",
       "</style>\n",
       "<table border=\"1\" class=\"dataframe\">\n",
       "  <thead>\n",
       "    <tr style=\"text-align: right;\">\n",
       "      <th></th>\n",
       "      <th>0</th>\n",
       "      <th>1</th>\n",
       "    </tr>\n",
       "  </thead>\n",
       "  <tbody>\n",
       "    <tr>\n",
       "      <th>0</th>\n",
       "      <td>0.000000</td>\n",
       "      <td>-4.781046</td>\n",
       "    </tr>\n",
       "    <tr>\n",
       "      <th>1</th>\n",
       "      <td>0.005005</td>\n",
       "      <td>-4.781046</td>\n",
       "    </tr>\n",
       "    <tr>\n",
       "      <th>2</th>\n",
       "      <td>0.015014</td>\n",
       "      <td>-4.816288</td>\n",
       "    </tr>\n",
       "    <tr>\n",
       "      <th>3</th>\n",
       "      <td>0.025024</td>\n",
       "      <td>-4.848423</td>\n",
       "    </tr>\n",
       "    <tr>\n",
       "      <th>4</th>\n",
       "      <td>0.035033</td>\n",
       "      <td>-4.974581</td>\n",
       "    </tr>\n",
       "  </tbody>\n",
       "</table>\n",
       "</div>"
      ],
      "text/plain": [
       "          0         1\n",
       "0  0.000000 -4.781046\n",
       "1  0.005005 -4.781046\n",
       "2  0.015014 -4.816288\n",
       "3  0.025024 -4.848423\n",
       "4  0.035033 -4.974581"
      ]
     },
     "execution_count": 39,
     "metadata": {},
     "output_type": "execute_result"
    }
   ],
   "source": [
    "pmf_mehp_mehph.head()"
   ]
  },
  {
   "cell_type": "code",
   "execution_count": 40,
   "id": "02d10e29",
   "metadata": {},
   "outputs": [],
   "source": [
    "# We don't want the values of z distance above 4, so\n",
    "pmf_mehp_mehph = pmf_mehp_mehph[pmf_mehp_mehph[0] <= 4.000000]"
   ]
  },
  {
   "cell_type": "code",
   "execution_count": 41,
   "id": "f9038517",
   "metadata": {},
   "outputs": [
    {
     "data": {
      "text/html": [
       "<div>\n",
       "<style scoped>\n",
       "    .dataframe tbody tr th:only-of-type {\n",
       "        vertical-align: middle;\n",
       "    }\n",
       "\n",
       "    .dataframe tbody tr th {\n",
       "        vertical-align: top;\n",
       "    }\n",
       "\n",
       "    .dataframe thead th {\n",
       "        text-align: right;\n",
       "    }\n",
       "</style>\n",
       "<table border=\"1\" class=\"dataframe\">\n",
       "  <thead>\n",
       "    <tr style=\"text-align: right;\">\n",
       "      <th></th>\n",
       "      <th>0</th>\n",
       "      <th>1</th>\n",
       "    </tr>\n",
       "  </thead>\n",
       "  <tbody>\n",
       "    <tr>\n",
       "      <th>396</th>\n",
       "      <td>3.958720</td>\n",
       "      <td>0.106669</td>\n",
       "    </tr>\n",
       "    <tr>\n",
       "      <th>397</th>\n",
       "      <td>3.968730</td>\n",
       "      <td>0.091611</td>\n",
       "    </tr>\n",
       "    <tr>\n",
       "      <th>398</th>\n",
       "      <td>3.978739</td>\n",
       "      <td>0.081302</td>\n",
       "    </tr>\n",
       "    <tr>\n",
       "      <th>399</th>\n",
       "      <td>3.988748</td>\n",
       "      <td>0.077020</td>\n",
       "    </tr>\n",
       "    <tr>\n",
       "      <th>400</th>\n",
       "      <td>3.998758</td>\n",
       "      <td>0.086647</td>\n",
       "    </tr>\n",
       "  </tbody>\n",
       "</table>\n",
       "</div>"
      ],
      "text/plain": [
       "            0         1\n",
       "396  3.958720  0.106669\n",
       "397  3.968730  0.091611\n",
       "398  3.978739  0.081302\n",
       "399  3.988748  0.077020\n",
       "400  3.998758  0.086647"
      ]
     },
     "execution_count": 41,
     "metadata": {},
     "output_type": "execute_result"
    }
   ],
   "source": [
    "pmf_mehp_mehph.tail()"
   ]
  },
  {
   "cell_type": "code",
   "execution_count": 42,
   "id": "8e05069e",
   "metadata": {},
   "outputs": [],
   "source": [
    "# Just extrapolating to have the same value in z = 4 nm as in z = 3.998758\n",
    "pmf_mehp_mehph = pmf_mehp_mehph.append({0: 4.000000, 1: 0.086647}, ignore_index = True)"
   ]
  },
  {
   "cell_type": "code",
   "execution_count": 43,
   "id": "806f1dca",
   "metadata": {},
   "outputs": [
    {
     "data": {
      "text/html": [
       "<div>\n",
       "<style scoped>\n",
       "    .dataframe tbody tr th:only-of-type {\n",
       "        vertical-align: middle;\n",
       "    }\n",
       "\n",
       "    .dataframe tbody tr th {\n",
       "        vertical-align: top;\n",
       "    }\n",
       "\n",
       "    .dataframe thead th {\n",
       "        text-align: right;\n",
       "    }\n",
       "</style>\n",
       "<table border=\"1\" class=\"dataframe\">\n",
       "  <thead>\n",
       "    <tr style=\"text-align: right;\">\n",
       "      <th></th>\n",
       "      <th>0</th>\n",
       "      <th>1</th>\n",
       "    </tr>\n",
       "  </thead>\n",
       "  <tbody>\n",
       "    <tr>\n",
       "      <th>0</th>\n",
       "      <td>0.000000</td>\n",
       "      <td>-4.781046</td>\n",
       "    </tr>\n",
       "    <tr>\n",
       "      <th>1</th>\n",
       "      <td>0.005005</td>\n",
       "      <td>-4.781046</td>\n",
       "    </tr>\n",
       "    <tr>\n",
       "      <th>2</th>\n",
       "      <td>0.015014</td>\n",
       "      <td>-4.816288</td>\n",
       "    </tr>\n",
       "    <tr>\n",
       "      <th>3</th>\n",
       "      <td>0.025024</td>\n",
       "      <td>-4.848423</td>\n",
       "    </tr>\n",
       "    <tr>\n",
       "      <th>4</th>\n",
       "      <td>0.035033</td>\n",
       "      <td>-4.974581</td>\n",
       "    </tr>\n",
       "    <tr>\n",
       "      <th>...</th>\n",
       "      <td>...</td>\n",
       "      <td>...</td>\n",
       "    </tr>\n",
       "    <tr>\n",
       "      <th>397</th>\n",
       "      <td>3.968730</td>\n",
       "      <td>0.091611</td>\n",
       "    </tr>\n",
       "    <tr>\n",
       "      <th>398</th>\n",
       "      <td>3.978739</td>\n",
       "      <td>0.081302</td>\n",
       "    </tr>\n",
       "    <tr>\n",
       "      <th>399</th>\n",
       "      <td>3.988748</td>\n",
       "      <td>0.077020</td>\n",
       "    </tr>\n",
       "    <tr>\n",
       "      <th>400</th>\n",
       "      <td>3.998758</td>\n",
       "      <td>0.086647</td>\n",
       "    </tr>\n",
       "    <tr>\n",
       "      <th>401</th>\n",
       "      <td>4.000000</td>\n",
       "      <td>0.086647</td>\n",
       "    </tr>\n",
       "  </tbody>\n",
       "</table>\n",
       "<p>402 rows × 2 columns</p>\n",
       "</div>"
      ],
      "text/plain": [
       "            0         1\n",
       "0    0.000000 -4.781046\n",
       "1    0.005005 -4.781046\n",
       "2    0.015014 -4.816288\n",
       "3    0.025024 -4.848423\n",
       "4    0.035033 -4.974581\n",
       "..        ...       ...\n",
       "397  3.968730  0.091611\n",
       "398  3.978739  0.081302\n",
       "399  3.988748  0.077020\n",
       "400  3.998758  0.086647\n",
       "401  4.000000  0.086647\n",
       "\n",
       "[402 rows x 2 columns]"
      ]
     },
     "execution_count": 43,
     "metadata": {},
     "output_type": "execute_result"
    }
   ],
   "source": [
    "pmf_mehp_mehph"
   ]
  },
  {
   "cell_type": "code",
   "execution_count": 44,
   "id": "1156d2b5",
   "metadata": {},
   "outputs": [
    {
     "data": {
      "text/plain": [
       "[<matplotlib.lines.Line2D at 0x7f24f94f2b80>]"
      ]
     },
     "execution_count": 44,
     "metadata": {},
     "output_type": "execute_result"
    },
    {
     "data": {
      "image/png": "[encoded data removed]",
      "text/plain": [
       "<Figure size 432x288 with 1 Axes>"
      ]
     },
     "metadata": {
      "needs_background": "light"
     },
     "output_type": "display_data"
    }
   ],
   "source": [
    "# Now, check a rough plot for free energy\n",
    "plt.plot(pmf_mehp_mehph[0], pmf_mehp_mehph[1])"
   ]
  },
  {
   "cell_type": "markdown",
   "id": "0fa0e99c",
   "metadata": {},
   "source": [
    "Now adding a $e^\\frac{\\Delta G}{RT}$ component in the last column of our PMF data. Here, $\\Delta G$ is obtained from the second column pmf_mehp_mehph[1] and RT is 2.478 KJ/mol at 298K."
   ]
  },
  {
   "cell_type": "code",
   "execution_count": 45,
   "id": "daa63f3d",
   "metadata": {},
   "outputs": [],
   "source": [
    "pmf_mehp_mehph[2] = np.exp(pmf_mehp_mehph[1]/2.478)"
   ]
  },
  {
   "cell_type": "code",
   "execution_count": 47,
   "id": "a5b4d7ed",
   "metadata": {},
   "outputs": [
    {
     "data": {
      "text/html": [
       "<div>\n",
       "<style scoped>\n",
       "    .dataframe tbody tr th:only-of-type {\n",
       "        vertical-align: middle;\n",
       "    }\n",
       "\n",
       "    .dataframe tbody tr th {\n",
       "        vertical-align: top;\n",
       "    }\n",
       "\n",
       "    .dataframe thead th {\n",
       "        text-align: right;\n",
       "    }\n",
       "</style>\n",
       "<table border=\"1\" class=\"dataframe\">\n",
       "  <thead>\n",
       "    <tr style=\"text-align: right;\">\n",
       "      <th></th>\n",
       "      <th>0</th>\n",
       "      <th>1</th>\n",
       "      <th>2</th>\n",
       "    </tr>\n",
       "  </thead>\n",
       "  <tbody>\n",
       "    <tr>\n",
       "      <th>0</th>\n",
       "      <td>0.000000</td>\n",
       "      <td>-4.781046</td>\n",
       "      <td>0.145236</td>\n",
       "    </tr>\n",
       "    <tr>\n",
       "      <th>1</th>\n",
       "      <td>0.005005</td>\n",
       "      <td>-4.781046</td>\n",
       "      <td>0.145236</td>\n",
       "    </tr>\n",
       "    <tr>\n",
       "      <th>2</th>\n",
       "      <td>0.015014</td>\n",
       "      <td>-4.816288</td>\n",
       "      <td>0.143185</td>\n",
       "    </tr>\n",
       "    <tr>\n",
       "      <th>3</th>\n",
       "      <td>0.025024</td>\n",
       "      <td>-4.848423</td>\n",
       "      <td>0.141340</td>\n",
       "    </tr>\n",
       "    <tr>\n",
       "      <th>4</th>\n",
       "      <td>0.035033</td>\n",
       "      <td>-4.974581</td>\n",
       "      <td>0.134324</td>\n",
       "    </tr>\n",
       "    <tr>\n",
       "      <th>...</th>\n",
       "      <td>...</td>\n",
       "      <td>...</td>\n",
       "      <td>...</td>\n",
       "    </tr>\n",
       "    <tr>\n",
       "      <th>397</th>\n",
       "      <td>3.968730</td>\n",
       "      <td>0.091611</td>\n",
       "      <td>1.037662</td>\n",
       "    </tr>\n",
       "    <tr>\n",
       "      <th>398</th>\n",
       "      <td>3.978739</td>\n",
       "      <td>0.081302</td>\n",
       "      <td>1.033354</td>\n",
       "    </tr>\n",
       "    <tr>\n",
       "      <th>399</th>\n",
       "      <td>3.988748</td>\n",
       "      <td>0.077020</td>\n",
       "      <td>1.031570</td>\n",
       "    </tr>\n",
       "    <tr>\n",
       "      <th>400</th>\n",
       "      <td>3.998758</td>\n",
       "      <td>0.086647</td>\n",
       "      <td>1.035585</td>\n",
       "    </tr>\n",
       "    <tr>\n",
       "      <th>401</th>\n",
       "      <td>4.000000</td>\n",
       "      <td>0.086647</td>\n",
       "      <td>1.035585</td>\n",
       "    </tr>\n",
       "  </tbody>\n",
       "</table>\n",
       "<p>402 rows × 3 columns</p>\n",
       "</div>"
      ],
      "text/plain": [
       "            0         1         2\n",
       "0    0.000000 -4.781046  0.145236\n",
       "1    0.005005 -4.781046  0.145236\n",
       "2    0.015014 -4.816288  0.143185\n",
       "3    0.025024 -4.848423  0.141340\n",
       "4    0.035033 -4.974581  0.134324\n",
       "..        ...       ...       ...\n",
       "397  3.968730  0.091611  1.037662\n",
       "398  3.978739  0.081302  1.033354\n",
       "399  3.988748  0.077020  1.031570\n",
       "400  3.998758  0.086647  1.035585\n",
       "401  4.000000  0.086647  1.035585\n",
       "\n",
       "[402 rows x 3 columns]"
      ]
     },
     "execution_count": 47,
     "metadata": {},
     "output_type": "execute_result"
    }
   ],
   "source": [
    "pmf_mehp_mehph"
   ]
  },
  {
   "cell_type": "code",
   "execution_count": 48,
   "id": "3ec3cafe",
   "metadata": {},
   "outputs": [
    {
     "data": {
      "text/plain": [
       "0.1452357355264546"
      ]
     },
     "execution_count": 48,
     "metadata": {},
     "output_type": "execute_result"
    }
   ],
   "source": [
    "# Just checking some values in the last column if it makes sense\n",
    "np.exp(-4.781046/2.478)\n",
    "# So, here the last column index 2 contains the values of the numerator of our integrand that we want to integrate"
   ]
  },
  {
   "cell_type": "code",
   "execution_count": 49,
   "id": "f41f6d7c",
   "metadata": {},
   "outputs": [
    {
     "data": {
      "text/plain": [
       "1.0355850215533353"
      ]
     },
     "execution_count": 49,
     "metadata": {},
     "output_type": "execute_result"
    }
   ],
   "source": [
    "np.exp(0.086647/2.478)"
   ]
  },
  {
   "cell_type": "markdown",
   "id": "4830e647",
   "metadata": {},
   "source": [
    "### Weighted average of Diffusion coefficient for 2-ethylhexyl phthalate (MEHP)"
   ]
  },
  {
   "cell_type": "markdown",
   "id": "f7924f2b",
   "metadata": {},
   "source": [
    "Similarly for diffusion coefficient, the weighted average for $D(z)$ is given by:\n",
    "$$D(z) = D(z)_P\\frac{e^{\\frac{-\\Delta G(z)_P}{RT}}}{Q(z)} + D(z)_{PH}\\frac{e^{\\frac{-\\Delta G(z)_{PH}}{RT}}}{Q(z)}$$\n",
    "where, $Q(z)$ is the sum of two states given by, $$Q(z) = e^{\\frac{-\\Delta G(z)_P}{RT}} + e^{\\frac{-\\Delta G(z)_{PH}}{RT}}$$\n",
    "Here, $\\Delta G(z)_P$ is the PMF of the charged (deprotonated) phthalate and $\\Delta G(z)_{PH}$ is the PMF of the uncharged (protonated) phthalate calculated for every $z$."
   ]
  },
  {
   "cell_type": "markdown",
   "id": "59d56766",
   "metadata": {},
   "source": [
    "So, for the weighted average of Diffusion coefficient, we need the free energy of both the charged(deprotonated(P)) and uncharged (protonated(PH)) phthalate"
   ]
  },
  {
   "cell_type": "code",
   "execution_count": 50,
   "id": "9ab479bf",
   "metadata": {},
   "outputs": [],
   "source": [
    "# Here, the pmf for both charged and uncharged monoester metabolites are given by the xvg files with their usual names\n",
    "# Like 5-MEHP.xvg, 5-MEHPH.xvg"
   ]
  },
  {
   "cell_type": "code",
   "execution_count": 51,
   "id": "727cb6c7",
   "metadata": {},
   "outputs": [],
   "source": [
    "pmf_mehp =  pd.read_csv('5-MEHP.xvg', header = None, delim_whitespace=True)"
   ]
  },
  {
   "cell_type": "code",
   "execution_count": 52,
   "id": "eb66bb70",
   "metadata": {},
   "outputs": [
    {
     "data": {
      "text/html": [
       "<div>\n",
       "<style scoped>\n",
       "    .dataframe tbody tr th:only-of-type {\n",
       "        vertical-align: middle;\n",
       "    }\n",
       "\n",
       "    .dataframe tbody tr th {\n",
       "        vertical-align: top;\n",
       "    }\n",
       "\n",
       "    .dataframe thead th {\n",
       "        text-align: right;\n",
       "    }\n",
       "</style>\n",
       "<table border=\"1\" class=\"dataframe\">\n",
       "  <thead>\n",
       "    <tr style=\"text-align: right;\">\n",
       "      <th></th>\n",
       "      <th>0</th>\n",
       "      <th>1</th>\n",
       "    </tr>\n",
       "  </thead>\n",
       "  <tbody>\n",
       "    <tr>\n",
       "      <th>0</th>\n",
       "      <td>0.005005</td>\n",
       "      <td>24.18347</td>\n",
       "    </tr>\n",
       "    <tr>\n",
       "      <th>1</th>\n",
       "      <td>0.015014</td>\n",
       "      <td>24.05735</td>\n",
       "    </tr>\n",
       "    <tr>\n",
       "      <th>2</th>\n",
       "      <td>0.025024</td>\n",
       "      <td>23.77671</td>\n",
       "    </tr>\n",
       "    <tr>\n",
       "      <th>3</th>\n",
       "      <td>0.035033</td>\n",
       "      <td>23.34942</td>\n",
       "    </tr>\n",
       "    <tr>\n",
       "      <th>4</th>\n",
       "      <td>0.045042</td>\n",
       "      <td>22.87557</td>\n",
       "    </tr>\n",
       "  </tbody>\n",
       "</table>\n",
       "</div>"
      ],
      "text/plain": [
       "          0         1\n",
       "0  0.005005  24.18347\n",
       "1  0.015014  24.05735\n",
       "2  0.025024  23.77671\n",
       "3  0.035033  23.34942\n",
       "4  0.045042  22.87557"
      ]
     },
     "execution_count": 52,
     "metadata": {},
     "output_type": "execute_result"
    }
   ],
   "source": [
    "pmf_mehp.head()"
   ]
  },
  {
   "cell_type": "code",
   "execution_count": 53,
   "id": "6d7e565f",
   "metadata": {},
   "outputs": [],
   "source": [
    "pmf_mehph =  pd.read_csv('5-MEHPH.xvg', header = None, delim_whitespace=True)"
   ]
  },
  {
   "cell_type": "code",
   "execution_count": 54,
   "id": "fe7b2895",
   "metadata": {},
   "outputs": [
    {
     "data": {
      "text/html": [
       "<div>\n",
       "<style scoped>\n",
       "    .dataframe tbody tr th:only-of-type {\n",
       "        vertical-align: middle;\n",
       "    }\n",
       "\n",
       "    .dataframe tbody tr th {\n",
       "        vertical-align: top;\n",
       "    }\n",
       "\n",
       "    .dataframe thead th {\n",
       "        text-align: right;\n",
       "    }\n",
       "</style>\n",
       "<table border=\"1\" class=\"dataframe\">\n",
       "  <thead>\n",
       "    <tr style=\"text-align: right;\">\n",
       "      <th></th>\n",
       "      <th>0</th>\n",
       "      <th>1</th>\n",
       "    </tr>\n",
       "  </thead>\n",
       "  <tbody>\n",
       "    <tr>\n",
       "      <th>0</th>\n",
       "      <td>0.005006</td>\n",
       "      <td>-4.78129</td>\n",
       "    </tr>\n",
       "    <tr>\n",
       "      <th>1</th>\n",
       "      <td>0.015017</td>\n",
       "      <td>-4.81654</td>\n",
       "    </tr>\n",
       "    <tr>\n",
       "      <th>2</th>\n",
       "      <td>0.025028</td>\n",
       "      <td>-4.84870</td>\n",
       "    </tr>\n",
       "    <tr>\n",
       "      <th>3</th>\n",
       "      <td>0.035039</td>\n",
       "      <td>-4.97489</td>\n",
       "    </tr>\n",
       "    <tr>\n",
       "      <th>4</th>\n",
       "      <td>0.045050</td>\n",
       "      <td>-5.11539</td>\n",
       "    </tr>\n",
       "  </tbody>\n",
       "</table>\n",
       "</div>"
      ],
      "text/plain": [
       "          0        1\n",
       "0  0.005006 -4.78129\n",
       "1  0.015017 -4.81654\n",
       "2  0.025028 -4.84870\n",
       "3  0.035039 -4.97489\n",
       "4  0.045050 -5.11539"
      ]
     },
     "execution_count": 54,
     "metadata": {},
     "output_type": "execute_result"
    }
   ],
   "source": [
    "pmf_mehph.head()"
   ]
  },
  {
   "cell_type": "code",
   "execution_count": 55,
   "id": "cac32a30",
   "metadata": {},
   "outputs": [],
   "source": [
    "# Extrapolating for the data at 0 for both\n",
    "df = pd.DataFrame({0: [0.000000], 1: 24.18347})\n",
    "df = df.append(pmf_mehp)\n",
    "df = df.reset_index(drop=True)"
   ]
  },
  {
   "cell_type": "code",
   "execution_count": 56,
   "id": "a1cfd0fc",
   "metadata": {},
   "outputs": [],
   "source": [
    "# Just making a copy to have same name as original\n",
    "pmf_mehp = df.copy(deep=True)"
   ]
  },
  {
   "cell_type": "code",
   "execution_count": 57,
   "id": "8fd8ece7",
   "metadata": {},
   "outputs": [
    {
     "data": {
      "text/html": [
       "<div>\n",
       "<style scoped>\n",
       "    .dataframe tbody tr th:only-of-type {\n",
       "        vertical-align: middle;\n",
       "    }\n",
       "\n",
       "    .dataframe tbody tr th {\n",
       "        vertical-align: top;\n",
       "    }\n",
       "\n",
       "    .dataframe thead th {\n",
       "        text-align: right;\n",
       "    }\n",
       "</style>\n",
       "<table border=\"1\" class=\"dataframe\">\n",
       "  <thead>\n",
       "    <tr style=\"text-align: right;\">\n",
       "      <th></th>\n",
       "      <th>0</th>\n",
       "      <th>1</th>\n",
       "    </tr>\n",
       "  </thead>\n",
       "  <tbody>\n",
       "    <tr>\n",
       "      <th>0</th>\n",
       "      <td>0.000000</td>\n",
       "      <td>24.18347</td>\n",
       "    </tr>\n",
       "    <tr>\n",
       "      <th>1</th>\n",
       "      <td>0.005005</td>\n",
       "      <td>24.18347</td>\n",
       "    </tr>\n",
       "    <tr>\n",
       "      <th>2</th>\n",
       "      <td>0.015014</td>\n",
       "      <td>24.05735</td>\n",
       "    </tr>\n",
       "    <tr>\n",
       "      <th>3</th>\n",
       "      <td>0.025024</td>\n",
       "      <td>23.77671</td>\n",
       "    </tr>\n",
       "    <tr>\n",
       "      <th>4</th>\n",
       "      <td>0.035033</td>\n",
       "      <td>23.34942</td>\n",
       "    </tr>\n",
       "  </tbody>\n",
       "</table>\n",
       "</div>"
      ],
      "text/plain": [
       "          0         1\n",
       "0  0.000000  24.18347\n",
       "1  0.005005  24.18347\n",
       "2  0.015014  24.05735\n",
       "3  0.025024  23.77671\n",
       "4  0.035033  23.34942"
      ]
     },
     "execution_count": 57,
     "metadata": {},
     "output_type": "execute_result"
    }
   ],
   "source": [
    "pmf_mehp.head()"
   ]
  },
  {
   "cell_type": "code",
   "execution_count": 58,
   "id": "769b948f",
   "metadata": {},
   "outputs": [],
   "source": [
    "# We don't want the values of z distance above 4, so\n",
    "pmf_mehp = pmf_mehp[pmf_mehp[0] <= 4.000000]"
   ]
  },
  {
   "cell_type": "code",
   "execution_count": 59,
   "id": "3c80a96a",
   "metadata": {},
   "outputs": [
    {
     "data": {
      "text/html": [
       "<div>\n",
       "<style scoped>\n",
       "    .dataframe tbody tr th:only-of-type {\n",
       "        vertical-align: middle;\n",
       "    }\n",
       "\n",
       "    .dataframe tbody tr th {\n",
       "        vertical-align: top;\n",
       "    }\n",
       "\n",
       "    .dataframe thead th {\n",
       "        text-align: right;\n",
       "    }\n",
       "</style>\n",
       "<table border=\"1\" class=\"dataframe\">\n",
       "  <thead>\n",
       "    <tr style=\"text-align: right;\">\n",
       "      <th></th>\n",
       "      <th>0</th>\n",
       "      <th>1</th>\n",
       "    </tr>\n",
       "  </thead>\n",
       "  <tbody>\n",
       "    <tr>\n",
       "      <th>396</th>\n",
       "      <td>3.958720</td>\n",
       "      <td>0.096774</td>\n",
       "    </tr>\n",
       "    <tr>\n",
       "      <th>397</th>\n",
       "      <td>3.968730</td>\n",
       "      <td>0.081822</td>\n",
       "    </tr>\n",
       "    <tr>\n",
       "      <th>398</th>\n",
       "      <td>3.978739</td>\n",
       "      <td>0.071655</td>\n",
       "    </tr>\n",
       "    <tr>\n",
       "      <th>399</th>\n",
       "      <td>3.988748</td>\n",
       "      <td>0.067265</td>\n",
       "    </tr>\n",
       "    <tr>\n",
       "      <th>400</th>\n",
       "      <td>3.998758</td>\n",
       "      <td>0.076853</td>\n",
       "    </tr>\n",
       "  </tbody>\n",
       "</table>\n",
       "</div>"
      ],
      "text/plain": [
       "            0         1\n",
       "396  3.958720  0.096774\n",
       "397  3.968730  0.081822\n",
       "398  3.978739  0.071655\n",
       "399  3.988748  0.067265\n",
       "400  3.998758  0.076853"
      ]
     },
     "execution_count": 59,
     "metadata": {},
     "output_type": "execute_result"
    }
   ],
   "source": [
    "pmf_mehp.tail()"
   ]
  },
  {
   "cell_type": "code",
   "execution_count": 60,
   "id": "f7bd09e8",
   "metadata": {},
   "outputs": [],
   "source": [
    "# Just extrapolating to have the same value in z = 4 nm as in z = 3.998758\n",
    "pmf_mehp = pmf_mehp.append({0: 4.000000, 1: 0.076853}, ignore_index = True)"
   ]
  },
  {
   "cell_type": "code",
   "execution_count": 61,
   "id": "98b197ad",
   "metadata": {},
   "outputs": [
    {
     "data": {
      "text/html": [
       "<div>\n",
       "<style scoped>\n",
       "    .dataframe tbody tr th:only-of-type {\n",
       "        vertical-align: middle;\n",
       "    }\n",
       "\n",
       "    .dataframe tbody tr th {\n",
       "        vertical-align: top;\n",
       "    }\n",
       "\n",
       "    .dataframe thead th {\n",
       "        text-align: right;\n",
       "    }\n",
       "</style>\n",
       "<table border=\"1\" class=\"dataframe\">\n",
       "  <thead>\n",
       "    <tr style=\"text-align: right;\">\n",
       "      <th></th>\n",
       "      <th>0</th>\n",
       "      <th>1</th>\n",
       "    </tr>\n",
       "  </thead>\n",
       "  <tbody>\n",
       "    <tr>\n",
       "      <th>397</th>\n",
       "      <td>3.968730</td>\n",
       "      <td>0.081822</td>\n",
       "    </tr>\n",
       "    <tr>\n",
       "      <th>398</th>\n",
       "      <td>3.978739</td>\n",
       "      <td>0.071655</td>\n",
       "    </tr>\n",
       "    <tr>\n",
       "      <th>399</th>\n",
       "      <td>3.988748</td>\n",
       "      <td>0.067265</td>\n",
       "    </tr>\n",
       "    <tr>\n",
       "      <th>400</th>\n",
       "      <td>3.998758</td>\n",
       "      <td>0.076853</td>\n",
       "    </tr>\n",
       "    <tr>\n",
       "      <th>401</th>\n",
       "      <td>4.000000</td>\n",
       "      <td>0.076853</td>\n",
       "    </tr>\n",
       "  </tbody>\n",
       "</table>\n",
       "</div>"
      ],
      "text/plain": [
       "            0         1\n",
       "397  3.968730  0.081822\n",
       "398  3.978739  0.071655\n",
       "399  3.988748  0.067265\n",
       "400  3.998758  0.076853\n",
       "401  4.000000  0.076853"
      ]
     },
     "execution_count": 61,
     "metadata": {},
     "output_type": "execute_result"
    }
   ],
   "source": [
    "pmf_mehp.tail()"
   ]
  },
  {
   "cell_type": "code",
   "execution_count": 62,
   "id": "c83986f1",
   "metadata": {},
   "outputs": [],
   "source": [
    "# Similarly for mehph,\n",
    "# Extrapolating for the data at 0 for both\n",
    "df = pd.DataFrame({0: [0.000000], 1: -4.78129})\n",
    "df = df.append(pmf_mehph)\n",
    "df = df.reset_index(drop=True)\n",
    "# Just making a copy to have same name as original\n",
    "pmf_mehph = df.copy(deep=True)"
   ]
  },
  {
   "cell_type": "code",
   "execution_count": 67,
   "id": "76381495",
   "metadata": {},
   "outputs": [
    {
     "data": {
      "text/html": [
       "<div>\n",
       "<style scoped>\n",
       "    .dataframe tbody tr th:only-of-type {\n",
       "        vertical-align: middle;\n",
       "    }\n",
       "\n",
       "    .dataframe tbody tr th {\n",
       "        vertical-align: top;\n",
       "    }\n",
       "\n",
       "    .dataframe thead th {\n",
       "        text-align: right;\n",
       "    }\n",
       "</style>\n",
       "<table border=\"1\" class=\"dataframe\">\n",
       "  <thead>\n",
       "    <tr style=\"text-align: right;\">\n",
       "      <th></th>\n",
       "      <th>0</th>\n",
       "      <th>1</th>\n",
       "    </tr>\n",
       "  </thead>\n",
       "  <tbody>\n",
       "    <tr>\n",
       "      <th>0</th>\n",
       "      <td>0.000000</td>\n",
       "      <td>-4.78129</td>\n",
       "    </tr>\n",
       "    <tr>\n",
       "      <th>1</th>\n",
       "      <td>0.005006</td>\n",
       "      <td>-4.78129</td>\n",
       "    </tr>\n",
       "    <tr>\n",
       "      <th>2</th>\n",
       "      <td>0.015017</td>\n",
       "      <td>-4.81654</td>\n",
       "    </tr>\n",
       "    <tr>\n",
       "      <th>3</th>\n",
       "      <td>0.025028</td>\n",
       "      <td>-4.84870</td>\n",
       "    </tr>\n",
       "    <tr>\n",
       "      <th>4</th>\n",
       "      <td>0.035039</td>\n",
       "      <td>-4.97489</td>\n",
       "    </tr>\n",
       "  </tbody>\n",
       "</table>\n",
       "</div>"
      ],
      "text/plain": [
       "          0        1\n",
       "0  0.000000 -4.78129\n",
       "1  0.005006 -4.78129\n",
       "2  0.015017 -4.81654\n",
       "3  0.025028 -4.84870\n",
       "4  0.035039 -4.97489"
      ]
     },
     "execution_count": 67,
     "metadata": {},
     "output_type": "execute_result"
    }
   ],
   "source": [
    "pmf_mehph.head()"
   ]
  },
  {
   "cell_type": "code",
   "execution_count": 68,
   "id": "670ace75",
   "metadata": {},
   "outputs": [],
   "source": [
    "# We don't want the values of z distance above 4, so\n",
    "pmf_mehph = pmf_mehph[pmf_mehph[0] <= 4.000000]"
   ]
  },
  {
   "cell_type": "code",
   "execution_count": 71,
   "id": "4b149e00",
   "metadata": {},
   "outputs": [
    {
     "data": {
      "text/html": [
       "<div>\n",
       "<style scoped>\n",
       "    .dataframe tbody tr th:only-of-type {\n",
       "        vertical-align: middle;\n",
       "    }\n",
       "\n",
       "    .dataframe tbody tr th {\n",
       "        vertical-align: top;\n",
       "    }\n",
       "\n",
       "    .dataframe thead th {\n",
       "        text-align: right;\n",
       "    }\n",
       "</style>\n",
       "<table border=\"1\" class=\"dataframe\">\n",
       "  <thead>\n",
       "    <tr style=\"text-align: right;\">\n",
       "      <th></th>\n",
       "      <th>0</th>\n",
       "      <th>1</th>\n",
       "    </tr>\n",
       "  </thead>\n",
       "  <tbody>\n",
       "    <tr>\n",
       "      <th>396</th>\n",
       "      <td>3.959378</td>\n",
       "      <td>18.797389</td>\n",
       "    </tr>\n",
       "    <tr>\n",
       "      <th>397</th>\n",
       "      <td>3.969389</td>\n",
       "      <td>18.813379</td>\n",
       "    </tr>\n",
       "    <tr>\n",
       "      <th>398</th>\n",
       "      <td>3.979400</td>\n",
       "      <td>18.844717</td>\n",
       "    </tr>\n",
       "    <tr>\n",
       "      <th>399</th>\n",
       "      <td>3.989411</td>\n",
       "      <td>18.808464</td>\n",
       "    </tr>\n",
       "    <tr>\n",
       "      <th>400</th>\n",
       "      <td>3.999422</td>\n",
       "      <td>18.806849</td>\n",
       "    </tr>\n",
       "  </tbody>\n",
       "</table>\n",
       "</div>"
      ],
      "text/plain": [
       "            0          1\n",
       "396  3.959378  18.797389\n",
       "397  3.969389  18.813379\n",
       "398  3.979400  18.844717\n",
       "399  3.989411  18.808464\n",
       "400  3.999422  18.806849"
      ]
     },
     "execution_count": 71,
     "metadata": {},
     "output_type": "execute_result"
    }
   ],
   "source": [
    "pmf_mehph.tail()"
   ]
  },
  {
   "cell_type": "code",
   "execution_count": 72,
   "id": "eb40899a",
   "metadata": {},
   "outputs": [],
   "source": [
    "# Just extrapolating to have the same value in z = 4 nm as in z = 3.997334\n",
    "pmf_mehph = pmf_mehph.append({0: 4.000000, 1: 18.806849}, ignore_index = True)"
   ]
  },
  {
   "cell_type": "code",
   "execution_count": 73,
   "id": "5e6b071c",
   "metadata": {},
   "outputs": [
    {
     "data": {
      "text/html": [
       "<div>\n",
       "<style scoped>\n",
       "    .dataframe tbody tr th:only-of-type {\n",
       "        vertical-align: middle;\n",
       "    }\n",
       "\n",
       "    .dataframe tbody tr th {\n",
       "        vertical-align: top;\n",
       "    }\n",
       "\n",
       "    .dataframe thead th {\n",
       "        text-align: right;\n",
       "    }\n",
       "</style>\n",
       "<table border=\"1\" class=\"dataframe\">\n",
       "  <thead>\n",
       "    <tr style=\"text-align: right;\">\n",
       "      <th></th>\n",
       "      <th>0</th>\n",
       "      <th>1</th>\n",
       "    </tr>\n",
       "  </thead>\n",
       "  <tbody>\n",
       "    <tr>\n",
       "      <th>0</th>\n",
       "      <td>0.000000</td>\n",
       "      <td>-4.781290</td>\n",
       "    </tr>\n",
       "    <tr>\n",
       "      <th>1</th>\n",
       "      <td>0.005006</td>\n",
       "      <td>-4.781290</td>\n",
       "    </tr>\n",
       "    <tr>\n",
       "      <th>2</th>\n",
       "      <td>0.015017</td>\n",
       "      <td>-4.816540</td>\n",
       "    </tr>\n",
       "    <tr>\n",
       "      <th>3</th>\n",
       "      <td>0.025028</td>\n",
       "      <td>-4.848700</td>\n",
       "    </tr>\n",
       "    <tr>\n",
       "      <th>4</th>\n",
       "      <td>0.035039</td>\n",
       "      <td>-4.974890</td>\n",
       "    </tr>\n",
       "    <tr>\n",
       "      <th>...</th>\n",
       "      <td>...</td>\n",
       "      <td>...</td>\n",
       "    </tr>\n",
       "    <tr>\n",
       "      <th>397</th>\n",
       "      <td>3.969389</td>\n",
       "      <td>18.813379</td>\n",
       "    </tr>\n",
       "    <tr>\n",
       "      <th>398</th>\n",
       "      <td>3.979400</td>\n",
       "      <td>18.844717</td>\n",
       "    </tr>\n",
       "    <tr>\n",
       "      <th>399</th>\n",
       "      <td>3.989411</td>\n",
       "      <td>18.808464</td>\n",
       "    </tr>\n",
       "    <tr>\n",
       "      <th>400</th>\n",
       "      <td>3.999422</td>\n",
       "      <td>18.806849</td>\n",
       "    </tr>\n",
       "    <tr>\n",
       "      <th>401</th>\n",
       "      <td>4.000000</td>\n",
       "      <td>18.806849</td>\n",
       "    </tr>\n",
       "  </tbody>\n",
       "</table>\n",
       "<p>402 rows × 2 columns</p>\n",
       "</div>"
      ],
      "text/plain": [
       "            0          1\n",
       "0    0.000000  -4.781290\n",
       "1    0.005006  -4.781290\n",
       "2    0.015017  -4.816540\n",
       "3    0.025028  -4.848700\n",
       "4    0.035039  -4.974890\n",
       "..        ...        ...\n",
       "397  3.969389  18.813379\n",
       "398  3.979400  18.844717\n",
       "399  3.989411  18.808464\n",
       "400  3.999422  18.806849\n",
       "401  4.000000  18.806849\n",
       "\n",
       "[402 rows x 2 columns]"
      ]
     },
     "execution_count": 73,
     "metadata": {},
     "output_type": "execute_result"
    }
   ],
   "source": [
    "pmf_mehph"
   ]
  },
  {
   "cell_type": "code",
   "execution_count": 74,
   "id": "6effecf8",
   "metadata": {},
   "outputs": [
    {
     "data": {
      "text/html": [
       "<div>\n",
       "<style scoped>\n",
       "    .dataframe tbody tr th:only-of-type {\n",
       "        vertical-align: middle;\n",
       "    }\n",
       "\n",
       "    .dataframe tbody tr th {\n",
       "        vertical-align: top;\n",
       "    }\n",
       "\n",
       "    .dataframe thead th {\n",
       "        text-align: right;\n",
       "    }\n",
       "</style>\n",
       "<table border=\"1\" class=\"dataframe\">\n",
       "  <thead>\n",
       "    <tr style=\"text-align: right;\">\n",
       "      <th></th>\n",
       "      <th>0</th>\n",
       "      <th>1</th>\n",
       "    </tr>\n",
       "  </thead>\n",
       "  <tbody>\n",
       "    <tr>\n",
       "      <th>0</th>\n",
       "      <td>0.000000</td>\n",
       "      <td>24.183470</td>\n",
       "    </tr>\n",
       "    <tr>\n",
       "      <th>1</th>\n",
       "      <td>0.005005</td>\n",
       "      <td>24.183470</td>\n",
       "    </tr>\n",
       "    <tr>\n",
       "      <th>2</th>\n",
       "      <td>0.015014</td>\n",
       "      <td>24.057350</td>\n",
       "    </tr>\n",
       "    <tr>\n",
       "      <th>3</th>\n",
       "      <td>0.025024</td>\n",
       "      <td>23.776710</td>\n",
       "    </tr>\n",
       "    <tr>\n",
       "      <th>4</th>\n",
       "      <td>0.035033</td>\n",
       "      <td>23.349420</td>\n",
       "    </tr>\n",
       "    <tr>\n",
       "      <th>...</th>\n",
       "      <td>...</td>\n",
       "      <td>...</td>\n",
       "    </tr>\n",
       "    <tr>\n",
       "      <th>397</th>\n",
       "      <td>3.968730</td>\n",
       "      <td>0.081822</td>\n",
       "    </tr>\n",
       "    <tr>\n",
       "      <th>398</th>\n",
       "      <td>3.978739</td>\n",
       "      <td>0.071655</td>\n",
       "    </tr>\n",
       "    <tr>\n",
       "      <th>399</th>\n",
       "      <td>3.988748</td>\n",
       "      <td>0.067265</td>\n",
       "    </tr>\n",
       "    <tr>\n",
       "      <th>400</th>\n",
       "      <td>3.998758</td>\n",
       "      <td>0.076853</td>\n",
       "    </tr>\n",
       "    <tr>\n",
       "      <th>401</th>\n",
       "      <td>4.000000</td>\n",
       "      <td>0.076853</td>\n",
       "    </tr>\n",
       "  </tbody>\n",
       "</table>\n",
       "<p>402 rows × 2 columns</p>\n",
       "</div>"
      ],
      "text/plain": [
       "            0          1\n",
       "0    0.000000  24.183470\n",
       "1    0.005005  24.183470\n",
       "2    0.015014  24.057350\n",
       "3    0.025024  23.776710\n",
       "4    0.035033  23.349420\n",
       "..        ...        ...\n",
       "397  3.968730   0.081822\n",
       "398  3.978739   0.071655\n",
       "399  3.988748   0.067265\n",
       "400  3.998758   0.076853\n",
       "401  4.000000   0.076853\n",
       "\n",
       "[402 rows x 2 columns]"
      ]
     },
     "execution_count": 74,
     "metadata": {},
     "output_type": "execute_result"
    }
   ],
   "source": [
    "pmf_mehp"
   ]
  },
  {
   "cell_type": "code",
   "execution_count": 75,
   "id": "46e5aa96",
   "metadata": {},
   "outputs": [
    {
     "data": {
      "text/html": [
       "<div>\n",
       "<style scoped>\n",
       "    .dataframe tbody tr th:only-of-type {\n",
       "        vertical-align: middle;\n",
       "    }\n",
       "\n",
       "    .dataframe tbody tr th {\n",
       "        vertical-align: top;\n",
       "    }\n",
       "\n",
       "    .dataframe thead th {\n",
       "        text-align: right;\n",
       "    }\n",
       "</style>\n",
       "<table border=\"1\" class=\"dataframe\">\n",
       "  <thead>\n",
       "    <tr style=\"text-align: right;\">\n",
       "      <th></th>\n",
       "      <th>0</th>\n",
       "      <th>1</th>\n",
       "      <th>2</th>\n",
       "    </tr>\n",
       "  </thead>\n",
       "  <tbody>\n",
       "    <tr>\n",
       "      <th>0</th>\n",
       "      <td>0.000000</td>\n",
       "      <td>-4.781046</td>\n",
       "      <td>0.145236</td>\n",
       "    </tr>\n",
       "    <tr>\n",
       "      <th>1</th>\n",
       "      <td>0.005005</td>\n",
       "      <td>-4.781046</td>\n",
       "      <td>0.145236</td>\n",
       "    </tr>\n",
       "    <tr>\n",
       "      <th>2</th>\n",
       "      <td>0.015014</td>\n",
       "      <td>-4.816288</td>\n",
       "      <td>0.143185</td>\n",
       "    </tr>\n",
       "    <tr>\n",
       "      <th>3</th>\n",
       "      <td>0.025024</td>\n",
       "      <td>-4.848423</td>\n",
       "      <td>0.141340</td>\n",
       "    </tr>\n",
       "    <tr>\n",
       "      <th>4</th>\n",
       "      <td>0.035033</td>\n",
       "      <td>-4.974581</td>\n",
       "      <td>0.134324</td>\n",
       "    </tr>\n",
       "    <tr>\n",
       "      <th>...</th>\n",
       "      <td>...</td>\n",
       "      <td>...</td>\n",
       "      <td>...</td>\n",
       "    </tr>\n",
       "    <tr>\n",
       "      <th>397</th>\n",
       "      <td>3.968730</td>\n",
       "      <td>0.091611</td>\n",
       "      <td>1.037662</td>\n",
       "    </tr>\n",
       "    <tr>\n",
       "      <th>398</th>\n",
       "      <td>3.978739</td>\n",
       "      <td>0.081302</td>\n",
       "      <td>1.033354</td>\n",
       "    </tr>\n",
       "    <tr>\n",
       "      <th>399</th>\n",
       "      <td>3.988748</td>\n",
       "      <td>0.077020</td>\n",
       "      <td>1.031570</td>\n",
       "    </tr>\n",
       "    <tr>\n",
       "      <th>400</th>\n",
       "      <td>3.998758</td>\n",
       "      <td>0.086647</td>\n",
       "      <td>1.035585</td>\n",
       "    </tr>\n",
       "    <tr>\n",
       "      <th>401</th>\n",
       "      <td>4.000000</td>\n",
       "      <td>0.086647</td>\n",
       "      <td>1.035585</td>\n",
       "    </tr>\n",
       "  </tbody>\n",
       "</table>\n",
       "<p>402 rows × 3 columns</p>\n",
       "</div>"
      ],
      "text/plain": [
       "            0         1         2\n",
       "0    0.000000 -4.781046  0.145236\n",
       "1    0.005005 -4.781046  0.145236\n",
       "2    0.015014 -4.816288  0.143185\n",
       "3    0.025024 -4.848423  0.141340\n",
       "4    0.035033 -4.974581  0.134324\n",
       "..        ...       ...       ...\n",
       "397  3.968730  0.091611  1.037662\n",
       "398  3.978739  0.081302  1.033354\n",
       "399  3.988748  0.077020  1.031570\n",
       "400  3.998758  0.086647  1.035585\n",
       "401  4.000000  0.086647  1.035585\n",
       "\n",
       "[402 rows x 3 columns]"
      ]
     },
     "execution_count": 75,
     "metadata": {},
     "output_type": "execute_result"
    }
   ],
   "source": [
    "pmf_mehp_mehph"
   ]
  },
  {
   "cell_type": "code",
   "execution_count": 77,
   "id": "41d956e7",
   "metadata": {},
   "outputs": [
    {
     "data": {
      "text/plain": [
       "<matplotlib.legend.Legend at 0x7f24f922c790>"
      ]
     },
     "execution_count": 77,
     "metadata": {},
     "output_type": "execute_result"
    },
    {
     "data": {
      "image/png": "[encoded data removed]",
      "text/plain": [
       "<Figure size 720x576 with 1 Axes>"
      ]
     },
     "metadata": {
      "needs_background": "light"
     },
     "output_type": "display_data"
    }
   ],
   "source": [
    "# Now, check a rough plot for free energy\n",
    "plt.figure(figsize = (10,8))\n",
    "plt.plot(pmf_mehp[0], pmf_mehp[1], color = 'r', label = 'MEHP')\n",
    "plt.plot(-pmf_mehp[0], pmf_mehp[1], color = 'r')\n",
    "plt.plot(pmf_mehph[0], pmf_mehph[1], color = 'g', label = 'MEHPH')\n",
    "plt.plot(-pmf_mehph[0], pmf_mehph[1], color = 'g')\n",
    "plt.plot(pmf_mehp_mehph[0], pmf_mehp_mehph[1], color = 'cyan', label = 'Weighted')\n",
    "plt.plot(-pmf_mehp_mehph[0], pmf_mehp_mehph[1], color = 'cyan')\n",
    "\n",
    "plt.legend()"
   ]
  },
  {
   "cell_type": "code",
   "execution_count": 78,
   "id": "b0194307",
   "metadata": {},
   "outputs": [],
   "source": [
    "diff_mehp = pd.read_csv('MEHP_dif.txt', header = None, delim_whitespace=True)\n",
    "diff_mehph = pd.read_csv('MEHPH_dif.txt', header = None, delim_whitespace = True)"
   ]
  },
  {
   "cell_type": "code",
   "execution_count": 79,
   "id": "7565c2a0",
   "metadata": {},
   "outputs": [
    {
     "data": {
      "text/plain": [
       "<matplotlib.legend.Legend at 0x7f24f9ce2f10>"
      ]
     },
     "execution_count": 79,
     "metadata": {},
     "output_type": "execute_result"
    },
    {
     "data": {
      "image/png": "[encoded data removed]",
      "text/plain": [
       "<Figure size 432x288 with 1 Axes>"
      ]
     },
     "metadata": {
      "needs_background": "light"
     },
     "output_type": "display_data"
    }
   ],
   "source": [
    "# Plotting both diffusion coefficients\n",
    "plt.plot(diff_mehp[0], diff_mehp[1], '--o', color = 'k', label = 'MEHP')\n",
    "plt.plot(diff_mehph[0], diff_mehph[1], '--o', color = 'r', label = 'MEHPH')\n",
    "plt.legend()"
   ]
  },
  {
   "cell_type": "markdown",
   "id": "12e347ba",
   "metadata": {},
   "source": [
    "Here, the linear interpolation is done for our diffusion coefficient so that we can obtain the missing values at the position specified by the PMF data. The function takes these values **np.interp(The z-coordinates at which to evaluate the interpolated values, The z-coordinates of the data points, The function values of these data points)**"
   ]
  },
  {
   "cell_type": "code",
   "execution_count": 85,
   "id": "5b62ae34",
   "metadata": {},
   "outputs": [
    {
     "data": {
      "text/plain": [
       "True"
      ]
     },
     "execution_count": 85,
     "metadata": {},
     "output_type": "execute_result"
    }
   ],
   "source": [
    "any(pmf_mehp_mehph[0] == pmf_mehp[0]) # As the z distance of mehp, and the weighted average mehp_mehph is same, \n",
    "# we can interpolate on either of them"
   ]
  },
  {
   "cell_type": "code",
   "execution_count": 86,
   "id": "a69a8088",
   "metadata": {},
   "outputs": [],
   "source": [
    "diff_mehp_inter = np.interp(pmf_mehp[0], diff_mehp[0], diff_mehp[1])\n",
    "diff_mehph_inter = np.interp(pmf_mehp[0], diff_mehph[0], diff_mehph[1])"
   ]
  },
  {
   "cell_type": "code",
   "execution_count": 87,
   "id": "f58fc98a",
   "metadata": {},
   "outputs": [
    {
     "data": {
      "text/plain": [
       "402"
      ]
     },
     "execution_count": 87,
     "metadata": {},
     "output_type": "execute_result"
    }
   ],
   "source": [
    "len(diff_mehp_inter)"
   ]
  },
  {
   "cell_type": "code",
   "execution_count": 88,
   "id": "f290a255",
   "metadata": {},
   "outputs": [
    {
     "data": {
      "text/plain": [
       "402"
      ]
     },
     "execution_count": 88,
     "metadata": {},
     "output_type": "execute_result"
    }
   ],
   "source": [
    "len(diff_mehph_inter)"
   ]
  },
  {
   "cell_type": "code",
   "execution_count": 90,
   "id": "be88739d",
   "metadata": {},
   "outputs": [
    {
     "data": {
      "text/plain": [
       "<matplotlib.legend.Legend at 0x7f24f99e50d0>"
      ]
     },
     "execution_count": 90,
     "metadata": {},
     "output_type": "execute_result"
    },
    {
     "data": {
      "image/png": "[encoded data removed]",
      "text/plain": [
       "<Figure size 432x288 with 1 Axes>"
      ]
     },
     "metadata": {
      "needs_background": "light"
     },
     "output_type": "display_data"
    }
   ],
   "source": [
    "# Plot both to check the interpolated values if it makes sense or not\n",
    "plt.plot(pmf_mehp[0], diff_mehp_inter, '--.', color = 'k', label = 'MEHP')\n",
    "plt.plot(pmf_mehp[0], diff_mehph_inter, '--.', color = 'r', label = 'MEHPH')\n",
    "plt.legend()\n",
    "# It does with many data points"
   ]
  },
  {
   "cell_type": "code",
   "execution_count": 91,
   "id": "caf2e466",
   "metadata": {},
   "outputs": [
    {
     "data": {
      "text/plain": [
       "0    0.000000\n",
       "1    0.005005\n",
       "2    0.015014\n",
       "3    0.025024\n",
       "4    0.035033\n",
       "Name: 0, dtype: float64"
      ]
     },
     "execution_count": 91,
     "metadata": {},
     "output_type": "execute_result"
    }
   ],
   "source": [
    "pmf_mehp_mehph[0].head()"
   ]
  },
  {
   "cell_type": "code",
   "execution_count": 92,
   "id": "28813125",
   "metadata": {},
   "outputs": [
    {
     "data": {
      "text/plain": [
       "0    0.000000\n",
       "1    0.005005\n",
       "2    0.015014\n",
       "3    0.025024\n",
       "4    0.035033\n",
       "Name: 0, dtype: float64"
      ]
     },
     "execution_count": 92,
     "metadata": {},
     "output_type": "execute_result"
    }
   ],
   "source": [
    "pmf_mehp[0].head()"
   ]
  },
  {
   "cell_type": "code",
   "execution_count": 93,
   "id": "06f07013",
   "metadata": {},
   "outputs": [
    {
     "data": {
      "text/plain": [
       "0    0.000000\n",
       "1    0.005006\n",
       "2    0.015017\n",
       "3    0.025028\n",
       "4    0.035039\n",
       "Name: 0, dtype: float64"
      ]
     },
     "execution_count": 93,
     "metadata": {},
     "output_type": "execute_result"
    }
   ],
   "source": [
    "pmf_mehph[0].head()"
   ]
  },
  {
   "cell_type": "markdown",
   "id": "8e37899a",
   "metadata": {},
   "source": [
    "So, since the z distance of pmf_meph is not same as of pme_mep, and weighted average(pme_mep_meph), we are now interpolating the value of pmf for meph at same z distance as that of mep and the weighted average. Let's make a new dataframe meph with interpolated values for pmf which we can use for our calculations"
   ]
  },
  {
   "cell_type": "code",
   "execution_count": 94,
   "id": "adde9c7e",
   "metadata": {},
   "outputs": [],
   "source": [
    "mehph = np.interp(pmf_mehp[0], pmf_mehph[0], pmf_mehph[1])"
   ]
  },
  {
   "cell_type": "code",
   "execution_count": 96,
   "id": "80c5bd10",
   "metadata": {},
   "outputs": [
    {
     "data": {
      "text/plain": [
       "0      -4.781290\n",
       "1      -4.781290\n",
       "2      -4.816540\n",
       "3      -4.848700\n",
       "4      -4.974890\n",
       "         ...    \n",
       "397    18.813379\n",
       "398    18.844717\n",
       "399    18.808464\n",
       "400    18.806849\n",
       "401    18.806849\n",
       "Name: 1, Length: 402, dtype: float64"
      ]
     },
     "execution_count": 96,
     "metadata": {},
     "output_type": "execute_result"
    }
   ],
   "source": [
    "pmf_mehph[1]"
   ]
  },
  {
   "cell_type": "code",
   "execution_count": 97,
   "id": "7d709f15",
   "metadata": {},
   "outputs": [
    {
     "data": {
      "text/plain": [
       "0      -4.781290\n",
       "1      -4.781290\n",
       "2      -4.816531\n",
       "3      -4.848687\n",
       "4      -4.974817\n",
       "         ...    \n",
       "397    18.812326\n",
       "398    18.842648\n",
       "399    18.810865\n",
       "400    18.806956\n",
       "401    18.806849\n",
       "Length: 402, dtype: float64"
      ]
     },
     "execution_count": 97,
     "metadata": {},
     "output_type": "execute_result"
    }
   ],
   "source": [
    "pd.Series(mehph)"
   ]
  },
  {
   "cell_type": "code",
   "execution_count": 98,
   "id": "4f65f675",
   "metadata": {},
   "outputs": [],
   "source": [
    "# As you can see, not much of difference between the original values pmf_mehph, and the interpolated ones mehph\n",
    "# We can make a plot for both and check if we want"
   ]
  },
  {
   "cell_type": "code",
   "execution_count": 99,
   "id": "580fa93e",
   "metadata": {},
   "outputs": [
    {
     "data": {
      "text/plain": [
       "<matplotlib.legend.Legend at 0x7f24f9b2f3d0>"
      ]
     },
     "execution_count": 99,
     "metadata": {},
     "output_type": "execute_result"
    },
    {
     "data": {
      "image/png": "[encoded data removed]",
      "text/plain": [
       "<Figure size 432x288 with 1 Axes>"
      ]
     },
     "metadata": {
      "needs_background": "light"
     },
     "output_type": "display_data"
    }
   ],
   "source": [
    "# Plot both\n",
    "plt.plot(pmf_mehp[0], pmf_mehph[1], label = 'Original', color = 'k')\n",
    "plt.plot(pmf_mehp[0], mehph, label = 'Interpolated', color = 'r')\n",
    "plt.legend()\n",
    "# So they coincide, not a difference at all"
   ]
  },
  {
   "cell_type": "markdown",
   "id": "9c35df81",
   "metadata": {},
   "source": [
    "#### Now, for the weighted average of the diffusion coefficient, we need to make a dataframe where we make a separate columns for distance, free energy of deprotonated(P), free energy of protonated(PH), Diffusion coefficient for deprotonated, Diffusion coefficient for protonated, and finally the the partition function (Q(z)) according to the relation $$D(z) = D(z)_P\\frac{e^{\\frac{-\\Delta G(z)_P}{RT}}}{Q(z)} + D(z)_{PH}\\frac{e^{\\frac{-\\Delta G(z)_{PH}}{RT}}}{Q(z)}$$\n",
    "where, $Q(z)$ is the sum of two states given by, $$Q(z) = e^{\\frac{-\\Delta G(z)_P}{RT}} + e^{\\frac{-\\Delta G(z)_{PH}}{RT}}$$"
   ]
  },
  {
   "cell_type": "code",
   "execution_count": 100,
   "id": "062b262b",
   "metadata": {},
   "outputs": [],
   "source": [
    "df_diffusion = pd.DataFrame({'z':pmf_mehp[0], 'G_P': pmf_mehp[1], 'G_PH': mehph, 'D_P': diff_mehp_inter, 'D_PH': diff_mehph_inter}) "
   ]
  },
  {
   "cell_type": "code",
   "execution_count": 101,
   "id": "7f90b8d9",
   "metadata": {},
   "outputs": [
    {
     "data": {
      "text/html": [
       "<div>\n",
       "<style scoped>\n",
       "    .dataframe tbody tr th:only-of-type {\n",
       "        vertical-align: middle;\n",
       "    }\n",
       "\n",
       "    .dataframe tbody tr th {\n",
       "        vertical-align: top;\n",
       "    }\n",
       "\n",
       "    .dataframe thead th {\n",
       "        text-align: right;\n",
       "    }\n",
       "</style>\n",
       "<table border=\"1\" class=\"dataframe\">\n",
       "  <thead>\n",
       "    <tr style=\"text-align: right;\">\n",
       "      <th></th>\n",
       "      <th>z</th>\n",
       "      <th>G_P</th>\n",
       "      <th>G_PH</th>\n",
       "      <th>D_P</th>\n",
       "      <th>D_PH</th>\n",
       "    </tr>\n",
       "  </thead>\n",
       "  <tbody>\n",
       "    <tr>\n",
       "      <th>0</th>\n",
       "      <td>0.000000</td>\n",
       "      <td>24.183470</td>\n",
       "      <td>-4.781290</td>\n",
       "      <td>1.247037e-07</td>\n",
       "      <td>3.175044e-09</td>\n",
       "    </tr>\n",
       "    <tr>\n",
       "      <th>1</th>\n",
       "      <td>0.005005</td>\n",
       "      <td>24.183470</td>\n",
       "      <td>-4.781290</td>\n",
       "      <td>1.360629e-07</td>\n",
       "      <td>5.657692e-09</td>\n",
       "    </tr>\n",
       "    <tr>\n",
       "      <th>2</th>\n",
       "      <td>0.015014</td>\n",
       "      <td>24.057350</td>\n",
       "      <td>-4.816531</td>\n",
       "      <td>1.587814e-07</td>\n",
       "      <td>1.062299e-08</td>\n",
       "    </tr>\n",
       "    <tr>\n",
       "      <th>3</th>\n",
       "      <td>0.025024</td>\n",
       "      <td>23.776710</td>\n",
       "      <td>-4.848687</td>\n",
       "      <td>1.815000e-07</td>\n",
       "      <td>1.558829e-08</td>\n",
       "    </tr>\n",
       "    <tr>\n",
       "      <th>4</th>\n",
       "      <td>0.035033</td>\n",
       "      <td>23.349420</td>\n",
       "      <td>-4.974817</td>\n",
       "      <td>2.042185e-07</td>\n",
       "      <td>2.055358e-08</td>\n",
       "    </tr>\n",
       "    <tr>\n",
       "      <th>...</th>\n",
       "      <td>...</td>\n",
       "      <td>...</td>\n",
       "      <td>...</td>\n",
       "      <td>...</td>\n",
       "      <td>...</td>\n",
       "    </tr>\n",
       "    <tr>\n",
       "      <th>397</th>\n",
       "      <td>3.968730</td>\n",
       "      <td>0.081822</td>\n",
       "      <td>18.812326</td>\n",
       "      <td>9.620619e-06</td>\n",
       "      <td>8.401825e-06</td>\n",
       "    </tr>\n",
       "    <tr>\n",
       "      <th>398</th>\n",
       "      <td>3.978739</td>\n",
       "      <td>0.071655</td>\n",
       "      <td>18.842648</td>\n",
       "      <td>9.526819e-06</td>\n",
       "      <td>8.541859e-06</td>\n",
       "    </tr>\n",
       "    <tr>\n",
       "      <th>399</th>\n",
       "      <td>3.988748</td>\n",
       "      <td>0.067265</td>\n",
       "      <td>18.810865</td>\n",
       "      <td>9.433019e-06</td>\n",
       "      <td>8.681892e-06</td>\n",
       "    </tr>\n",
       "    <tr>\n",
       "      <th>400</th>\n",
       "      <td>3.998758</td>\n",
       "      <td>0.076853</td>\n",
       "      <td>18.806956</td>\n",
       "      <td>9.339210e-06</td>\n",
       "      <td>8.821940e-06</td>\n",
       "    </tr>\n",
       "    <tr>\n",
       "      <th>401</th>\n",
       "      <td>4.000000</td>\n",
       "      <td>0.076853</td>\n",
       "      <td>18.806849</td>\n",
       "      <td>9.327571e-06</td>\n",
       "      <td>8.839317e-06</td>\n",
       "    </tr>\n",
       "  </tbody>\n",
       "</table>\n",
       "<p>402 rows × 5 columns</p>\n",
       "</div>"
      ],
      "text/plain": [
       "            z        G_P       G_PH           D_P          D_PH\n",
       "0    0.000000  24.183470  -4.781290  1.247037e-07  3.175044e-09\n",
       "1    0.005005  24.183470  -4.781290  1.360629e-07  5.657692e-09\n",
       "2    0.015014  24.057350  -4.816531  1.587814e-07  1.062299e-08\n",
       "3    0.025024  23.776710  -4.848687  1.815000e-07  1.558829e-08\n",
       "4    0.035033  23.349420  -4.974817  2.042185e-07  2.055358e-08\n",
       "..        ...        ...        ...           ...           ...\n",
       "397  3.968730   0.081822  18.812326  9.620619e-06  8.401825e-06\n",
       "398  3.978739   0.071655  18.842648  9.526819e-06  8.541859e-06\n",
       "399  3.988748   0.067265  18.810865  9.433019e-06  8.681892e-06\n",
       "400  3.998758   0.076853  18.806956  9.339210e-06  8.821940e-06\n",
       "401  4.000000   0.076853  18.806849  9.327571e-06  8.839317e-06\n",
       "\n",
       "[402 rows x 5 columns]"
      ]
     },
     "execution_count": 101,
     "metadata": {},
     "output_type": "execute_result"
    }
   ],
   "source": [
    "df_diffusion"
   ]
  },
  {
   "cell_type": "code",
   "execution_count": 103,
   "id": "e681361a",
   "metadata": {},
   "outputs": [],
   "source": [
    "#Adding a column for Q \n",
    "df_diffusion['Q'] = np.exp(-df_diffusion[\"G_P\"]/2.478) + np.exp(-df_diffusion[\"G_PH\"]/2.478)"
   ]
  },
  {
   "cell_type": "code",
   "execution_count": 104,
   "id": "f4924c7d",
   "metadata": {},
   "outputs": [
    {
     "data": {
      "text/html": [
       "<div>\n",
       "<style scoped>\n",
       "    .dataframe tbody tr th:only-of-type {\n",
       "        vertical-align: middle;\n",
       "    }\n",
       "\n",
       "    .dataframe tbody tr th {\n",
       "        vertical-align: top;\n",
       "    }\n",
       "\n",
       "    .dataframe thead th {\n",
       "        text-align: right;\n",
       "    }\n",
       "</style>\n",
       "<table border=\"1\" class=\"dataframe\">\n",
       "  <thead>\n",
       "    <tr style=\"text-align: right;\">\n",
       "      <th></th>\n",
       "      <th>z</th>\n",
       "      <th>G_P</th>\n",
       "      <th>G_PH</th>\n",
       "      <th>D_P</th>\n",
       "      <th>D_PH</th>\n",
       "      <th>Q</th>\n",
       "    </tr>\n",
       "  </thead>\n",
       "  <tbody>\n",
       "    <tr>\n",
       "      <th>0</th>\n",
       "      <td>0.000000</td>\n",
       "      <td>24.183470</td>\n",
       "      <td>-4.781290</td>\n",
       "      <td>1.247037e-07</td>\n",
       "      <td>3.175044e-09</td>\n",
       "      <td>6.886094</td>\n",
       "    </tr>\n",
       "    <tr>\n",
       "      <th>1</th>\n",
       "      <td>0.005005</td>\n",
       "      <td>24.183470</td>\n",
       "      <td>-4.781290</td>\n",
       "      <td>1.360629e-07</td>\n",
       "      <td>5.657692e-09</td>\n",
       "      <td>6.886094</td>\n",
       "    </tr>\n",
       "    <tr>\n",
       "      <th>2</th>\n",
       "      <td>0.015014</td>\n",
       "      <td>24.057350</td>\n",
       "      <td>-4.816531</td>\n",
       "      <td>1.587814e-07</td>\n",
       "      <td>1.062299e-08</td>\n",
       "      <td>6.984727</td>\n",
       "    </tr>\n",
       "    <tr>\n",
       "      <th>3</th>\n",
       "      <td>0.025024</td>\n",
       "      <td>23.776710</td>\n",
       "      <td>-4.848687</td>\n",
       "      <td>1.815000e-07</td>\n",
       "      <td>1.558829e-08</td>\n",
       "      <td>7.075960</td>\n",
       "    </tr>\n",
       "    <tr>\n",
       "      <th>4</th>\n",
       "      <td>0.035033</td>\n",
       "      <td>23.349420</td>\n",
       "      <td>-4.974817</td>\n",
       "      <td>2.042185e-07</td>\n",
       "      <td>2.055358e-08</td>\n",
       "      <td>7.445459</td>\n",
       "    </tr>\n",
       "    <tr>\n",
       "      <th>...</th>\n",
       "      <td>...</td>\n",
       "      <td>...</td>\n",
       "      <td>...</td>\n",
       "      <td>...</td>\n",
       "      <td>...</td>\n",
       "      <td>...</td>\n",
       "    </tr>\n",
       "    <tr>\n",
       "      <th>397</th>\n",
       "      <td>3.968730</td>\n",
       "      <td>0.081822</td>\n",
       "      <td>18.812326</td>\n",
       "      <td>9.620619e-06</td>\n",
       "      <td>8.401825e-06</td>\n",
       "      <td>0.968024</td>\n",
       "    </tr>\n",
       "    <tr>\n",
       "      <th>398</th>\n",
       "      <td>3.978739</td>\n",
       "      <td>0.071655</td>\n",
       "      <td>18.842648</td>\n",
       "      <td>9.526819e-06</td>\n",
       "      <td>8.541859e-06</td>\n",
       "      <td>0.971996</td>\n",
       "    </tr>\n",
       "    <tr>\n",
       "      <th>399</th>\n",
       "      <td>3.988748</td>\n",
       "      <td>0.067265</td>\n",
       "      <td>18.810865</td>\n",
       "      <td>9.433019e-06</td>\n",
       "      <td>8.681892e-06</td>\n",
       "      <td>0.973725</td>\n",
       "    </tr>\n",
       "    <tr>\n",
       "      <th>400</th>\n",
       "      <td>3.998758</td>\n",
       "      <td>0.076853</td>\n",
       "      <td>18.806956</td>\n",
       "      <td>9.339210e-06</td>\n",
       "      <td>8.821940e-06</td>\n",
       "      <td>0.969967</td>\n",
       "    </tr>\n",
       "    <tr>\n",
       "      <th>401</th>\n",
       "      <td>4.000000</td>\n",
       "      <td>0.076853</td>\n",
       "      <td>18.806849</td>\n",
       "      <td>9.327571e-06</td>\n",
       "      <td>8.839317e-06</td>\n",
       "      <td>0.969968</td>\n",
       "    </tr>\n",
       "  </tbody>\n",
       "</table>\n",
       "<p>402 rows × 6 columns</p>\n",
       "</div>"
      ],
      "text/plain": [
       "            z        G_P       G_PH           D_P          D_PH         Q\n",
       "0    0.000000  24.183470  -4.781290  1.247037e-07  3.175044e-09  6.886094\n",
       "1    0.005005  24.183470  -4.781290  1.360629e-07  5.657692e-09  6.886094\n",
       "2    0.015014  24.057350  -4.816531  1.587814e-07  1.062299e-08  6.984727\n",
       "3    0.025024  23.776710  -4.848687  1.815000e-07  1.558829e-08  7.075960\n",
       "4    0.035033  23.349420  -4.974817  2.042185e-07  2.055358e-08  7.445459\n",
       "..        ...        ...        ...           ...           ...       ...\n",
       "397  3.968730   0.081822  18.812326  9.620619e-06  8.401825e-06  0.968024\n",
       "398  3.978739   0.071655  18.842648  9.526819e-06  8.541859e-06  0.971996\n",
       "399  3.988748   0.067265  18.810865  9.433019e-06  8.681892e-06  0.973725\n",
       "400  3.998758   0.076853  18.806956  9.339210e-06  8.821940e-06  0.969967\n",
       "401  4.000000   0.076853  18.806849  9.327571e-06  8.839317e-06  0.969968\n",
       "\n",
       "[402 rows x 6 columns]"
      ]
     },
     "execution_count": 104,
     "metadata": {},
     "output_type": "execute_result"
    }
   ],
   "source": [
    "df_diffusion"
   ]
  },
  {
   "cell_type": "code",
   "execution_count": 105,
   "id": "819d9693",
   "metadata": {},
   "outputs": [],
   "source": [
    "# Adding a column for Diffusion coefficient\n",
    "df_diffusion['D'] = df_diffusion['D_P'] * (np.exp(-df_diffusion[\"G_P\"]/2.478)/df_diffusion['Q']) + df_diffusion['D_PH'] * (np.exp(-df_diffusion[\"G_PH\"]/2.478)/df_diffusion['Q'])"
   ]
  },
  {
   "cell_type": "code",
   "execution_count": 106,
   "id": "b1740dfb",
   "metadata": {},
   "outputs": [
    {
     "data": {
      "text/html": [
       "<div>\n",
       "<style scoped>\n",
       "    .dataframe tbody tr th:only-of-type {\n",
       "        vertical-align: middle;\n",
       "    }\n",
       "\n",
       "    .dataframe tbody tr th {\n",
       "        vertical-align: top;\n",
       "    }\n",
       "\n",
       "    .dataframe thead th {\n",
       "        text-align: right;\n",
       "    }\n",
       "</style>\n",
       "<table border=\"1\" class=\"dataframe\">\n",
       "  <thead>\n",
       "    <tr style=\"text-align: right;\">\n",
       "      <th></th>\n",
       "      <th>z</th>\n",
       "      <th>G_P</th>\n",
       "      <th>G_PH</th>\n",
       "      <th>D_P</th>\n",
       "      <th>D_PH</th>\n",
       "      <th>Q</th>\n",
       "      <th>D</th>\n",
       "    </tr>\n",
       "  </thead>\n",
       "  <tbody>\n",
       "    <tr>\n",
       "      <th>0</th>\n",
       "      <td>0.000000</td>\n",
       "      <td>24.183470</td>\n",
       "      <td>-4.781290</td>\n",
       "      <td>1.247037e-07</td>\n",
       "      <td>3.175044e-09</td>\n",
       "      <td>6.886094</td>\n",
       "      <td>3.176063e-09</td>\n",
       "    </tr>\n",
       "    <tr>\n",
       "      <th>1</th>\n",
       "      <td>0.005005</td>\n",
       "      <td>24.183470</td>\n",
       "      <td>-4.781290</td>\n",
       "      <td>1.360629e-07</td>\n",
       "      <td>5.657692e-09</td>\n",
       "      <td>6.886094</td>\n",
       "      <td>5.658786e-09</td>\n",
       "    </tr>\n",
       "    <tr>\n",
       "      <th>2</th>\n",
       "      <td>0.015014</td>\n",
       "      <td>24.057350</td>\n",
       "      <td>-4.816531</td>\n",
       "      <td>1.587814e-07</td>\n",
       "      <td>1.062299e-08</td>\n",
       "      <td>6.984727</td>\n",
       "      <td>1.062428e-08</td>\n",
       "    </tr>\n",
       "    <tr>\n",
       "      <th>3</th>\n",
       "      <td>0.025024</td>\n",
       "      <td>23.776710</td>\n",
       "      <td>-4.848687</td>\n",
       "      <td>1.815000e-07</td>\n",
       "      <td>1.558829e-08</td>\n",
       "      <td>7.075960</td>\n",
       "      <td>1.558988e-08</td>\n",
       "    </tr>\n",
       "    <tr>\n",
       "      <th>4</th>\n",
       "      <td>0.035033</td>\n",
       "      <td>23.349420</td>\n",
       "      <td>-4.974817</td>\n",
       "      <td>2.042185e-07</td>\n",
       "      <td>2.055358e-08</td>\n",
       "      <td>7.445459</td>\n",
       "      <td>2.055558e-08</td>\n",
       "    </tr>\n",
       "    <tr>\n",
       "      <th>...</th>\n",
       "      <td>...</td>\n",
       "      <td>...</td>\n",
       "      <td>...</td>\n",
       "      <td>...</td>\n",
       "      <td>...</td>\n",
       "      <td>...</td>\n",
       "      <td>...</td>\n",
       "    </tr>\n",
       "    <tr>\n",
       "      <th>397</th>\n",
       "      <td>3.968730</td>\n",
       "      <td>0.081822</td>\n",
       "      <td>18.812326</td>\n",
       "      <td>9.620619e-06</td>\n",
       "      <td>8.401825e-06</td>\n",
       "      <td>0.968024</td>\n",
       "      <td>9.619983e-06</td>\n",
       "    </tr>\n",
       "    <tr>\n",
       "      <th>398</th>\n",
       "      <td>3.978739</td>\n",
       "      <td>0.071655</td>\n",
       "      <td>18.842648</td>\n",
       "      <td>9.526819e-06</td>\n",
       "      <td>8.541859e-06</td>\n",
       "      <td>0.971996</td>\n",
       "      <td>9.526314e-06</td>\n",
       "    </tr>\n",
       "    <tr>\n",
       "      <th>399</th>\n",
       "      <td>3.988748</td>\n",
       "      <td>0.067265</td>\n",
       "      <td>18.810865</td>\n",
       "      <td>9.433019e-06</td>\n",
       "      <td>8.681892e-06</td>\n",
       "      <td>0.973725</td>\n",
       "      <td>9.432630e-06</td>\n",
       "    </tr>\n",
       "    <tr>\n",
       "      <th>400</th>\n",
       "      <td>3.998758</td>\n",
       "      <td>0.076853</td>\n",
       "      <td>18.806956</td>\n",
       "      <td>9.339210e-06</td>\n",
       "      <td>8.821940e-06</td>\n",
       "      <td>0.969967</td>\n",
       "      <td>9.338941e-06</td>\n",
       "    </tr>\n",
       "    <tr>\n",
       "      <th>401</th>\n",
       "      <td>4.000000</td>\n",
       "      <td>0.076853</td>\n",
       "      <td>18.806849</td>\n",
       "      <td>9.327571e-06</td>\n",
       "      <td>8.839317e-06</td>\n",
       "      <td>0.969968</td>\n",
       "      <td>9.327316e-06</td>\n",
       "    </tr>\n",
       "  </tbody>\n",
       "</table>\n",
       "<p>402 rows × 7 columns</p>\n",
       "</div>"
      ],
      "text/plain": [
       "            z        G_P       G_PH           D_P          D_PH         Q  \\\n",
       "0    0.000000  24.183470  -4.781290  1.247037e-07  3.175044e-09  6.886094   \n",
       "1    0.005005  24.183470  -4.781290  1.360629e-07  5.657692e-09  6.886094   \n",
       "2    0.015014  24.057350  -4.816531  1.587814e-07  1.062299e-08  6.984727   \n",
       "3    0.025024  23.776710  -4.848687  1.815000e-07  1.558829e-08  7.075960   \n",
       "4    0.035033  23.349420  -4.974817  2.042185e-07  2.055358e-08  7.445459   \n",
       "..        ...        ...        ...           ...           ...       ...   \n",
       "397  3.968730   0.081822  18.812326  9.620619e-06  8.401825e-06  0.968024   \n",
       "398  3.978739   0.071655  18.842648  9.526819e-06  8.541859e-06  0.971996   \n",
       "399  3.988748   0.067265  18.810865  9.433019e-06  8.681892e-06  0.973725   \n",
       "400  3.998758   0.076853  18.806956  9.339210e-06  8.821940e-06  0.969967   \n",
       "401  4.000000   0.076853  18.806849  9.327571e-06  8.839317e-06  0.969968   \n",
       "\n",
       "                D  \n",
       "0    3.176063e-09  \n",
       "1    5.658786e-09  \n",
       "2    1.062428e-08  \n",
       "3    1.558988e-08  \n",
       "4    2.055558e-08  \n",
       "..            ...  \n",
       "397  9.619983e-06  \n",
       "398  9.526314e-06  \n",
       "399  9.432630e-06  \n",
       "400  9.338941e-06  \n",
       "401  9.327316e-06  \n",
       "\n",
       "[402 rows x 7 columns]"
      ]
     },
     "execution_count": 106,
     "metadata": {},
     "output_type": "execute_result"
    }
   ],
   "source": [
    "df_diffusion"
   ]
  },
  {
   "cell_type": "code",
   "execution_count": 107,
   "id": "8fb2748b",
   "metadata": {},
   "outputs": [
    {
     "data": {
      "text/plain": [
       "[<matplotlib.lines.Line2D at 0x7f24f9d0e5b0>]"
      ]
     },
     "execution_count": 107,
     "metadata": {},
     "output_type": "execute_result"
    },
    {
     "data": {
      "image/png": "[encoded data removed]",
      "text/plain": [
       "<Figure size 432x288 with 1 Axes>"
      ]
     },
     "metadata": {
      "needs_background": "light"
     },
     "output_type": "display_data"
    }
   ],
   "source": [
    "# Plot of weighted average of diffusion coefficient\n",
    "plt.plot(df_diffusion['z'], df_diffusion['D'])"
   ]
  },
  {
   "cell_type": "code",
   "execution_count": 109,
   "id": "89906b14",
   "metadata": {},
   "outputs": [
    {
     "data": {
      "text/plain": [
       "<matplotlib.legend.Legend at 0x7f24f47d1c70>"
      ]
     },
     "execution_count": 109,
     "metadata": {},
     "output_type": "execute_result"
    },
    {
     "data": {
      "image/png": "[encoded data removed]",
      "text/plain": [
       "<Figure size 432x288 with 1 Axes>"
      ]
     },
     "metadata": {
      "needs_background": "light"
     },
     "output_type": "display_data"
    }
   ],
   "source": [
    "# For checking how identical the plots for diffusion coefficients are -\n",
    "plt.plot(df_diffusion['z'], df_diffusion['D_P'],label = 'MEHP', color = 'k')\n",
    "plt.plot(df_diffusion['z'], df_diffusion['D_PH'], label = 'MEHPH',  color = 'r')\n",
    "plt.plot(df_diffusion['z'], df_diffusion['D'], label = 'Weighted Average', color='b')\n",
    "plt.legend()\n",
    "# Here the weighted average is almost identical to MEHP"
   ]
  },
  {
   "cell_type": "markdown",
   "id": "4309a82c",
   "metadata": {},
   "source": [
    "##### My first approach for the numerical integration will be to convert the distance in z which are in nm into cm for both weighted pmf as well as weighted diffusion coefficient."
   ]
  },
  {
   "cell_type": "code",
   "execution_count": 110,
   "id": "0bc6fd9f",
   "metadata": {},
   "outputs": [
    {
     "data": {
      "text/html": [
       "<div>\n",
       "<style scoped>\n",
       "    .dataframe tbody tr th:only-of-type {\n",
       "        vertical-align: middle;\n",
       "    }\n",
       "\n",
       "    .dataframe tbody tr th {\n",
       "        vertical-align: top;\n",
       "    }\n",
       "\n",
       "    .dataframe thead th {\n",
       "        text-align: right;\n",
       "    }\n",
       "</style>\n",
       "<table border=\"1\" class=\"dataframe\">\n",
       "  <thead>\n",
       "    <tr style=\"text-align: right;\">\n",
       "      <th></th>\n",
       "      <th>0</th>\n",
       "      <th>1</th>\n",
       "      <th>2</th>\n",
       "    </tr>\n",
       "  </thead>\n",
       "  <tbody>\n",
       "    <tr>\n",
       "      <th>0</th>\n",
       "      <td>0.000000e+00</td>\n",
       "      <td>-4.781046</td>\n",
       "      <td>0.145236</td>\n",
       "    </tr>\n",
       "    <tr>\n",
       "      <th>1</th>\n",
       "      <td>5.004703e-10</td>\n",
       "      <td>-4.781046</td>\n",
       "      <td>0.145236</td>\n",
       "    </tr>\n",
       "    <tr>\n",
       "      <th>2</th>\n",
       "      <td>1.501411e-09</td>\n",
       "      <td>-4.816288</td>\n",
       "      <td>0.143185</td>\n",
       "    </tr>\n",
       "    <tr>\n",
       "      <th>3</th>\n",
       "      <td>2.502352e-09</td>\n",
       "      <td>-4.848423</td>\n",
       "      <td>0.141340</td>\n",
       "    </tr>\n",
       "    <tr>\n",
       "      <th>4</th>\n",
       "      <td>3.503292e-09</td>\n",
       "      <td>-4.974581</td>\n",
       "      <td>0.134324</td>\n",
       "    </tr>\n",
       "  </tbody>\n",
       "</table>\n",
       "</div>"
      ],
      "text/plain": [
       "              0         1         2\n",
       "0  0.000000e+00 -4.781046  0.145236\n",
       "1  5.004703e-10 -4.781046  0.145236\n",
       "2  1.501411e-09 -4.816288  0.143185\n",
       "3  2.502352e-09 -4.848423  0.141340\n",
       "4  3.503292e-09 -4.974581  0.134324"
      ]
     },
     "execution_count": 110,
     "metadata": {},
     "output_type": "execute_result"
    }
   ],
   "source": [
    "# For pmf_dep it will be ---\n",
    "pmf_mehp_mehph[0] = pmf_mehp_mehph[0] * 1 * 10 ** -7\n",
    "pmf_mehp_mehph.head()\n",
    "# Here, the only columns we need to worry about is at the index 0 and 2 which are the values for z-distance in cm,\n",
    "# exp(Delta G/RT)"
   ]
  },
  {
   "cell_type": "code",
   "execution_count": 111,
   "id": "a65190b4",
   "metadata": {},
   "outputs": [
    {
     "data": {
      "text/html": [
       "<div>\n",
       "<style scoped>\n",
       "    .dataframe tbody tr th:only-of-type {\n",
       "        vertical-align: middle;\n",
       "    }\n",
       "\n",
       "    .dataframe tbody tr th {\n",
       "        vertical-align: top;\n",
       "    }\n",
       "\n",
       "    .dataframe thead th {\n",
       "        text-align: right;\n",
       "    }\n",
       "</style>\n",
       "<table border=\"1\" class=\"dataframe\">\n",
       "  <thead>\n",
       "    <tr style=\"text-align: right;\">\n",
       "      <th></th>\n",
       "      <th>0</th>\n",
       "      <th>1</th>\n",
       "      <th>2</th>\n",
       "    </tr>\n",
       "  </thead>\n",
       "  <tbody>\n",
       "    <tr>\n",
       "      <th>397</th>\n",
       "      <td>3.968730e-07</td>\n",
       "      <td>0.091611</td>\n",
       "      <td>1.037662</td>\n",
       "    </tr>\n",
       "    <tr>\n",
       "      <th>398</th>\n",
       "      <td>3.978739e-07</td>\n",
       "      <td>0.081302</td>\n",
       "      <td>1.033354</td>\n",
       "    </tr>\n",
       "    <tr>\n",
       "      <th>399</th>\n",
       "      <td>3.988748e-07</td>\n",
       "      <td>0.077020</td>\n",
       "      <td>1.031570</td>\n",
       "    </tr>\n",
       "    <tr>\n",
       "      <th>400</th>\n",
       "      <td>3.998758e-07</td>\n",
       "      <td>0.086647</td>\n",
       "      <td>1.035585</td>\n",
       "    </tr>\n",
       "    <tr>\n",
       "      <th>401</th>\n",
       "      <td>4.000000e-07</td>\n",
       "      <td>0.086647</td>\n",
       "      <td>1.035585</td>\n",
       "    </tr>\n",
       "  </tbody>\n",
       "</table>\n",
       "</div>"
      ],
      "text/plain": [
       "                0         1         2\n",
       "397  3.968730e-07  0.091611  1.037662\n",
       "398  3.978739e-07  0.081302  1.033354\n",
       "399  3.988748e-07  0.077020  1.031570\n",
       "400  3.998758e-07  0.086647  1.035585\n",
       "401  4.000000e-07  0.086647  1.035585"
      ]
     },
     "execution_count": 111,
     "metadata": {},
     "output_type": "execute_result"
    }
   ],
   "source": [
    "pmf_mehp_mehph.tail()"
   ]
  },
  {
   "cell_type": "code",
   "execution_count": 112,
   "id": "11189f8b",
   "metadata": {},
   "outputs": [
    {
     "data": {
      "text/plain": [
       "1.0355850215533353"
      ]
     },
     "execution_count": 112,
     "metadata": {},
     "output_type": "execute_result"
    }
   ],
   "source": [
    "np.exp(0.086647/2.478) #just checking values again"
   ]
  },
  {
   "cell_type": "code",
   "execution_count": 113,
   "id": "fafea325",
   "metadata": {},
   "outputs": [
    {
     "data": {
      "text/html": [
       "<div>\n",
       "<style scoped>\n",
       "    .dataframe tbody tr th:only-of-type {\n",
       "        vertical-align: middle;\n",
       "    }\n",
       "\n",
       "    .dataframe tbody tr th {\n",
       "        vertical-align: top;\n",
       "    }\n",
       "\n",
       "    .dataframe thead th {\n",
       "        text-align: right;\n",
       "    }\n",
       "</style>\n",
       "<table border=\"1\" class=\"dataframe\">\n",
       "  <thead>\n",
       "    <tr style=\"text-align: right;\">\n",
       "      <th></th>\n",
       "      <th>z</th>\n",
       "      <th>G_P</th>\n",
       "      <th>G_PH</th>\n",
       "      <th>D_P</th>\n",
       "      <th>D_PH</th>\n",
       "      <th>Q</th>\n",
       "      <th>D</th>\n",
       "    </tr>\n",
       "  </thead>\n",
       "  <tbody>\n",
       "    <tr>\n",
       "      <th>0</th>\n",
       "      <td>0.000000e+00</td>\n",
       "      <td>24.18347</td>\n",
       "      <td>-4.781290</td>\n",
       "      <td>1.247037e-07</td>\n",
       "      <td>3.175044e-09</td>\n",
       "      <td>6.886094</td>\n",
       "      <td>3.176063e-09</td>\n",
       "    </tr>\n",
       "    <tr>\n",
       "      <th>1</th>\n",
       "      <td>5.004703e-10</td>\n",
       "      <td>24.18347</td>\n",
       "      <td>-4.781290</td>\n",
       "      <td>1.360629e-07</td>\n",
       "      <td>5.657692e-09</td>\n",
       "      <td>6.886094</td>\n",
       "      <td>5.658786e-09</td>\n",
       "    </tr>\n",
       "    <tr>\n",
       "      <th>2</th>\n",
       "      <td>1.501411e-09</td>\n",
       "      <td>24.05735</td>\n",
       "      <td>-4.816531</td>\n",
       "      <td>1.587814e-07</td>\n",
       "      <td>1.062299e-08</td>\n",
       "      <td>6.984727</td>\n",
       "      <td>1.062428e-08</td>\n",
       "    </tr>\n",
       "    <tr>\n",
       "      <th>3</th>\n",
       "      <td>2.502352e-09</td>\n",
       "      <td>23.77671</td>\n",
       "      <td>-4.848687</td>\n",
       "      <td>1.815000e-07</td>\n",
       "      <td>1.558829e-08</td>\n",
       "      <td>7.075960</td>\n",
       "      <td>1.558988e-08</td>\n",
       "    </tr>\n",
       "    <tr>\n",
       "      <th>4</th>\n",
       "      <td>3.503292e-09</td>\n",
       "      <td>23.34942</td>\n",
       "      <td>-4.974817</td>\n",
       "      <td>2.042185e-07</td>\n",
       "      <td>2.055358e-08</td>\n",
       "      <td>7.445459</td>\n",
       "      <td>2.055558e-08</td>\n",
       "    </tr>\n",
       "  </tbody>\n",
       "</table>\n",
       "</div>"
      ],
      "text/plain": [
       "              z       G_P      G_PH           D_P          D_PH         Q  \\\n",
       "0  0.000000e+00  24.18347 -4.781290  1.247037e-07  3.175044e-09  6.886094   \n",
       "1  5.004703e-10  24.18347 -4.781290  1.360629e-07  5.657692e-09  6.886094   \n",
       "2  1.501411e-09  24.05735 -4.816531  1.587814e-07  1.062299e-08  6.984727   \n",
       "3  2.502352e-09  23.77671 -4.848687  1.815000e-07  1.558829e-08  7.075960   \n",
       "4  3.503292e-09  23.34942 -4.974817  2.042185e-07  2.055358e-08  7.445459   \n",
       "\n",
       "              D  \n",
       "0  3.176063e-09  \n",
       "1  5.658786e-09  \n",
       "2  1.062428e-08  \n",
       "3  1.558988e-08  \n",
       "4  2.055558e-08  "
      ]
     },
     "execution_count": 113,
     "metadata": {},
     "output_type": "execute_result"
    }
   ],
   "source": [
    "df_diffusion['z'] = df_diffusion['z'] * 1 * 10 ** -7\n",
    "df_diffusion.head()"
   ]
  },
  {
   "cell_type": "code",
   "execution_count": 114,
   "id": "b4b01817",
   "metadata": {},
   "outputs": [
    {
     "data": {
      "text/html": [
       "<div>\n",
       "<style scoped>\n",
       "    .dataframe tbody tr th:only-of-type {\n",
       "        vertical-align: middle;\n",
       "    }\n",
       "\n",
       "    .dataframe tbody tr th {\n",
       "        vertical-align: top;\n",
       "    }\n",
       "\n",
       "    .dataframe thead th {\n",
       "        text-align: right;\n",
       "    }\n",
       "</style>\n",
       "<table border=\"1\" class=\"dataframe\">\n",
       "  <thead>\n",
       "    <tr style=\"text-align: right;\">\n",
       "      <th></th>\n",
       "      <th>0</th>\n",
       "      <th>1</th>\n",
       "      <th>2</th>\n",
       "    </tr>\n",
       "  </thead>\n",
       "  <tbody>\n",
       "    <tr>\n",
       "      <th>0</th>\n",
       "      <td>0.000000e+00</td>\n",
       "      <td>-4.781046</td>\n",
       "      <td>0.145236</td>\n",
       "    </tr>\n",
       "    <tr>\n",
       "      <th>1</th>\n",
       "      <td>5.004703e-10</td>\n",
       "      <td>-4.781046</td>\n",
       "      <td>0.145236</td>\n",
       "    </tr>\n",
       "    <tr>\n",
       "      <th>2</th>\n",
       "      <td>1.501411e-09</td>\n",
       "      <td>-4.816288</td>\n",
       "      <td>0.143185</td>\n",
       "    </tr>\n",
       "    <tr>\n",
       "      <th>3</th>\n",
       "      <td>2.502352e-09</td>\n",
       "      <td>-4.848423</td>\n",
       "      <td>0.141340</td>\n",
       "    </tr>\n",
       "    <tr>\n",
       "      <th>4</th>\n",
       "      <td>3.503292e-09</td>\n",
       "      <td>-4.974581</td>\n",
       "      <td>0.134324</td>\n",
       "    </tr>\n",
       "    <tr>\n",
       "      <th>...</th>\n",
       "      <td>...</td>\n",
       "      <td>...</td>\n",
       "      <td>...</td>\n",
       "    </tr>\n",
       "    <tr>\n",
       "      <th>397</th>\n",
       "      <td>3.968730e-07</td>\n",
       "      <td>0.091611</td>\n",
       "      <td>1.037662</td>\n",
       "    </tr>\n",
       "    <tr>\n",
       "      <th>398</th>\n",
       "      <td>3.978739e-07</td>\n",
       "      <td>0.081302</td>\n",
       "      <td>1.033354</td>\n",
       "    </tr>\n",
       "    <tr>\n",
       "      <th>399</th>\n",
       "      <td>3.988748e-07</td>\n",
       "      <td>0.077020</td>\n",
       "      <td>1.031570</td>\n",
       "    </tr>\n",
       "    <tr>\n",
       "      <th>400</th>\n",
       "      <td>3.998758e-07</td>\n",
       "      <td>0.086647</td>\n",
       "      <td>1.035585</td>\n",
       "    </tr>\n",
       "    <tr>\n",
       "      <th>401</th>\n",
       "      <td>4.000000e-07</td>\n",
       "      <td>0.086647</td>\n",
       "      <td>1.035585</td>\n",
       "    </tr>\n",
       "  </tbody>\n",
       "</table>\n",
       "<p>402 rows × 3 columns</p>\n",
       "</div>"
      ],
      "text/plain": [
       "                0         1         2\n",
       "0    0.000000e+00 -4.781046  0.145236\n",
       "1    5.004703e-10 -4.781046  0.145236\n",
       "2    1.501411e-09 -4.816288  0.143185\n",
       "3    2.502352e-09 -4.848423  0.141340\n",
       "4    3.503292e-09 -4.974581  0.134324\n",
       "..            ...       ...       ...\n",
       "397  3.968730e-07  0.091611  1.037662\n",
       "398  3.978739e-07  0.081302  1.033354\n",
       "399  3.988748e-07  0.077020  1.031570\n",
       "400  3.998758e-07  0.086647  1.035585\n",
       "401  4.000000e-07  0.086647  1.035585\n",
       "\n",
       "[402 rows x 3 columns]"
      ]
     },
     "execution_count": 114,
     "metadata": {},
     "output_type": "execute_result"
    }
   ],
   "source": [
    "pmf_mehp_mehph"
   ]
  },
  {
   "cell_type": "code",
   "execution_count": 115,
   "id": "e9007782",
   "metadata": {},
   "outputs": [
    {
     "data": {
      "text/html": [
       "<div>\n",
       "<style scoped>\n",
       "    .dataframe tbody tr th:only-of-type {\n",
       "        vertical-align: middle;\n",
       "    }\n",
       "\n",
       "    .dataframe tbody tr th {\n",
       "        vertical-align: top;\n",
       "    }\n",
       "\n",
       "    .dataframe thead th {\n",
       "        text-align: right;\n",
       "    }\n",
       "</style>\n",
       "<table border=\"1\" class=\"dataframe\">\n",
       "  <thead>\n",
       "    <tr style=\"text-align: right;\">\n",
       "      <th></th>\n",
       "      <th>z</th>\n",
       "      <th>G_P</th>\n",
       "      <th>G_PH</th>\n",
       "      <th>D_P</th>\n",
       "      <th>D_PH</th>\n",
       "      <th>Q</th>\n",
       "      <th>D</th>\n",
       "    </tr>\n",
       "  </thead>\n",
       "  <tbody>\n",
       "    <tr>\n",
       "      <th>397</th>\n",
       "      <td>3.968730e-07</td>\n",
       "      <td>0.081822</td>\n",
       "      <td>18.812326</td>\n",
       "      <td>0.000010</td>\n",
       "      <td>0.000008</td>\n",
       "      <td>0.968024</td>\n",
       "      <td>0.000010</td>\n",
       "    </tr>\n",
       "    <tr>\n",
       "      <th>398</th>\n",
       "      <td>3.978739e-07</td>\n",
       "      <td>0.071655</td>\n",
       "      <td>18.842648</td>\n",
       "      <td>0.000010</td>\n",
       "      <td>0.000009</td>\n",
       "      <td>0.971996</td>\n",
       "      <td>0.000010</td>\n",
       "    </tr>\n",
       "    <tr>\n",
       "      <th>399</th>\n",
       "      <td>3.988748e-07</td>\n",
       "      <td>0.067265</td>\n",
       "      <td>18.810865</td>\n",
       "      <td>0.000009</td>\n",
       "      <td>0.000009</td>\n",
       "      <td>0.973725</td>\n",
       "      <td>0.000009</td>\n",
       "    </tr>\n",
       "    <tr>\n",
       "      <th>400</th>\n",
       "      <td>3.998758e-07</td>\n",
       "      <td>0.076853</td>\n",
       "      <td>18.806956</td>\n",
       "      <td>0.000009</td>\n",
       "      <td>0.000009</td>\n",
       "      <td>0.969967</td>\n",
       "      <td>0.000009</td>\n",
       "    </tr>\n",
       "    <tr>\n",
       "      <th>401</th>\n",
       "      <td>4.000000e-07</td>\n",
       "      <td>0.076853</td>\n",
       "      <td>18.806849</td>\n",
       "      <td>0.000009</td>\n",
       "      <td>0.000009</td>\n",
       "      <td>0.969968</td>\n",
       "      <td>0.000009</td>\n",
       "    </tr>\n",
       "  </tbody>\n",
       "</table>\n",
       "</div>"
      ],
      "text/plain": [
       "                z       G_P       G_PH       D_P      D_PH         Q         D\n",
       "397  3.968730e-07  0.081822  18.812326  0.000010  0.000008  0.968024  0.000010\n",
       "398  3.978739e-07  0.071655  18.842648  0.000010  0.000009  0.971996  0.000010\n",
       "399  3.988748e-07  0.067265  18.810865  0.000009  0.000009  0.973725  0.000009\n",
       "400  3.998758e-07  0.076853  18.806956  0.000009  0.000009  0.969967  0.000009\n",
       "401  4.000000e-07  0.076853  18.806849  0.000009  0.000009  0.969968  0.000009"
      ]
     },
     "execution_count": 115,
     "metadata": {},
     "output_type": "execute_result"
    }
   ],
   "source": [
    "df_diffusion.tail()"
   ]
  },
  {
   "cell_type": "code",
   "execution_count": 116,
   "id": "585bbdd2",
   "metadata": {},
   "outputs": [
    {
     "data": {
      "text/plain": [
       "<AxesSubplot:xlabel='z'>"
      ]
     },
     "execution_count": 116,
     "metadata": {},
     "output_type": "execute_result"
    },
    {
     "data": {
      "image/png": "[encoded data removed]",
      "text/plain": [
       "<Figure size 432x288 with 1 Axes>"
      ]
     },
     "metadata": {
      "needs_background": "light"
     },
     "output_type": "display_data"
    },
    {
     "data": {
      "image/png": "[encoded data removed]",
      "text/plain": [
       "<Figure size 432x288 with 1 Axes>"
      ]
     },
     "metadata": {
      "needs_background": "light"
     },
     "output_type": "display_data"
    },
    {
     "data": {
      "image/png": "[encoded data removed]",
      "text/plain": [
       "<Figure size 432x288 with 1 Axes>"
      ]
     },
     "metadata": {
      "needs_background": "light"
     },
     "output_type": "display_data"
    },
    {
     "data": {
      "image/png": "[encoded data removed]",
      "text/plain": [
       "<Figure size 432x288 with 1 Axes>"
      ]
     },
     "metadata": {
      "needs_background": "light"
     },
     "output_type": "display_data"
    },
    {
     "data": {
      "image/png": "[encoded data removed]",
      "text/plain": [
       "<Figure size 432x288 with 1 Axes>"
      ]
     },
     "metadata": {
      "needs_background": "light"
     },
     "output_type": "display_data"
    }
   ],
   "source": [
    "# Play with plots\n",
    "df_diffusion.plot('z', 'G_P')\n",
    "df_diffusion.plot('z', 'G_PH')\n",
    "df_diffusion.plot('z', 'D_P')\n",
    "df_diffusion.plot('z', 'D_PH')\n",
    "df_diffusion.plot('z', 'D')"
   ]
  },
  {
   "cell_type": "markdown",
   "id": "fab12216",
   "metadata": {},
   "source": [
    "#### Now, we can perform numerical integration with either composite trapezoidal rule, or the simpson's rule"
   ]
  },
  {
   "cell_type": "markdown",
   "id": "9c738ce7",
   "metadata": {},
   "source": [
    "$$\\int_{0}^{4 \\times 10 ^{-7}} \\frac{\\exp\\left ( \\frac{\\Delta G(z)}{RT} \\right )}{D(z)} dz$$"
   ]
  },
  {
   "cell_type": "code",
   "execution_count": 117,
   "id": "35eb8bb4",
   "metadata": {},
   "outputs": [],
   "source": [
    "#trapz(values of the function to integrate, sample points(z) corresponding to the function values, optional (dz)\n",
    "#- spacing between the sample points(z))"
   ]
  },
  {
   "cell_type": "code",
   "execution_count": 119,
   "id": "f136c0a3",
   "metadata": {},
   "outputs": [],
   "source": [
    "integrand = pmf_mehp_mehph[2]/df_diffusion['D']"
   ]
  },
  {
   "cell_type": "code",
   "execution_count": 120,
   "id": "ae8a8fbc",
   "metadata": {},
   "outputs": [
    {
     "data": {
      "text/plain": [
       "0      4.572823e+07\n",
       "1      2.566553e+07\n",
       "2      1.347714e+07\n",
       "3      9.066132e+06\n",
       "4      6.534688e+06\n",
       "           ...     \n",
       "397    1.078652e+05\n",
       "398    1.084736e+05\n",
       "399    1.093618e+05\n",
       "400    1.108889e+05\n",
       "401    1.110271e+05\n",
       "Length: 402, dtype: float64"
      ]
     },
     "execution_count": 120,
     "metadata": {},
     "output_type": "execute_result"
    }
   ],
   "source": [
    "integrand"
   ]
  },
  {
   "cell_type": "code",
   "execution_count": 121,
   "id": "8d5a422f",
   "metadata": {},
   "outputs": [],
   "source": [
    "#Let's check some values of the integrand. For the first value at z = 0,"
   ]
  },
  {
   "cell_type": "code",
   "execution_count": 122,
   "id": "a1c94564",
   "metadata": {},
   "outputs": [
    {
     "data": {
      "text/plain": [
       "-4.781046"
      ]
     },
     "execution_count": 122,
     "metadata": {},
     "output_type": "execute_result"
    }
   ],
   "source": [
    "pmf_mehp_mehph[1].to_numpy()[0] # This is the pmf"
   ]
  },
  {
   "cell_type": "code",
   "execution_count": 123,
   "id": "f1961e68",
   "metadata": {},
   "outputs": [
    {
     "data": {
      "text/plain": [
       "3.1760628157003235e-09"
      ]
     },
     "execution_count": 123,
     "metadata": {},
     "output_type": "execute_result"
    }
   ],
   "source": [
    "df_diffusion['D'].to_numpy()[0]"
   ]
  },
  {
   "cell_type": "code",
   "execution_count": 124,
   "id": "bd8c03d9",
   "metadata": {},
   "outputs": [
    {
     "data": {
      "text/plain": [
       "45728231.44696842"
      ]
     },
     "execution_count": 124,
     "metadata": {},
     "output_type": "execute_result"
    }
   ],
   "source": [
    "#Delta G = -4.781046, RT = 2.478, D(z) = 3.1760628157003235e-09 cm^2/s\n",
    "np.exp(-4.781046/2.478)/3.1760628157003235e-09"
   ]
  },
  {
   "cell_type": "code",
   "execution_count": 125,
   "id": "477f8ec0",
   "metadata": {},
   "outputs": [
    {
     "data": {
      "text/plain": [
       "45728231.44696842"
      ]
     },
     "execution_count": 125,
     "metadata": {},
     "output_type": "execute_result"
    }
   ],
   "source": [
    "integrand[0]"
   ]
  },
  {
   "cell_type": "code",
   "execution_count": 126,
   "id": "67001b7f",
   "metadata": {},
   "outputs": [
    {
     "data": {
      "text/plain": [
       "0.13469915560222745"
      ]
     },
     "execution_count": 126,
     "metadata": {},
     "output_type": "execute_result"
    }
   ],
   "source": [
    "trapz(integrand, df_diffusion['z']) # or"
   ]
  },
  {
   "cell_type": "code",
   "execution_count": 127,
   "id": "f6abedef",
   "metadata": {},
   "outputs": [
    {
     "data": {
      "text/plain": [
       "0.13469915560222745"
      ]
     },
     "execution_count": 127,
     "metadata": {},
     "output_type": "execute_result"
    }
   ],
   "source": [
    "trapz(integrand, pmf_mehp_mehph[0])"
   ]
  },
  {
   "cell_type": "code",
   "execution_count": 128,
   "id": "852b25ec",
   "metadata": {},
   "outputs": [
    {
     "data": {
      "text/plain": [
       "7.423951512755166"
      ]
     },
     "execution_count": 128,
     "metadata": {},
     "output_type": "execute_result"
    }
   ],
   "source": [
    "# The permeability will be 1/integral\n",
    "1/trapz(integrand, pmf_mehp_mehph[0]) # in cm/s"
   ]
  },
  {
   "cell_type": "code",
   "execution_count": 129,
   "id": "c1d36e36",
   "metadata": {},
   "outputs": [
    {
     "data": {
      "text/plain": [
       "7.42395151275517"
      ]
     },
     "execution_count": 129,
     "metadata": {},
     "output_type": "execute_result"
    }
   ],
   "source": [
    "1/0.1346991556022274"
   ]
  },
  {
   "cell_type": "markdown",
   "id": "15dadec0",
   "metadata": {},
   "source": [
    "The calculated value of permeability for monoester(MEHP-MEHPH) is $$7.424\\;cm/s$$"
   ]
  },
  {
   "cell_type": "code",
   "execution_count": 130,
   "id": "88de7d79",
   "metadata": {},
   "outputs": [
    {
     "data": {
      "text/plain": [
       "<matplotlib.legend.Legend at 0x7f24f4352670>"
      ]
     },
     "execution_count": 130,
     "metadata": {},
     "output_type": "execute_result"
    },
    {
     "data": {
      "image/png": "[encoded data removed]",
      "text/plain": [
       "<Figure size 720x576 with 1 Axes>"
      ]
     },
     "metadata": {
      "needs_background": "light"
     },
     "output_type": "display_data"
    }
   ],
   "source": [
    "# Let's look at the plot of the integrand\n",
    "plt.figure(figsize = (10,8))\n",
    "plt.plot(pmf_mehp_mehph[0], integrand, label = r'$\\frac{\\exp\\left ( \\frac{\\Delta G(z)}{RT} \\right )}{D(z)}$')\n",
    "plt.xlabel('Distance(z)/cm', fontsize = 14)\n",
    "plt.ylabel(r'$\\frac{\\exp\\left ( \\frac{\\Delta G(z)}{RT} \\right )}{D(z)}$', fontsize = 16)\n",
    "plt.legend()"
   ]
  },
  {
   "cell_type": "markdown",
   "id": "82e0fc01",
   "metadata": {},
   "source": [
    "#### Using Simpson's method"
   ]
  },
  {
   "cell_type": "code",
   "execution_count": 132,
   "id": "dba8e2cb",
   "metadata": {},
   "outputs": [
    {
     "data": {
      "text/plain": [
       "7.5795071230735855"
      ]
     },
     "execution_count": 132,
     "metadata": {},
     "output_type": "execute_result"
    }
   ],
   "source": [
    "1/simps(integrand, pmf_mehp_mehph[0]) # Identical result, not much of a difference"
   ]
  },
  {
   "cell_type": "code",
   "execution_count": 134,
   "id": "114e3148",
   "metadata": {},
   "outputs": [],
   "source": [
    "integ = pd.DataFrame({'0': pmf_mehp_mehph[0], '1': integrand})"
   ]
  },
  {
   "cell_type": "code",
   "execution_count": 135,
   "id": "953ef04c",
   "metadata": {},
   "outputs": [
    {
     "data": {
      "text/html": [
       "<div>\n",
       "<style scoped>\n",
       "    .dataframe tbody tr th:only-of-type {\n",
       "        vertical-align: middle;\n",
       "    }\n",
       "\n",
       "    .dataframe tbody tr th {\n",
       "        vertical-align: top;\n",
       "    }\n",
       "\n",
       "    .dataframe thead th {\n",
       "        text-align: right;\n",
       "    }\n",
       "</style>\n",
       "<table border=\"1\" class=\"dataframe\">\n",
       "  <thead>\n",
       "    <tr style=\"text-align: right;\">\n",
       "      <th></th>\n",
       "      <th>0</th>\n",
       "      <th>1</th>\n",
       "    </tr>\n",
       "  </thead>\n",
       "  <tbody>\n",
       "    <tr>\n",
       "      <th>0</th>\n",
       "      <td>0.000000e+00</td>\n",
       "      <td>4.572823e+07</td>\n",
       "    </tr>\n",
       "    <tr>\n",
       "      <th>1</th>\n",
       "      <td>5.004703e-10</td>\n",
       "      <td>2.566553e+07</td>\n",
       "    </tr>\n",
       "    <tr>\n",
       "      <th>2</th>\n",
       "      <td>1.501411e-09</td>\n",
       "      <td>1.347714e+07</td>\n",
       "    </tr>\n",
       "    <tr>\n",
       "      <th>3</th>\n",
       "      <td>2.502352e-09</td>\n",
       "      <td>9.066132e+06</td>\n",
       "    </tr>\n",
       "    <tr>\n",
       "      <th>4</th>\n",
       "      <td>3.503292e-09</td>\n",
       "      <td>6.534688e+06</td>\n",
       "    </tr>\n",
       "    <tr>\n",
       "      <th>...</th>\n",
       "      <td>...</td>\n",
       "      <td>...</td>\n",
       "    </tr>\n",
       "    <tr>\n",
       "      <th>397</th>\n",
       "      <td>3.968730e-07</td>\n",
       "      <td>1.078652e+05</td>\n",
       "    </tr>\n",
       "    <tr>\n",
       "      <th>398</th>\n",
       "      <td>3.978739e-07</td>\n",
       "      <td>1.084736e+05</td>\n",
       "    </tr>\n",
       "    <tr>\n",
       "      <th>399</th>\n",
       "      <td>3.988748e-07</td>\n",
       "      <td>1.093618e+05</td>\n",
       "    </tr>\n",
       "    <tr>\n",
       "      <th>400</th>\n",
       "      <td>3.998758e-07</td>\n",
       "      <td>1.108889e+05</td>\n",
       "    </tr>\n",
       "    <tr>\n",
       "      <th>401</th>\n",
       "      <td>4.000000e-07</td>\n",
       "      <td>1.110271e+05</td>\n",
       "    </tr>\n",
       "  </tbody>\n",
       "</table>\n",
       "<p>402 rows × 2 columns</p>\n",
       "</div>"
      ],
      "text/plain": [
       "                0             1\n",
       "0    0.000000e+00  4.572823e+07\n",
       "1    5.004703e-10  2.566553e+07\n",
       "2    1.501411e-09  1.347714e+07\n",
       "3    2.502352e-09  9.066132e+06\n",
       "4    3.503292e-09  6.534688e+06\n",
       "..            ...           ...\n",
       "397  3.968730e-07  1.078652e+05\n",
       "398  3.978739e-07  1.084736e+05\n",
       "399  3.988748e-07  1.093618e+05\n",
       "400  3.998758e-07  1.108889e+05\n",
       "401  4.000000e-07  1.110271e+05\n",
       "\n",
       "[402 rows x 2 columns]"
      ]
     },
     "execution_count": 135,
     "metadata": {},
     "output_type": "execute_result"
    }
   ],
   "source": [
    "integ"
   ]
  },
  {
   "cell_type": "code",
   "execution_count": 137,
   "id": "66ca4498",
   "metadata": {},
   "outputs": [],
   "source": [
    "# You can also export the data to xmgrace and calculate the area by yourself\n",
    "integ.to_csv('integrand_mehph.xvg', index = False, header = None, sep = ' ')"
   ]
  },
  {
   "cell_type": "code",
   "execution_count": 138,
   "id": "27282eab",
   "metadata": {},
   "outputs": [],
   "source": [
    "!xmgrace integrand_mehph.xvg  # Gives us the same area as the value of our integral"
   ]
  },
  {
   "cell_type": "markdown",
   "id": "362c616d",
   "metadata": {},
   "source": [
    "#### My another approach for the numerical integration will be to convert diffusion coefficient (cm^2/s) into nm^2/s, integrate it over the distance in nm, and finally convert into cm/s"
   ]
  },
  {
   "cell_type": "code",
   "execution_count": 139,
   "id": "2e02f6c1",
   "metadata": {},
   "outputs": [
    {
     "data": {
      "text/html": [
       "<div>\n",
       "<style scoped>\n",
       "    .dataframe tbody tr th:only-of-type {\n",
       "        vertical-align: middle;\n",
       "    }\n",
       "\n",
       "    .dataframe tbody tr th {\n",
       "        vertical-align: top;\n",
       "    }\n",
       "\n",
       "    .dataframe thead th {\n",
       "        text-align: right;\n",
       "    }\n",
       "</style>\n",
       "<table border=\"1\" class=\"dataframe\">\n",
       "  <thead>\n",
       "    <tr style=\"text-align: right;\">\n",
       "      <th></th>\n",
       "      <th>0</th>\n",
       "      <th>1</th>\n",
       "      <th>2</th>\n",
       "    </tr>\n",
       "  </thead>\n",
       "  <tbody>\n",
       "    <tr>\n",
       "      <th>0</th>\n",
       "      <td>0.000000e+00</td>\n",
       "      <td>-4.781046</td>\n",
       "      <td>0.145236</td>\n",
       "    </tr>\n",
       "    <tr>\n",
       "      <th>1</th>\n",
       "      <td>5.004703e-10</td>\n",
       "      <td>-4.781046</td>\n",
       "      <td>0.145236</td>\n",
       "    </tr>\n",
       "    <tr>\n",
       "      <th>2</th>\n",
       "      <td>1.501411e-09</td>\n",
       "      <td>-4.816288</td>\n",
       "      <td>0.143185</td>\n",
       "    </tr>\n",
       "    <tr>\n",
       "      <th>3</th>\n",
       "      <td>2.502352e-09</td>\n",
       "      <td>-4.848423</td>\n",
       "      <td>0.141340</td>\n",
       "    </tr>\n",
       "    <tr>\n",
       "      <th>4</th>\n",
       "      <td>3.503292e-09</td>\n",
       "      <td>-4.974581</td>\n",
       "      <td>0.134324</td>\n",
       "    </tr>\n",
       "  </tbody>\n",
       "</table>\n",
       "</div>"
      ],
      "text/plain": [
       "              0         1         2\n",
       "0  0.000000e+00 -4.781046  0.145236\n",
       "1  5.004703e-10 -4.781046  0.145236\n",
       "2  1.501411e-09 -4.816288  0.143185\n",
       "3  2.502352e-09 -4.848423  0.141340\n",
       "4  3.503292e-09 -4.974581  0.134324"
      ]
     },
     "execution_count": 139,
     "metadata": {},
     "output_type": "execute_result"
    }
   ],
   "source": [
    "pmf_mehp_mehph.head()"
   ]
  },
  {
   "cell_type": "code",
   "execution_count": 140,
   "id": "59b958a6",
   "metadata": {},
   "outputs": [
    {
     "data": {
      "text/html": [
       "<div>\n",
       "<style scoped>\n",
       "    .dataframe tbody tr th:only-of-type {\n",
       "        vertical-align: middle;\n",
       "    }\n",
       "\n",
       "    .dataframe tbody tr th {\n",
       "        vertical-align: top;\n",
       "    }\n",
       "\n",
       "    .dataframe thead th {\n",
       "        text-align: right;\n",
       "    }\n",
       "</style>\n",
       "<table border=\"1\" class=\"dataframe\">\n",
       "  <thead>\n",
       "    <tr style=\"text-align: right;\">\n",
       "      <th></th>\n",
       "      <th>z</th>\n",
       "      <th>G_P</th>\n",
       "      <th>G_PH</th>\n",
       "      <th>D_P</th>\n",
       "      <th>D_PH</th>\n",
       "      <th>Q</th>\n",
       "      <th>D</th>\n",
       "    </tr>\n",
       "  </thead>\n",
       "  <tbody>\n",
       "    <tr>\n",
       "      <th>0</th>\n",
       "      <td>0.000000e+00</td>\n",
       "      <td>24.18347</td>\n",
       "      <td>-4.781290</td>\n",
       "      <td>1.247037e-07</td>\n",
       "      <td>3.175044e-09</td>\n",
       "      <td>6.886094</td>\n",
       "      <td>3.176063e-09</td>\n",
       "    </tr>\n",
       "    <tr>\n",
       "      <th>1</th>\n",
       "      <td>5.004703e-10</td>\n",
       "      <td>24.18347</td>\n",
       "      <td>-4.781290</td>\n",
       "      <td>1.360629e-07</td>\n",
       "      <td>5.657692e-09</td>\n",
       "      <td>6.886094</td>\n",
       "      <td>5.658786e-09</td>\n",
       "    </tr>\n",
       "    <tr>\n",
       "      <th>2</th>\n",
       "      <td>1.501411e-09</td>\n",
       "      <td>24.05735</td>\n",
       "      <td>-4.816531</td>\n",
       "      <td>1.587814e-07</td>\n",
       "      <td>1.062299e-08</td>\n",
       "      <td>6.984727</td>\n",
       "      <td>1.062428e-08</td>\n",
       "    </tr>\n",
       "    <tr>\n",
       "      <th>3</th>\n",
       "      <td>2.502352e-09</td>\n",
       "      <td>23.77671</td>\n",
       "      <td>-4.848687</td>\n",
       "      <td>1.815000e-07</td>\n",
       "      <td>1.558829e-08</td>\n",
       "      <td>7.075960</td>\n",
       "      <td>1.558988e-08</td>\n",
       "    </tr>\n",
       "    <tr>\n",
       "      <th>4</th>\n",
       "      <td>3.503292e-09</td>\n",
       "      <td>23.34942</td>\n",
       "      <td>-4.974817</td>\n",
       "      <td>2.042185e-07</td>\n",
       "      <td>2.055358e-08</td>\n",
       "      <td>7.445459</td>\n",
       "      <td>2.055558e-08</td>\n",
       "    </tr>\n",
       "  </tbody>\n",
       "</table>\n",
       "</div>"
      ],
      "text/plain": [
       "              z       G_P      G_PH           D_P          D_PH         Q  \\\n",
       "0  0.000000e+00  24.18347 -4.781290  1.247037e-07  3.175044e-09  6.886094   \n",
       "1  5.004703e-10  24.18347 -4.781290  1.360629e-07  5.657692e-09  6.886094   \n",
       "2  1.501411e-09  24.05735 -4.816531  1.587814e-07  1.062299e-08  6.984727   \n",
       "3  2.502352e-09  23.77671 -4.848687  1.815000e-07  1.558829e-08  7.075960   \n",
       "4  3.503292e-09  23.34942 -4.974817  2.042185e-07  2.055358e-08  7.445459   \n",
       "\n",
       "              D  \n",
       "0  3.176063e-09  \n",
       "1  5.658786e-09  \n",
       "2  1.062428e-08  \n",
       "3  1.558988e-08  \n",
       "4  2.055558e-08  "
      ]
     },
     "execution_count": 140,
     "metadata": {},
     "output_type": "execute_result"
    }
   ],
   "source": [
    "df_diffusion.head()"
   ]
  },
  {
   "cell_type": "code",
   "execution_count": 141,
   "id": "7f164aa2",
   "metadata": {},
   "outputs": [],
   "source": [
    "pmf_mehp_mehph[0] = pmf_mehp_mehph[0] * 1 * 10 ** 7\n",
    "df_diffusion['z'] = df_diffusion['z'] * 1 * 10 ** 7"
   ]
  },
  {
   "cell_type": "code",
   "execution_count": 142,
   "id": "d1dae934",
   "metadata": {},
   "outputs": [
    {
     "data": {
      "text/html": [
       "<div>\n",
       "<style scoped>\n",
       "    .dataframe tbody tr th:only-of-type {\n",
       "        vertical-align: middle;\n",
       "    }\n",
       "\n",
       "    .dataframe tbody tr th {\n",
       "        vertical-align: top;\n",
       "    }\n",
       "\n",
       "    .dataframe thead th {\n",
       "        text-align: right;\n",
       "    }\n",
       "</style>\n",
       "<table border=\"1\" class=\"dataframe\">\n",
       "  <thead>\n",
       "    <tr style=\"text-align: right;\">\n",
       "      <th></th>\n",
       "      <th>0</th>\n",
       "      <th>1</th>\n",
       "      <th>2</th>\n",
       "    </tr>\n",
       "  </thead>\n",
       "  <tbody>\n",
       "    <tr>\n",
       "      <th>0</th>\n",
       "      <td>0.000000</td>\n",
       "      <td>-4.781046</td>\n",
       "      <td>0.145236</td>\n",
       "    </tr>\n",
       "    <tr>\n",
       "      <th>1</th>\n",
       "      <td>0.005005</td>\n",
       "      <td>-4.781046</td>\n",
       "      <td>0.145236</td>\n",
       "    </tr>\n",
       "    <tr>\n",
       "      <th>2</th>\n",
       "      <td>0.015014</td>\n",
       "      <td>-4.816288</td>\n",
       "      <td>0.143185</td>\n",
       "    </tr>\n",
       "    <tr>\n",
       "      <th>3</th>\n",
       "      <td>0.025024</td>\n",
       "      <td>-4.848423</td>\n",
       "      <td>0.141340</td>\n",
       "    </tr>\n",
       "    <tr>\n",
       "      <th>4</th>\n",
       "      <td>0.035033</td>\n",
       "      <td>-4.974581</td>\n",
       "      <td>0.134324</td>\n",
       "    </tr>\n",
       "  </tbody>\n",
       "</table>\n",
       "</div>"
      ],
      "text/plain": [
       "          0         1         2\n",
       "0  0.000000 -4.781046  0.145236\n",
       "1  0.005005 -4.781046  0.145236\n",
       "2  0.015014 -4.816288  0.143185\n",
       "3  0.025024 -4.848423  0.141340\n",
       "4  0.035033 -4.974581  0.134324"
      ]
     },
     "execution_count": 142,
     "metadata": {},
     "output_type": "execute_result"
    }
   ],
   "source": [
    "pmf_mehp_mehph.head()"
   ]
  },
  {
   "cell_type": "code",
   "execution_count": 143,
   "id": "757d6754",
   "metadata": {},
   "outputs": [
    {
     "data": {
      "text/html": [
       "<div>\n",
       "<style scoped>\n",
       "    .dataframe tbody tr th:only-of-type {\n",
       "        vertical-align: middle;\n",
       "    }\n",
       "\n",
       "    .dataframe tbody tr th {\n",
       "        vertical-align: top;\n",
       "    }\n",
       "\n",
       "    .dataframe thead th {\n",
       "        text-align: right;\n",
       "    }\n",
       "</style>\n",
       "<table border=\"1\" class=\"dataframe\">\n",
       "  <thead>\n",
       "    <tr style=\"text-align: right;\">\n",
       "      <th></th>\n",
       "      <th>z</th>\n",
       "      <th>G_P</th>\n",
       "      <th>G_PH</th>\n",
       "      <th>D_P</th>\n",
       "      <th>D_PH</th>\n",
       "      <th>Q</th>\n",
       "      <th>D</th>\n",
       "    </tr>\n",
       "  </thead>\n",
       "  <tbody>\n",
       "    <tr>\n",
       "      <th>0</th>\n",
       "      <td>0.000000</td>\n",
       "      <td>24.18347</td>\n",
       "      <td>-4.781290</td>\n",
       "      <td>1.247037e-07</td>\n",
       "      <td>3.175044e-09</td>\n",
       "      <td>6.886094</td>\n",
       "      <td>3.176063e-09</td>\n",
       "    </tr>\n",
       "    <tr>\n",
       "      <th>1</th>\n",
       "      <td>0.005005</td>\n",
       "      <td>24.18347</td>\n",
       "      <td>-4.781290</td>\n",
       "      <td>1.360629e-07</td>\n",
       "      <td>5.657692e-09</td>\n",
       "      <td>6.886094</td>\n",
       "      <td>5.658786e-09</td>\n",
       "    </tr>\n",
       "    <tr>\n",
       "      <th>2</th>\n",
       "      <td>0.015014</td>\n",
       "      <td>24.05735</td>\n",
       "      <td>-4.816531</td>\n",
       "      <td>1.587814e-07</td>\n",
       "      <td>1.062299e-08</td>\n",
       "      <td>6.984727</td>\n",
       "      <td>1.062428e-08</td>\n",
       "    </tr>\n",
       "    <tr>\n",
       "      <th>3</th>\n",
       "      <td>0.025024</td>\n",
       "      <td>23.77671</td>\n",
       "      <td>-4.848687</td>\n",
       "      <td>1.815000e-07</td>\n",
       "      <td>1.558829e-08</td>\n",
       "      <td>7.075960</td>\n",
       "      <td>1.558988e-08</td>\n",
       "    </tr>\n",
       "    <tr>\n",
       "      <th>4</th>\n",
       "      <td>0.035033</td>\n",
       "      <td>23.34942</td>\n",
       "      <td>-4.974817</td>\n",
       "      <td>2.042185e-07</td>\n",
       "      <td>2.055358e-08</td>\n",
       "      <td>7.445459</td>\n",
       "      <td>2.055558e-08</td>\n",
       "    </tr>\n",
       "  </tbody>\n",
       "</table>\n",
       "</div>"
      ],
      "text/plain": [
       "          z       G_P      G_PH           D_P          D_PH         Q  \\\n",
       "0  0.000000  24.18347 -4.781290  1.247037e-07  3.175044e-09  6.886094   \n",
       "1  0.005005  24.18347 -4.781290  1.360629e-07  5.657692e-09  6.886094   \n",
       "2  0.015014  24.05735 -4.816531  1.587814e-07  1.062299e-08  6.984727   \n",
       "3  0.025024  23.77671 -4.848687  1.815000e-07  1.558829e-08  7.075960   \n",
       "4  0.035033  23.34942 -4.974817  2.042185e-07  2.055358e-08  7.445459   \n",
       "\n",
       "              D  \n",
       "0  3.176063e-09  \n",
       "1  5.658786e-09  \n",
       "2  1.062428e-08  \n",
       "3  1.558988e-08  \n",
       "4  2.055558e-08  "
      ]
     },
     "execution_count": 143,
     "metadata": {},
     "output_type": "execute_result"
    }
   ],
   "source": [
    "df_diffusion.head()"
   ]
  },
  {
   "cell_type": "code",
   "execution_count": 144,
   "id": "55dd3e05",
   "metadata": {},
   "outputs": [],
   "source": [
    "# Converting diffusion coefficient into nm^2/s and adding it into the last column\n",
    "df_diffusion['D'] = df_diffusion['D'] * 1 * 10 ** 14"
   ]
  },
  {
   "cell_type": "code",
   "execution_count": 145,
   "id": "60ec8b4c",
   "metadata": {},
   "outputs": [
    {
     "data": {
      "text/html": [
       "<div>\n",
       "<style scoped>\n",
       "    .dataframe tbody tr th:only-of-type {\n",
       "        vertical-align: middle;\n",
       "    }\n",
       "\n",
       "    .dataframe tbody tr th {\n",
       "        vertical-align: top;\n",
       "    }\n",
       "\n",
       "    .dataframe thead th {\n",
       "        text-align: right;\n",
       "    }\n",
       "</style>\n",
       "<table border=\"1\" class=\"dataframe\">\n",
       "  <thead>\n",
       "    <tr style=\"text-align: right;\">\n",
       "      <th></th>\n",
       "      <th>z</th>\n",
       "      <th>G_P</th>\n",
       "      <th>G_PH</th>\n",
       "      <th>D_P</th>\n",
       "      <th>D_PH</th>\n",
       "      <th>Q</th>\n",
       "      <th>D</th>\n",
       "    </tr>\n",
       "  </thead>\n",
       "  <tbody>\n",
       "    <tr>\n",
       "      <th>0</th>\n",
       "      <td>0.000000</td>\n",
       "      <td>24.18347</td>\n",
       "      <td>-4.781290</td>\n",
       "      <td>1.247037e-07</td>\n",
       "      <td>3.175044e-09</td>\n",
       "      <td>6.886094</td>\n",
       "      <td>3.176063e+05</td>\n",
       "    </tr>\n",
       "    <tr>\n",
       "      <th>1</th>\n",
       "      <td>0.005005</td>\n",
       "      <td>24.18347</td>\n",
       "      <td>-4.781290</td>\n",
       "      <td>1.360629e-07</td>\n",
       "      <td>5.657692e-09</td>\n",
       "      <td>6.886094</td>\n",
       "      <td>5.658786e+05</td>\n",
       "    </tr>\n",
       "    <tr>\n",
       "      <th>2</th>\n",
       "      <td>0.015014</td>\n",
       "      <td>24.05735</td>\n",
       "      <td>-4.816531</td>\n",
       "      <td>1.587814e-07</td>\n",
       "      <td>1.062299e-08</td>\n",
       "      <td>6.984727</td>\n",
       "      <td>1.062428e+06</td>\n",
       "    </tr>\n",
       "    <tr>\n",
       "      <th>3</th>\n",
       "      <td>0.025024</td>\n",
       "      <td>23.77671</td>\n",
       "      <td>-4.848687</td>\n",
       "      <td>1.815000e-07</td>\n",
       "      <td>1.558829e-08</td>\n",
       "      <td>7.075960</td>\n",
       "      <td>1.558988e+06</td>\n",
       "    </tr>\n",
       "    <tr>\n",
       "      <th>4</th>\n",
       "      <td>0.035033</td>\n",
       "      <td>23.34942</td>\n",
       "      <td>-4.974817</td>\n",
       "      <td>2.042185e-07</td>\n",
       "      <td>2.055358e-08</td>\n",
       "      <td>7.445459</td>\n",
       "      <td>2.055558e+06</td>\n",
       "    </tr>\n",
       "  </tbody>\n",
       "</table>\n",
       "</div>"
      ],
      "text/plain": [
       "          z       G_P      G_PH           D_P          D_PH         Q  \\\n",
       "0  0.000000  24.18347 -4.781290  1.247037e-07  3.175044e-09  6.886094   \n",
       "1  0.005005  24.18347 -4.781290  1.360629e-07  5.657692e-09  6.886094   \n",
       "2  0.015014  24.05735 -4.816531  1.587814e-07  1.062299e-08  6.984727   \n",
       "3  0.025024  23.77671 -4.848687  1.815000e-07  1.558829e-08  7.075960   \n",
       "4  0.035033  23.34942 -4.974817  2.042185e-07  2.055358e-08  7.445459   \n",
       "\n",
       "              D  \n",
       "0  3.176063e+05  \n",
       "1  5.658786e+05  \n",
       "2  1.062428e+06  \n",
       "3  1.558988e+06  \n",
       "4  2.055558e+06  "
      ]
     },
     "execution_count": 145,
     "metadata": {},
     "output_type": "execute_result"
    }
   ],
   "source": [
    "df_diffusion.head()"
   ]
  },
  {
   "cell_type": "code",
   "execution_count": 146,
   "id": "387b0fbf",
   "metadata": {},
   "outputs": [],
   "source": [
    "integrand = pmf_mehp_mehph[2]/df_diffusion['D']"
   ]
  },
  {
   "cell_type": "code",
   "execution_count": 147,
   "id": "bec171a9",
   "metadata": {},
   "outputs": [
    {
     "data": {
      "text/plain": [
       "1.3469915560222746e-08"
      ]
     },
     "execution_count": 147,
     "metadata": {},
     "output_type": "execute_result"
    }
   ],
   "source": [
    "trapz(integrand, pmf_mehp_mehph[0])"
   ]
  },
  {
   "cell_type": "code",
   "execution_count": 149,
   "id": "ba5b1c82",
   "metadata": {},
   "outputs": [
    {
     "data": {
      "text/plain": [
       "74239515.12755166"
      ]
     },
     "execution_count": 149,
     "metadata": {},
     "output_type": "execute_result"
    }
   ],
   "source": [
    "1/trapz(integrand, pmf_mehp_mehph[0]) # This is now in nm/s"
   ]
  },
  {
   "cell_type": "code",
   "execution_count": 150,
   "id": "b9e2dd9f",
   "metadata": {},
   "outputs": [
    {
     "data": {
      "text/plain": [
       "7.423951512755166"
      ]
     },
     "execution_count": 150,
     "metadata": {},
     "output_type": "execute_result"
    }
   ],
   "source": [
    "# Converting into cm/s\n",
    "1/trapz(integrand, pmf_mehp_mehph[0]) * 1 * 10 ** -7 # We got the same answer in both ways"
   ]
  },
  {
   "cell_type": "code",
   "execution_count": null,
   "id": "d13a87d6",
   "metadata": {},
   "outputs": [],
   "source": []
  }
 ],
 "metadata": {
  "kernelspec": {
   "display_name": "Python 3",
   "language": "python",
   "name": "python3"
  },
  "language_info": {
   "codemirror_mode": {
    "name": "ipython",
    "version": 3
   },
   "file_extension": ".py",
   "mimetype": "text/x-python",
   "name": "python",
   "nbconvert_exporter": "python",
   "pygments_lexer": "ipython3",
   "version": "3.8.8"
  }
 },
 "nbformat": 4,
 "nbformat_minor": 5
}

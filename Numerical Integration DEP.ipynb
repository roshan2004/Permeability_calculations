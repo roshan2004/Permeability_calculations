{
 "cells": [
  {
   "cell_type": "markdown",
   "id": "5e2eaa9d",
   "metadata": {},
   "source": [
    "Importing necessary libraries ...."
   ]
  },
  {
   "cell_type": "code",
   "execution_count": 90,
   "id": "bcbd1735",
   "metadata": {},
   "outputs": [],
   "source": [
    "import pandas as pd\n",
    "import numpy as np\n",
    "import matplotlib.pyplot as plt\n",
    "from scipy.integrate import trapz, simps #Importing trapz, and simps module from scipy for numerical integration"
   ]
  },
  {
   "cell_type": "markdown",
   "id": "7a02ba2e",
   "metadata": {},
   "source": [
    "Individual PMF data is saved in .xvg file, while diffusion data is saved in .txt file like in this case - Free energy of DEP is in 1-DEP.xvg, and its diffusion is in DEP_dif.txt. Here, we have imported these data in a panda dataframe which simplifies our work."
   ]
  },
  {
   "cell_type": "code",
   "execution_count": 188,
   "id": "3f99ea9b",
   "metadata": {},
   "outputs": [],
   "source": [
    "pmf_dep = pd.read_csv('1-DEP.xvg', header = None, delim_whitespace=True)"
   ]
  },
  {
   "cell_type": "code",
   "execution_count": 92,
   "id": "ae4709da",
   "metadata": {},
   "outputs": [
    {
     "data": {
      "text/html": [
       "<div>\n",
       "<style scoped>\n",
       "    .dataframe tbody tr th:only-of-type {\n",
       "        vertical-align: middle;\n",
       "    }\n",
       "\n",
       "    .dataframe tbody tr th {\n",
       "        vertical-align: top;\n",
       "    }\n",
       "\n",
       "    .dataframe thead th {\n",
       "        text-align: right;\n",
       "    }\n",
       "</style>\n",
       "<table border=\"1\" class=\"dataframe\">\n",
       "  <thead>\n",
       "    <tr style=\"text-align: right;\">\n",
       "      <th></th>\n",
       "      <th>0</th>\n",
       "      <th>1</th>\n",
       "      <th>2</th>\n",
       "    </tr>\n",
       "  </thead>\n",
       "  <tbody>\n",
       "    <tr>\n",
       "      <th>0</th>\n",
       "      <td>0.005003</td>\n",
       "      <td>-18.37016</td>\n",
       "      <td>1.569825</td>\n",
       "    </tr>\n",
       "    <tr>\n",
       "      <th>1</th>\n",
       "      <td>0.015008</td>\n",
       "      <td>-18.34362</td>\n",
       "      <td>1.569539</td>\n",
       "    </tr>\n",
       "    <tr>\n",
       "      <th>2</th>\n",
       "      <td>0.025013</td>\n",
       "      <td>-18.35806</td>\n",
       "      <td>1.569685</td>\n",
       "    </tr>\n",
       "    <tr>\n",
       "      <th>3</th>\n",
       "      <td>0.035018</td>\n",
       "      <td>-18.36785</td>\n",
       "      <td>1.569009</td>\n",
       "    </tr>\n",
       "    <tr>\n",
       "      <th>4</th>\n",
       "      <td>0.045023</td>\n",
       "      <td>-18.36276</td>\n",
       "      <td>1.570050</td>\n",
       "    </tr>\n",
       "  </tbody>\n",
       "</table>\n",
       "</div>"
      ],
      "text/plain": [
       "          0         1         2\n",
       "0  0.005003 -18.37016  1.569825\n",
       "1  0.015008 -18.34362  1.569539\n",
       "2  0.025013 -18.35806  1.569685\n",
       "3  0.035018 -18.36785  1.569009\n",
       "4  0.045023 -18.36276  1.570050"
      ]
     },
     "execution_count": 92,
     "metadata": {},
     "output_type": "execute_result"
    }
   ],
   "source": [
    "# Checking the few data from pmf_dep\n",
    "pmf_dep.head()"
   ]
  },
  {
   "cell_type": "code",
   "execution_count": 93,
   "id": "222407a1",
   "metadata": {},
   "outputs": [
    {
     "data": {
      "text/html": [
       "<div>\n",
       "<style scoped>\n",
       "    .dataframe tbody tr th:only-of-type {\n",
       "        vertical-align: middle;\n",
       "    }\n",
       "\n",
       "    .dataframe tbody tr th {\n",
       "        vertical-align: top;\n",
       "    }\n",
       "\n",
       "    .dataframe thead th {\n",
       "        text-align: right;\n",
       "    }\n",
       "</style>\n",
       "<table border=\"1\" class=\"dataframe\">\n",
       "  <thead>\n",
       "    <tr style=\"text-align: right;\">\n",
       "      <th></th>\n",
       "      <th>0</th>\n",
       "      <th>1</th>\n",
       "      <th>2</th>\n",
       "    </tr>\n",
       "  </thead>\n",
       "  <tbody>\n",
       "    <tr>\n",
       "      <th>416</th>\n",
       "      <td>4.167127</td>\n",
       "      <td>-0.355550</td>\n",
       "      <td>0.007728</td>\n",
       "    </tr>\n",
       "    <tr>\n",
       "      <th>417</th>\n",
       "      <td>4.177132</td>\n",
       "      <td>0.596985</td>\n",
       "      <td>0.004727</td>\n",
       "    </tr>\n",
       "    <tr>\n",
       "      <th>418</th>\n",
       "      <td>4.187137</td>\n",
       "      <td>0.783231</td>\n",
       "      <td>0.003857</td>\n",
       "    </tr>\n",
       "    <tr>\n",
       "      <th>419</th>\n",
       "      <td>4.197143</td>\n",
       "      <td>0.024860</td>\n",
       "      <td>0.004234</td>\n",
       "    </tr>\n",
       "    <tr>\n",
       "      <th>420</th>\n",
       "      <td>4.207148</td>\n",
       "      <td>-19.103220</td>\n",
       "      <td>0.777640</td>\n",
       "    </tr>\n",
       "  </tbody>\n",
       "</table>\n",
       "</div>"
      ],
      "text/plain": [
       "            0          1         2\n",
       "416  4.167127  -0.355550  0.007728\n",
       "417  4.177132   0.596985  0.004727\n",
       "418  4.187137   0.783231  0.003857\n",
       "419  4.197143   0.024860  0.004234\n",
       "420  4.207148 -19.103220  0.777640"
      ]
     },
     "execution_count": 93,
     "metadata": {},
     "output_type": "execute_result"
    }
   ],
   "source": [
    "# Similarly, looking at few last lines of the data\n",
    "pmf_dep.tail()"
   ]
  },
  {
   "cell_type": "code",
   "execution_count": 189,
   "id": "46312524",
   "metadata": {},
   "outputs": [],
   "source": [
    "# Extrapolating for the data at 0\n",
    "df = pd.DataFrame({0: [0.000000], 1: -18.37016, 2:1.569825})\n",
    "df = df.append(pmf_dep)\n",
    "df = df.reset_index(drop=True)"
   ]
  },
  {
   "cell_type": "code",
   "execution_count": 190,
   "id": "7d759a48",
   "metadata": {},
   "outputs": [],
   "source": [
    "# Just making a copy to have same name as original\n",
    "pmf_dep = df.copy(deep=True)"
   ]
  },
  {
   "cell_type": "code",
   "execution_count": 191,
   "id": "06433cb0",
   "metadata": {},
   "outputs": [
    {
     "data": {
      "text/html": [
       "<div>\n",
       "<style scoped>\n",
       "    .dataframe tbody tr th:only-of-type {\n",
       "        vertical-align: middle;\n",
       "    }\n",
       "\n",
       "    .dataframe tbody tr th {\n",
       "        vertical-align: top;\n",
       "    }\n",
       "\n",
       "    .dataframe thead th {\n",
       "        text-align: right;\n",
       "    }\n",
       "</style>\n",
       "<table border=\"1\" class=\"dataframe\">\n",
       "  <thead>\n",
       "    <tr style=\"text-align: right;\">\n",
       "      <th></th>\n",
       "      <th>0</th>\n",
       "      <th>1</th>\n",
       "      <th>2</th>\n",
       "    </tr>\n",
       "  </thead>\n",
       "  <tbody>\n",
       "    <tr>\n",
       "      <th>0</th>\n",
       "      <td>0.000000</td>\n",
       "      <td>-18.37016</td>\n",
       "      <td>1.569825</td>\n",
       "    </tr>\n",
       "    <tr>\n",
       "      <th>1</th>\n",
       "      <td>0.005003</td>\n",
       "      <td>-18.37016</td>\n",
       "      <td>1.569825</td>\n",
       "    </tr>\n",
       "    <tr>\n",
       "      <th>2</th>\n",
       "      <td>0.015008</td>\n",
       "      <td>-18.34362</td>\n",
       "      <td>1.569539</td>\n",
       "    </tr>\n",
       "    <tr>\n",
       "      <th>3</th>\n",
       "      <td>0.025013</td>\n",
       "      <td>-18.35806</td>\n",
       "      <td>1.569685</td>\n",
       "    </tr>\n",
       "    <tr>\n",
       "      <th>4</th>\n",
       "      <td>0.035018</td>\n",
       "      <td>-18.36785</td>\n",
       "      <td>1.569009</td>\n",
       "    </tr>\n",
       "  </tbody>\n",
       "</table>\n",
       "</div>"
      ],
      "text/plain": [
       "          0         1         2\n",
       "0  0.000000 -18.37016  1.569825\n",
       "1  0.005003 -18.37016  1.569825\n",
       "2  0.015008 -18.34362  1.569539\n",
       "3  0.025013 -18.35806  1.569685\n",
       "4  0.035018 -18.36785  1.569009"
      ]
     },
     "execution_count": 191,
     "metadata": {},
     "output_type": "execute_result"
    }
   ],
   "source": [
    "pmf_dep.head()"
   ]
  },
  {
   "cell_type": "code",
   "execution_count": 192,
   "id": "08837def",
   "metadata": {},
   "outputs": [],
   "source": [
    "# We don't want the values of z distance above 4, so\n",
    "pmf_dep = pmf_dep[pmf_dep[0] <= 4.000000]"
   ]
  },
  {
   "cell_type": "code",
   "execution_count": 193,
   "id": "0333ac94",
   "metadata": {},
   "outputs": [
    {
     "data": {
      "text/html": [
       "<div>\n",
       "<style scoped>\n",
       "    .dataframe tbody tr th:only-of-type {\n",
       "        vertical-align: middle;\n",
       "    }\n",
       "\n",
       "    .dataframe tbody tr th {\n",
       "        vertical-align: top;\n",
       "    }\n",
       "\n",
       "    .dataframe thead th {\n",
       "        text-align: right;\n",
       "    }\n",
       "</style>\n",
       "<table border=\"1\" class=\"dataframe\">\n",
       "  <thead>\n",
       "    <tr style=\"text-align: right;\">\n",
       "      <th></th>\n",
       "      <th>0</th>\n",
       "      <th>1</th>\n",
       "      <th>2</th>\n",
       "    </tr>\n",
       "  </thead>\n",
       "  <tbody>\n",
       "    <tr>\n",
       "      <th>396</th>\n",
       "      <td>3.957020</td>\n",
       "      <td>-0.015401</td>\n",
       "      <td>0.010041</td>\n",
       "    </tr>\n",
       "    <tr>\n",
       "      <th>397</th>\n",
       "      <td>3.967025</td>\n",
       "      <td>-0.017755</td>\n",
       "      <td>0.006894</td>\n",
       "    </tr>\n",
       "    <tr>\n",
       "      <th>398</th>\n",
       "      <td>3.977030</td>\n",
       "      <td>-0.073649</td>\n",
       "      <td>0.014431</td>\n",
       "    </tr>\n",
       "    <tr>\n",
       "      <th>399</th>\n",
       "      <td>3.987035</td>\n",
       "      <td>-0.025883</td>\n",
       "      <td>0.006661</td>\n",
       "    </tr>\n",
       "    <tr>\n",
       "      <th>400</th>\n",
       "      <td>3.997040</td>\n",
       "      <td>0.000000</td>\n",
       "      <td>0.000000</td>\n",
       "    </tr>\n",
       "  </tbody>\n",
       "</table>\n",
       "</div>"
      ],
      "text/plain": [
       "            0         1         2\n",
       "396  3.957020 -0.015401  0.010041\n",
       "397  3.967025 -0.017755  0.006894\n",
       "398  3.977030 -0.073649  0.014431\n",
       "399  3.987035 -0.025883  0.006661\n",
       "400  3.997040  0.000000  0.000000"
      ]
     },
     "execution_count": 193,
     "metadata": {},
     "output_type": "execute_result"
    }
   ],
   "source": [
    "pmf_dep.tail()"
   ]
  },
  {
   "cell_type": "code",
   "execution_count": 194,
   "id": "cf9c2ab3",
   "metadata": {},
   "outputs": [],
   "source": [
    "# Just extrapolating to have the same value in z = 4 nm as in z = 3.997040\n",
    "pmf_dep = pmf_dep.append({0: 4.000000, 1: 0.000000, 2: 0.000000}, ignore_index = True)"
   ]
  },
  {
   "cell_type": "code",
   "execution_count": 100,
   "id": "0a3ccce9",
   "metadata": {},
   "outputs": [
    {
     "data": {
      "text/html": [
       "<div>\n",
       "<style scoped>\n",
       "    .dataframe tbody tr th:only-of-type {\n",
       "        vertical-align: middle;\n",
       "    }\n",
       "\n",
       "    .dataframe tbody tr th {\n",
       "        vertical-align: top;\n",
       "    }\n",
       "\n",
       "    .dataframe thead th {\n",
       "        text-align: right;\n",
       "    }\n",
       "</style>\n",
       "<table border=\"1\" class=\"dataframe\">\n",
       "  <thead>\n",
       "    <tr style=\"text-align: right;\">\n",
       "      <th></th>\n",
       "      <th>0</th>\n",
       "      <th>1</th>\n",
       "      <th>2</th>\n",
       "    </tr>\n",
       "  </thead>\n",
       "  <tbody>\n",
       "    <tr>\n",
       "      <th>0</th>\n",
       "      <td>0.000000</td>\n",
       "      <td>-18.370160</td>\n",
       "      <td>1.569825</td>\n",
       "    </tr>\n",
       "    <tr>\n",
       "      <th>1</th>\n",
       "      <td>0.005003</td>\n",
       "      <td>-18.370160</td>\n",
       "      <td>1.569825</td>\n",
       "    </tr>\n",
       "    <tr>\n",
       "      <th>2</th>\n",
       "      <td>0.015008</td>\n",
       "      <td>-18.343620</td>\n",
       "      <td>1.569539</td>\n",
       "    </tr>\n",
       "    <tr>\n",
       "      <th>3</th>\n",
       "      <td>0.025013</td>\n",
       "      <td>-18.358060</td>\n",
       "      <td>1.569685</td>\n",
       "    </tr>\n",
       "    <tr>\n",
       "      <th>4</th>\n",
       "      <td>0.035018</td>\n",
       "      <td>-18.367850</td>\n",
       "      <td>1.569009</td>\n",
       "    </tr>\n",
       "    <tr>\n",
       "      <th>...</th>\n",
       "      <td>...</td>\n",
       "      <td>...</td>\n",
       "      <td>...</td>\n",
       "    </tr>\n",
       "    <tr>\n",
       "      <th>397</th>\n",
       "      <td>3.967025</td>\n",
       "      <td>-0.017755</td>\n",
       "      <td>0.006894</td>\n",
       "    </tr>\n",
       "    <tr>\n",
       "      <th>398</th>\n",
       "      <td>3.977030</td>\n",
       "      <td>-0.073649</td>\n",
       "      <td>0.014431</td>\n",
       "    </tr>\n",
       "    <tr>\n",
       "      <th>399</th>\n",
       "      <td>3.987035</td>\n",
       "      <td>-0.025883</td>\n",
       "      <td>0.006661</td>\n",
       "    </tr>\n",
       "    <tr>\n",
       "      <th>400</th>\n",
       "      <td>3.997040</td>\n",
       "      <td>0.000000</td>\n",
       "      <td>0.000000</td>\n",
       "    </tr>\n",
       "    <tr>\n",
       "      <th>401</th>\n",
       "      <td>4.000000</td>\n",
       "      <td>0.000000</td>\n",
       "      <td>0.000000</td>\n",
       "    </tr>\n",
       "  </tbody>\n",
       "</table>\n",
       "<p>402 rows × 3 columns</p>\n",
       "</div>"
      ],
      "text/plain": [
       "            0          1         2\n",
       "0    0.000000 -18.370160  1.569825\n",
       "1    0.005003 -18.370160  1.569825\n",
       "2    0.015008 -18.343620  1.569539\n",
       "3    0.025013 -18.358060  1.569685\n",
       "4    0.035018 -18.367850  1.569009\n",
       "..        ...        ...       ...\n",
       "397  3.967025  -0.017755  0.006894\n",
       "398  3.977030  -0.073649  0.014431\n",
       "399  3.987035  -0.025883  0.006661\n",
       "400  3.997040   0.000000  0.000000\n",
       "401  4.000000   0.000000  0.000000\n",
       "\n",
       "[402 rows x 3 columns]"
      ]
     },
     "execution_count": 100,
     "metadata": {},
     "output_type": "execute_result"
    }
   ],
   "source": [
    "pmf_dep"
   ]
  },
  {
   "cell_type": "code",
   "execution_count": 195,
   "id": "65aa70f8",
   "metadata": {},
   "outputs": [
    {
     "data": {
      "text/plain": [
       "[<matplotlib.lines.Line2D at 0x7fb57936b5b0>]"
      ]
     },
     "execution_count": 195,
     "metadata": {},
     "output_type": "execute_result"
    },
    {
     "data": {
      "image/png": "[encoded data removed]",
      "text/plain": [
       "<Figure size 432x288 with 1 Axes>"
      ]
     },
     "metadata": {
      "needs_background": "light"
     },
     "output_type": "display_data"
    }
   ],
   "source": [
    "# Now, check a rough plot for free energy\n",
    "plt.plot(pmf_dep[0], pmf_dep[1])"
   ]
  },
  {
   "cell_type": "markdown",
   "id": "fcd10173",
   "metadata": {},
   "source": [
    "Now adding a $e^\\frac{\\Delta G}{RT}$ component in the last column of our PMF data. Here, $\\Delta G$ is obtained from the second column df[1] and RT is 2.478 KJ/mol at 298K."
   ]
  },
  {
   "cell_type": "code",
   "execution_count": 196,
   "id": "0a7278af",
   "metadata": {},
   "outputs": [],
   "source": [
    "pmf_dep[3] = np.exp(pmf_dep[1]/2.478)"
   ]
  },
  {
   "cell_type": "code",
   "execution_count": 197,
   "id": "1466a8e7",
   "metadata": {},
   "outputs": [
    {
     "data": {
      "text/html": [
       "<div>\n",
       "<style scoped>\n",
       "    .dataframe tbody tr th:only-of-type {\n",
       "        vertical-align: middle;\n",
       "    }\n",
       "\n",
       "    .dataframe tbody tr th {\n",
       "        vertical-align: top;\n",
       "    }\n",
       "\n",
       "    .dataframe thead th {\n",
       "        text-align: right;\n",
       "    }\n",
       "</style>\n",
       "<table border=\"1\" class=\"dataframe\">\n",
       "  <thead>\n",
       "    <tr style=\"text-align: right;\">\n",
       "      <th></th>\n",
       "      <th>0</th>\n",
       "      <th>1</th>\n",
       "      <th>2</th>\n",
       "      <th>3</th>\n",
       "    </tr>\n",
       "  </thead>\n",
       "  <tbody>\n",
       "    <tr>\n",
       "      <th>0</th>\n",
       "      <td>0.000000</td>\n",
       "      <td>-18.37016</td>\n",
       "      <td>1.569825</td>\n",
       "      <td>0.000603</td>\n",
       "    </tr>\n",
       "    <tr>\n",
       "      <th>1</th>\n",
       "      <td>0.005003</td>\n",
       "      <td>-18.37016</td>\n",
       "      <td>1.569825</td>\n",
       "      <td>0.000603</td>\n",
       "    </tr>\n",
       "    <tr>\n",
       "      <th>2</th>\n",
       "      <td>0.015008</td>\n",
       "      <td>-18.34362</td>\n",
       "      <td>1.569539</td>\n",
       "      <td>0.000610</td>\n",
       "    </tr>\n",
       "    <tr>\n",
       "      <th>3</th>\n",
       "      <td>0.025013</td>\n",
       "      <td>-18.35806</td>\n",
       "      <td>1.569685</td>\n",
       "      <td>0.000606</td>\n",
       "    </tr>\n",
       "    <tr>\n",
       "      <th>4</th>\n",
       "      <td>0.035018</td>\n",
       "      <td>-18.36785</td>\n",
       "      <td>1.569009</td>\n",
       "      <td>0.000604</td>\n",
       "    </tr>\n",
       "  </tbody>\n",
       "</table>\n",
       "</div>"
      ],
      "text/plain": [
       "          0         1         2         3\n",
       "0  0.000000 -18.37016  1.569825  0.000603\n",
       "1  0.005003 -18.37016  1.569825  0.000603\n",
       "2  0.015008 -18.34362  1.569539  0.000610\n",
       "3  0.025013 -18.35806  1.569685  0.000606\n",
       "4  0.035018 -18.36785  1.569009  0.000604"
      ]
     },
     "execution_count": 197,
     "metadata": {},
     "output_type": "execute_result"
    }
   ],
   "source": [
    "pmf_dep.head()"
   ]
  },
  {
   "cell_type": "code",
   "execution_count": 104,
   "id": "bcfb48a7",
   "metadata": {},
   "outputs": [
    {
     "data": {
      "text/plain": [
       "0.0006031762899028857"
      ]
     },
     "execution_count": 104,
     "metadata": {},
     "output_type": "execute_result"
    }
   ],
   "source": [
    "# Just checking some values in the last column if it makes sense\n",
    "np.exp(-18.37016/2.478)"
   ]
  },
  {
   "cell_type": "markdown",
   "id": "e06b3e68",
   "metadata": {},
   "source": [
    "Now, importing the diffusion coefficient data for DEP........"
   ]
  },
  {
   "cell_type": "code",
   "execution_count": 232,
   "id": "6343a2af",
   "metadata": {},
   "outputs": [],
   "source": [
    "diff_dep = pd.read_csv('DEP_dif.txt', header = None, delim_whitespace=True)"
   ]
  },
  {
   "cell_type": "code",
   "execution_count": 219,
   "id": "aa67909a",
   "metadata": {},
   "outputs": [
    {
     "data": {
      "text/html": [
       "<div>\n",
       "<style scoped>\n",
       "    .dataframe tbody tr th:only-of-type {\n",
       "        vertical-align: middle;\n",
       "    }\n",
       "\n",
       "    .dataframe tbody tr th {\n",
       "        vertical-align: top;\n",
       "    }\n",
       "\n",
       "    .dataframe thead th {\n",
       "        text-align: right;\n",
       "    }\n",
       "</style>\n",
       "<table border=\"1\" class=\"dataframe\">\n",
       "  <thead>\n",
       "    <tr style=\"text-align: right;\">\n",
       "      <th></th>\n",
       "      <th>0</th>\n",
       "      <th>1</th>\n",
       "    </tr>\n",
       "  </thead>\n",
       "  <tbody>\n",
       "    <tr>\n",
       "      <th>0</th>\n",
       "      <td>0.0</td>\n",
       "      <td>2.100594e-06</td>\n",
       "    </tr>\n",
       "    <tr>\n",
       "      <th>1</th>\n",
       "      <td>0.1</td>\n",
       "      <td>2.168585e-06</td>\n",
       "    </tr>\n",
       "    <tr>\n",
       "      <th>2</th>\n",
       "      <td>0.2</td>\n",
       "      <td>1.663174e-07</td>\n",
       "    </tr>\n",
       "    <tr>\n",
       "      <th>3</th>\n",
       "      <td>0.3</td>\n",
       "      <td>1.112835e-07</td>\n",
       "    </tr>\n",
       "    <tr>\n",
       "      <th>4</th>\n",
       "      <td>0.4</td>\n",
       "      <td>2.204095e-07</td>\n",
       "    </tr>\n",
       "  </tbody>\n",
       "</table>\n",
       "</div>"
      ],
      "text/plain": [
       "     0             1\n",
       "0  0.0  2.100594e-06\n",
       "1  0.1  2.168585e-06\n",
       "2  0.2  1.663174e-07\n",
       "3  0.3  1.112835e-07\n",
       "4  0.4  2.204095e-07"
      ]
     },
     "execution_count": 219,
     "metadata": {},
     "output_type": "execute_result"
    }
   ],
   "source": [
    "diff_dep.head()"
   ]
  },
  {
   "cell_type": "code",
   "execution_count": 220,
   "id": "c87e4fbe",
   "metadata": {},
   "outputs": [
    {
     "data": {
      "text/plain": [
       "[<matplotlib.lines.Line2D at 0x7fb579999130>]"
      ]
     },
     "execution_count": 220,
     "metadata": {},
     "output_type": "execute_result"
    },
    {
     "data": {
      "image/png": "[encoded data removed]",
      "text/plain": [
       "<Figure size 432x288 with 1 Axes>"
      ]
     },
     "metadata": {
      "needs_background": "light"
     },
     "output_type": "display_data"
    }
   ],
   "source": [
    "# Let's plot the data for diffusion coefficent of DEP\n",
    "plt.plot(diff_dep[0], diff_dep[1], '--o')"
   ]
  },
  {
   "cell_type": "markdown",
   "id": "94eaa441",
   "metadata": {},
   "source": [
    "Here, the linear interpolation is done for our diffusion coefficient so that we can obtain the missing values at the position specified by the PMF data. The function takes these values **np.interp(The z-coordinates at which to evaluate the interpolated values, The z-coordinates of the data points, The function values of these data points)**"
   ]
  },
  {
   "cell_type": "code",
   "execution_count": 233,
   "id": "1ef48a70",
   "metadata": {},
   "outputs": [],
   "source": [
    "diffusion_interpl = np.interp(pmf_dep[0], diff_dep[0], diff_dep[1])"
   ]
  },
  {
   "cell_type": "code",
   "execution_count": 234,
   "id": "963393be",
   "metadata": {},
   "outputs": [
    {
     "data": {
      "text/plain": [
       "[<matplotlib.lines.Line2D at 0x7fb578b94550>]"
      ]
     },
     "execution_count": 234,
     "metadata": {},
     "output_type": "execute_result"
    },
    {
     "data": {
      "image/png": "[encoded data removed]",
      "text/plain": [
       "<Figure size 432x288 with 1 Axes>"
      ]
     },
     "metadata": {
      "needs_background": "light"
     },
     "output_type": "display_data"
    }
   ],
   "source": [
    "## Let's plot these interpolated values against the z - data points given by pmf_dep[0]\n",
    "plt.plot(pmf_dep[0], diffusion_interpl, '--o')"
   ]
  },
  {
   "cell_type": "markdown",
   "id": "656ca9c2",
   "metadata": {},
   "source": [
    "The interpolation does makes sense as the two graphs looks like a spitting mirror images of one another. Now, let's make another dataframe with these interpolation data for diffusion coefficient."
   ]
  },
  {
   "cell_type": "code",
   "execution_count": 235,
   "id": "fc0e0583",
   "metadata": {},
   "outputs": [],
   "source": [
    "diff_dep = pd.DataFrame({0: pmf_dep[0], 1 : diffusion_interpl})"
   ]
  },
  {
   "cell_type": "code",
   "execution_count": 236,
   "id": "0e3e05b8",
   "metadata": {},
   "outputs": [
    {
     "data": {
      "text/html": [
       "<div>\n",
       "<style scoped>\n",
       "    .dataframe tbody tr th:only-of-type {\n",
       "        vertical-align: middle;\n",
       "    }\n",
       "\n",
       "    .dataframe tbody tr th {\n",
       "        vertical-align: top;\n",
       "    }\n",
       "\n",
       "    .dataframe thead th {\n",
       "        text-align: right;\n",
       "    }\n",
       "</style>\n",
       "<table border=\"1\" class=\"dataframe\">\n",
       "  <thead>\n",
       "    <tr style=\"text-align: right;\">\n",
       "      <th></th>\n",
       "      <th>0</th>\n",
       "      <th>1</th>\n",
       "    </tr>\n",
       "  </thead>\n",
       "  <tbody>\n",
       "    <tr>\n",
       "      <th>0</th>\n",
       "      <td>0.000000</td>\n",
       "      <td>0.000002</td>\n",
       "    </tr>\n",
       "    <tr>\n",
       "      <th>1</th>\n",
       "      <td>0.005003</td>\n",
       "      <td>0.000002</td>\n",
       "    </tr>\n",
       "    <tr>\n",
       "      <th>2</th>\n",
       "      <td>0.015008</td>\n",
       "      <td>0.000002</td>\n",
       "    </tr>\n",
       "    <tr>\n",
       "      <th>3</th>\n",
       "      <td>0.025013</td>\n",
       "      <td>0.000002</td>\n",
       "    </tr>\n",
       "    <tr>\n",
       "      <th>4</th>\n",
       "      <td>0.035018</td>\n",
       "      <td>0.000002</td>\n",
       "    </tr>\n",
       "  </tbody>\n",
       "</table>\n",
       "</div>"
      ],
      "text/plain": [
       "          0         1\n",
       "0  0.000000  0.000002\n",
       "1  0.005003  0.000002\n",
       "2  0.015008  0.000002\n",
       "3  0.025013  0.000002\n",
       "4  0.035018  0.000002"
      ]
     },
     "execution_count": 236,
     "metadata": {},
     "output_type": "execute_result"
    }
   ],
   "source": [
    "diff_dep.head()"
   ]
  },
  {
   "cell_type": "code",
   "execution_count": 112,
   "id": "bd68ac38",
   "metadata": {},
   "outputs": [
    {
     "data": {
      "text/html": [
       "<div>\n",
       "<style scoped>\n",
       "    .dataframe tbody tr th:only-of-type {\n",
       "        vertical-align: middle;\n",
       "    }\n",
       "\n",
       "    .dataframe tbody tr th {\n",
       "        vertical-align: top;\n",
       "    }\n",
       "\n",
       "    .dataframe thead th {\n",
       "        text-align: right;\n",
       "    }\n",
       "</style>\n",
       "<table border=\"1\" class=\"dataframe\">\n",
       "  <thead>\n",
       "    <tr style=\"text-align: right;\">\n",
       "      <th></th>\n",
       "      <th>0</th>\n",
       "      <th>1</th>\n",
       "    </tr>\n",
       "  </thead>\n",
       "  <tbody>\n",
       "    <tr>\n",
       "      <th>397</th>\n",
       "      <td>3.967025</td>\n",
       "      <td>0.000012</td>\n",
       "    </tr>\n",
       "    <tr>\n",
       "      <th>398</th>\n",
       "      <td>3.977030</td>\n",
       "      <td>0.000011</td>\n",
       "    </tr>\n",
       "    <tr>\n",
       "      <th>399</th>\n",
       "      <td>3.987035</td>\n",
       "      <td>0.000011</td>\n",
       "    </tr>\n",
       "    <tr>\n",
       "      <th>400</th>\n",
       "      <td>3.997040</td>\n",
       "      <td>0.000011</td>\n",
       "    </tr>\n",
       "    <tr>\n",
       "      <th>401</th>\n",
       "      <td>4.000000</td>\n",
       "      <td>0.000011</td>\n",
       "    </tr>\n",
       "  </tbody>\n",
       "</table>\n",
       "</div>"
      ],
      "text/plain": [
       "            0         1\n",
       "397  3.967025  0.000012\n",
       "398  3.977030  0.000011\n",
       "399  3.987035  0.000011\n",
       "400  3.997040  0.000011\n",
       "401  4.000000  0.000011"
      ]
     },
     "execution_count": 112,
     "metadata": {},
     "output_type": "execute_result"
    }
   ],
   "source": [
    "diff_dep.tail()"
   ]
  },
  {
   "cell_type": "markdown",
   "id": "19e07345",
   "metadata": {},
   "source": [
    "#### My first approach for the numerical integration will be to convert the distance in z which are in nm into cm for both pmf as well as diffusion coefficient. "
   ]
  },
  {
   "cell_type": "code",
   "execution_count": 198,
   "id": "3a21dcf9",
   "metadata": {},
   "outputs": [
    {
     "data": {
      "text/html": [
       "<div>\n",
       "<style scoped>\n",
       "    .dataframe tbody tr th:only-of-type {\n",
       "        vertical-align: middle;\n",
       "    }\n",
       "\n",
       "    .dataframe tbody tr th {\n",
       "        vertical-align: top;\n",
       "    }\n",
       "\n",
       "    .dataframe thead th {\n",
       "        text-align: right;\n",
       "    }\n",
       "</style>\n",
       "<table border=\"1\" class=\"dataframe\">\n",
       "  <thead>\n",
       "    <tr style=\"text-align: right;\">\n",
       "      <th></th>\n",
       "      <th>0</th>\n",
       "      <th>1</th>\n",
       "      <th>2</th>\n",
       "      <th>3</th>\n",
       "    </tr>\n",
       "  </thead>\n",
       "  <tbody>\n",
       "    <tr>\n",
       "      <th>0</th>\n",
       "      <td>0.000000e+00</td>\n",
       "      <td>-18.37016</td>\n",
       "      <td>1.569825</td>\n",
       "      <td>0.000603</td>\n",
       "    </tr>\n",
       "    <tr>\n",
       "      <th>1</th>\n",
       "      <td>5.003035e-10</td>\n",
       "      <td>-18.37016</td>\n",
       "      <td>1.569825</td>\n",
       "      <td>0.000603</td>\n",
       "    </tr>\n",
       "    <tr>\n",
       "      <th>2</th>\n",
       "      <td>1.500814e-09</td>\n",
       "      <td>-18.34362</td>\n",
       "      <td>1.569539</td>\n",
       "      <td>0.000610</td>\n",
       "    </tr>\n",
       "    <tr>\n",
       "      <th>3</th>\n",
       "      <td>2.501325e-09</td>\n",
       "      <td>-18.35806</td>\n",
       "      <td>1.569685</td>\n",
       "      <td>0.000606</td>\n",
       "    </tr>\n",
       "    <tr>\n",
       "      <th>4</th>\n",
       "      <td>3.501835e-09</td>\n",
       "      <td>-18.36785</td>\n",
       "      <td>1.569009</td>\n",
       "      <td>0.000604</td>\n",
       "    </tr>\n",
       "  </tbody>\n",
       "</table>\n",
       "</div>"
      ],
      "text/plain": [
       "              0         1         2         3\n",
       "0  0.000000e+00 -18.37016  1.569825  0.000603\n",
       "1  5.003035e-10 -18.37016  1.569825  0.000603\n",
       "2  1.500814e-09 -18.34362  1.569539  0.000610\n",
       "3  2.501325e-09 -18.35806  1.569685  0.000606\n",
       "4  3.501835e-09 -18.36785  1.569009  0.000604"
      ]
     },
     "execution_count": 198,
     "metadata": {},
     "output_type": "execute_result"
    }
   ],
   "source": [
    "# For pmf_dep it will be ---\n",
    "pmf_dep[0] = pmf_dep[0] * 1 * 10 ** -7\n",
    "pmf_dep.head()\n",
    "# Here, the only columns we need to worry about is at the index 0 and 3 which are the values for z-distance in cm,\n",
    "# exp(Delta G/RT)"
   ]
  },
  {
   "cell_type": "code",
   "execution_count": 209,
   "id": "36dd032b",
   "metadata": {},
   "outputs": [
    {
     "data": {
      "text/html": [
       "<div>\n",
       "<style scoped>\n",
       "    .dataframe tbody tr th:only-of-type {\n",
       "        vertical-align: middle;\n",
       "    }\n",
       "\n",
       "    .dataframe tbody tr th {\n",
       "        vertical-align: top;\n",
       "    }\n",
       "\n",
       "    .dataframe thead th {\n",
       "        text-align: right;\n",
       "    }\n",
       "</style>\n",
       "<table border=\"1\" class=\"dataframe\">\n",
       "  <thead>\n",
       "    <tr style=\"text-align: right;\">\n",
       "      <th></th>\n",
       "      <th>0</th>\n",
       "      <th>1</th>\n",
       "    </tr>\n",
       "  </thead>\n",
       "  <tbody>\n",
       "    <tr>\n",
       "      <th>0</th>\n",
       "      <td>0.000000e+00</td>\n",
       "      <td>0.000002</td>\n",
       "    </tr>\n",
       "    <tr>\n",
       "      <th>1</th>\n",
       "      <td>5.003035e-10</td>\n",
       "      <td>0.000002</td>\n",
       "    </tr>\n",
       "    <tr>\n",
       "      <th>2</th>\n",
       "      <td>1.500814e-09</td>\n",
       "      <td>0.000002</td>\n",
       "    </tr>\n",
       "    <tr>\n",
       "      <th>3</th>\n",
       "      <td>2.501325e-09</td>\n",
       "      <td>0.000002</td>\n",
       "    </tr>\n",
       "    <tr>\n",
       "      <th>4</th>\n",
       "      <td>3.501835e-09</td>\n",
       "      <td>0.000002</td>\n",
       "    </tr>\n",
       "  </tbody>\n",
       "</table>\n",
       "</div>"
      ],
      "text/plain": [
       "              0         1\n",
       "0  0.000000e+00  0.000002\n",
       "1  5.003035e-10  0.000002\n",
       "2  1.500814e-09  0.000002\n",
       "3  2.501325e-09  0.000002\n",
       "4  3.501835e-09  0.000002"
      ]
     },
     "execution_count": 209,
     "metadata": {},
     "output_type": "execute_result"
    }
   ],
   "source": [
    "# Similarly, for diffusion, it will be ....\n",
    "diff_dep[0] = diff_dep[0] * 1 * 10 ** -7\n",
    "diff_dep.head()\n",
    "# Here, the two columns are the z-distance in cm, and Diffusion coefficient in cm^2/2"
   ]
  },
  {
   "cell_type": "code",
   "execution_count": 115,
   "id": "6da1ff51",
   "metadata": {},
   "outputs": [],
   "source": [
    "# Now, we can perform numerical integration with either composite trapezoidal rule, or the simpson's rule"
   ]
  },
  {
   "cell_type": "markdown",
   "id": "bb0c64a0",
   "metadata": {},
   "source": [
    "$$\\int_{0}^{4 \\times 10 ^{-7}} \\frac{\\exp\\left ( \\frac{\\Delta G(z)}{RT} \\right )}{D(z)} dz$$"
   ]
  },
  {
   "cell_type": "code",
   "execution_count": 116,
   "id": "66b95a47",
   "metadata": {},
   "outputs": [],
   "source": [
    "#trapz(values of the function to integrate, sample points(z) corresponding to the function values, optional (dz)\n",
    "#- spacing between the sample points(z))"
   ]
  },
  {
   "cell_type": "code",
   "execution_count": 117,
   "id": "f85903a3",
   "metadata": {},
   "outputs": [],
   "source": [
    "integrand = pmf_dep[3]/diff_dep[1]"
   ]
  },
  {
   "cell_type": "code",
   "execution_count": 145,
   "id": "4f9306e0",
   "metadata": {},
   "outputs": [
    {
     "data": {
      "text/plain": [
       "0        287.145625\n",
       "1        286.681380\n",
       "2        288.834451\n",
       "3        286.233757\n",
       "4        284.192198\n",
       "           ...     \n",
       "397    85623.435161\n",
       "398    84981.312561\n",
       "399    87967.260236\n",
       "400    90278.901252\n",
       "401    90697.888508\n",
       "Length: 402, dtype: float64"
      ]
     },
     "execution_count": 145,
     "metadata": {},
     "output_type": "execute_result"
    }
   ],
   "source": [
    "integrand"
   ]
  },
  {
   "cell_type": "code",
   "execution_count": 146,
   "id": "d2473105",
   "metadata": {},
   "outputs": [
    {
     "data": {
      "text/plain": [
       "2007424.7106339969"
      ]
     },
     "execution_count": 146,
     "metadata": {},
     "output_type": "execute_result"
    }
   ],
   "source": [
    "integrand.max()"
   ]
  },
  {
   "cell_type": "code",
   "execution_count": 147,
   "id": "14540820",
   "metadata": {},
   "outputs": [
    {
     "data": {
      "text/plain": [
       "40.43944266939811"
      ]
     },
     "execution_count": 147,
     "metadata": {},
     "output_type": "execute_result"
    }
   ],
   "source": [
    "integrand.min()"
   ]
  },
  {
   "cell_type": "markdown",
   "id": "c7ce339f",
   "metadata": {},
   "source": [
    "Let's check some values of the integrand. For the first value at z = 0,"
   ]
  },
  {
   "cell_type": "code",
   "execution_count": 167,
   "id": "3dc3e62b",
   "metadata": {},
   "outputs": [
    {
     "data": {
      "text/plain": [
       "-18.37016"
      ]
     },
     "execution_count": 167,
     "metadata": {},
     "output_type": "execute_result"
    }
   ],
   "source": [
    "pmf_dep[1].to_numpy()[0]"
   ]
  },
  {
   "cell_type": "code",
   "execution_count": 165,
   "id": "084d6387",
   "metadata": {},
   "outputs": [
    {
     "data": {
      "text/plain": [
       "2.1005937e-06"
      ]
     },
     "execution_count": 165,
     "metadata": {},
     "output_type": "execute_result"
    }
   ],
   "source": [
    "diff_dep[1].to_numpy()[0]"
   ]
  },
  {
   "cell_type": "code",
   "execution_count": 168,
   "id": "aa924f64",
   "metadata": {},
   "outputs": [
    {
     "data": {
      "text/plain": [
       "287.14562454552055"
      ]
     },
     "execution_count": 168,
     "metadata": {},
     "output_type": "execute_result"
    }
   ],
   "source": [
    "# Delta G = -18.37016, RT = 2.478, D(z) = 2.1005937e-06 cm^2/s\n",
    "np.exp(-18.37016/2.478)/2.1005937e-06"
   ]
  },
  {
   "cell_type": "code",
   "execution_count": 170,
   "id": "00ed4786",
   "metadata": {},
   "outputs": [
    {
     "data": {
      "text/plain": [
       "287.14562454552055"
      ]
     },
     "execution_count": 170,
     "metadata": {},
     "output_type": "execute_result"
    }
   ],
   "source": [
    "integrand[0] # We get same values both manually and with dataframe"
   ]
  },
  {
   "cell_type": "code",
   "execution_count": 171,
   "id": "96b0a6e2",
   "metadata": {},
   "outputs": [
    {
     "data": {
      "text/plain": [
       "0.0"
      ]
     },
     "execution_count": 171,
     "metadata": {},
     "output_type": "execute_result"
    }
   ],
   "source": [
    "# Now, let's check at z = 4 nm or 4 e -7 cm\n",
    "pmf_dep[1].to_numpy()[-1] # Delta G"
   ]
  },
  {
   "cell_type": "code",
   "execution_count": 173,
   "id": "076c6417",
   "metadata": {},
   "outputs": [
    {
     "data": {
      "text/plain": [
       "1.1025615e-05"
      ]
     },
     "execution_count": 173,
     "metadata": {},
     "output_type": "execute_result"
    }
   ],
   "source": [
    "diff_dep[1].to_numpy()[-1] # Diffusion coefficient"
   ]
  },
  {
   "cell_type": "code",
   "execution_count": 174,
   "id": "85c68435",
   "metadata": {},
   "outputs": [
    {
     "data": {
      "text/plain": [
       "90697.8885078066"
      ]
     },
     "execution_count": 174,
     "metadata": {},
     "output_type": "execute_result"
    }
   ],
   "source": [
    "# Delta G = 0, RT = 2.478, D(z) = 1.1025615e-05 cm^2/s\n",
    "np.exp(0/2.478)/1.1025615e-05"
   ]
  },
  {
   "cell_type": "code",
   "execution_count": 178,
   "id": "7f0c5bb8",
   "metadata": {},
   "outputs": [
    {
     "data": {
      "text/plain": [
       "90697.8885078066"
      ]
     },
     "execution_count": 178,
     "metadata": {},
     "output_type": "execute_result"
    }
   ],
   "source": [
    "# Same as we expected:\n",
    "integrand[401]"
   ]
  },
  {
   "cell_type": "code",
   "execution_count": 131,
   "id": "210e61be",
   "metadata": {},
   "outputs": [
    {
     "data": {
      "text/plain": [
       "0.08579412974187776"
      ]
     },
     "execution_count": 131,
     "metadata": {},
     "output_type": "execute_result"
    }
   ],
   "source": [
    "trapz(integrand, pmf_dep[0])"
   ]
  },
  {
   "cell_type": "code",
   "execution_count": 132,
   "id": "7a967b6b",
   "metadata": {},
   "outputs": [
    {
     "data": {
      "text/plain": [
       "11.655809121307291"
      ]
     },
     "execution_count": 132,
     "metadata": {},
     "output_type": "execute_result"
    }
   ],
   "source": [
    "# The permeability will be 1/integral\n",
    "1/trapz(integrand, pmf_dep[0])"
   ]
  },
  {
   "cell_type": "code",
   "execution_count": 136,
   "id": "91752395",
   "metadata": {},
   "outputs": [
    {
     "data": {
      "text/plain": [
       "<matplotlib.legend.Legend at 0x7fb57a323c70>"
      ]
     },
     "execution_count": 136,
     "metadata": {},
     "output_type": "execute_result"
    },
    {
     "data": {
      "image/png": "[encoded data removed]",
      "text/plain": [
       "<Figure size 720x576 with 1 Axes>"
      ]
     },
     "metadata": {
      "needs_background": "light"
     },
     "output_type": "display_data"
    }
   ],
   "source": [
    "# Let's look at the plot of the integrand\n",
    "plt.figure(figsize = (10,8))\n",
    "plt.plot(pmf_dep[0], integrand, label = r'$\\frac{\\exp\\left ( \\frac{\\Delta G(z)}{RT} \\right )}{D(z)}$')\n",
    "plt.xlabel('Distance(z)/cm', fontsize = 14)\n",
    "plt.ylabel(r'$\\frac{\\exp\\left ( \\frac{\\Delta G(z)}{RT} \\right )}{D(z)}$', fontsize = 16)\n",
    "plt.legend()"
   ]
  },
  {
   "cell_type": "markdown",
   "id": "ec4d89ae",
   "metadata": {},
   "source": [
    "### Using Simpson's method:"
   ]
  },
  {
   "cell_type": "code",
   "execution_count": 179,
   "id": "8d5a377e",
   "metadata": {},
   "outputs": [
    {
     "data": {
      "text/plain": [
       "0.08579399765062952"
      ]
     },
     "execution_count": 179,
     "metadata": {},
     "output_type": "execute_result"
    }
   ],
   "source": [
    "simps(integrand, pmf_dep[0])"
   ]
  },
  {
   "cell_type": "code",
   "execution_count": 180,
   "id": "e1be9b92",
   "metadata": {},
   "outputs": [
    {
     "data": {
      "text/plain": [
       "11.655827066972703"
      ]
     },
     "execution_count": 180,
     "metadata": {},
     "output_type": "execute_result"
    }
   ],
   "source": [
    "# permeability will be\n",
    "1/simps(integrand, pmf_dep[0])"
   ]
  },
  {
   "cell_type": "markdown",
   "id": "bf895659",
   "metadata": {},
   "source": [
    "#### My another approach for the numerical integration will be to convert diffusion coefficient (cm^2/s) into nm^2/s, integrate it over the distance in nm, and finally convert into cm/s"
   ]
  },
  {
   "cell_type": "code",
   "execution_count": 181,
   "id": "754b4679",
   "metadata": {},
   "outputs": [
    {
     "data": {
      "text/html": [
       "<div>\n",
       "<style scoped>\n",
       "    .dataframe tbody tr th:only-of-type {\n",
       "        vertical-align: middle;\n",
       "    }\n",
       "\n",
       "    .dataframe tbody tr th {\n",
       "        vertical-align: top;\n",
       "    }\n",
       "\n",
       "    .dataframe thead th {\n",
       "        text-align: right;\n",
       "    }\n",
       "</style>\n",
       "<table border=\"1\" class=\"dataframe\">\n",
       "  <thead>\n",
       "    <tr style=\"text-align: right;\">\n",
       "      <th></th>\n",
       "      <th>0</th>\n",
       "      <th>1</th>\n",
       "      <th>2</th>\n",
       "      <th>3</th>\n",
       "    </tr>\n",
       "  </thead>\n",
       "  <tbody>\n",
       "    <tr>\n",
       "      <th>0</th>\n",
       "      <td>0.000000e+00</td>\n",
       "      <td>-18.37016</td>\n",
       "      <td>1.569825</td>\n",
       "      <td>0.000603</td>\n",
       "    </tr>\n",
       "    <tr>\n",
       "      <th>1</th>\n",
       "      <td>5.003035e-10</td>\n",
       "      <td>-18.37016</td>\n",
       "      <td>1.569825</td>\n",
       "      <td>0.000603</td>\n",
       "    </tr>\n",
       "    <tr>\n",
       "      <th>2</th>\n",
       "      <td>1.500814e-09</td>\n",
       "      <td>-18.34362</td>\n",
       "      <td>1.569539</td>\n",
       "      <td>0.000610</td>\n",
       "    </tr>\n",
       "    <tr>\n",
       "      <th>3</th>\n",
       "      <td>2.501325e-09</td>\n",
       "      <td>-18.35806</td>\n",
       "      <td>1.569685</td>\n",
       "      <td>0.000606</td>\n",
       "    </tr>\n",
       "    <tr>\n",
       "      <th>4</th>\n",
       "      <td>3.501835e-09</td>\n",
       "      <td>-18.36785</td>\n",
       "      <td>1.569009</td>\n",
       "      <td>0.000604</td>\n",
       "    </tr>\n",
       "  </tbody>\n",
       "</table>\n",
       "</div>"
      ],
      "text/plain": [
       "              0         1         2         3\n",
       "0  0.000000e+00 -18.37016  1.569825  0.000603\n",
       "1  5.003035e-10 -18.37016  1.569825  0.000603\n",
       "2  1.500814e-09 -18.34362  1.569539  0.000610\n",
       "3  2.501325e-09 -18.35806  1.569685  0.000606\n",
       "4  3.501835e-09 -18.36785  1.569009  0.000604"
      ]
     },
     "execution_count": 181,
     "metadata": {},
     "output_type": "execute_result"
    }
   ],
   "source": [
    "# Our both pmf and diffusion data\n",
    "pmf_dep.head()"
   ]
  },
  {
   "cell_type": "code",
   "execution_count": 182,
   "id": "4f8ea703",
   "metadata": {},
   "outputs": [
    {
     "data": {
      "text/html": [
       "<div>\n",
       "<style scoped>\n",
       "    .dataframe tbody tr th:only-of-type {\n",
       "        vertical-align: middle;\n",
       "    }\n",
       "\n",
       "    .dataframe tbody tr th {\n",
       "        vertical-align: top;\n",
       "    }\n",
       "\n",
       "    .dataframe thead th {\n",
       "        text-align: right;\n",
       "    }\n",
       "</style>\n",
       "<table border=\"1\" class=\"dataframe\">\n",
       "  <thead>\n",
       "    <tr style=\"text-align: right;\">\n",
       "      <th></th>\n",
       "      <th>0</th>\n",
       "      <th>1</th>\n",
       "    </tr>\n",
       "  </thead>\n",
       "  <tbody>\n",
       "    <tr>\n",
       "      <th>0</th>\n",
       "      <td>0.000000e+00</td>\n",
       "      <td>0.000002</td>\n",
       "    </tr>\n",
       "    <tr>\n",
       "      <th>1</th>\n",
       "      <td>5.003035e-10</td>\n",
       "      <td>0.000002</td>\n",
       "    </tr>\n",
       "    <tr>\n",
       "      <th>2</th>\n",
       "      <td>1.500814e-09</td>\n",
       "      <td>0.000002</td>\n",
       "    </tr>\n",
       "    <tr>\n",
       "      <th>3</th>\n",
       "      <td>2.501325e-09</td>\n",
       "      <td>0.000002</td>\n",
       "    </tr>\n",
       "    <tr>\n",
       "      <th>4</th>\n",
       "      <td>3.501835e-09</td>\n",
       "      <td>0.000002</td>\n",
       "    </tr>\n",
       "  </tbody>\n",
       "</table>\n",
       "</div>"
      ],
      "text/plain": [
       "              0         1\n",
       "0  0.000000e+00  0.000002\n",
       "1  5.003035e-10  0.000002\n",
       "2  1.500814e-09  0.000002\n",
       "3  2.501325e-09  0.000002\n",
       "4  3.501835e-09  0.000002"
      ]
     },
     "execution_count": 182,
     "metadata": {},
     "output_type": "execute_result"
    }
   ],
   "source": [
    "diff_dep.head()"
   ]
  },
  {
   "cell_type": "code",
   "execution_count": 183,
   "id": "44158810",
   "metadata": {},
   "outputs": [],
   "source": [
    "# Let's convert the distance in both which are in cm back into nm, and also add another column in diffusion data \n",
    "# so that the coefficients are now converted into nm^2/s"
   ]
  },
  {
   "cell_type": "code",
   "execution_count": 199,
   "id": "f196dad3",
   "metadata": {},
   "outputs": [],
   "source": [
    "pmf_dep[0] = pmf_dep[0] * 1 * 10 ** 7\n",
    "diff_dep[0] = diff_dep[0] * 1 * 10 ** 7"
   ]
  },
  {
   "cell_type": "code",
   "execution_count": 210,
   "id": "db855347",
   "metadata": {},
   "outputs": [],
   "source": [
    "diff_dep[0] = diff_dep[0] * 1 * 10 ** 7"
   ]
  },
  {
   "cell_type": "code",
   "execution_count": 211,
   "id": "cf092476",
   "metadata": {},
   "outputs": [
    {
     "data": {
      "text/html": [
       "<div>\n",
       "<style scoped>\n",
       "    .dataframe tbody tr th:only-of-type {\n",
       "        vertical-align: middle;\n",
       "    }\n",
       "\n",
       "    .dataframe tbody tr th {\n",
       "        vertical-align: top;\n",
       "    }\n",
       "\n",
       "    .dataframe thead th {\n",
       "        text-align: right;\n",
       "    }\n",
       "</style>\n",
       "<table border=\"1\" class=\"dataframe\">\n",
       "  <thead>\n",
       "    <tr style=\"text-align: right;\">\n",
       "      <th></th>\n",
       "      <th>0</th>\n",
       "      <th>1</th>\n",
       "      <th>2</th>\n",
       "      <th>3</th>\n",
       "    </tr>\n",
       "  </thead>\n",
       "  <tbody>\n",
       "    <tr>\n",
       "      <th>0</th>\n",
       "      <td>0.000000</td>\n",
       "      <td>-18.37016</td>\n",
       "      <td>1.569825</td>\n",
       "      <td>0.000603</td>\n",
       "    </tr>\n",
       "    <tr>\n",
       "      <th>1</th>\n",
       "      <td>0.005003</td>\n",
       "      <td>-18.37016</td>\n",
       "      <td>1.569825</td>\n",
       "      <td>0.000603</td>\n",
       "    </tr>\n",
       "    <tr>\n",
       "      <th>2</th>\n",
       "      <td>0.015008</td>\n",
       "      <td>-18.34362</td>\n",
       "      <td>1.569539</td>\n",
       "      <td>0.000610</td>\n",
       "    </tr>\n",
       "    <tr>\n",
       "      <th>3</th>\n",
       "      <td>0.025013</td>\n",
       "      <td>-18.35806</td>\n",
       "      <td>1.569685</td>\n",
       "      <td>0.000606</td>\n",
       "    </tr>\n",
       "    <tr>\n",
       "      <th>4</th>\n",
       "      <td>0.035018</td>\n",
       "      <td>-18.36785</td>\n",
       "      <td>1.569009</td>\n",
       "      <td>0.000604</td>\n",
       "    </tr>\n",
       "  </tbody>\n",
       "</table>\n",
       "</div>"
      ],
      "text/plain": [
       "          0         1         2         3\n",
       "0  0.000000 -18.37016  1.569825  0.000603\n",
       "1  0.005003 -18.37016  1.569825  0.000603\n",
       "2  0.015008 -18.34362  1.569539  0.000610\n",
       "3  0.025013 -18.35806  1.569685  0.000606\n",
       "4  0.035018 -18.36785  1.569009  0.000604"
      ]
     },
     "execution_count": 211,
     "metadata": {},
     "output_type": "execute_result"
    }
   ],
   "source": [
    "# Let's check\n",
    "pmf_dep.head()"
   ]
  },
  {
   "cell_type": "code",
   "execution_count": 212,
   "id": "a87b08b1",
   "metadata": {},
   "outputs": [
    {
     "data": {
      "text/html": [
       "<div>\n",
       "<style scoped>\n",
       "    .dataframe tbody tr th:only-of-type {\n",
       "        vertical-align: middle;\n",
       "    }\n",
       "\n",
       "    .dataframe tbody tr th {\n",
       "        vertical-align: top;\n",
       "    }\n",
       "\n",
       "    .dataframe thead th {\n",
       "        text-align: right;\n",
       "    }\n",
       "</style>\n",
       "<table border=\"1\" class=\"dataframe\">\n",
       "  <thead>\n",
       "    <tr style=\"text-align: right;\">\n",
       "      <th></th>\n",
       "      <th>0</th>\n",
       "      <th>1</th>\n",
       "    </tr>\n",
       "  </thead>\n",
       "  <tbody>\n",
       "    <tr>\n",
       "      <th>0</th>\n",
       "      <td>0.000000</td>\n",
       "      <td>0.000002</td>\n",
       "    </tr>\n",
       "    <tr>\n",
       "      <th>1</th>\n",
       "      <td>0.005003</td>\n",
       "      <td>0.000002</td>\n",
       "    </tr>\n",
       "    <tr>\n",
       "      <th>2</th>\n",
       "      <td>0.015008</td>\n",
       "      <td>0.000002</td>\n",
       "    </tr>\n",
       "    <tr>\n",
       "      <th>3</th>\n",
       "      <td>0.025013</td>\n",
       "      <td>0.000002</td>\n",
       "    </tr>\n",
       "    <tr>\n",
       "      <th>4</th>\n",
       "      <td>0.035018</td>\n",
       "      <td>0.000002</td>\n",
       "    </tr>\n",
       "  </tbody>\n",
       "</table>\n",
       "</div>"
      ],
      "text/plain": [
       "          0         1\n",
       "0  0.000000  0.000002\n",
       "1  0.005003  0.000002\n",
       "2  0.015008  0.000002\n",
       "3  0.025013  0.000002\n",
       "4  0.035018  0.000002"
      ]
     },
     "execution_count": 212,
     "metadata": {},
     "output_type": "execute_result"
    }
   ],
   "source": [
    "diff_dep.head()"
   ]
  },
  {
   "cell_type": "code",
   "execution_count": 214,
   "id": "328ebfb1",
   "metadata": {},
   "outputs": [
    {
     "data": {
      "text/html": [
       "<div>\n",
       "<style scoped>\n",
       "    .dataframe tbody tr th:only-of-type {\n",
       "        vertical-align: middle;\n",
       "    }\n",
       "\n",
       "    .dataframe tbody tr th {\n",
       "        vertical-align: top;\n",
       "    }\n",
       "\n",
       "    .dataframe thead th {\n",
       "        text-align: right;\n",
       "    }\n",
       "</style>\n",
       "<table border=\"1\" class=\"dataframe\">\n",
       "  <thead>\n",
       "    <tr style=\"text-align: right;\">\n",
       "      <th></th>\n",
       "      <th>0</th>\n",
       "      <th>1</th>\n",
       "    </tr>\n",
       "  </thead>\n",
       "  <tbody>\n",
       "    <tr>\n",
       "      <th>397</th>\n",
       "      <td>3.967025</td>\n",
       "      <td>0.000012</td>\n",
       "    </tr>\n",
       "    <tr>\n",
       "      <th>398</th>\n",
       "      <td>3.977030</td>\n",
       "      <td>0.000011</td>\n",
       "    </tr>\n",
       "    <tr>\n",
       "      <th>399</th>\n",
       "      <td>3.987035</td>\n",
       "      <td>0.000011</td>\n",
       "    </tr>\n",
       "    <tr>\n",
       "      <th>400</th>\n",
       "      <td>3.997040</td>\n",
       "      <td>0.000011</td>\n",
       "    </tr>\n",
       "    <tr>\n",
       "      <th>401</th>\n",
       "      <td>4.000000</td>\n",
       "      <td>0.000011</td>\n",
       "    </tr>\n",
       "  </tbody>\n",
       "</table>\n",
       "</div>"
      ],
      "text/plain": [
       "            0         1\n",
       "397  3.967025  0.000012\n",
       "398  3.977030  0.000011\n",
       "399  3.987035  0.000011\n",
       "400  3.997040  0.000011\n",
       "401  4.000000  0.000011"
      ]
     },
     "execution_count": 214,
     "metadata": {},
     "output_type": "execute_result"
    }
   ],
   "source": [
    "diff_dep.tail()"
   ]
  },
  {
   "cell_type": "code",
   "execution_count": 216,
   "id": "c7e5bf27",
   "metadata": {},
   "outputs": [
    {
     "data": {
      "text/html": [
       "<div>\n",
       "<style scoped>\n",
       "    .dataframe tbody tr th:only-of-type {\n",
       "        vertical-align: middle;\n",
       "    }\n",
       "\n",
       "    .dataframe tbody tr th {\n",
       "        vertical-align: top;\n",
       "    }\n",
       "\n",
       "    .dataframe thead th {\n",
       "        text-align: right;\n",
       "    }\n",
       "</style>\n",
       "<table border=\"1\" class=\"dataframe\">\n",
       "  <thead>\n",
       "    <tr style=\"text-align: right;\">\n",
       "      <th></th>\n",
       "      <th>0</th>\n",
       "      <th>1</th>\n",
       "      <th>2</th>\n",
       "      <th>3</th>\n",
       "    </tr>\n",
       "  </thead>\n",
       "  <tbody>\n",
       "    <tr>\n",
       "      <th>397</th>\n",
       "      <td>3.967025</td>\n",
       "      <td>-0.017755</td>\n",
       "      <td>0.006894</td>\n",
       "      <td>0.992860</td>\n",
       "    </tr>\n",
       "    <tr>\n",
       "      <th>398</th>\n",
       "      <td>3.977030</td>\n",
       "      <td>-0.073649</td>\n",
       "      <td>0.014431</td>\n",
       "      <td>0.970716</td>\n",
       "    </tr>\n",
       "    <tr>\n",
       "      <th>399</th>\n",
       "      <td>3.987035</td>\n",
       "      <td>-0.025883</td>\n",
       "      <td>0.006661</td>\n",
       "      <td>0.989609</td>\n",
       "    </tr>\n",
       "    <tr>\n",
       "      <th>400</th>\n",
       "      <td>3.997040</td>\n",
       "      <td>0.000000</td>\n",
       "      <td>0.000000</td>\n",
       "      <td>1.000000</td>\n",
       "    </tr>\n",
       "    <tr>\n",
       "      <th>401</th>\n",
       "      <td>4.000000</td>\n",
       "      <td>0.000000</td>\n",
       "      <td>0.000000</td>\n",
       "      <td>1.000000</td>\n",
       "    </tr>\n",
       "  </tbody>\n",
       "</table>\n",
       "</div>"
      ],
      "text/plain": [
       "            0         1         2         3\n",
       "397  3.967025 -0.017755  0.006894  0.992860\n",
       "398  3.977030 -0.073649  0.014431  0.970716\n",
       "399  3.987035 -0.025883  0.006661  0.989609\n",
       "400  3.997040  0.000000  0.000000  1.000000\n",
       "401  4.000000  0.000000  0.000000  1.000000"
      ]
     },
     "execution_count": 216,
     "metadata": {},
     "output_type": "execute_result"
    }
   ],
   "source": [
    "pmf_dep.tail()"
   ]
  },
  {
   "cell_type": "code",
   "execution_count": 223,
   "id": "eb48eb55",
   "metadata": {},
   "outputs": [
    {
     "data": {
      "text/plain": [
       "[<matplotlib.lines.Line2D at 0x7fb57904ccd0>]"
      ]
     },
     "execution_count": 223,
     "metadata": {},
     "output_type": "execute_result"
    },
    {
     "data": {
      "image/png": "[encoded data removed]",
      "text/plain": [
       "<Figure size 432x288 with 1 Axes>"
      ]
     },
     "metadata": {
      "needs_background": "light"
     },
     "output_type": "display_data"
    }
   ],
   "source": [
    "# Plotting both these two\n",
    "plt.plot(diff_dep[0], diff_dep[1])"
   ]
  },
  {
   "cell_type": "code",
   "execution_count": 224,
   "id": "46f61058",
   "metadata": {},
   "outputs": [
    {
     "data": {
      "text/plain": [
       "[<matplotlib.lines.Line2D at 0x7fb578f91460>]"
      ]
     },
     "execution_count": 224,
     "metadata": {},
     "output_type": "execute_result"
    },
    {
     "data": {
      "image/png": "[encoded data removed]",
      "text/plain": [
       "<Figure size 432x288 with 1 Axes>"
      ]
     },
     "metadata": {
      "needs_background": "light"
     },
     "output_type": "display_data"
    }
   ],
   "source": [
    "plt.plot(pmf_dep[0], pmf_dep[1])"
   ]
  },
  {
   "cell_type": "code",
   "execution_count": 237,
   "id": "253b1396",
   "metadata": {},
   "outputs": [],
   "source": [
    "# Converting diffusion coefficient into nm^2/s and adding it into the last column\n",
    "diff_dep[2] = diff_dep[1] * 1 * 10 ** 14"
   ]
  },
  {
   "cell_type": "code",
   "execution_count": 238,
   "id": "83405c5b",
   "metadata": {},
   "outputs": [
    {
     "data": {
      "text/html": [
       "<div>\n",
       "<style scoped>\n",
       "    .dataframe tbody tr th:only-of-type {\n",
       "        vertical-align: middle;\n",
       "    }\n",
       "\n",
       "    .dataframe tbody tr th {\n",
       "        vertical-align: top;\n",
       "    }\n",
       "\n",
       "    .dataframe thead th {\n",
       "        text-align: right;\n",
       "    }\n",
       "</style>\n",
       "<table border=\"1\" class=\"dataframe\">\n",
       "  <thead>\n",
       "    <tr style=\"text-align: right;\">\n",
       "      <th></th>\n",
       "      <th>0</th>\n",
       "      <th>1</th>\n",
       "      <th>2</th>\n",
       "    </tr>\n",
       "  </thead>\n",
       "  <tbody>\n",
       "    <tr>\n",
       "      <th>0</th>\n",
       "      <td>0.000000</td>\n",
       "      <td>0.000002</td>\n",
       "      <td>2.100594e+08</td>\n",
       "    </tr>\n",
       "    <tr>\n",
       "      <th>1</th>\n",
       "      <td>0.005003</td>\n",
       "      <td>0.000002</td>\n",
       "      <td>2.103995e+08</td>\n",
       "    </tr>\n",
       "    <tr>\n",
       "      <th>2</th>\n",
       "      <td>0.015008</td>\n",
       "      <td>0.000002</td>\n",
       "      <td>2.110798e+08</td>\n",
       "    </tr>\n",
       "    <tr>\n",
       "      <th>3</th>\n",
       "      <td>0.025013</td>\n",
       "      <td>0.000002</td>\n",
       "      <td>2.117601e+08</td>\n",
       "    </tr>\n",
       "    <tr>\n",
       "      <th>4</th>\n",
       "      <td>0.035018</td>\n",
       "      <td>0.000002</td>\n",
       "      <td>2.124403e+08</td>\n",
       "    </tr>\n",
       "  </tbody>\n",
       "</table>\n",
       "</div>"
      ],
      "text/plain": [
       "          0         1             2\n",
       "0  0.000000  0.000002  2.100594e+08\n",
       "1  0.005003  0.000002  2.103995e+08\n",
       "2  0.015008  0.000002  2.110798e+08\n",
       "3  0.025013  0.000002  2.117601e+08\n",
       "4  0.035018  0.000002  2.124403e+08"
      ]
     },
     "execution_count": 238,
     "metadata": {},
     "output_type": "execute_result"
    }
   ],
   "source": [
    "diff_dep.head()"
   ]
  },
  {
   "cell_type": "code",
   "execution_count": 239,
   "id": "24259fa7",
   "metadata": {},
   "outputs": [
    {
     "data": {
      "text/plain": [
       "[<matplotlib.lines.Line2D at 0x7fb578f4ed60>]"
      ]
     },
     "execution_count": 239,
     "metadata": {},
     "output_type": "execute_result"
    },
    {
     "data": {
      "image/png": "[encoded data removed]",
      "text/plain": [
       "<Figure size 432x288 with 1 Axes>"
      ]
     },
     "metadata": {
      "needs_background": "light"
     },
     "output_type": "display_data"
    }
   ],
   "source": [
    "# Again, plotting to check\n",
    "plt.plot(diff_dep[0], diff_dep[2])"
   ]
  },
  {
   "cell_type": "code",
   "execution_count": 240,
   "id": "309622b2",
   "metadata": {},
   "outputs": [
    {
     "data": {
      "text/html": [
       "<div>\n",
       "<style scoped>\n",
       "    .dataframe tbody tr th:only-of-type {\n",
       "        vertical-align: middle;\n",
       "    }\n",
       "\n",
       "    .dataframe tbody tr th {\n",
       "        vertical-align: top;\n",
       "    }\n",
       "\n",
       "    .dataframe thead th {\n",
       "        text-align: right;\n",
       "    }\n",
       "</style>\n",
       "<table border=\"1\" class=\"dataframe\">\n",
       "  <thead>\n",
       "    <tr style=\"text-align: right;\">\n",
       "      <th></th>\n",
       "      <th>0</th>\n",
       "      <th>1</th>\n",
       "      <th>2</th>\n",
       "      <th>3</th>\n",
       "    </tr>\n",
       "  </thead>\n",
       "  <tbody>\n",
       "    <tr>\n",
       "      <th>0</th>\n",
       "      <td>0.000000</td>\n",
       "      <td>-18.37016</td>\n",
       "      <td>1.569825</td>\n",
       "      <td>0.000603</td>\n",
       "    </tr>\n",
       "    <tr>\n",
       "      <th>1</th>\n",
       "      <td>0.005003</td>\n",
       "      <td>-18.37016</td>\n",
       "      <td>1.569825</td>\n",
       "      <td>0.000603</td>\n",
       "    </tr>\n",
       "    <tr>\n",
       "      <th>2</th>\n",
       "      <td>0.015008</td>\n",
       "      <td>-18.34362</td>\n",
       "      <td>1.569539</td>\n",
       "      <td>0.000610</td>\n",
       "    </tr>\n",
       "    <tr>\n",
       "      <th>3</th>\n",
       "      <td>0.025013</td>\n",
       "      <td>-18.35806</td>\n",
       "      <td>1.569685</td>\n",
       "      <td>0.000606</td>\n",
       "    </tr>\n",
       "    <tr>\n",
       "      <th>4</th>\n",
       "      <td>0.035018</td>\n",
       "      <td>-18.36785</td>\n",
       "      <td>1.569009</td>\n",
       "      <td>0.000604</td>\n",
       "    </tr>\n",
       "  </tbody>\n",
       "</table>\n",
       "</div>"
      ],
      "text/plain": [
       "          0         1         2         3\n",
       "0  0.000000 -18.37016  1.569825  0.000603\n",
       "1  0.005003 -18.37016  1.569825  0.000603\n",
       "2  0.015008 -18.34362  1.569539  0.000610\n",
       "3  0.025013 -18.35806  1.569685  0.000606\n",
       "4  0.035018 -18.36785  1.569009  0.000604"
      ]
     },
     "execution_count": 240,
     "metadata": {},
     "output_type": "execute_result"
    }
   ],
   "source": [
    "pmf_dep.head()"
   ]
  },
  {
   "cell_type": "code",
   "execution_count": 241,
   "id": "70ad6be5",
   "metadata": {},
   "outputs": [],
   "source": [
    "integrand = pmf_dep[3]/diff_dep[2]"
   ]
  },
  {
   "cell_type": "code",
   "execution_count": 242,
   "id": "6221492e",
   "metadata": {},
   "outputs": [
    {
     "data": {
      "text/plain": [
       "0      2.871456e-12\n",
       "1      2.866814e-12\n",
       "2      2.888345e-12\n",
       "3      2.862338e-12\n",
       "4      2.841922e-12\n",
       "           ...     \n",
       "397    8.562344e-10\n",
       "398    8.498131e-10\n",
       "399    8.796726e-10\n",
       "400    9.027890e-10\n",
       "401    9.069789e-10\n",
       "Length: 402, dtype: float64"
      ]
     },
     "execution_count": 242,
     "metadata": {},
     "output_type": "execute_result"
    }
   ],
   "source": [
    "integrand"
   ]
  },
  {
   "cell_type": "code",
   "execution_count": 243,
   "id": "43f0a833",
   "metadata": {},
   "outputs": [
    {
     "data": {
      "text/plain": [
       "8.579412974187779e-09"
      ]
     },
     "execution_count": 243,
     "metadata": {},
     "output_type": "execute_result"
    }
   ],
   "source": [
    "trapz(integrand, pmf_dep[0])"
   ]
  },
  {
   "cell_type": "code",
   "execution_count": 244,
   "id": "ab20e0f6",
   "metadata": {},
   "outputs": [
    {
     "data": {
      "text/plain": [
       "116558091.21307288"
      ]
     },
     "execution_count": 244,
     "metadata": {},
     "output_type": "execute_result"
    }
   ],
   "source": [
    "1/trapz(integrand, pmf_dep[0]) # This is now in nm/s"
   ]
  },
  {
   "cell_type": "code",
   "execution_count": 245,
   "id": "1eee9186",
   "metadata": {},
   "outputs": [
    {
     "data": {
      "text/plain": [
       "11.655809121307287"
      ]
     },
     "execution_count": 245,
     "metadata": {},
     "output_type": "execute_result"
    }
   ],
   "source": [
    "# Converting into cm/s\n",
    "1/trapz(integrand, pmf_dep[0]) * 1 * 10 ** -7"
   ]
  },
  {
   "cell_type": "code",
   "execution_count": 246,
   "id": "5c2d2283",
   "metadata": {},
   "outputs": [],
   "source": [
    "# So, both the methods I have mentioned in here fetches us the same result"
   ]
  },
  {
   "cell_type": "code",
   "execution_count": null,
   "id": "f9790e63",
   "metadata": {},
   "outputs": [],
   "source": []
  }
 ],
 "metadata": {
  "kernelspec": {
   "display_name": "Python 3",
   "language": "python",
   "name": "python3"
  },
  "language_info": {
   "codemirror_mode": {
    "name": "ipython",
    "version": 3
   },
   "file_extension": ".py",
   "mimetype": "text/x-python",
   "name": "python",
   "nbconvert_exporter": "python",
   "pygments_lexer": "ipython3",
   "version": "3.8.8"
  }
 },
 "nbformat": 4,
 "nbformat_minor": 5
}

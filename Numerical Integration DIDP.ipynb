{
 "cells": [
  {
   "cell_type": "code",
   "execution_count": 2,
   "id": "96d0883a",
   "metadata": {},
   "outputs": [],
   "source": [
    "# Importing necessary libraries\n",
    "import pandas as pd\n",
    "import numpy as np\n",
    "import matplotlib.pyplot as plt\n",
    "from scipy.integrate import trapz, simps #Importing trapz, and simps module from scipy for numerical integration\n"
   ]
  },
  {
   "cell_type": "markdown",
   "id": "13e49e82",
   "metadata": {},
   "source": [
    "Individual PMF data is saved in .xvg file, while diffusion data is saved in .txt file like in this case - Free energy of DIDP is in 3-DIDP.xvg, and its diffusion is in DIDP_dif.txt. Here, we have imported these data in a panda dataframe which simplifies our work."
   ]
  },
  {
   "cell_type": "code",
   "execution_count": 4,
   "id": "ff140ff1",
   "metadata": {},
   "outputs": [],
   "source": [
    "pmf_didp = pd.read_csv('3-DIDP.xvg', header = None, delim_whitespace=True)"
   ]
  },
  {
   "cell_type": "code",
   "execution_count": 5,
   "id": "84e9623f",
   "metadata": {},
   "outputs": [
    {
     "data": {
      "text/html": [
       "<div>\n",
       "<style scoped>\n",
       "    .dataframe tbody tr th:only-of-type {\n",
       "        vertical-align: middle;\n",
       "    }\n",
       "\n",
       "    .dataframe tbody tr th {\n",
       "        vertical-align: top;\n",
       "    }\n",
       "\n",
       "    .dataframe thead th {\n",
       "        text-align: right;\n",
       "    }\n",
       "</style>\n",
       "<table border=\"1\" class=\"dataframe\">\n",
       "  <thead>\n",
       "    <tr style=\"text-align: right;\">\n",
       "      <th></th>\n",
       "      <th>0</th>\n",
       "      <th>1</th>\n",
       "      <th>2</th>\n",
       "    </tr>\n",
       "  </thead>\n",
       "  <tbody>\n",
       "    <tr>\n",
       "      <th>0</th>\n",
       "      <td>0.005053</td>\n",
       "      <td>-48.41069</td>\n",
       "      <td>1.186051</td>\n",
       "    </tr>\n",
       "    <tr>\n",
       "      <th>1</th>\n",
       "      <td>0.015159</td>\n",
       "      <td>-48.40821</td>\n",
       "      <td>1.185071</td>\n",
       "    </tr>\n",
       "    <tr>\n",
       "      <th>2</th>\n",
       "      <td>0.025265</td>\n",
       "      <td>-48.43615</td>\n",
       "      <td>1.184660</td>\n",
       "    </tr>\n",
       "    <tr>\n",
       "      <th>3</th>\n",
       "      <td>0.035372</td>\n",
       "      <td>-48.42865</td>\n",
       "      <td>1.184493</td>\n",
       "    </tr>\n",
       "    <tr>\n",
       "      <th>4</th>\n",
       "      <td>0.045478</td>\n",
       "      <td>-48.42352</td>\n",
       "      <td>1.184311</td>\n",
       "    </tr>\n",
       "  </tbody>\n",
       "</table>\n",
       "</div>"
      ],
      "text/plain": [
       "          0         1         2\n",
       "0  0.005053 -48.41069  1.186051\n",
       "1  0.015159 -48.40821  1.185071\n",
       "2  0.025265 -48.43615  1.184660\n",
       "3  0.035372 -48.42865  1.184493\n",
       "4  0.045478 -48.42352  1.184311"
      ]
     },
     "execution_count": 5,
     "metadata": {},
     "output_type": "execute_result"
    }
   ],
   "source": [
    "# Checking the few data from pmf_didp\n",
    "pmf_didp.head()"
   ]
  },
  {
   "cell_type": "code",
   "execution_count": 6,
   "id": "febd6c5b",
   "metadata": {},
   "outputs": [
    {
     "data": {
      "text/html": [
       "<div>\n",
       "<style scoped>\n",
       "    .dataframe tbody tr th:only-of-type {\n",
       "        vertical-align: middle;\n",
       "    }\n",
       "\n",
       "    .dataframe tbody tr th {\n",
       "        vertical-align: top;\n",
       "    }\n",
       "\n",
       "    .dataframe thead th {\n",
       "        text-align: right;\n",
       "    }\n",
       "</style>\n",
       "<table border=\"1\" class=\"dataframe\">\n",
       "  <thead>\n",
       "    <tr style=\"text-align: right;\">\n",
       "      <th></th>\n",
       "      <th>0</th>\n",
       "      <th>1</th>\n",
       "      <th>2</th>\n",
       "    </tr>\n",
       "  </thead>\n",
       "  <tbody>\n",
       "    <tr>\n",
       "      <th>416</th>\n",
       "      <td>4.209232</td>\n",
       "      <td>-0.388307</td>\n",
       "      <td>0.067237</td>\n",
       "    </tr>\n",
       "    <tr>\n",
       "      <th>417</th>\n",
       "      <td>4.219339</td>\n",
       "      <td>-0.391381</td>\n",
       "      <td>0.068446</td>\n",
       "    </tr>\n",
       "    <tr>\n",
       "      <th>418</th>\n",
       "      <td>4.229445</td>\n",
       "      <td>-2.450638</td>\n",
       "      <td>0.069256</td>\n",
       "    </tr>\n",
       "    <tr>\n",
       "      <th>419</th>\n",
       "      <td>4.239551</td>\n",
       "      <td>-6.310183</td>\n",
       "      <td>0.069774</td>\n",
       "    </tr>\n",
       "    <tr>\n",
       "      <th>420</th>\n",
       "      <td>4.249657</td>\n",
       "      <td>-7.762812</td>\n",
       "      <td>0.070150</td>\n",
       "    </tr>\n",
       "  </tbody>\n",
       "</table>\n",
       "</div>"
      ],
      "text/plain": [
       "            0         1         2\n",
       "416  4.209232 -0.388307  0.067237\n",
       "417  4.219339 -0.391381  0.068446\n",
       "418  4.229445 -2.450638  0.069256\n",
       "419  4.239551 -6.310183  0.069774\n",
       "420  4.249657 -7.762812  0.070150"
      ]
     },
     "execution_count": 6,
     "metadata": {},
     "output_type": "execute_result"
    }
   ],
   "source": [
    "# Similarly, looking at few last lines of the data\n",
    "pmf_didp.tail()"
   ]
  },
  {
   "cell_type": "code",
   "execution_count": 7,
   "id": "c344567f",
   "metadata": {},
   "outputs": [],
   "source": [
    "# Extrapolating for the data at 0\n",
    "df = pd.DataFrame({0: [0.000000], 1: -48.41069, 2:1.186051})\n",
    "df = df.append(pmf_didp)\n",
    "df = df.reset_index(drop=True)"
   ]
  },
  {
   "cell_type": "code",
   "execution_count": 8,
   "id": "f6585ef1",
   "metadata": {},
   "outputs": [],
   "source": [
    "# Just making a copy to have same name as original\n",
    "pmf_didp = df.copy(deep=True)"
   ]
  },
  {
   "cell_type": "code",
   "execution_count": 9,
   "id": "a3b4c687",
   "metadata": {},
   "outputs": [
    {
     "data": {
      "text/html": [
       "<div>\n",
       "<style scoped>\n",
       "    .dataframe tbody tr th:only-of-type {\n",
       "        vertical-align: middle;\n",
       "    }\n",
       "\n",
       "    .dataframe tbody tr th {\n",
       "        vertical-align: top;\n",
       "    }\n",
       "\n",
       "    .dataframe thead th {\n",
       "        text-align: right;\n",
       "    }\n",
       "</style>\n",
       "<table border=\"1\" class=\"dataframe\">\n",
       "  <thead>\n",
       "    <tr style=\"text-align: right;\">\n",
       "      <th></th>\n",
       "      <th>0</th>\n",
       "      <th>1</th>\n",
       "      <th>2</th>\n",
       "    </tr>\n",
       "  </thead>\n",
       "  <tbody>\n",
       "    <tr>\n",
       "      <th>0</th>\n",
       "      <td>0.000000</td>\n",
       "      <td>-48.41069</td>\n",
       "      <td>1.186051</td>\n",
       "    </tr>\n",
       "    <tr>\n",
       "      <th>1</th>\n",
       "      <td>0.005053</td>\n",
       "      <td>-48.41069</td>\n",
       "      <td>1.186051</td>\n",
       "    </tr>\n",
       "    <tr>\n",
       "      <th>2</th>\n",
       "      <td>0.015159</td>\n",
       "      <td>-48.40821</td>\n",
       "      <td>1.185071</td>\n",
       "    </tr>\n",
       "    <tr>\n",
       "      <th>3</th>\n",
       "      <td>0.025265</td>\n",
       "      <td>-48.43615</td>\n",
       "      <td>1.184660</td>\n",
       "    </tr>\n",
       "    <tr>\n",
       "      <th>4</th>\n",
       "      <td>0.035372</td>\n",
       "      <td>-48.42865</td>\n",
       "      <td>1.184493</td>\n",
       "    </tr>\n",
       "  </tbody>\n",
       "</table>\n",
       "</div>"
      ],
      "text/plain": [
       "          0         1         2\n",
       "0  0.000000 -48.41069  1.186051\n",
       "1  0.005053 -48.41069  1.186051\n",
       "2  0.015159 -48.40821  1.185071\n",
       "3  0.025265 -48.43615  1.184660\n",
       "4  0.035372 -48.42865  1.184493"
      ]
     },
     "execution_count": 9,
     "metadata": {},
     "output_type": "execute_result"
    }
   ],
   "source": [
    "pmf_didp.head()"
   ]
  },
  {
   "cell_type": "code",
   "execution_count": 10,
   "id": "5712211a",
   "metadata": {},
   "outputs": [
    {
     "data": {
      "text/html": [
       "<div>\n",
       "<style scoped>\n",
       "    .dataframe tbody tr th:only-of-type {\n",
       "        vertical-align: middle;\n",
       "    }\n",
       "\n",
       "    .dataframe tbody tr th {\n",
       "        vertical-align: top;\n",
       "    }\n",
       "\n",
       "    .dataframe thead th {\n",
       "        text-align: right;\n",
       "    }\n",
       "</style>\n",
       "<table border=\"1\" class=\"dataframe\">\n",
       "  <thead>\n",
       "    <tr style=\"text-align: right;\">\n",
       "      <th></th>\n",
       "      <th>0</th>\n",
       "      <th>1</th>\n",
       "      <th>2</th>\n",
       "    </tr>\n",
       "  </thead>\n",
       "  <tbody>\n",
       "    <tr>\n",
       "      <th>417</th>\n",
       "      <td>4.209232</td>\n",
       "      <td>-0.388307</td>\n",
       "      <td>0.067237</td>\n",
       "    </tr>\n",
       "    <tr>\n",
       "      <th>418</th>\n",
       "      <td>4.219339</td>\n",
       "      <td>-0.391381</td>\n",
       "      <td>0.068446</td>\n",
       "    </tr>\n",
       "    <tr>\n",
       "      <th>419</th>\n",
       "      <td>4.229445</td>\n",
       "      <td>-2.450638</td>\n",
       "      <td>0.069256</td>\n",
       "    </tr>\n",
       "    <tr>\n",
       "      <th>420</th>\n",
       "      <td>4.239551</td>\n",
       "      <td>-6.310183</td>\n",
       "      <td>0.069774</td>\n",
       "    </tr>\n",
       "    <tr>\n",
       "      <th>421</th>\n",
       "      <td>4.249657</td>\n",
       "      <td>-7.762812</td>\n",
       "      <td>0.070150</td>\n",
       "    </tr>\n",
       "  </tbody>\n",
       "</table>\n",
       "</div>"
      ],
      "text/plain": [
       "            0         1         2\n",
       "417  4.209232 -0.388307  0.067237\n",
       "418  4.219339 -0.391381  0.068446\n",
       "419  4.229445 -2.450638  0.069256\n",
       "420  4.239551 -6.310183  0.069774\n",
       "421  4.249657 -7.762812  0.070150"
      ]
     },
     "execution_count": 10,
     "metadata": {},
     "output_type": "execute_result"
    }
   ],
   "source": [
    "pmf_didp.tail()"
   ]
  },
  {
   "cell_type": "code",
   "execution_count": 11,
   "id": "a8ee35b9",
   "metadata": {},
   "outputs": [],
   "source": [
    "# We don't want the values of z distance above 4, so\n",
    "pmf_didp = pmf_didp[pmf_didp[0] <= 4.000000]"
   ]
  },
  {
   "cell_type": "code",
   "execution_count": 12,
   "id": "5922da6b",
   "metadata": {},
   "outputs": [
    {
     "data": {
      "text/html": [
       "<div>\n",
       "<style scoped>\n",
       "    .dataframe tbody tr th:only-of-type {\n",
       "        vertical-align: middle;\n",
       "    }\n",
       "\n",
       "    .dataframe tbody tr th {\n",
       "        vertical-align: top;\n",
       "    }\n",
       "\n",
       "    .dataframe thead th {\n",
       "        text-align: right;\n",
       "    }\n",
       "</style>\n",
       "<table border=\"1\" class=\"dataframe\">\n",
       "  <thead>\n",
       "    <tr style=\"text-align: right;\">\n",
       "      <th></th>\n",
       "      <th>0</th>\n",
       "      <th>1</th>\n",
       "      <th>2</th>\n",
       "    </tr>\n",
       "  </thead>\n",
       "  <tbody>\n",
       "    <tr>\n",
       "      <th>392</th>\n",
       "      <td>3.956577</td>\n",
       "      <td>-0.053162</td>\n",
       "      <td>0.072423</td>\n",
       "    </tr>\n",
       "    <tr>\n",
       "      <th>393</th>\n",
       "      <td>3.966684</td>\n",
       "      <td>-0.033063</td>\n",
       "      <td>0.068499</td>\n",
       "    </tr>\n",
       "    <tr>\n",
       "      <th>394</th>\n",
       "      <td>3.976790</td>\n",
       "      <td>-0.021286</td>\n",
       "      <td>0.065731</td>\n",
       "    </tr>\n",
       "    <tr>\n",
       "      <th>395</th>\n",
       "      <td>3.986896</td>\n",
       "      <td>-0.031156</td>\n",
       "      <td>0.065768</td>\n",
       "    </tr>\n",
       "    <tr>\n",
       "      <th>396</th>\n",
       "      <td>3.997002</td>\n",
       "      <td>-0.050533</td>\n",
       "      <td>0.066649</td>\n",
       "    </tr>\n",
       "  </tbody>\n",
       "</table>\n",
       "</div>"
      ],
      "text/plain": [
       "            0         1         2\n",
       "392  3.956577 -0.053162  0.072423\n",
       "393  3.966684 -0.033063  0.068499\n",
       "394  3.976790 -0.021286  0.065731\n",
       "395  3.986896 -0.031156  0.065768\n",
       "396  3.997002 -0.050533  0.066649"
      ]
     },
     "execution_count": 12,
     "metadata": {},
     "output_type": "execute_result"
    }
   ],
   "source": [
    "pmf_didp.tail()"
   ]
  },
  {
   "cell_type": "code",
   "execution_count": 13,
   "id": "673f2162",
   "metadata": {},
   "outputs": [],
   "source": [
    "# Just extrapolating to have the same value in z = 4 nm as in z = 3.997002\n",
    "pmf_didp = pmf_didp.append({0: 4.000000, 1: -0.050533, 2: 0.066649}, ignore_index = True)"
   ]
  },
  {
   "cell_type": "code",
   "execution_count": 14,
   "id": "c0e4e867",
   "metadata": {},
   "outputs": [
    {
     "data": {
      "text/html": [
       "<div>\n",
       "<style scoped>\n",
       "    .dataframe tbody tr th:only-of-type {\n",
       "        vertical-align: middle;\n",
       "    }\n",
       "\n",
       "    .dataframe tbody tr th {\n",
       "        vertical-align: top;\n",
       "    }\n",
       "\n",
       "    .dataframe thead th {\n",
       "        text-align: right;\n",
       "    }\n",
       "</style>\n",
       "<table border=\"1\" class=\"dataframe\">\n",
       "  <thead>\n",
       "    <tr style=\"text-align: right;\">\n",
       "      <th></th>\n",
       "      <th>0</th>\n",
       "      <th>1</th>\n",
       "      <th>2</th>\n",
       "    </tr>\n",
       "  </thead>\n",
       "  <tbody>\n",
       "    <tr>\n",
       "      <th>393</th>\n",
       "      <td>3.966684</td>\n",
       "      <td>-0.033063</td>\n",
       "      <td>0.068499</td>\n",
       "    </tr>\n",
       "    <tr>\n",
       "      <th>394</th>\n",
       "      <td>3.976790</td>\n",
       "      <td>-0.021286</td>\n",
       "      <td>0.065731</td>\n",
       "    </tr>\n",
       "    <tr>\n",
       "      <th>395</th>\n",
       "      <td>3.986896</td>\n",
       "      <td>-0.031156</td>\n",
       "      <td>0.065768</td>\n",
       "    </tr>\n",
       "    <tr>\n",
       "      <th>396</th>\n",
       "      <td>3.997002</td>\n",
       "      <td>-0.050533</td>\n",
       "      <td>0.066649</td>\n",
       "    </tr>\n",
       "    <tr>\n",
       "      <th>397</th>\n",
       "      <td>4.000000</td>\n",
       "      <td>-0.050533</td>\n",
       "      <td>0.066649</td>\n",
       "    </tr>\n",
       "  </tbody>\n",
       "</table>\n",
       "</div>"
      ],
      "text/plain": [
       "            0         1         2\n",
       "393  3.966684 -0.033063  0.068499\n",
       "394  3.976790 -0.021286  0.065731\n",
       "395  3.986896 -0.031156  0.065768\n",
       "396  3.997002 -0.050533  0.066649\n",
       "397  4.000000 -0.050533  0.066649"
      ]
     },
     "execution_count": 14,
     "metadata": {},
     "output_type": "execute_result"
    }
   ],
   "source": [
    "pmf_didp.tail()"
   ]
  },
  {
   "cell_type": "code",
   "execution_count": 15,
   "id": "5928d71a",
   "metadata": {},
   "outputs": [
    {
     "data": {
      "text/plain": [
       "[<matplotlib.lines.Line2D at 0x7f427af1a880>]"
      ]
     },
     "execution_count": 15,
     "metadata": {},
     "output_type": "execute_result"
    },
    {
     "data": {
      "image/png": "[encoded data removed]",
      "text/plain": [
       "<Figure size 432x288 with 1 Axes>"
      ]
     },
     "metadata": {
      "needs_background": "light"
     },
     "output_type": "display_data"
    }
   ],
   "source": [
    "# Now, check a rough plot for free energy\n",
    "plt.plot(pmf_didp[0], pmf_didp[1])"
   ]
  },
  {
   "cell_type": "markdown",
   "id": "e1987e6c",
   "metadata": {},
   "source": [
    "Now adding a $e^\\frac{\\Delta G}{RT}$ component in the last column of our PMF data. Here, $\\Delta G$ is obtained from the second column pmf_dehp[1] and RT is 2.478 KJ/mol at 298K."
   ]
  },
  {
   "cell_type": "code",
   "execution_count": 16,
   "id": "b02a1b61",
   "metadata": {},
   "outputs": [],
   "source": [
    "pmf_didp[3] = np.exp(pmf_didp[1]/2.478)"
   ]
  },
  {
   "cell_type": "code",
   "execution_count": 17,
   "id": "c89fac8e",
   "metadata": {},
   "outputs": [
    {
     "data": {
      "text/html": [
       "<div>\n",
       "<style scoped>\n",
       "    .dataframe tbody tr th:only-of-type {\n",
       "        vertical-align: middle;\n",
       "    }\n",
       "\n",
       "    .dataframe tbody tr th {\n",
       "        vertical-align: top;\n",
       "    }\n",
       "\n",
       "    .dataframe thead th {\n",
       "        text-align: right;\n",
       "    }\n",
       "</style>\n",
       "<table border=\"1\" class=\"dataframe\">\n",
       "  <thead>\n",
       "    <tr style=\"text-align: right;\">\n",
       "      <th></th>\n",
       "      <th>0</th>\n",
       "      <th>1</th>\n",
       "      <th>2</th>\n",
       "      <th>3</th>\n",
       "    </tr>\n",
       "  </thead>\n",
       "  <tbody>\n",
       "    <tr>\n",
       "      <th>0</th>\n",
       "      <td>0.000000</td>\n",
       "      <td>-48.41069</td>\n",
       "      <td>1.186051</td>\n",
       "      <td>3.277468e-09</td>\n",
       "    </tr>\n",
       "    <tr>\n",
       "      <th>1</th>\n",
       "      <td>0.005053</td>\n",
       "      <td>-48.41069</td>\n",
       "      <td>1.186051</td>\n",
       "      <td>3.277468e-09</td>\n",
       "    </tr>\n",
       "    <tr>\n",
       "      <th>2</th>\n",
       "      <td>0.015159</td>\n",
       "      <td>-48.40821</td>\n",
       "      <td>1.185071</td>\n",
       "      <td>3.280750e-09</td>\n",
       "    </tr>\n",
       "    <tr>\n",
       "      <th>3</th>\n",
       "      <td>0.025265</td>\n",
       "      <td>-48.43615</td>\n",
       "      <td>1.184660</td>\n",
       "      <td>3.243967e-09</td>\n",
       "    </tr>\n",
       "    <tr>\n",
       "      <th>4</th>\n",
       "      <td>0.035372</td>\n",
       "      <td>-48.42865</td>\n",
       "      <td>1.184493</td>\n",
       "      <td>3.253800e-09</td>\n",
       "    </tr>\n",
       "  </tbody>\n",
       "</table>\n",
       "</div>"
      ],
      "text/plain": [
       "          0         1         2             3\n",
       "0  0.000000 -48.41069  1.186051  3.277468e-09\n",
       "1  0.005053 -48.41069  1.186051  3.277468e-09\n",
       "2  0.015159 -48.40821  1.185071  3.280750e-09\n",
       "3  0.025265 -48.43615  1.184660  3.243967e-09\n",
       "4  0.035372 -48.42865  1.184493  3.253800e-09"
      ]
     },
     "execution_count": 17,
     "metadata": {},
     "output_type": "execute_result"
    }
   ],
   "source": [
    "pmf_didp.head()"
   ]
  },
  {
   "cell_type": "code",
   "execution_count": 18,
   "id": "ad5371c7",
   "metadata": {},
   "outputs": [
    {
     "data": {
      "text/plain": [
       "3.2774684987476033e-09"
      ]
     },
     "execution_count": 18,
     "metadata": {},
     "output_type": "execute_result"
    }
   ],
   "source": [
    "# Just checking some values in the last column if it makes sense\n",
    "np.exp(-48.41069/2.478)"
   ]
  },
  {
   "cell_type": "markdown",
   "id": "6c435c34",
   "metadata": {},
   "source": [
    "Now, importing the diffusion coefficient data for DIDP........"
   ]
  },
  {
   "cell_type": "code",
   "execution_count": 19,
   "id": "9c611ee0",
   "metadata": {},
   "outputs": [],
   "source": [
    "diff_didp = pd.read_csv('DIDP_dif.txt', header = None, delim_whitespace=True)"
   ]
  },
  {
   "cell_type": "code",
   "execution_count": 20,
   "id": "c79b4fc4",
   "metadata": {},
   "outputs": [
    {
     "data": {
      "text/html": [
       "<div>\n",
       "<style scoped>\n",
       "    .dataframe tbody tr th:only-of-type {\n",
       "        vertical-align: middle;\n",
       "    }\n",
       "\n",
       "    .dataframe tbody tr th {\n",
       "        vertical-align: top;\n",
       "    }\n",
       "\n",
       "    .dataframe thead th {\n",
       "        text-align: right;\n",
       "    }\n",
       "</style>\n",
       "<table border=\"1\" class=\"dataframe\">\n",
       "  <thead>\n",
       "    <tr style=\"text-align: right;\">\n",
       "      <th></th>\n",
       "      <th>0</th>\n",
       "      <th>1</th>\n",
       "    </tr>\n",
       "  </thead>\n",
       "  <tbody>\n",
       "    <tr>\n",
       "      <th>0</th>\n",
       "      <td>0.0</td>\n",
       "      <td>5.807154e-07</td>\n",
       "    </tr>\n",
       "    <tr>\n",
       "      <th>1</th>\n",
       "      <td>0.1</td>\n",
       "      <td>7.846414e-07</td>\n",
       "    </tr>\n",
       "    <tr>\n",
       "      <th>2</th>\n",
       "      <td>0.2</td>\n",
       "      <td>1.311564e-08</td>\n",
       "    </tr>\n",
       "    <tr>\n",
       "      <th>3</th>\n",
       "      <td>0.3</td>\n",
       "      <td>2.334164e-08</td>\n",
       "    </tr>\n",
       "    <tr>\n",
       "      <th>4</th>\n",
       "      <td>0.4</td>\n",
       "      <td>2.294485e-07</td>\n",
       "    </tr>\n",
       "  </tbody>\n",
       "</table>\n",
       "</div>"
      ],
      "text/plain": [
       "     0             1\n",
       "0  0.0  5.807154e-07\n",
       "1  0.1  7.846414e-07\n",
       "2  0.2  1.311564e-08\n",
       "3  0.3  2.334164e-08\n",
       "4  0.4  2.294485e-07"
      ]
     },
     "execution_count": 20,
     "metadata": {},
     "output_type": "execute_result"
    }
   ],
   "source": [
    "diff_didp.head()"
   ]
  },
  {
   "cell_type": "code",
   "execution_count": 21,
   "id": "bd89d99d",
   "metadata": {},
   "outputs": [
    {
     "data": {
      "text/html": [
       "<div>\n",
       "<style scoped>\n",
       "    .dataframe tbody tr th:only-of-type {\n",
       "        vertical-align: middle;\n",
       "    }\n",
       "\n",
       "    .dataframe tbody tr th {\n",
       "        vertical-align: top;\n",
       "    }\n",
       "\n",
       "    .dataframe thead th {\n",
       "        text-align: right;\n",
       "    }\n",
       "</style>\n",
       "<table border=\"1\" class=\"dataframe\">\n",
       "  <thead>\n",
       "    <tr style=\"text-align: right;\">\n",
       "      <th></th>\n",
       "      <th>0</th>\n",
       "      <th>1</th>\n",
       "    </tr>\n",
       "  </thead>\n",
       "  <tbody>\n",
       "    <tr>\n",
       "      <th>36</th>\n",
       "      <td>3.6</td>\n",
       "      <td>0.000006</td>\n",
       "    </tr>\n",
       "    <tr>\n",
       "      <th>37</th>\n",
       "      <td>3.7</td>\n",
       "      <td>0.000008</td>\n",
       "    </tr>\n",
       "    <tr>\n",
       "      <th>38</th>\n",
       "      <td>3.8</td>\n",
       "      <td>0.000009</td>\n",
       "    </tr>\n",
       "    <tr>\n",
       "      <th>39</th>\n",
       "      <td>3.9</td>\n",
       "      <td>0.000006</td>\n",
       "    </tr>\n",
       "    <tr>\n",
       "      <th>40</th>\n",
       "      <td>4.0</td>\n",
       "      <td>0.000011</td>\n",
       "    </tr>\n",
       "  </tbody>\n",
       "</table>\n",
       "</div>"
      ],
      "text/plain": [
       "      0         1\n",
       "36  3.6  0.000006\n",
       "37  3.7  0.000008\n",
       "38  3.8  0.000009\n",
       "39  3.9  0.000006\n",
       "40  4.0  0.000011"
      ]
     },
     "execution_count": 21,
     "metadata": {},
     "output_type": "execute_result"
    }
   ],
   "source": [
    "diff_didp.tail()"
   ]
  },
  {
   "cell_type": "code",
   "execution_count": 22,
   "id": "f1c024c7",
   "metadata": {},
   "outputs": [
    {
     "data": {
      "text/plain": [
       "[<matplotlib.lines.Line2D at 0x7f42798efaf0>]"
      ]
     },
     "execution_count": 22,
     "metadata": {},
     "output_type": "execute_result"
    },
    {
     "data": {
      "image/png": "[encoded data removed]",
      "text/plain": [
       "<Figure size 432x288 with 1 Axes>"
      ]
     },
     "metadata": {
      "needs_background": "light"
     },
     "output_type": "display_data"
    }
   ],
   "source": [
    "# Let's plot the data for diffusion coefficent of DIDP\n",
    "plt.plot(diff_didp[0], diff_didp[1], '--o', color = 'r')"
   ]
  },
  {
   "cell_type": "markdown",
   "id": "5bd81322",
   "metadata": {},
   "source": [
    "Here, the linear interpolation is done for our diffusion coefficient so that we can obtain the missing values at the position specified by the PMF data. The function takes these values **np.interp(The z-coordinates at which to evaluate the interpolated values, The z-coordinates of the data points, The function values of these data points)**"
   ]
  },
  {
   "cell_type": "code",
   "execution_count": 23,
   "id": "917cf9c2",
   "metadata": {},
   "outputs": [],
   "source": [
    "diffusion_interpl = np.interp(pmf_didp[0], diff_didp[0], diff_didp[1])"
   ]
  },
  {
   "cell_type": "code",
   "execution_count": 24,
   "id": "5549949d",
   "metadata": {},
   "outputs": [
    {
     "data": {
      "text/plain": [
       "[<matplotlib.lines.Line2D at 0x7f42798d3880>]"
      ]
     },
     "execution_count": 24,
     "metadata": {},
     "output_type": "execute_result"
    },
    {
     "data": {
      "image/png": "[encoded data removed]",
      "text/plain": [
       "<Figure size 432x288 with 1 Axes>"
      ]
     },
     "metadata": {
      "needs_background": "light"
     },
     "output_type": "display_data"
    }
   ],
   "source": [
    "## Let's plot these interpolated values against the z - data points given by pmf_didp[0]\n",
    "plt.plot(pmf_didp[0], diffusion_interpl, '--o')"
   ]
  },
  {
   "cell_type": "markdown",
   "id": "e32d99e6",
   "metadata": {},
   "source": [
    "The interpolation does makes sense as the two graphs looks like a spitting mirror images of one another. Now, let's make another dataframe with these interpolation data for diffusion coefficient."
   ]
  },
  {
   "cell_type": "code",
   "execution_count": 25,
   "id": "df6916b5",
   "metadata": {},
   "outputs": [],
   "source": [
    "diff_didp = pd.DataFrame({0: pmf_didp[0].copy(deep = True), 1 : diffusion_interpl})"
   ]
  },
  {
   "cell_type": "code",
   "execution_count": 26,
   "id": "e59c6eed",
   "metadata": {},
   "outputs": [
    {
     "data": {
      "text/html": [
       "<div>\n",
       "<style scoped>\n",
       "    .dataframe tbody tr th:only-of-type {\n",
       "        vertical-align: middle;\n",
       "    }\n",
       "\n",
       "    .dataframe tbody tr th {\n",
       "        vertical-align: top;\n",
       "    }\n",
       "\n",
       "    .dataframe thead th {\n",
       "        text-align: right;\n",
       "    }\n",
       "</style>\n",
       "<table border=\"1\" class=\"dataframe\">\n",
       "  <thead>\n",
       "    <tr style=\"text-align: right;\">\n",
       "      <th></th>\n",
       "      <th>0</th>\n",
       "      <th>1</th>\n",
       "    </tr>\n",
       "  </thead>\n",
       "  <tbody>\n",
       "    <tr>\n",
       "      <th>0</th>\n",
       "      <td>0.000000</td>\n",
       "      <td>5.807154e-07</td>\n",
       "    </tr>\n",
       "    <tr>\n",
       "      <th>1</th>\n",
       "      <td>0.005053</td>\n",
       "      <td>5.910200e-07</td>\n",
       "    </tr>\n",
       "    <tr>\n",
       "      <th>2</th>\n",
       "      <td>0.015159</td>\n",
       "      <td>6.116292e-07</td>\n",
       "    </tr>\n",
       "    <tr>\n",
       "      <th>3</th>\n",
       "      <td>0.025265</td>\n",
       "      <td>6.322384e-07</td>\n",
       "    </tr>\n",
       "    <tr>\n",
       "      <th>4</th>\n",
       "      <td>0.035372</td>\n",
       "      <td>6.528475e-07</td>\n",
       "    </tr>\n",
       "    <tr>\n",
       "      <th>...</th>\n",
       "      <td>...</td>\n",
       "      <td>...</td>\n",
       "    </tr>\n",
       "    <tr>\n",
       "      <th>393</th>\n",
       "      <td>3.966684</td>\n",
       "      <td>9.226884e-06</td>\n",
       "    </tr>\n",
       "    <tr>\n",
       "      <th>394</th>\n",
       "      <td>3.976790</td>\n",
       "      <td>9.772801e-06</td>\n",
       "    </tr>\n",
       "    <tr>\n",
       "      <th>395</th>\n",
       "      <td>3.986896</td>\n",
       "      <td>1.031872e-05</td>\n",
       "    </tr>\n",
       "    <tr>\n",
       "      <th>396</th>\n",
       "      <td>3.997002</td>\n",
       "      <td>1.086463e-05</td>\n",
       "    </tr>\n",
       "    <tr>\n",
       "      <th>397</th>\n",
       "      <td>4.000000</td>\n",
       "      <td>1.102658e-05</td>\n",
       "    </tr>\n",
       "  </tbody>\n",
       "</table>\n",
       "<p>398 rows × 2 columns</p>\n",
       "</div>"
      ],
      "text/plain": [
       "            0             1\n",
       "0    0.000000  5.807154e-07\n",
       "1    0.005053  5.910200e-07\n",
       "2    0.015159  6.116292e-07\n",
       "3    0.025265  6.322384e-07\n",
       "4    0.035372  6.528475e-07\n",
       "..        ...           ...\n",
       "393  3.966684  9.226884e-06\n",
       "394  3.976790  9.772801e-06\n",
       "395  3.986896  1.031872e-05\n",
       "396  3.997002  1.086463e-05\n",
       "397  4.000000  1.102658e-05\n",
       "\n",
       "[398 rows x 2 columns]"
      ]
     },
     "execution_count": 26,
     "metadata": {},
     "output_type": "execute_result"
    }
   ],
   "source": [
    "diff_didp"
   ]
  },
  {
   "cell_type": "markdown",
   "id": "c8c0ba12",
   "metadata": {},
   "source": [
    "#### My first approach for the numerical integration will be to convert the distance in z which are in nm into cm for both pmf as well as diffusion coefficient. "
   ]
  },
  {
   "cell_type": "code",
   "execution_count": 27,
   "id": "921fb346",
   "metadata": {},
   "outputs": [
    {
     "data": {
      "text/html": [
       "<div>\n",
       "<style scoped>\n",
       "    .dataframe tbody tr th:only-of-type {\n",
       "        vertical-align: middle;\n",
       "    }\n",
       "\n",
       "    .dataframe tbody tr th {\n",
       "        vertical-align: top;\n",
       "    }\n",
       "\n",
       "    .dataframe thead th {\n",
       "        text-align: right;\n",
       "    }\n",
       "</style>\n",
       "<table border=\"1\" class=\"dataframe\">\n",
       "  <thead>\n",
       "    <tr style=\"text-align: right;\">\n",
       "      <th></th>\n",
       "      <th>0</th>\n",
       "      <th>1</th>\n",
       "      <th>2</th>\n",
       "      <th>3</th>\n",
       "    </tr>\n",
       "  </thead>\n",
       "  <tbody>\n",
       "    <tr>\n",
       "      <th>0</th>\n",
       "      <td>0.000000e+00</td>\n",
       "      <td>-48.41069</td>\n",
       "      <td>1.186051</td>\n",
       "      <td>3.277468e-09</td>\n",
       "    </tr>\n",
       "    <tr>\n",
       "      <th>1</th>\n",
       "      <td>5.053102e-10</td>\n",
       "      <td>-48.41069</td>\n",
       "      <td>1.186051</td>\n",
       "      <td>3.277468e-09</td>\n",
       "    </tr>\n",
       "    <tr>\n",
       "      <th>2</th>\n",
       "      <td>1.515930e-09</td>\n",
       "      <td>-48.40821</td>\n",
       "      <td>1.185071</td>\n",
       "      <td>3.280750e-09</td>\n",
       "    </tr>\n",
       "    <tr>\n",
       "      <th>3</th>\n",
       "      <td>2.526550e-09</td>\n",
       "      <td>-48.43615</td>\n",
       "      <td>1.184660</td>\n",
       "      <td>3.243967e-09</td>\n",
       "    </tr>\n",
       "    <tr>\n",
       "      <th>4</th>\n",
       "      <td>3.537170e-09</td>\n",
       "      <td>-48.42865</td>\n",
       "      <td>1.184493</td>\n",
       "      <td>3.253800e-09</td>\n",
       "    </tr>\n",
       "  </tbody>\n",
       "</table>\n",
       "</div>"
      ],
      "text/plain": [
       "              0         1         2             3\n",
       "0  0.000000e+00 -48.41069  1.186051  3.277468e-09\n",
       "1  5.053102e-10 -48.41069  1.186051  3.277468e-09\n",
       "2  1.515930e-09 -48.40821  1.185071  3.280750e-09\n",
       "3  2.526550e-09 -48.43615  1.184660  3.243967e-09\n",
       "4  3.537170e-09 -48.42865  1.184493  3.253800e-09"
      ]
     },
     "execution_count": 27,
     "metadata": {},
     "output_type": "execute_result"
    }
   ],
   "source": [
    "# For pmf_dep it will be ---\n",
    "pmf_didp[0] = pmf_didp[0] * 1 * 10 ** -7\n",
    "pmf_didp.head()\n",
    "# Here, the only columns we need to worry about is at the index 0 and 3 which are the values for z-distance in cm,\n",
    "# exp(Delta G/RT)"
   ]
  },
  {
   "cell_type": "code",
   "execution_count": 28,
   "id": "6327c3aa",
   "metadata": {},
   "outputs": [
    {
     "data": {
      "text/html": [
       "<div>\n",
       "<style scoped>\n",
       "    .dataframe tbody tr th:only-of-type {\n",
       "        vertical-align: middle;\n",
       "    }\n",
       "\n",
       "    .dataframe tbody tr th {\n",
       "        vertical-align: top;\n",
       "    }\n",
       "\n",
       "    .dataframe thead th {\n",
       "        text-align: right;\n",
       "    }\n",
       "</style>\n",
       "<table border=\"1\" class=\"dataframe\">\n",
       "  <thead>\n",
       "    <tr style=\"text-align: right;\">\n",
       "      <th></th>\n",
       "      <th>0</th>\n",
       "      <th>1</th>\n",
       "    </tr>\n",
       "  </thead>\n",
       "  <tbody>\n",
       "    <tr>\n",
       "      <th>0</th>\n",
       "      <td>0.000000e+00</td>\n",
       "      <td>5.807154e-07</td>\n",
       "    </tr>\n",
       "    <tr>\n",
       "      <th>1</th>\n",
       "      <td>5.053102e-10</td>\n",
       "      <td>5.910200e-07</td>\n",
       "    </tr>\n",
       "    <tr>\n",
       "      <th>2</th>\n",
       "      <td>1.515930e-09</td>\n",
       "      <td>6.116292e-07</td>\n",
       "    </tr>\n",
       "    <tr>\n",
       "      <th>3</th>\n",
       "      <td>2.526550e-09</td>\n",
       "      <td>6.322384e-07</td>\n",
       "    </tr>\n",
       "    <tr>\n",
       "      <th>4</th>\n",
       "      <td>3.537170e-09</td>\n",
       "      <td>6.528475e-07</td>\n",
       "    </tr>\n",
       "  </tbody>\n",
       "</table>\n",
       "</div>"
      ],
      "text/plain": [
       "              0             1\n",
       "0  0.000000e+00  5.807154e-07\n",
       "1  5.053102e-10  5.910200e-07\n",
       "2  1.515930e-09  6.116292e-07\n",
       "3  2.526550e-09  6.322384e-07\n",
       "4  3.537170e-09  6.528475e-07"
      ]
     },
     "execution_count": 28,
     "metadata": {},
     "output_type": "execute_result"
    }
   ],
   "source": [
    "# Similarly, for diffusion, it will be ....\n",
    "diff_didp[0] = diff_didp[0] * 1 * 10 ** -7\n",
    "diff_didp.head()\n",
    "# Here, the two columns are the z-distance in cm, and Diffusion coefficient in cm^2/2"
   ]
  },
  {
   "cell_type": "code",
   "execution_count": 29,
   "id": "2b65c2d8",
   "metadata": {},
   "outputs": [],
   "source": [
    "# Now, we can perform numerical integration with either composite trapezoidal rule, or the simpson's rule"
   ]
  },
  {
   "cell_type": "markdown",
   "id": "e1e2f21f",
   "metadata": {},
   "source": [
    "$$\\int_{0}^{4 \\times 10 ^{-7}} \\frac{\\exp\\left ( \\frac{\\Delta G(z)}{RT} \\right )}{D(z)} dz$$"
   ]
  },
  {
   "cell_type": "code",
   "execution_count": 30,
   "id": "46d1181d",
   "metadata": {},
   "outputs": [],
   "source": [
    "#trapz(values of the function to integrate, sample points(z) corresponding to the function values, optional (dz)\n",
    "#- spacing between the sample points(z))"
   ]
  },
  {
   "cell_type": "code",
   "execution_count": 31,
   "id": "1d887587",
   "metadata": {},
   "outputs": [],
   "source": [
    "integrand = pmf_didp[3]/diff_didp[1]"
   ]
  },
  {
   "cell_type": "code",
   "execution_count": 32,
   "id": "e1f73d7d",
   "metadata": {},
   "outputs": [
    {
     "data": {
      "text/plain": [
       "0           0.005644\n",
       "1           0.005545\n",
       "2           0.005364\n",
       "3           0.005131\n",
       "4           0.004984\n",
       "           ...      \n",
       "393    106942.507884\n",
       "394    101449.628157\n",
       "395     95700.432604\n",
       "396     90183.802594\n",
       "397     88859.247565\n",
       "Length: 398, dtype: float64"
      ]
     },
     "execution_count": 32,
     "metadata": {},
     "output_type": "execute_result"
    }
   ],
   "source": [
    "integrand"
   ]
  },
  {
   "cell_type": "markdown",
   "id": "17c2f51a",
   "metadata": {},
   "source": [
    "Let's check some values of the integrand. For the first value at z = 0,"
   ]
  },
  {
   "cell_type": "code",
   "execution_count": 33,
   "id": "baec16af",
   "metadata": {},
   "outputs": [
    {
     "data": {
      "text/plain": [
       "-48.41069"
      ]
     },
     "execution_count": 33,
     "metadata": {},
     "output_type": "execute_result"
    }
   ],
   "source": [
    "pmf_didp[1].to_numpy()[0]"
   ]
  },
  {
   "cell_type": "code",
   "execution_count": 34,
   "id": "41e08cc1",
   "metadata": {},
   "outputs": [
    {
     "data": {
      "text/plain": [
       "5.8071544e-07"
      ]
     },
     "execution_count": 34,
     "metadata": {},
     "output_type": "execute_result"
    }
   ],
   "source": [
    "diff_didp[1].to_numpy()[0]"
   ]
  },
  {
   "cell_type": "code",
   "execution_count": 35,
   "id": "18bf5529",
   "metadata": {},
   "outputs": [
    {
     "data": {
      "text/plain": [
       "0.0056438459751433565"
      ]
     },
     "execution_count": 35,
     "metadata": {},
     "output_type": "execute_result"
    }
   ],
   "source": [
    "#Delta G = -48.41069, RT = 2.478, D(z) = 5.8071544e-07 cm^2/s\n",
    "np.exp(-48.41069/2.478)/5.8071544e-07"
   ]
  },
  {
   "cell_type": "code",
   "execution_count": 36,
   "id": "9f0dd888",
   "metadata": {},
   "outputs": [
    {
     "data": {
      "text/plain": [
       "0.0056438459751433565"
      ]
     },
     "execution_count": 36,
     "metadata": {},
     "output_type": "execute_result"
    }
   ],
   "source": [
    "integrand[0] # We get same values both manually and with dataframe"
   ]
  },
  {
   "cell_type": "code",
   "execution_count": 37,
   "id": "5b50541b",
   "metadata": {},
   "outputs": [
    {
     "data": {
      "text/plain": [
       "-0.050533"
      ]
     },
     "execution_count": 37,
     "metadata": {},
     "output_type": "execute_result"
    }
   ],
   "source": [
    "# Now, let's check at z = 4 nm or 4 e -7 cm\n",
    "pmf_didp[1].to_numpy()[-1] # Delta G"
   ]
  },
  {
   "cell_type": "code",
   "execution_count": 38,
   "id": "e400c927",
   "metadata": {},
   "outputs": [
    {
     "data": {
      "text/plain": [
       "1.1026583e-05"
      ]
     },
     "execution_count": 38,
     "metadata": {},
     "output_type": "execute_result"
    }
   ],
   "source": [
    "diff_didp[1].to_numpy()[-1] # Diffusion coefficient"
   ]
  },
  {
   "cell_type": "code",
   "execution_count": 39,
   "id": "94bbd04b",
   "metadata": {},
   "outputs": [
    {
     "data": {
      "text/plain": [
       "88859.24756467991"
      ]
     },
     "execution_count": 39,
     "metadata": {},
     "output_type": "execute_result"
    }
   ],
   "source": [
    "# Delta G = -0.050533, RT = 2.478, D(z) = 1.1026583e-05 cm^2/s\n",
    "np.exp(-0.050533/2.478)/1.1026583e-05"
   ]
  },
  {
   "cell_type": "code",
   "execution_count": 41,
   "id": "3f2aad2d",
   "metadata": {},
   "outputs": [
    {
     "data": {
      "text/plain": [
       "88859.24756467991"
      ]
     },
     "execution_count": 41,
     "metadata": {},
     "output_type": "execute_result"
    }
   ],
   "source": [
    "integrand[397] #Note: We haven't extrapolated the Delta G to be 0 at 4.00 nm. Same as expected"
   ]
  },
  {
   "cell_type": "code",
   "execution_count": 42,
   "id": "fb4627a4",
   "metadata": {},
   "outputs": [
    {
     "data": {
      "text/plain": [
       "0.04100591269008171"
      ]
     },
     "execution_count": 42,
     "metadata": {},
     "output_type": "execute_result"
    }
   ],
   "source": [
    "trapz(integrand, pmf_didp[0])"
   ]
  },
  {
   "cell_type": "code",
   "execution_count": 43,
   "id": "2ec60708",
   "metadata": {},
   "outputs": [
    {
     "data": {
      "text/plain": [
       "24.38672704489942"
      ]
     },
     "execution_count": 43,
     "metadata": {},
     "output_type": "execute_result"
    }
   ],
   "source": [
    "# The permeability will be 1/integral\n",
    "1/trapz(integrand, pmf_didp[0])"
   ]
  },
  {
   "cell_type": "code",
   "execution_count": 47,
   "id": "dd244b09",
   "metadata": {},
   "outputs": [
    {
     "data": {
      "text/plain": [
       "<matplotlib.legend.Legend at 0x7f4278f08e20>"
      ]
     },
     "execution_count": 47,
     "metadata": {},
     "output_type": "execute_result"
    },
    {
     "data": {
      "image/png": "[encoded data removed]",
      "text/plain": [
       "<Figure size 720x576 with 1 Axes>"
      ]
     },
     "metadata": {
      "needs_background": "light"
     },
     "output_type": "display_data"
    }
   ],
   "source": [
    "# Let's look at the plot of the integrand\n",
    "plt.figure(figsize = (10,8))\n",
    "plt.plot(pmf_didp[0], integrand, label = r'$\\frac{\\exp\\left ( \\frac{\\Delta G(z)}{RT} \\right )}{D(z)}$')\n",
    "plt.xlabel('Distance(z)/cm', fontsize = 14)\n",
    "plt.ylabel(r'$\\frac{\\exp\\left ( \\frac{\\Delta G(z)}{RT} \\right )}{D(z)}$', fontsize = 16)\n",
    "plt.legend()"
   ]
  },
  {
   "cell_type": "markdown",
   "id": "405664c6",
   "metadata": {},
   "source": [
    "### Using Simpson's method:"
   ]
  },
  {
   "cell_type": "code",
   "execution_count": 48,
   "id": "6f54a708",
   "metadata": {},
   "outputs": [
    {
     "data": {
      "text/plain": [
       "0.04100631874378352"
      ]
     },
     "execution_count": 48,
     "metadata": {},
     "output_type": "execute_result"
    }
   ],
   "source": [
    "simps(integrand, pmf_didp[0])"
   ]
  },
  {
   "cell_type": "code",
   "execution_count": 51,
   "id": "a36b91e1",
   "metadata": {},
   "outputs": [
    {
     "data": {
      "text/plain": [
       "24.386485562096404"
      ]
     },
     "execution_count": 51,
     "metadata": {},
     "output_type": "execute_result"
    }
   ],
   "source": [
    "# permeability will be\n",
    "1/simps(integrand, pmf_didp[0]) # Not much of a difference"
   ]
  },
  {
   "cell_type": "markdown",
   "id": "be55b76c",
   "metadata": {},
   "source": [
    "#### My another approach for the numerical integration will be to convert diffusion coefficient (cm^2/s) into nm^2/s, integrate it over the distance in nm, and finally convert into cm/s"
   ]
  },
  {
   "cell_type": "code",
   "execution_count": 52,
   "id": "473ded7c",
   "metadata": {},
   "outputs": [
    {
     "data": {
      "text/html": [
       "<div>\n",
       "<style scoped>\n",
       "    .dataframe tbody tr th:only-of-type {\n",
       "        vertical-align: middle;\n",
       "    }\n",
       "\n",
       "    .dataframe tbody tr th {\n",
       "        vertical-align: top;\n",
       "    }\n",
       "\n",
       "    .dataframe thead th {\n",
       "        text-align: right;\n",
       "    }\n",
       "</style>\n",
       "<table border=\"1\" class=\"dataframe\">\n",
       "  <thead>\n",
       "    <tr style=\"text-align: right;\">\n",
       "      <th></th>\n",
       "      <th>0</th>\n",
       "      <th>1</th>\n",
       "      <th>2</th>\n",
       "      <th>3</th>\n",
       "    </tr>\n",
       "  </thead>\n",
       "  <tbody>\n",
       "    <tr>\n",
       "      <th>0</th>\n",
       "      <td>0.000000e+00</td>\n",
       "      <td>-48.41069</td>\n",
       "      <td>1.186051</td>\n",
       "      <td>3.277468e-09</td>\n",
       "    </tr>\n",
       "    <tr>\n",
       "      <th>1</th>\n",
       "      <td>5.053102e-10</td>\n",
       "      <td>-48.41069</td>\n",
       "      <td>1.186051</td>\n",
       "      <td>3.277468e-09</td>\n",
       "    </tr>\n",
       "    <tr>\n",
       "      <th>2</th>\n",
       "      <td>1.515930e-09</td>\n",
       "      <td>-48.40821</td>\n",
       "      <td>1.185071</td>\n",
       "      <td>3.280750e-09</td>\n",
       "    </tr>\n",
       "    <tr>\n",
       "      <th>3</th>\n",
       "      <td>2.526550e-09</td>\n",
       "      <td>-48.43615</td>\n",
       "      <td>1.184660</td>\n",
       "      <td>3.243967e-09</td>\n",
       "    </tr>\n",
       "    <tr>\n",
       "      <th>4</th>\n",
       "      <td>3.537170e-09</td>\n",
       "      <td>-48.42865</td>\n",
       "      <td>1.184493</td>\n",
       "      <td>3.253800e-09</td>\n",
       "    </tr>\n",
       "  </tbody>\n",
       "</table>\n",
       "</div>"
      ],
      "text/plain": [
       "              0         1         2             3\n",
       "0  0.000000e+00 -48.41069  1.186051  3.277468e-09\n",
       "1  5.053102e-10 -48.41069  1.186051  3.277468e-09\n",
       "2  1.515930e-09 -48.40821  1.185071  3.280750e-09\n",
       "3  2.526550e-09 -48.43615  1.184660  3.243967e-09\n",
       "4  3.537170e-09 -48.42865  1.184493  3.253800e-09"
      ]
     },
     "execution_count": 52,
     "metadata": {},
     "output_type": "execute_result"
    }
   ],
   "source": [
    "# Our both pmf and diffusion data\n",
    "pmf_didp.head()"
   ]
  },
  {
   "cell_type": "code",
   "execution_count": 53,
   "id": "cb4e3749",
   "metadata": {},
   "outputs": [
    {
     "data": {
      "text/html": [
       "<div>\n",
       "<style scoped>\n",
       "    .dataframe tbody tr th:only-of-type {\n",
       "        vertical-align: middle;\n",
       "    }\n",
       "\n",
       "    .dataframe tbody tr th {\n",
       "        vertical-align: top;\n",
       "    }\n",
       "\n",
       "    .dataframe thead th {\n",
       "        text-align: right;\n",
       "    }\n",
       "</style>\n",
       "<table border=\"1\" class=\"dataframe\">\n",
       "  <thead>\n",
       "    <tr style=\"text-align: right;\">\n",
       "      <th></th>\n",
       "      <th>0</th>\n",
       "      <th>1</th>\n",
       "    </tr>\n",
       "  </thead>\n",
       "  <tbody>\n",
       "    <tr>\n",
       "      <th>0</th>\n",
       "      <td>0.000000e+00</td>\n",
       "      <td>5.807154e-07</td>\n",
       "    </tr>\n",
       "    <tr>\n",
       "      <th>1</th>\n",
       "      <td>5.053102e-10</td>\n",
       "      <td>5.910200e-07</td>\n",
       "    </tr>\n",
       "    <tr>\n",
       "      <th>2</th>\n",
       "      <td>1.515930e-09</td>\n",
       "      <td>6.116292e-07</td>\n",
       "    </tr>\n",
       "    <tr>\n",
       "      <th>3</th>\n",
       "      <td>2.526550e-09</td>\n",
       "      <td>6.322384e-07</td>\n",
       "    </tr>\n",
       "    <tr>\n",
       "      <th>4</th>\n",
       "      <td>3.537170e-09</td>\n",
       "      <td>6.528475e-07</td>\n",
       "    </tr>\n",
       "  </tbody>\n",
       "</table>\n",
       "</div>"
      ],
      "text/plain": [
       "              0             1\n",
       "0  0.000000e+00  5.807154e-07\n",
       "1  5.053102e-10  5.910200e-07\n",
       "2  1.515930e-09  6.116292e-07\n",
       "3  2.526550e-09  6.322384e-07\n",
       "4  3.537170e-09  6.528475e-07"
      ]
     },
     "execution_count": 53,
     "metadata": {},
     "output_type": "execute_result"
    }
   ],
   "source": [
    "diff_didp.head()"
   ]
  },
  {
   "cell_type": "code",
   "execution_count": 54,
   "id": "83b70620",
   "metadata": {},
   "outputs": [],
   "source": [
    "# Let's convert the distance in both which are in cm back into nm, and also add another column in diffusion data \n",
    "# so that the coefficients are now converted into nm^2/s"
   ]
  },
  {
   "cell_type": "code",
   "execution_count": 55,
   "id": "aa4865c6",
   "metadata": {},
   "outputs": [],
   "source": [
    "pmf_didp[0] = pmf_didp[0] * 1 * 10 ** 7\n",
    "diff_didp[0] = diff_didp[0] * 1 * 10 ** 7"
   ]
  },
  {
   "cell_type": "code",
   "execution_count": 56,
   "id": "8d44973e",
   "metadata": {},
   "outputs": [
    {
     "data": {
      "text/html": [
       "<div>\n",
       "<style scoped>\n",
       "    .dataframe tbody tr th:only-of-type {\n",
       "        vertical-align: middle;\n",
       "    }\n",
       "\n",
       "    .dataframe tbody tr th {\n",
       "        vertical-align: top;\n",
       "    }\n",
       "\n",
       "    .dataframe thead th {\n",
       "        text-align: right;\n",
       "    }\n",
       "</style>\n",
       "<table border=\"1\" class=\"dataframe\">\n",
       "  <thead>\n",
       "    <tr style=\"text-align: right;\">\n",
       "      <th></th>\n",
       "      <th>0</th>\n",
       "      <th>1</th>\n",
       "      <th>2</th>\n",
       "      <th>3</th>\n",
       "    </tr>\n",
       "  </thead>\n",
       "  <tbody>\n",
       "    <tr>\n",
       "      <th>0</th>\n",
       "      <td>0.000000</td>\n",
       "      <td>-48.41069</td>\n",
       "      <td>1.186051</td>\n",
       "      <td>3.277468e-09</td>\n",
       "    </tr>\n",
       "    <tr>\n",
       "      <th>1</th>\n",
       "      <td>0.005053</td>\n",
       "      <td>-48.41069</td>\n",
       "      <td>1.186051</td>\n",
       "      <td>3.277468e-09</td>\n",
       "    </tr>\n",
       "    <tr>\n",
       "      <th>2</th>\n",
       "      <td>0.015159</td>\n",
       "      <td>-48.40821</td>\n",
       "      <td>1.185071</td>\n",
       "      <td>3.280750e-09</td>\n",
       "    </tr>\n",
       "    <tr>\n",
       "      <th>3</th>\n",
       "      <td>0.025265</td>\n",
       "      <td>-48.43615</td>\n",
       "      <td>1.184660</td>\n",
       "      <td>3.243967e-09</td>\n",
       "    </tr>\n",
       "    <tr>\n",
       "      <th>4</th>\n",
       "      <td>0.035372</td>\n",
       "      <td>-48.42865</td>\n",
       "      <td>1.184493</td>\n",
       "      <td>3.253800e-09</td>\n",
       "    </tr>\n",
       "  </tbody>\n",
       "</table>\n",
       "</div>"
      ],
      "text/plain": [
       "          0         1         2             3\n",
       "0  0.000000 -48.41069  1.186051  3.277468e-09\n",
       "1  0.005053 -48.41069  1.186051  3.277468e-09\n",
       "2  0.015159 -48.40821  1.185071  3.280750e-09\n",
       "3  0.025265 -48.43615  1.184660  3.243967e-09\n",
       "4  0.035372 -48.42865  1.184493  3.253800e-09"
      ]
     },
     "execution_count": 56,
     "metadata": {},
     "output_type": "execute_result"
    }
   ],
   "source": [
    "# Let's check\n",
    "pmf_didp.head()"
   ]
  },
  {
   "cell_type": "code",
   "execution_count": 57,
   "id": "c140ed3d",
   "metadata": {},
   "outputs": [
    {
     "data": {
      "text/html": [
       "<div>\n",
       "<style scoped>\n",
       "    .dataframe tbody tr th:only-of-type {\n",
       "        vertical-align: middle;\n",
       "    }\n",
       "\n",
       "    .dataframe tbody tr th {\n",
       "        vertical-align: top;\n",
       "    }\n",
       "\n",
       "    .dataframe thead th {\n",
       "        text-align: right;\n",
       "    }\n",
       "</style>\n",
       "<table border=\"1\" class=\"dataframe\">\n",
       "  <thead>\n",
       "    <tr style=\"text-align: right;\">\n",
       "      <th></th>\n",
       "      <th>0</th>\n",
       "      <th>1</th>\n",
       "    </tr>\n",
       "  </thead>\n",
       "  <tbody>\n",
       "    <tr>\n",
       "      <th>0</th>\n",
       "      <td>0.000000</td>\n",
       "      <td>5.807154e-07</td>\n",
       "    </tr>\n",
       "    <tr>\n",
       "      <th>1</th>\n",
       "      <td>0.005053</td>\n",
       "      <td>5.910200e-07</td>\n",
       "    </tr>\n",
       "    <tr>\n",
       "      <th>2</th>\n",
       "      <td>0.015159</td>\n",
       "      <td>6.116292e-07</td>\n",
       "    </tr>\n",
       "    <tr>\n",
       "      <th>3</th>\n",
       "      <td>0.025265</td>\n",
       "      <td>6.322384e-07</td>\n",
       "    </tr>\n",
       "    <tr>\n",
       "      <th>4</th>\n",
       "      <td>0.035372</td>\n",
       "      <td>6.528475e-07</td>\n",
       "    </tr>\n",
       "  </tbody>\n",
       "</table>\n",
       "</div>"
      ],
      "text/plain": [
       "          0             1\n",
       "0  0.000000  5.807154e-07\n",
       "1  0.005053  5.910200e-07\n",
       "2  0.015159  6.116292e-07\n",
       "3  0.025265  6.322384e-07\n",
       "4  0.035372  6.528475e-07"
      ]
     },
     "execution_count": 57,
     "metadata": {},
     "output_type": "execute_result"
    }
   ],
   "source": [
    "diff_didp.head()"
   ]
  },
  {
   "cell_type": "code",
   "execution_count": 58,
   "id": "d0cf595e",
   "metadata": {},
   "outputs": [
    {
     "data": {
      "text/plain": [
       "[<matplotlib.lines.Line2D at 0x7f4279015be0>]"
      ]
     },
     "execution_count": 58,
     "metadata": {},
     "output_type": "execute_result"
    },
    {
     "data": {
      "image/png": "[encoded data removed]",
      "text/plain": [
       "<Figure size 432x288 with 1 Axes>"
      ]
     },
     "metadata": {
      "needs_background": "light"
     },
     "output_type": "display_data"
    }
   ],
   "source": [
    "# Plotting both these two\n",
    "plt.plot(diff_didp[0], diff_didp[1])"
   ]
  },
  {
   "cell_type": "code",
   "execution_count": 59,
   "id": "8d26357a",
   "metadata": {},
   "outputs": [
    {
     "data": {
      "text/plain": [
       "[<matplotlib.lines.Line2D at 0x7f4278c252e0>]"
      ]
     },
     "execution_count": 59,
     "metadata": {},
     "output_type": "execute_result"
    },
    {
     "data": {
      "image/png": "[encoded data removed]",
      "text/plain": [
       "<Figure size 432x288 with 1 Axes>"
      ]
     },
     "metadata": {
      "needs_background": "light"
     },
     "output_type": "display_data"
    }
   ],
   "source": [
    "plt.plot(pmf_didp[0], pmf_didp[1])"
   ]
  },
  {
   "cell_type": "code",
   "execution_count": 60,
   "id": "1bcd14ef",
   "metadata": {},
   "outputs": [],
   "source": [
    "# Converting diffusion coefficient into nm^2/s and adding it into the last column\n",
    "diff_didp[2] = diff_didp[1] * 1 * 10 ** 14"
   ]
  },
  {
   "cell_type": "code",
   "execution_count": 62,
   "id": "926f7b94",
   "metadata": {},
   "outputs": [
    {
     "data": {
      "text/html": [
       "<div>\n",
       "<style scoped>\n",
       "    .dataframe tbody tr th:only-of-type {\n",
       "        vertical-align: middle;\n",
       "    }\n",
       "\n",
       "    .dataframe tbody tr th {\n",
       "        vertical-align: top;\n",
       "    }\n",
       "\n",
       "    .dataframe thead th {\n",
       "        text-align: right;\n",
       "    }\n",
       "</style>\n",
       "<table border=\"1\" class=\"dataframe\">\n",
       "  <thead>\n",
       "    <tr style=\"text-align: right;\">\n",
       "      <th></th>\n",
       "      <th>0</th>\n",
       "      <th>1</th>\n",
       "      <th>2</th>\n",
       "    </tr>\n",
       "  </thead>\n",
       "  <tbody>\n",
       "    <tr>\n",
       "      <th>0</th>\n",
       "      <td>0.000000</td>\n",
       "      <td>5.807154e-07</td>\n",
       "      <td>5.807154e+07</td>\n",
       "    </tr>\n",
       "    <tr>\n",
       "      <th>1</th>\n",
       "      <td>0.005053</td>\n",
       "      <td>5.910200e-07</td>\n",
       "      <td>5.910200e+07</td>\n",
       "    </tr>\n",
       "    <tr>\n",
       "      <th>2</th>\n",
       "      <td>0.015159</td>\n",
       "      <td>6.116292e-07</td>\n",
       "      <td>6.116292e+07</td>\n",
       "    </tr>\n",
       "    <tr>\n",
       "      <th>3</th>\n",
       "      <td>0.025265</td>\n",
       "      <td>6.322384e-07</td>\n",
       "      <td>6.322384e+07</td>\n",
       "    </tr>\n",
       "    <tr>\n",
       "      <th>4</th>\n",
       "      <td>0.035372</td>\n",
       "      <td>6.528475e-07</td>\n",
       "      <td>6.528475e+07</td>\n",
       "    </tr>\n",
       "  </tbody>\n",
       "</table>\n",
       "</div>"
      ],
      "text/plain": [
       "          0             1             2\n",
       "0  0.000000  5.807154e-07  5.807154e+07\n",
       "1  0.005053  5.910200e-07  5.910200e+07\n",
       "2  0.015159  6.116292e-07  6.116292e+07\n",
       "3  0.025265  6.322384e-07  6.322384e+07\n",
       "4  0.035372  6.528475e-07  6.528475e+07"
      ]
     },
     "execution_count": 62,
     "metadata": {},
     "output_type": "execute_result"
    }
   ],
   "source": [
    "diff_didp.head()"
   ]
  },
  {
   "cell_type": "code",
   "execution_count": 63,
   "id": "536be744",
   "metadata": {},
   "outputs": [
    {
     "data": {
      "text/plain": [
       "[<matplotlib.lines.Line2D at 0x7f4278bc1dc0>]"
      ]
     },
     "execution_count": 63,
     "metadata": {},
     "output_type": "execute_result"
    },
    {
     "data": {
      "image/png": "[encoded data removed]",
      "text/plain": [
       "<Figure size 432x288 with 1 Axes>"
      ]
     },
     "metadata": {
      "needs_background": "light"
     },
     "output_type": "display_data"
    }
   ],
   "source": [
    "# Again, plotting to check\n",
    "plt.plot(diff_didp[0], diff_didp[2])"
   ]
  },
  {
   "cell_type": "code",
   "execution_count": 64,
   "id": "dd32192a",
   "metadata": {},
   "outputs": [
    {
     "data": {
      "text/html": [
       "<div>\n",
       "<style scoped>\n",
       "    .dataframe tbody tr th:only-of-type {\n",
       "        vertical-align: middle;\n",
       "    }\n",
       "\n",
       "    .dataframe tbody tr th {\n",
       "        vertical-align: top;\n",
       "    }\n",
       "\n",
       "    .dataframe thead th {\n",
       "        text-align: right;\n",
       "    }\n",
       "</style>\n",
       "<table border=\"1\" class=\"dataframe\">\n",
       "  <thead>\n",
       "    <tr style=\"text-align: right;\">\n",
       "      <th></th>\n",
       "      <th>0</th>\n",
       "      <th>1</th>\n",
       "      <th>2</th>\n",
       "      <th>3</th>\n",
       "    </tr>\n",
       "  </thead>\n",
       "  <tbody>\n",
       "    <tr>\n",
       "      <th>0</th>\n",
       "      <td>0.000000</td>\n",
       "      <td>-48.41069</td>\n",
       "      <td>1.186051</td>\n",
       "      <td>3.277468e-09</td>\n",
       "    </tr>\n",
       "    <tr>\n",
       "      <th>1</th>\n",
       "      <td>0.005053</td>\n",
       "      <td>-48.41069</td>\n",
       "      <td>1.186051</td>\n",
       "      <td>3.277468e-09</td>\n",
       "    </tr>\n",
       "    <tr>\n",
       "      <th>2</th>\n",
       "      <td>0.015159</td>\n",
       "      <td>-48.40821</td>\n",
       "      <td>1.185071</td>\n",
       "      <td>3.280750e-09</td>\n",
       "    </tr>\n",
       "    <tr>\n",
       "      <th>3</th>\n",
       "      <td>0.025265</td>\n",
       "      <td>-48.43615</td>\n",
       "      <td>1.184660</td>\n",
       "      <td>3.243967e-09</td>\n",
       "    </tr>\n",
       "    <tr>\n",
       "      <th>4</th>\n",
       "      <td>0.035372</td>\n",
       "      <td>-48.42865</td>\n",
       "      <td>1.184493</td>\n",
       "      <td>3.253800e-09</td>\n",
       "    </tr>\n",
       "  </tbody>\n",
       "</table>\n",
       "</div>"
      ],
      "text/plain": [
       "          0         1         2             3\n",
       "0  0.000000 -48.41069  1.186051  3.277468e-09\n",
       "1  0.005053 -48.41069  1.186051  3.277468e-09\n",
       "2  0.015159 -48.40821  1.185071  3.280750e-09\n",
       "3  0.025265 -48.43615  1.184660  3.243967e-09\n",
       "4  0.035372 -48.42865  1.184493  3.253800e-09"
      ]
     },
     "execution_count": 64,
     "metadata": {},
     "output_type": "execute_result"
    }
   ],
   "source": [
    "pmf_didp.head()"
   ]
  },
  {
   "cell_type": "code",
   "execution_count": 65,
   "id": "08aade4f",
   "metadata": {},
   "outputs": [],
   "source": [
    "integrand = pmf_didp[3]/diff_didp[2]"
   ]
  },
  {
   "cell_type": "code",
   "execution_count": 66,
   "id": "3851027f",
   "metadata": {},
   "outputs": [
    {
     "data": {
      "text/plain": [
       "0      5.643846e-17\n",
       "1      5.545444e-17\n",
       "2      5.363953e-17\n",
       "3      5.130924e-17\n",
       "4      4.984012e-17\n",
       "           ...     \n",
       "393    1.069425e-09\n",
       "394    1.014496e-09\n",
       "395    9.570043e-10\n",
       "396    9.018380e-10\n",
       "397    8.885925e-10\n",
       "Length: 398, dtype: float64"
      ]
     },
     "execution_count": 66,
     "metadata": {},
     "output_type": "execute_result"
    }
   ],
   "source": [
    "integrand"
   ]
  },
  {
   "cell_type": "code",
   "execution_count": 67,
   "id": "7ee12b48",
   "metadata": {},
   "outputs": [
    {
     "data": {
      "text/plain": [
       "4.100591269008173e-09"
      ]
     },
     "execution_count": 67,
     "metadata": {},
     "output_type": "execute_result"
    }
   ],
   "source": [
    "trapz(integrand, pmf_didp[0])"
   ]
  },
  {
   "cell_type": "code",
   "execution_count": 68,
   "id": "15ead822",
   "metadata": {},
   "outputs": [
    {
     "data": {
      "text/plain": [
       "243867270.44899407"
      ]
     },
     "execution_count": 68,
     "metadata": {},
     "output_type": "execute_result"
    }
   ],
   "source": [
    "1/trapz(integrand, pmf_didp[0]) # This is now in nm/s"
   ]
  },
  {
   "cell_type": "code",
   "execution_count": 69,
   "id": "99bdc383",
   "metadata": {},
   "outputs": [
    {
     "data": {
      "text/plain": [
       "24.386727044899406"
      ]
     },
     "execution_count": 69,
     "metadata": {},
     "output_type": "execute_result"
    }
   ],
   "source": [
    "# Converting into cm/s\n",
    "1/trapz(integrand, pmf_didp[0]) * 1 * 10 ** -7"
   ]
  },
  {
   "cell_type": "code",
   "execution_count": 70,
   "id": "4b024ceb",
   "metadata": {},
   "outputs": [],
   "source": [
    "# So, both the methods I have mentioned in here fetches us the same result"
   ]
  },
  {
   "cell_type": "code",
   "execution_count": 71,
   "id": "0d8c2e1f",
   "metadata": {},
   "outputs": [
    {
     "data": {
      "text/plain": [
       "24.386485562096386"
      ]
     },
     "execution_count": 71,
     "metadata": {},
     "output_type": "execute_result"
    }
   ],
   "source": [
    "1/simps(integrand, pmf_didp[0]) * 1 * 10 ** -7"
   ]
  },
  {
   "cell_type": "code",
   "execution_count": null,
   "id": "835561f7",
   "metadata": {},
   "outputs": [],
   "source": []
  }
 ],
 "metadata": {
  "kernelspec": {
   "display_name": "Python 3",
   "language": "python",
   "name": "python3"
  },
  "language_info": {
   "codemirror_mode": {
    "name": "ipython",
    "version": 3
   },
   "file_extension": ".py",
   "mimetype": "text/x-python",
   "name": "python",
   "nbconvert_exporter": "python",
   "pygments_lexer": "ipython3",
   "version": "3.8.8"
  }
 },
 "nbformat": 4,
 "nbformat_minor": 5
}

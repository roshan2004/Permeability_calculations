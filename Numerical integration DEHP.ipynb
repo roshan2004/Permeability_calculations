{
 "cells": [
  {
   "cell_type": "code",
   "execution_count": 1,
   "id": "d52f68a2",
   "metadata": {},
   "outputs": [],
   "source": [
    "# Importing necessary libraries\n",
    "import pandas as pd\n",
    "import numpy as np\n",
    "import matplotlib.pyplot as plt\n",
    "from scipy.integrate import trapz, simps #Importing trapz, and simps module from scipy for numerical integration\n"
   ]
  },
  {
   "cell_type": "markdown",
   "id": "9f1e6502",
   "metadata": {},
   "source": [
    "Individual PMF data is saved in .xvg file, while diffusion data is saved in .txt file like in this case - Free energy of DEHP is in 2-DEHP.xvg, and its diffusion is in DEHP_dif.txt. Here, we have imported these data in a panda dataframe which simplifies our work."
   ]
  },
  {
   "cell_type": "code",
   "execution_count": 3,
   "id": "cf0d6c3a",
   "metadata": {},
   "outputs": [],
   "source": [
    "pmf_dehp = pd.read_csv('2-DEHP.xvg', header = None, delim_whitespace=True)"
   ]
  },
  {
   "cell_type": "code",
   "execution_count": 4,
   "id": "29139a18",
   "metadata": {},
   "outputs": [
    {
     "data": {
      "text/html": [
       "<div>\n",
       "<style scoped>\n",
       "    .dataframe tbody tr th:only-of-type {\n",
       "        vertical-align: middle;\n",
       "    }\n",
       "\n",
       "    .dataframe tbody tr th {\n",
       "        vertical-align: top;\n",
       "    }\n",
       "\n",
       "    .dataframe thead th {\n",
       "        text-align: right;\n",
       "    }\n",
       "</style>\n",
       "<table border=\"1\" class=\"dataframe\">\n",
       "  <thead>\n",
       "    <tr style=\"text-align: right;\">\n",
       "      <th></th>\n",
       "      <th>0</th>\n",
       "      <th>1</th>\n",
       "      <th>2</th>\n",
       "    </tr>\n",
       "  </thead>\n",
       "  <tbody>\n",
       "    <tr>\n",
       "      <th>0</th>\n",
       "      <td>0.005008</td>\n",
       "      <td>-44.65238</td>\n",
       "      <td>1.794111</td>\n",
       "    </tr>\n",
       "    <tr>\n",
       "      <th>1</th>\n",
       "      <td>0.015025</td>\n",
       "      <td>-44.65342</td>\n",
       "      <td>1.790558</td>\n",
       "    </tr>\n",
       "    <tr>\n",
       "      <th>2</th>\n",
       "      <td>0.025042</td>\n",
       "      <td>-44.62829</td>\n",
       "      <td>1.788121</td>\n",
       "    </tr>\n",
       "    <tr>\n",
       "      <th>3</th>\n",
       "      <td>0.035059</td>\n",
       "      <td>-44.61256</td>\n",
       "      <td>1.785940</td>\n",
       "    </tr>\n",
       "    <tr>\n",
       "      <th>4</th>\n",
       "      <td>0.045076</td>\n",
       "      <td>-44.59555</td>\n",
       "      <td>1.783410</td>\n",
       "    </tr>\n",
       "  </tbody>\n",
       "</table>\n",
       "</div>"
      ],
      "text/plain": [
       "          0         1         2\n",
       "0  0.005008 -44.65238  1.794111\n",
       "1  0.015025 -44.65342  1.790558\n",
       "2  0.025042 -44.62829  1.788121\n",
       "3  0.035059 -44.61256  1.785940\n",
       "4  0.045076 -44.59555  1.783410"
      ]
     },
     "execution_count": 4,
     "metadata": {},
     "output_type": "execute_result"
    }
   ],
   "source": [
    "# Checking the few data from pmf_dehp\n",
    "pmf_dehp.head()"
   ]
  },
  {
   "cell_type": "code",
   "execution_count": 5,
   "id": "cd7c26ec",
   "metadata": {},
   "outputs": [
    {
     "data": {
      "text/html": [
       "<div>\n",
       "<style scoped>\n",
       "    .dataframe tbody tr th:only-of-type {\n",
       "        vertical-align: middle;\n",
       "    }\n",
       "\n",
       "    .dataframe tbody tr th {\n",
       "        vertical-align: top;\n",
       "    }\n",
       "\n",
       "    .dataframe thead th {\n",
       "        text-align: right;\n",
       "    }\n",
       "</style>\n",
       "<table border=\"1\" class=\"dataframe\">\n",
       "  <thead>\n",
       "    <tr style=\"text-align: right;\">\n",
       "      <th></th>\n",
       "      <th>0</th>\n",
       "      <th>1</th>\n",
       "      <th>2</th>\n",
       "    </tr>\n",
       "  </thead>\n",
       "  <tbody>\n",
       "    <tr>\n",
       "      <th>416</th>\n",
       "      <td>4.172054</td>\n",
       "      <td>-0.101668</td>\n",
       "      <td>0.014071</td>\n",
       "    </tr>\n",
       "    <tr>\n",
       "      <th>417</th>\n",
       "      <td>4.182071</td>\n",
       "      <td>0.049095</td>\n",
       "      <td>0.015160</td>\n",
       "    </tr>\n",
       "    <tr>\n",
       "      <th>418</th>\n",
       "      <td>4.192088</td>\n",
       "      <td>-0.149261</td>\n",
       "      <td>0.015889</td>\n",
       "    </tr>\n",
       "    <tr>\n",
       "      <th>419</th>\n",
       "      <td>4.202105</td>\n",
       "      <td>0.595437</td>\n",
       "      <td>0.016376</td>\n",
       "    </tr>\n",
       "    <tr>\n",
       "      <th>420</th>\n",
       "      <td>4.212122</td>\n",
       "      <td>0.766363</td>\n",
       "      <td>0.016703</td>\n",
       "    </tr>\n",
       "  </tbody>\n",
       "</table>\n",
       "</div>"
      ],
      "text/plain": [
       "            0         1         2\n",
       "416  4.172054 -0.101668  0.014071\n",
       "417  4.182071  0.049095  0.015160\n",
       "418  4.192088 -0.149261  0.015889\n",
       "419  4.202105  0.595437  0.016376\n",
       "420  4.212122  0.766363  0.016703"
      ]
     },
     "execution_count": 5,
     "metadata": {},
     "output_type": "execute_result"
    }
   ],
   "source": [
    "# Similarly, looking at few last lines of the data\n",
    "pmf_dehp.tail()"
   ]
  },
  {
   "cell_type": "code",
   "execution_count": 6,
   "id": "6c535bfc",
   "metadata": {},
   "outputs": [],
   "source": [
    "# Extrapolating for the data at 0\n",
    "df = pd.DataFrame({0: [0.000000], 1: -44.65238, 2:1.794111})\n",
    "df = df.append(pmf_dehp)\n",
    "df = df.reset_index(drop=True)"
   ]
  },
  {
   "cell_type": "code",
   "execution_count": 7,
   "id": "98931462",
   "metadata": {},
   "outputs": [],
   "source": [
    "# Just making a copy to have same name as original\n",
    "pmf_dehp = df.copy(deep=True)"
   ]
  },
  {
   "cell_type": "code",
   "execution_count": 8,
   "id": "e66636f2",
   "metadata": {},
   "outputs": [
    {
     "data": {
      "text/html": [
       "<div>\n",
       "<style scoped>\n",
       "    .dataframe tbody tr th:only-of-type {\n",
       "        vertical-align: middle;\n",
       "    }\n",
       "\n",
       "    .dataframe tbody tr th {\n",
       "        vertical-align: top;\n",
       "    }\n",
       "\n",
       "    .dataframe thead th {\n",
       "        text-align: right;\n",
       "    }\n",
       "</style>\n",
       "<table border=\"1\" class=\"dataframe\">\n",
       "  <thead>\n",
       "    <tr style=\"text-align: right;\">\n",
       "      <th></th>\n",
       "      <th>0</th>\n",
       "      <th>1</th>\n",
       "      <th>2</th>\n",
       "    </tr>\n",
       "  </thead>\n",
       "  <tbody>\n",
       "    <tr>\n",
       "      <th>0</th>\n",
       "      <td>0.000000</td>\n",
       "      <td>-44.65238</td>\n",
       "      <td>1.794111</td>\n",
       "    </tr>\n",
       "    <tr>\n",
       "      <th>1</th>\n",
       "      <td>0.005008</td>\n",
       "      <td>-44.65238</td>\n",
       "      <td>1.794111</td>\n",
       "    </tr>\n",
       "    <tr>\n",
       "      <th>2</th>\n",
       "      <td>0.015025</td>\n",
       "      <td>-44.65342</td>\n",
       "      <td>1.790558</td>\n",
       "    </tr>\n",
       "    <tr>\n",
       "      <th>3</th>\n",
       "      <td>0.025042</td>\n",
       "      <td>-44.62829</td>\n",
       "      <td>1.788121</td>\n",
       "    </tr>\n",
       "    <tr>\n",
       "      <th>4</th>\n",
       "      <td>0.035059</td>\n",
       "      <td>-44.61256</td>\n",
       "      <td>1.785940</td>\n",
       "    </tr>\n",
       "  </tbody>\n",
       "</table>\n",
       "</div>"
      ],
      "text/plain": [
       "          0         1         2\n",
       "0  0.000000 -44.65238  1.794111\n",
       "1  0.005008 -44.65238  1.794111\n",
       "2  0.015025 -44.65342  1.790558\n",
       "3  0.025042 -44.62829  1.788121\n",
       "4  0.035059 -44.61256  1.785940"
      ]
     },
     "execution_count": 8,
     "metadata": {},
     "output_type": "execute_result"
    }
   ],
   "source": [
    "pmf_dehp.head()"
   ]
  },
  {
   "cell_type": "code",
   "execution_count": 9,
   "id": "5ede743b",
   "metadata": {},
   "outputs": [
    {
     "data": {
      "text/html": [
       "<div>\n",
       "<style scoped>\n",
       "    .dataframe tbody tr th:only-of-type {\n",
       "        vertical-align: middle;\n",
       "    }\n",
       "\n",
       "    .dataframe tbody tr th {\n",
       "        vertical-align: top;\n",
       "    }\n",
       "\n",
       "    .dataframe thead th {\n",
       "        text-align: right;\n",
       "    }\n",
       "</style>\n",
       "<table border=\"1\" class=\"dataframe\">\n",
       "  <thead>\n",
       "    <tr style=\"text-align: right;\">\n",
       "      <th></th>\n",
       "      <th>0</th>\n",
       "      <th>1</th>\n",
       "      <th>2</th>\n",
       "    </tr>\n",
       "  </thead>\n",
       "  <tbody>\n",
       "    <tr>\n",
       "      <th>417</th>\n",
       "      <td>4.172054</td>\n",
       "      <td>-0.101668</td>\n",
       "      <td>0.014071</td>\n",
       "    </tr>\n",
       "    <tr>\n",
       "      <th>418</th>\n",
       "      <td>4.182071</td>\n",
       "      <td>0.049095</td>\n",
       "      <td>0.015160</td>\n",
       "    </tr>\n",
       "    <tr>\n",
       "      <th>419</th>\n",
       "      <td>4.192088</td>\n",
       "      <td>-0.149261</td>\n",
       "      <td>0.015889</td>\n",
       "    </tr>\n",
       "    <tr>\n",
       "      <th>420</th>\n",
       "      <td>4.202105</td>\n",
       "      <td>0.595437</td>\n",
       "      <td>0.016376</td>\n",
       "    </tr>\n",
       "    <tr>\n",
       "      <th>421</th>\n",
       "      <td>4.212122</td>\n",
       "      <td>0.766363</td>\n",
       "      <td>0.016703</td>\n",
       "    </tr>\n",
       "  </tbody>\n",
       "</table>\n",
       "</div>"
      ],
      "text/plain": [
       "            0         1         2\n",
       "417  4.172054 -0.101668  0.014071\n",
       "418  4.182071  0.049095  0.015160\n",
       "419  4.192088 -0.149261  0.015889\n",
       "420  4.202105  0.595437  0.016376\n",
       "421  4.212122  0.766363  0.016703"
      ]
     },
     "execution_count": 9,
     "metadata": {},
     "output_type": "execute_result"
    }
   ],
   "source": [
    "pmf_dehp.tail()"
   ]
  },
  {
   "cell_type": "code",
   "execution_count": 10,
   "id": "5e3a77e4",
   "metadata": {},
   "outputs": [],
   "source": [
    "# We don't want the values of z distance above 4, so\n",
    "pmf_dehp = pmf_dehp[pmf_dehp[0] <= 4.000000]"
   ]
  },
  {
   "cell_type": "code",
   "execution_count": 11,
   "id": "48fe6122",
   "metadata": {},
   "outputs": [
    {
     "data": {
      "text/html": [
       "<div>\n",
       "<style scoped>\n",
       "    .dataframe tbody tr th:only-of-type {\n",
       "        vertical-align: middle;\n",
       "    }\n",
       "\n",
       "    .dataframe tbody tr th {\n",
       "        vertical-align: top;\n",
       "    }\n",
       "\n",
       "    .dataframe thead th {\n",
       "        text-align: right;\n",
       "    }\n",
       "</style>\n",
       "<table border=\"1\" class=\"dataframe\">\n",
       "  <thead>\n",
       "    <tr style=\"text-align: right;\">\n",
       "      <th></th>\n",
       "      <th>0</th>\n",
       "      <th>1</th>\n",
       "      <th>2</th>\n",
       "    </tr>\n",
       "  </thead>\n",
       "  <tbody>\n",
       "    <tr>\n",
       "      <th>395</th>\n",
       "      <td>3.951681</td>\n",
       "      <td>0.124851</td>\n",
       "      <td>0.022008</td>\n",
       "    </tr>\n",
       "    <tr>\n",
       "      <th>396</th>\n",
       "      <td>3.961698</td>\n",
       "      <td>0.121398</td>\n",
       "      <td>0.022350</td>\n",
       "    </tr>\n",
       "    <tr>\n",
       "      <th>397</th>\n",
       "      <td>3.971715</td>\n",
       "      <td>0.132617</td>\n",
       "      <td>0.013916</td>\n",
       "    </tr>\n",
       "    <tr>\n",
       "      <th>398</th>\n",
       "      <td>3.981732</td>\n",
       "      <td>0.100150</td>\n",
       "      <td>0.014667</td>\n",
       "    </tr>\n",
       "    <tr>\n",
       "      <th>399</th>\n",
       "      <td>3.991749</td>\n",
       "      <td>0.097642</td>\n",
       "      <td>0.014463</td>\n",
       "    </tr>\n",
       "  </tbody>\n",
       "</table>\n",
       "</div>"
      ],
      "text/plain": [
       "            0         1         2\n",
       "395  3.951681  0.124851  0.022008\n",
       "396  3.961698  0.121398  0.022350\n",
       "397  3.971715  0.132617  0.013916\n",
       "398  3.981732  0.100150  0.014667\n",
       "399  3.991749  0.097642  0.014463"
      ]
     },
     "execution_count": 11,
     "metadata": {},
     "output_type": "execute_result"
    }
   ],
   "source": [
    "pmf_dehp.tail()"
   ]
  },
  {
   "cell_type": "code",
   "execution_count": 12,
   "id": "2b46bd60",
   "metadata": {},
   "outputs": [],
   "source": [
    "# Just extrapolating to have the same value in z = 4 nm as in z = 3.991749\n",
    "pmf_dehp = pmf_dehp.append({0: 4.000000, 1: 0.097642, 2: 0.014463}, ignore_index = True)"
   ]
  },
  {
   "cell_type": "code",
   "execution_count": 13,
   "id": "04fd5ca4",
   "metadata": {},
   "outputs": [
    {
     "data": {
      "text/html": [
       "<div>\n",
       "<style scoped>\n",
       "    .dataframe tbody tr th:only-of-type {\n",
       "        vertical-align: middle;\n",
       "    }\n",
       "\n",
       "    .dataframe tbody tr th {\n",
       "        vertical-align: top;\n",
       "    }\n",
       "\n",
       "    .dataframe thead th {\n",
       "        text-align: right;\n",
       "    }\n",
       "</style>\n",
       "<table border=\"1\" class=\"dataframe\">\n",
       "  <thead>\n",
       "    <tr style=\"text-align: right;\">\n",
       "      <th></th>\n",
       "      <th>0</th>\n",
       "      <th>1</th>\n",
       "      <th>2</th>\n",
       "    </tr>\n",
       "  </thead>\n",
       "  <tbody>\n",
       "    <tr>\n",
       "      <th>396</th>\n",
       "      <td>3.961698</td>\n",
       "      <td>0.121398</td>\n",
       "      <td>0.022350</td>\n",
       "    </tr>\n",
       "    <tr>\n",
       "      <th>397</th>\n",
       "      <td>3.971715</td>\n",
       "      <td>0.132617</td>\n",
       "      <td>0.013916</td>\n",
       "    </tr>\n",
       "    <tr>\n",
       "      <th>398</th>\n",
       "      <td>3.981732</td>\n",
       "      <td>0.100150</td>\n",
       "      <td>0.014667</td>\n",
       "    </tr>\n",
       "    <tr>\n",
       "      <th>399</th>\n",
       "      <td>3.991749</td>\n",
       "      <td>0.097642</td>\n",
       "      <td>0.014463</td>\n",
       "    </tr>\n",
       "    <tr>\n",
       "      <th>400</th>\n",
       "      <td>4.000000</td>\n",
       "      <td>0.097642</td>\n",
       "      <td>0.014463</td>\n",
       "    </tr>\n",
       "  </tbody>\n",
       "</table>\n",
       "</div>"
      ],
      "text/plain": [
       "            0         1         2\n",
       "396  3.961698  0.121398  0.022350\n",
       "397  3.971715  0.132617  0.013916\n",
       "398  3.981732  0.100150  0.014667\n",
       "399  3.991749  0.097642  0.014463\n",
       "400  4.000000  0.097642  0.014463"
      ]
     },
     "execution_count": 13,
     "metadata": {},
     "output_type": "execute_result"
    }
   ],
   "source": [
    "pmf_dehp.tail()"
   ]
  },
  {
   "cell_type": "code",
   "execution_count": 14,
   "id": "126de687",
   "metadata": {},
   "outputs": [
    {
     "data": {
      "text/plain": [
       "[<matplotlib.lines.Line2D at 0x7f4e543e1640>]"
      ]
     },
     "execution_count": 14,
     "metadata": {},
     "output_type": "execute_result"
    },
    {
     "data": {
      "image/png": "[encoded data removed]",
      "text/plain": [
       "<Figure size 432x288 with 1 Axes>"
      ]
     },
     "metadata": {
      "needs_background": "light"
     },
     "output_type": "display_data"
    }
   ],
   "source": [
    "# Now, check a rough plot for free energy\n",
    "plt.plot(pmf_dehp[0], pmf_dehp[1])"
   ]
  },
  {
   "cell_type": "markdown",
   "id": "f55b4997",
   "metadata": {},
   "source": [
    "Now adding a $e^\\frac{\\Delta G}{RT}$ component in the last column of our PMF data. Here, $\\Delta G$ is obtained from the second column pmf_dehp[1] and RT is 2.478 KJ/mol at 298K."
   ]
  },
  {
   "cell_type": "code",
   "execution_count": 15,
   "id": "e7941f2e",
   "metadata": {},
   "outputs": [],
   "source": [
    "pmf_dehp[3] = np.exp(pmf_dehp[1]/2.478)"
   ]
  },
  {
   "cell_type": "code",
   "execution_count": 16,
   "id": "dd56b77e",
   "metadata": {},
   "outputs": [
    {
     "data": {
      "text/html": [
       "<div>\n",
       "<style scoped>\n",
       "    .dataframe tbody tr th:only-of-type {\n",
       "        vertical-align: middle;\n",
       "    }\n",
       "\n",
       "    .dataframe tbody tr th {\n",
       "        vertical-align: top;\n",
       "    }\n",
       "\n",
       "    .dataframe thead th {\n",
       "        text-align: right;\n",
       "    }\n",
       "</style>\n",
       "<table border=\"1\" class=\"dataframe\">\n",
       "  <thead>\n",
       "    <tr style=\"text-align: right;\">\n",
       "      <th></th>\n",
       "      <th>0</th>\n",
       "      <th>1</th>\n",
       "      <th>2</th>\n",
       "      <th>3</th>\n",
       "    </tr>\n",
       "  </thead>\n",
       "  <tbody>\n",
       "    <tr>\n",
       "      <th>0</th>\n",
       "      <td>0.000000</td>\n",
       "      <td>-44.65238</td>\n",
       "      <td>1.794111</td>\n",
       "      <td>1.493552e-08</td>\n",
       "    </tr>\n",
       "    <tr>\n",
       "      <th>1</th>\n",
       "      <td>0.005008</td>\n",
       "      <td>-44.65238</td>\n",
       "      <td>1.794111</td>\n",
       "      <td>1.493552e-08</td>\n",
       "    </tr>\n",
       "    <tr>\n",
       "      <th>2</th>\n",
       "      <td>0.015025</td>\n",
       "      <td>-44.65342</td>\n",
       "      <td>1.790558</td>\n",
       "      <td>1.492925e-08</td>\n",
       "    </tr>\n",
       "    <tr>\n",
       "      <th>3</th>\n",
       "      <td>0.025042</td>\n",
       "      <td>-44.62829</td>\n",
       "      <td>1.788121</td>\n",
       "      <td>1.508142e-08</td>\n",
       "    </tr>\n",
       "    <tr>\n",
       "      <th>4</th>\n",
       "      <td>0.035059</td>\n",
       "      <td>-44.61256</td>\n",
       "      <td>1.785940</td>\n",
       "      <td>1.517746e-08</td>\n",
       "    </tr>\n",
       "  </tbody>\n",
       "</table>\n",
       "</div>"
      ],
      "text/plain": [
       "          0         1         2             3\n",
       "0  0.000000 -44.65238  1.794111  1.493552e-08\n",
       "1  0.005008 -44.65238  1.794111  1.493552e-08\n",
       "2  0.015025 -44.65342  1.790558  1.492925e-08\n",
       "3  0.025042 -44.62829  1.788121  1.508142e-08\n",
       "4  0.035059 -44.61256  1.785940  1.517746e-08"
      ]
     },
     "execution_count": 16,
     "metadata": {},
     "output_type": "execute_result"
    }
   ],
   "source": [
    "pmf_dehp.head()"
   ]
  },
  {
   "cell_type": "code",
   "execution_count": 17,
   "id": "78908a3e",
   "metadata": {},
   "outputs": [
    {
     "data": {
      "text/plain": [
       "1.4935516397821283e-08"
      ]
     },
     "execution_count": 17,
     "metadata": {},
     "output_type": "execute_result"
    }
   ],
   "source": [
    "# Just checking some values in the last column if it makes sense\n",
    "np.exp(-44.65238/2.478)"
   ]
  },
  {
   "cell_type": "markdown",
   "id": "ffe7ddab",
   "metadata": {},
   "source": [
    "Now, importing the diffusion coefficient data for DEP........"
   ]
  },
  {
   "cell_type": "code",
   "execution_count": 18,
   "id": "cf2a8497",
   "metadata": {},
   "outputs": [],
   "source": [
    "diff_dehp = pd.read_csv('DEHP_dif.txt', header = None, delim_whitespace=True)"
   ]
  },
  {
   "cell_type": "code",
   "execution_count": 20,
   "id": "d494a0a9",
   "metadata": {},
   "outputs": [
    {
     "data": {
      "text/html": [
       "<div>\n",
       "<style scoped>\n",
       "    .dataframe tbody tr th:only-of-type {\n",
       "        vertical-align: middle;\n",
       "    }\n",
       "\n",
       "    .dataframe tbody tr th {\n",
       "        vertical-align: top;\n",
       "    }\n",
       "\n",
       "    .dataframe thead th {\n",
       "        text-align: right;\n",
       "    }\n",
       "</style>\n",
       "<table border=\"1\" class=\"dataframe\">\n",
       "  <thead>\n",
       "    <tr style=\"text-align: right;\">\n",
       "      <th></th>\n",
       "      <th>0</th>\n",
       "      <th>1</th>\n",
       "    </tr>\n",
       "  </thead>\n",
       "  <tbody>\n",
       "    <tr>\n",
       "      <th>0</th>\n",
       "      <td>0.0</td>\n",
       "      <td>1.616121e-06</td>\n",
       "    </tr>\n",
       "    <tr>\n",
       "      <th>1</th>\n",
       "      <td>0.1</td>\n",
       "      <td>5.624232e-07</td>\n",
       "    </tr>\n",
       "    <tr>\n",
       "      <th>2</th>\n",
       "      <td>0.2</td>\n",
       "      <td>8.932635e-09</td>\n",
       "    </tr>\n",
       "    <tr>\n",
       "      <th>3</th>\n",
       "      <td>0.3</td>\n",
       "      <td>5.504893e-07</td>\n",
       "    </tr>\n",
       "    <tr>\n",
       "      <th>4</th>\n",
       "      <td>0.4</td>\n",
       "      <td>1.965968e-07</td>\n",
       "    </tr>\n",
       "  </tbody>\n",
       "</table>\n",
       "</div>"
      ],
      "text/plain": [
       "     0             1\n",
       "0  0.0  1.616121e-06\n",
       "1  0.1  5.624232e-07\n",
       "2  0.2  8.932635e-09\n",
       "3  0.3  5.504893e-07\n",
       "4  0.4  1.965968e-07"
      ]
     },
     "execution_count": 20,
     "metadata": {},
     "output_type": "execute_result"
    }
   ],
   "source": [
    "diff_dehp.head()"
   ]
  },
  {
   "cell_type": "code",
   "execution_count": 21,
   "id": "fd91200e",
   "metadata": {},
   "outputs": [
    {
     "data": {
      "text/html": [
       "<div>\n",
       "<style scoped>\n",
       "    .dataframe tbody tr th:only-of-type {\n",
       "        vertical-align: middle;\n",
       "    }\n",
       "\n",
       "    .dataframe tbody tr th {\n",
       "        vertical-align: top;\n",
       "    }\n",
       "\n",
       "    .dataframe thead th {\n",
       "        text-align: right;\n",
       "    }\n",
       "</style>\n",
       "<table border=\"1\" class=\"dataframe\">\n",
       "  <thead>\n",
       "    <tr style=\"text-align: right;\">\n",
       "      <th></th>\n",
       "      <th>0</th>\n",
       "      <th>1</th>\n",
       "    </tr>\n",
       "  </thead>\n",
       "  <tbody>\n",
       "    <tr>\n",
       "      <th>36</th>\n",
       "      <td>3.6</td>\n",
       "      <td>0.000011</td>\n",
       "    </tr>\n",
       "    <tr>\n",
       "      <th>37</th>\n",
       "      <td>3.7</td>\n",
       "      <td>0.000008</td>\n",
       "    </tr>\n",
       "    <tr>\n",
       "      <th>38</th>\n",
       "      <td>3.8</td>\n",
       "      <td>0.000005</td>\n",
       "    </tr>\n",
       "    <tr>\n",
       "      <th>39</th>\n",
       "      <td>3.9</td>\n",
       "      <td>0.000011</td>\n",
       "    </tr>\n",
       "    <tr>\n",
       "      <th>40</th>\n",
       "      <td>4.0</td>\n",
       "      <td>0.000009</td>\n",
       "    </tr>\n",
       "  </tbody>\n",
       "</table>\n",
       "</div>"
      ],
      "text/plain": [
       "      0         1\n",
       "36  3.6  0.000011\n",
       "37  3.7  0.000008\n",
       "38  3.8  0.000005\n",
       "39  3.9  0.000011\n",
       "40  4.0  0.000009"
      ]
     },
     "execution_count": 21,
     "metadata": {},
     "output_type": "execute_result"
    }
   ],
   "source": [
    "diff_dehp.tail()"
   ]
  },
  {
   "cell_type": "code",
   "execution_count": 22,
   "id": "1cf749a3",
   "metadata": {},
   "outputs": [
    {
     "data": {
      "text/plain": [
       "[<matplotlib.lines.Line2D at 0x7f4e53ac3dc0>]"
      ]
     },
     "execution_count": 22,
     "metadata": {},
     "output_type": "execute_result"
    },
    {
     "data": {
      "image/png": "[encoded data removed]",
      "text/plain": [
       "<Figure size 432x288 with 1 Axes>"
      ]
     },
     "metadata": {
      "needs_background": "light"
     },
     "output_type": "display_data"
    }
   ],
   "source": [
    "# Let's plot the data for diffusion coefficent of DEP\n",
    "plt.plot(diff_dehp[0], diff_dehp[1], '--o', color = 'r')"
   ]
  },
  {
   "cell_type": "markdown",
   "id": "bea8e1fb",
   "metadata": {},
   "source": [
    "Here, the linear interpolation is done for our diffusion coefficient so that we can obtain the missing values at the position specified by the PMF data. The function takes these values **np.interp(The z-coordinates at which to evaluate the interpolated values, The z-coordinates of the data points, The function values of these data points)**"
   ]
  },
  {
   "cell_type": "code",
   "execution_count": 23,
   "id": "220cbb11",
   "metadata": {},
   "outputs": [],
   "source": [
    "diffusion_interpl = np.interp(pmf_dehp[0], diff_dehp[0], diff_dehp[1])"
   ]
  },
  {
   "cell_type": "code",
   "execution_count": 25,
   "id": "295a6df9",
   "metadata": {},
   "outputs": [
    {
     "data": {
      "text/plain": [
       "[<matplotlib.lines.Line2D at 0x7f4e53a31160>]"
      ]
     },
     "execution_count": 25,
     "metadata": {},
     "output_type": "execute_result"
    },
    {
     "data": {
      "image/png": "[encoded data removed]",
      "text/plain": [
       "<Figure size 432x288 with 1 Axes>"
      ]
     },
     "metadata": {
      "needs_background": "light"
     },
     "output_type": "display_data"
    }
   ],
   "source": [
    "## Let's plot these interpolated values against the z - data points given by pmf_dep[0]\n",
    "plt.plot(pmf_dehp[0], diffusion_interpl, '--o')"
   ]
  },
  {
   "cell_type": "markdown",
   "id": "808d561b",
   "metadata": {},
   "source": [
    "The interpolation does makes sense as the two graphs looks like a spitting mirror images of one another. Now, let's make another dataframe with these interpolation data for diffusion coefficient."
   ]
  },
  {
   "cell_type": "code",
   "execution_count": 27,
   "id": "6cb0cf4a",
   "metadata": {},
   "outputs": [],
   "source": [
    "diff_dehp = pd.DataFrame({0: pmf_dehp[0].copy(deep = True), 1 : diffusion_interpl})"
   ]
  },
  {
   "cell_type": "code",
   "execution_count": 28,
   "id": "370b6a8a",
   "metadata": {},
   "outputs": [
    {
     "data": {
      "text/html": [
       "<div>\n",
       "<style scoped>\n",
       "    .dataframe tbody tr th:only-of-type {\n",
       "        vertical-align: middle;\n",
       "    }\n",
       "\n",
       "    .dataframe tbody tr th {\n",
       "        vertical-align: top;\n",
       "    }\n",
       "\n",
       "    .dataframe thead th {\n",
       "        text-align: right;\n",
       "    }\n",
       "</style>\n",
       "<table border=\"1\" class=\"dataframe\">\n",
       "  <thead>\n",
       "    <tr style=\"text-align: right;\">\n",
       "      <th></th>\n",
       "      <th>0</th>\n",
       "      <th>1</th>\n",
       "    </tr>\n",
       "  </thead>\n",
       "  <tbody>\n",
       "    <tr>\n",
       "      <th>0</th>\n",
       "      <td>0.000000</td>\n",
       "      <td>0.000002</td>\n",
       "    </tr>\n",
       "    <tr>\n",
       "      <th>1</th>\n",
       "      <td>0.005008</td>\n",
       "      <td>0.000002</td>\n",
       "    </tr>\n",
       "    <tr>\n",
       "      <th>2</th>\n",
       "      <td>0.015025</td>\n",
       "      <td>0.000001</td>\n",
       "    </tr>\n",
       "    <tr>\n",
       "      <th>3</th>\n",
       "      <td>0.025042</td>\n",
       "      <td>0.000001</td>\n",
       "    </tr>\n",
       "    <tr>\n",
       "      <th>4</th>\n",
       "      <td>0.035059</td>\n",
       "      <td>0.000001</td>\n",
       "    </tr>\n",
       "    <tr>\n",
       "      <th>...</th>\n",
       "      <td>...</td>\n",
       "      <td>...</td>\n",
       "    </tr>\n",
       "    <tr>\n",
       "      <th>396</th>\n",
       "      <td>3.961698</td>\n",
       "      <td>0.000010</td>\n",
       "    </tr>\n",
       "    <tr>\n",
       "      <th>397</th>\n",
       "      <td>3.971715</td>\n",
       "      <td>0.000009</td>\n",
       "    </tr>\n",
       "    <tr>\n",
       "      <th>398</th>\n",
       "      <td>3.981732</td>\n",
       "      <td>0.000009</td>\n",
       "    </tr>\n",
       "    <tr>\n",
       "      <th>399</th>\n",
       "      <td>3.991749</td>\n",
       "      <td>0.000009</td>\n",
       "    </tr>\n",
       "    <tr>\n",
       "      <th>400</th>\n",
       "      <td>4.000000</td>\n",
       "      <td>0.000009</td>\n",
       "    </tr>\n",
       "  </tbody>\n",
       "</table>\n",
       "<p>401 rows × 2 columns</p>\n",
       "</div>"
      ],
      "text/plain": [
       "            0         1\n",
       "0    0.000000  0.000002\n",
       "1    0.005008  0.000002\n",
       "2    0.015025  0.000001\n",
       "3    0.025042  0.000001\n",
       "4    0.035059  0.000001\n",
       "..        ...       ...\n",
       "396  3.961698  0.000010\n",
       "397  3.971715  0.000009\n",
       "398  3.981732  0.000009\n",
       "399  3.991749  0.000009\n",
       "400  4.000000  0.000009\n",
       "\n",
       "[401 rows x 2 columns]"
      ]
     },
     "execution_count": 28,
     "metadata": {},
     "output_type": "execute_result"
    }
   ],
   "source": [
    "diff_dehp"
   ]
  },
  {
   "cell_type": "markdown",
   "id": "32866c97",
   "metadata": {},
   "source": [
    "#### My first approach for the numerical integration will be to convert the distance in z which are in nm into cm for both pmf as well as diffusion coefficient. "
   ]
  },
  {
   "cell_type": "code",
   "execution_count": 29,
   "id": "0b56cef8",
   "metadata": {},
   "outputs": [
    {
     "data": {
      "text/html": [
       "<div>\n",
       "<style scoped>\n",
       "    .dataframe tbody tr th:only-of-type {\n",
       "        vertical-align: middle;\n",
       "    }\n",
       "\n",
       "    .dataframe tbody tr th {\n",
       "        vertical-align: top;\n",
       "    }\n",
       "\n",
       "    .dataframe thead th {\n",
       "        text-align: right;\n",
       "    }\n",
       "</style>\n",
       "<table border=\"1\" class=\"dataframe\">\n",
       "  <thead>\n",
       "    <tr style=\"text-align: right;\">\n",
       "      <th></th>\n",
       "      <th>0</th>\n",
       "      <th>1</th>\n",
       "      <th>2</th>\n",
       "      <th>3</th>\n",
       "    </tr>\n",
       "  </thead>\n",
       "  <tbody>\n",
       "    <tr>\n",
       "      <th>0</th>\n",
       "      <td>0.000000e+00</td>\n",
       "      <td>-44.65238</td>\n",
       "      <td>1.794111</td>\n",
       "      <td>1.493552e-08</td>\n",
       "    </tr>\n",
       "    <tr>\n",
       "      <th>1</th>\n",
       "      <td>5.008469e-10</td>\n",
       "      <td>-44.65238</td>\n",
       "      <td>1.794111</td>\n",
       "      <td>1.493552e-08</td>\n",
       "    </tr>\n",
       "    <tr>\n",
       "      <th>2</th>\n",
       "      <td>1.502540e-09</td>\n",
       "      <td>-44.65342</td>\n",
       "      <td>1.790558</td>\n",
       "      <td>1.492925e-08</td>\n",
       "    </tr>\n",
       "    <tr>\n",
       "      <th>3</th>\n",
       "      <td>2.504234e-09</td>\n",
       "      <td>-44.62829</td>\n",
       "      <td>1.788121</td>\n",
       "      <td>1.508142e-08</td>\n",
       "    </tr>\n",
       "    <tr>\n",
       "      <th>4</th>\n",
       "      <td>3.505928e-09</td>\n",
       "      <td>-44.61256</td>\n",
       "      <td>1.785940</td>\n",
       "      <td>1.517746e-08</td>\n",
       "    </tr>\n",
       "  </tbody>\n",
       "</table>\n",
       "</div>"
      ],
      "text/plain": [
       "              0         1         2             3\n",
       "0  0.000000e+00 -44.65238  1.794111  1.493552e-08\n",
       "1  5.008469e-10 -44.65238  1.794111  1.493552e-08\n",
       "2  1.502540e-09 -44.65342  1.790558  1.492925e-08\n",
       "3  2.504234e-09 -44.62829  1.788121  1.508142e-08\n",
       "4  3.505928e-09 -44.61256  1.785940  1.517746e-08"
      ]
     },
     "execution_count": 29,
     "metadata": {},
     "output_type": "execute_result"
    }
   ],
   "source": [
    "# For pmf_dep it will be ---\n",
    "pmf_dehp[0] = pmf_dehp[0] * 1 * 10 ** -7\n",
    "pmf_dehp.head()\n",
    "# Here, the only columns we need to worry about is at the index 0 and 3 which are the values for z-distance in cm,\n",
    "# exp(Delta G/RT)"
   ]
  },
  {
   "cell_type": "code",
   "execution_count": 30,
   "id": "8c960a6d",
   "metadata": {},
   "outputs": [
    {
     "data": {
      "text/html": [
       "<div>\n",
       "<style scoped>\n",
       "    .dataframe tbody tr th:only-of-type {\n",
       "        vertical-align: middle;\n",
       "    }\n",
       "\n",
       "    .dataframe tbody tr th {\n",
       "        vertical-align: top;\n",
       "    }\n",
       "\n",
       "    .dataframe thead th {\n",
       "        text-align: right;\n",
       "    }\n",
       "</style>\n",
       "<table border=\"1\" class=\"dataframe\">\n",
       "  <thead>\n",
       "    <tr style=\"text-align: right;\">\n",
       "      <th></th>\n",
       "      <th>0</th>\n",
       "      <th>1</th>\n",
       "      <th>2</th>\n",
       "      <th>3</th>\n",
       "    </tr>\n",
       "  </thead>\n",
       "  <tbody>\n",
       "    <tr>\n",
       "      <th>396</th>\n",
       "      <td>3.961698e-07</td>\n",
       "      <td>0.121398</td>\n",
       "      <td>0.022350</td>\n",
       "      <td>1.050210</td>\n",
       "    </tr>\n",
       "    <tr>\n",
       "      <th>397</th>\n",
       "      <td>3.971715e-07</td>\n",
       "      <td>0.132617</td>\n",
       "      <td>0.013916</td>\n",
       "      <td>1.054976</td>\n",
       "    </tr>\n",
       "    <tr>\n",
       "      <th>398</th>\n",
       "      <td>3.981732e-07</td>\n",
       "      <td>0.100150</td>\n",
       "      <td>0.014667</td>\n",
       "      <td>1.041243</td>\n",
       "    </tr>\n",
       "    <tr>\n",
       "      <th>399</th>\n",
       "      <td>3.991749e-07</td>\n",
       "      <td>0.097642</td>\n",
       "      <td>0.014463</td>\n",
       "      <td>1.040190</td>\n",
       "    </tr>\n",
       "    <tr>\n",
       "      <th>400</th>\n",
       "      <td>4.000000e-07</td>\n",
       "      <td>0.097642</td>\n",
       "      <td>0.014463</td>\n",
       "      <td>1.040190</td>\n",
       "    </tr>\n",
       "  </tbody>\n",
       "</table>\n",
       "</div>"
      ],
      "text/plain": [
       "                0         1         2         3\n",
       "396  3.961698e-07  0.121398  0.022350  1.050210\n",
       "397  3.971715e-07  0.132617  0.013916  1.054976\n",
       "398  3.981732e-07  0.100150  0.014667  1.041243\n",
       "399  3.991749e-07  0.097642  0.014463  1.040190\n",
       "400  4.000000e-07  0.097642  0.014463  1.040190"
      ]
     },
     "execution_count": 30,
     "metadata": {},
     "output_type": "execute_result"
    }
   ],
   "source": [
    "pmf_dehp.tail()"
   ]
  },
  {
   "cell_type": "code",
   "execution_count": 31,
   "id": "335af315",
   "metadata": {},
   "outputs": [
    {
     "data": {
      "text/html": [
       "<div>\n",
       "<style scoped>\n",
       "    .dataframe tbody tr th:only-of-type {\n",
       "        vertical-align: middle;\n",
       "    }\n",
       "\n",
       "    .dataframe tbody tr th {\n",
       "        vertical-align: top;\n",
       "    }\n",
       "\n",
       "    .dataframe thead th {\n",
       "        text-align: right;\n",
       "    }\n",
       "</style>\n",
       "<table border=\"1\" class=\"dataframe\">\n",
       "  <thead>\n",
       "    <tr style=\"text-align: right;\">\n",
       "      <th></th>\n",
       "      <th>0</th>\n",
       "      <th>1</th>\n",
       "    </tr>\n",
       "  </thead>\n",
       "  <tbody>\n",
       "    <tr>\n",
       "      <th>0</th>\n",
       "      <td>0.000000e+00</td>\n",
       "      <td>0.000002</td>\n",
       "    </tr>\n",
       "    <tr>\n",
       "      <th>1</th>\n",
       "      <td>5.008469e-10</td>\n",
       "      <td>0.000002</td>\n",
       "    </tr>\n",
       "    <tr>\n",
       "      <th>2</th>\n",
       "      <td>1.502540e-09</td>\n",
       "      <td>0.000001</td>\n",
       "    </tr>\n",
       "    <tr>\n",
       "      <th>3</th>\n",
       "      <td>2.504234e-09</td>\n",
       "      <td>0.000001</td>\n",
       "    </tr>\n",
       "    <tr>\n",
       "      <th>4</th>\n",
       "      <td>3.505928e-09</td>\n",
       "      <td>0.000001</td>\n",
       "    </tr>\n",
       "  </tbody>\n",
       "</table>\n",
       "</div>"
      ],
      "text/plain": [
       "              0         1\n",
       "0  0.000000e+00  0.000002\n",
       "1  5.008469e-10  0.000002\n",
       "2  1.502540e-09  0.000001\n",
       "3  2.504234e-09  0.000001\n",
       "4  3.505928e-09  0.000001"
      ]
     },
     "execution_count": 31,
     "metadata": {},
     "output_type": "execute_result"
    }
   ],
   "source": [
    "# Similarly, for diffusion, it will be ....\n",
    "diff_dehp[0] = diff_dehp[0] * 1 * 10 ** -7\n",
    "diff_dehp.head()\n",
    "# Here, the two columns are the z-distance in cm, and Diffusion coefficient in cm^2/2"
   ]
  },
  {
   "cell_type": "code",
   "execution_count": 32,
   "id": "ec61c874",
   "metadata": {},
   "outputs": [
    {
     "data": {
      "text/html": [
       "<div>\n",
       "<style scoped>\n",
       "    .dataframe tbody tr th:only-of-type {\n",
       "        vertical-align: middle;\n",
       "    }\n",
       "\n",
       "    .dataframe tbody tr th {\n",
       "        vertical-align: top;\n",
       "    }\n",
       "\n",
       "    .dataframe thead th {\n",
       "        text-align: right;\n",
       "    }\n",
       "</style>\n",
       "<table border=\"1\" class=\"dataframe\">\n",
       "  <thead>\n",
       "    <tr style=\"text-align: right;\">\n",
       "      <th></th>\n",
       "      <th>0</th>\n",
       "      <th>1</th>\n",
       "    </tr>\n",
       "  </thead>\n",
       "  <tbody>\n",
       "    <tr>\n",
       "      <th>396</th>\n",
       "      <td>3.961698e-07</td>\n",
       "      <td>0.000010</td>\n",
       "    </tr>\n",
       "    <tr>\n",
       "      <th>397</th>\n",
       "      <td>3.971715e-07</td>\n",
       "      <td>0.000009</td>\n",
       "    </tr>\n",
       "    <tr>\n",
       "      <th>398</th>\n",
       "      <td>3.981732e-07</td>\n",
       "      <td>0.000009</td>\n",
       "    </tr>\n",
       "    <tr>\n",
       "      <th>399</th>\n",
       "      <td>3.991749e-07</td>\n",
       "      <td>0.000009</td>\n",
       "    </tr>\n",
       "    <tr>\n",
       "      <th>400</th>\n",
       "      <td>4.000000e-07</td>\n",
       "      <td>0.000009</td>\n",
       "    </tr>\n",
       "  </tbody>\n",
       "</table>\n",
       "</div>"
      ],
      "text/plain": [
       "                0         1\n",
       "396  3.961698e-07  0.000010\n",
       "397  3.971715e-07  0.000009\n",
       "398  3.981732e-07  0.000009\n",
       "399  3.991749e-07  0.000009\n",
       "400  4.000000e-07  0.000009"
      ]
     },
     "execution_count": 32,
     "metadata": {},
     "output_type": "execute_result"
    }
   ],
   "source": [
    "diff_dehp.tail()"
   ]
  },
  {
   "cell_type": "code",
   "execution_count": 33,
   "id": "23fd537d",
   "metadata": {},
   "outputs": [],
   "source": [
    "# Now, we can perform numerical integration with either composite trapezoidal rule, or the simpson's rule"
   ]
  },
  {
   "cell_type": "markdown",
   "id": "da531dcb",
   "metadata": {},
   "source": [
    "$$\\int_{0}^{4 \\times 10 ^{-7}} \\frac{\\exp\\left ( \\frac{\\Delta G(z)}{RT} \\right )}{D(z)} dz$$"
   ]
  },
  {
   "cell_type": "code",
   "execution_count": 34,
   "id": "3e9262cf",
   "metadata": {},
   "outputs": [],
   "source": [
    "#trapz(values of the function to integrate, sample points(z) corresponding to the function values, optional (dz)\n",
    "#- spacing between the sample points(z))"
   ]
  },
  {
   "cell_type": "code",
   "execution_count": 35,
   "id": "db9ddad7",
   "metadata": {},
   "outputs": [],
   "source": [
    "integrand = pmf_dehp[3]/diff_dehp[1]"
   ]
  },
  {
   "cell_type": "code",
   "execution_count": 36,
   "id": "bba41dce",
   "metadata": {},
   "outputs": [
    {
     "data": {
      "text/plain": [
       "0           0.009242\n",
       "1           0.009554\n",
       "2           0.010241\n",
       "3           0.011153\n",
       "4           0.012174\n",
       "           ...      \n",
       "396    109006.778151\n",
       "397    112188.536238\n",
       "398    113513.732187\n",
       "399    116325.283242\n",
       "400    118851.609861\n",
       "Length: 401, dtype: float64"
      ]
     },
     "execution_count": 36,
     "metadata": {},
     "output_type": "execute_result"
    }
   ],
   "source": [
    "integrand"
   ]
  },
  {
   "cell_type": "markdown",
   "id": "66151560",
   "metadata": {},
   "source": [
    "Let's check some values of the integrand. For the first value at z = 0,"
   ]
  },
  {
   "cell_type": "code",
   "execution_count": 39,
   "id": "a40c643d",
   "metadata": {},
   "outputs": [
    {
     "data": {
      "text/plain": [
       "-44.65238"
      ]
     },
     "execution_count": 39,
     "metadata": {},
     "output_type": "execute_result"
    }
   ],
   "source": [
    "pmf_dehp[1].to_numpy()[0]"
   ]
  },
  {
   "cell_type": "code",
   "execution_count": 40,
   "id": "35906d58",
   "metadata": {},
   "outputs": [
    {
     "data": {
      "text/plain": [
       "1.6161208e-06"
      ]
     },
     "execution_count": 40,
     "metadata": {},
     "output_type": "execute_result"
    }
   ],
   "source": [
    "diff_dehp[1].to_numpy()[0]"
   ]
  },
  {
   "cell_type": "code",
   "execution_count": 41,
   "id": "4b243d9a",
   "metadata": {},
   "outputs": [
    {
     "data": {
      "text/plain": [
       "0.009241584167360066"
      ]
     },
     "execution_count": 41,
     "metadata": {},
     "output_type": "execute_result"
    }
   ],
   "source": [
    "#Delta G = -44.65238, RT = 2.478, D(z) = 1.6161208e-06 cm^2/s\n",
    "np.exp(-44.65238/2.478)/1.6161208e-06"
   ]
  },
  {
   "cell_type": "code",
   "execution_count": 43,
   "id": "bdb7c4ef",
   "metadata": {},
   "outputs": [
    {
     "data": {
      "text/plain": [
       "0.009241584167360067"
      ]
     },
     "execution_count": 43,
     "metadata": {},
     "output_type": "execute_result"
    }
   ],
   "source": [
    "integrand[0] # We get same values both manually and with dataframe"
   ]
  },
  {
   "cell_type": "code",
   "execution_count": 44,
   "id": "e1d397ea",
   "metadata": {},
   "outputs": [
    {
     "data": {
      "text/plain": [
       "0.097642"
      ]
     },
     "execution_count": 44,
     "metadata": {},
     "output_type": "execute_result"
    }
   ],
   "source": [
    "# Now, let's check at z = 4 nm or 4 e -7 cm\n",
    "pmf_dehp[1].to_numpy()[-1] # Delta G"
   ]
  },
  {
   "cell_type": "code",
   "execution_count": 45,
   "id": "265bfe05",
   "metadata": {},
   "outputs": [
    {
     "data": {
      "text/plain": [
       "8.7520074e-06"
      ]
     },
     "execution_count": 45,
     "metadata": {},
     "output_type": "execute_result"
    }
   ],
   "source": [
    "diff_dehp[1].to_numpy()[-1] # Diffusion coefficient"
   ]
  },
  {
   "cell_type": "code",
   "execution_count": 50,
   "id": "d011e526",
   "metadata": {},
   "outputs": [
    {
     "data": {
      "text/plain": [
       "118851.60986109043"
      ]
     },
     "execution_count": 50,
     "metadata": {},
     "output_type": "execute_result"
    }
   ],
   "source": [
    "# Delta G = 0.097642, RT = 2.478, D(z) = 8.7520074e-06 cm^2/s\n",
    "np.exp(0.097642/2.478)/8.7520074e-06"
   ]
  },
  {
   "cell_type": "code",
   "execution_count": 53,
   "id": "9451c1a6",
   "metadata": {},
   "outputs": [
    {
     "data": {
      "text/plain": [
       "118851.60986109043"
      ]
     },
     "execution_count": 53,
     "metadata": {},
     "output_type": "execute_result"
    }
   ],
   "source": [
    "integrand[400] #Note: We haven't extrapolated the Delta G to be 0 at 4.00 nm. Same as expected"
   ]
  },
  {
   "cell_type": "code",
   "execution_count": 55,
   "id": "e2ae5611",
   "metadata": {},
   "outputs": [
    {
     "data": {
      "text/plain": [
       "2.961257081456137"
      ]
     },
     "execution_count": 55,
     "metadata": {},
     "output_type": "execute_result"
    }
   ],
   "source": [
    "trapz(integrand, pmf_dehp[0])"
   ]
  },
  {
   "cell_type": "code",
   "execution_count": 56,
   "id": "5fb295f5",
   "metadata": {},
   "outputs": [
    {
     "data": {
      "text/plain": [
       "0.3376944225012273"
      ]
     },
     "execution_count": 56,
     "metadata": {},
     "output_type": "execute_result"
    }
   ],
   "source": [
    "# The permeability will be 1/integral\n",
    "1/trapz(integrand, pmf_dehp[0])"
   ]
  },
  {
   "cell_type": "code",
   "execution_count": 58,
   "id": "f060850c",
   "metadata": {},
   "outputs": [
    {
     "data": {
      "text/plain": [
       "<matplotlib.legend.Legend at 0x7f4e506583d0>"
      ]
     },
     "execution_count": 58,
     "metadata": {},
     "output_type": "execute_result"
    },
    {
     "data": {
      "image/png": "[encoded data removed]",
      "text/plain": [
       "<Figure size 720x576 with 1 Axes>"
      ]
     },
     "metadata": {
      "needs_background": "light"
     },
     "output_type": "display_data"
    }
   ],
   "source": [
    "# Let's look at the plot of the integrand\n",
    "plt.figure(figsize = (10,8))\n",
    "plt.plot(pmf_dehp[0], integrand, label = r'$\\frac{\\exp\\left ( \\frac{\\Delta G(z)}{RT} \\right )}{D(z)}$')\n",
    "plt.xlabel('Distance(z)/cm', fontsize = 14)\n",
    "plt.ylabel(r'$\\frac{\\exp\\left ( \\frac{\\Delta G(z)}{RT} \\right )}{D(z)}$', fontsize = 16)\n",
    "plt.legend()"
   ]
  },
  {
   "cell_type": "markdown",
   "id": "80bfd560",
   "metadata": {},
   "source": [
    "### Using Simpson's method:"
   ]
  },
  {
   "cell_type": "code",
   "execution_count": 61,
   "id": "993024f1",
   "metadata": {},
   "outputs": [
    {
     "data": {
      "text/plain": [
       "2.8750718593638767"
      ]
     },
     "execution_count": 61,
     "metadata": {},
     "output_type": "execute_result"
    }
   ],
   "source": [
    "simps(integrand, pmf_dehp[0])"
   ]
  },
  {
   "cell_type": "code",
   "execution_count": 63,
   "id": "9f6bf635",
   "metadata": {},
   "outputs": [
    {
     "data": {
      "text/plain": [
       "0.347817393413344"
      ]
     },
     "execution_count": 63,
     "metadata": {},
     "output_type": "execute_result"
    }
   ],
   "source": [
    "# permeability will be\n",
    "1/simps(integrand, pmf_dehp[0]) # Not much of a difference, though we can assume Trapezoidal to be more accurate as \n",
    "# we are using linear interpolation for our diffusion coefficient"
   ]
  },
  {
   "cell_type": "markdown",
   "id": "e19c0146",
   "metadata": {},
   "source": [
    "#### My another approach for the numerical integration will be to convert diffusion coefficient (cm^2/s) into nm^2/s, integrate it over the distance in nm, and finally convert into cm/s"
   ]
  },
  {
   "cell_type": "code",
   "execution_count": 64,
   "id": "a4809830",
   "metadata": {},
   "outputs": [
    {
     "data": {
      "text/html": [
       "<div>\n",
       "<style scoped>\n",
       "    .dataframe tbody tr th:only-of-type {\n",
       "        vertical-align: middle;\n",
       "    }\n",
       "\n",
       "    .dataframe tbody tr th {\n",
       "        vertical-align: top;\n",
       "    }\n",
       "\n",
       "    .dataframe thead th {\n",
       "        text-align: right;\n",
       "    }\n",
       "</style>\n",
       "<table border=\"1\" class=\"dataframe\">\n",
       "  <thead>\n",
       "    <tr style=\"text-align: right;\">\n",
       "      <th></th>\n",
       "      <th>0</th>\n",
       "      <th>1</th>\n",
       "      <th>2</th>\n",
       "      <th>3</th>\n",
       "    </tr>\n",
       "  </thead>\n",
       "  <tbody>\n",
       "    <tr>\n",
       "      <th>0</th>\n",
       "      <td>0.000000e+00</td>\n",
       "      <td>-44.65238</td>\n",
       "      <td>1.794111</td>\n",
       "      <td>1.493552e-08</td>\n",
       "    </tr>\n",
       "    <tr>\n",
       "      <th>1</th>\n",
       "      <td>5.008469e-10</td>\n",
       "      <td>-44.65238</td>\n",
       "      <td>1.794111</td>\n",
       "      <td>1.493552e-08</td>\n",
       "    </tr>\n",
       "    <tr>\n",
       "      <th>2</th>\n",
       "      <td>1.502540e-09</td>\n",
       "      <td>-44.65342</td>\n",
       "      <td>1.790558</td>\n",
       "      <td>1.492925e-08</td>\n",
       "    </tr>\n",
       "    <tr>\n",
       "      <th>3</th>\n",
       "      <td>2.504234e-09</td>\n",
       "      <td>-44.62829</td>\n",
       "      <td>1.788121</td>\n",
       "      <td>1.508142e-08</td>\n",
       "    </tr>\n",
       "    <tr>\n",
       "      <th>4</th>\n",
       "      <td>3.505928e-09</td>\n",
       "      <td>-44.61256</td>\n",
       "      <td>1.785940</td>\n",
       "      <td>1.517746e-08</td>\n",
       "    </tr>\n",
       "  </tbody>\n",
       "</table>\n",
       "</div>"
      ],
      "text/plain": [
       "              0         1         2             3\n",
       "0  0.000000e+00 -44.65238  1.794111  1.493552e-08\n",
       "1  5.008469e-10 -44.65238  1.794111  1.493552e-08\n",
       "2  1.502540e-09 -44.65342  1.790558  1.492925e-08\n",
       "3  2.504234e-09 -44.62829  1.788121  1.508142e-08\n",
       "4  3.505928e-09 -44.61256  1.785940  1.517746e-08"
      ]
     },
     "execution_count": 64,
     "metadata": {},
     "output_type": "execute_result"
    }
   ],
   "source": [
    "# Our both pmf and diffusion data\n",
    "pmf_dehp.head()"
   ]
  },
  {
   "cell_type": "code",
   "execution_count": 65,
   "id": "082734ec",
   "metadata": {},
   "outputs": [
    {
     "data": {
      "text/html": [
       "<div>\n",
       "<style scoped>\n",
       "    .dataframe tbody tr th:only-of-type {\n",
       "        vertical-align: middle;\n",
       "    }\n",
       "\n",
       "    .dataframe tbody tr th {\n",
       "        vertical-align: top;\n",
       "    }\n",
       "\n",
       "    .dataframe thead th {\n",
       "        text-align: right;\n",
       "    }\n",
       "</style>\n",
       "<table border=\"1\" class=\"dataframe\">\n",
       "  <thead>\n",
       "    <tr style=\"text-align: right;\">\n",
       "      <th></th>\n",
       "      <th>0</th>\n",
       "      <th>1</th>\n",
       "    </tr>\n",
       "  </thead>\n",
       "  <tbody>\n",
       "    <tr>\n",
       "      <th>0</th>\n",
       "      <td>0.000000e+00</td>\n",
       "      <td>0.000002</td>\n",
       "    </tr>\n",
       "    <tr>\n",
       "      <th>1</th>\n",
       "      <td>5.008469e-10</td>\n",
       "      <td>0.000002</td>\n",
       "    </tr>\n",
       "    <tr>\n",
       "      <th>2</th>\n",
       "      <td>1.502540e-09</td>\n",
       "      <td>0.000001</td>\n",
       "    </tr>\n",
       "    <tr>\n",
       "      <th>3</th>\n",
       "      <td>2.504234e-09</td>\n",
       "      <td>0.000001</td>\n",
       "    </tr>\n",
       "    <tr>\n",
       "      <th>4</th>\n",
       "      <td>3.505928e-09</td>\n",
       "      <td>0.000001</td>\n",
       "    </tr>\n",
       "  </tbody>\n",
       "</table>\n",
       "</div>"
      ],
      "text/plain": [
       "              0         1\n",
       "0  0.000000e+00  0.000002\n",
       "1  5.008469e-10  0.000002\n",
       "2  1.502540e-09  0.000001\n",
       "3  2.504234e-09  0.000001\n",
       "4  3.505928e-09  0.000001"
      ]
     },
     "execution_count": 65,
     "metadata": {},
     "output_type": "execute_result"
    }
   ],
   "source": [
    "diff_dehp.head()"
   ]
  },
  {
   "cell_type": "code",
   "execution_count": 66,
   "id": "2ed409da",
   "metadata": {},
   "outputs": [],
   "source": [
    "# Let's convert the distance in both which are in cm back into nm, and also add another column in diffusion data \n",
    "# so that the coefficients are now converted into nm^2/s"
   ]
  },
  {
   "cell_type": "code",
   "execution_count": 67,
   "id": "093a4de6",
   "metadata": {},
   "outputs": [],
   "source": [
    "pmf_dehp[0] = pmf_dehp[0] * 1 * 10 ** 7\n",
    "diff_dehp[0] = diff_dehp[0] * 1 * 10 ** 7"
   ]
  },
  {
   "cell_type": "code",
   "execution_count": 69,
   "id": "1a2f5434",
   "metadata": {},
   "outputs": [
    {
     "data": {
      "text/html": [
       "<div>\n",
       "<style scoped>\n",
       "    .dataframe tbody tr th:only-of-type {\n",
       "        vertical-align: middle;\n",
       "    }\n",
       "\n",
       "    .dataframe tbody tr th {\n",
       "        vertical-align: top;\n",
       "    }\n",
       "\n",
       "    .dataframe thead th {\n",
       "        text-align: right;\n",
       "    }\n",
       "</style>\n",
       "<table border=\"1\" class=\"dataframe\">\n",
       "  <thead>\n",
       "    <tr style=\"text-align: right;\">\n",
       "      <th></th>\n",
       "      <th>0</th>\n",
       "      <th>1</th>\n",
       "      <th>2</th>\n",
       "      <th>3</th>\n",
       "    </tr>\n",
       "  </thead>\n",
       "  <tbody>\n",
       "    <tr>\n",
       "      <th>0</th>\n",
       "      <td>0.000000</td>\n",
       "      <td>-44.65238</td>\n",
       "      <td>1.794111</td>\n",
       "      <td>1.493552e-08</td>\n",
       "    </tr>\n",
       "    <tr>\n",
       "      <th>1</th>\n",
       "      <td>0.005008</td>\n",
       "      <td>-44.65238</td>\n",
       "      <td>1.794111</td>\n",
       "      <td>1.493552e-08</td>\n",
       "    </tr>\n",
       "    <tr>\n",
       "      <th>2</th>\n",
       "      <td>0.015025</td>\n",
       "      <td>-44.65342</td>\n",
       "      <td>1.790558</td>\n",
       "      <td>1.492925e-08</td>\n",
       "    </tr>\n",
       "    <tr>\n",
       "      <th>3</th>\n",
       "      <td>0.025042</td>\n",
       "      <td>-44.62829</td>\n",
       "      <td>1.788121</td>\n",
       "      <td>1.508142e-08</td>\n",
       "    </tr>\n",
       "    <tr>\n",
       "      <th>4</th>\n",
       "      <td>0.035059</td>\n",
       "      <td>-44.61256</td>\n",
       "      <td>1.785940</td>\n",
       "      <td>1.517746e-08</td>\n",
       "    </tr>\n",
       "  </tbody>\n",
       "</table>\n",
       "</div>"
      ],
      "text/plain": [
       "          0         1         2             3\n",
       "0  0.000000 -44.65238  1.794111  1.493552e-08\n",
       "1  0.005008 -44.65238  1.794111  1.493552e-08\n",
       "2  0.015025 -44.65342  1.790558  1.492925e-08\n",
       "3  0.025042 -44.62829  1.788121  1.508142e-08\n",
       "4  0.035059 -44.61256  1.785940  1.517746e-08"
      ]
     },
     "execution_count": 69,
     "metadata": {},
     "output_type": "execute_result"
    }
   ],
   "source": [
    "# Let's check\n",
    "pmf_dehp.head()"
   ]
  },
  {
   "cell_type": "code",
   "execution_count": 70,
   "id": "94eb12b6",
   "metadata": {},
   "outputs": [
    {
     "data": {
      "text/html": [
       "<div>\n",
       "<style scoped>\n",
       "    .dataframe tbody tr th:only-of-type {\n",
       "        vertical-align: middle;\n",
       "    }\n",
       "\n",
       "    .dataframe tbody tr th {\n",
       "        vertical-align: top;\n",
       "    }\n",
       "\n",
       "    .dataframe thead th {\n",
       "        text-align: right;\n",
       "    }\n",
       "</style>\n",
       "<table border=\"1\" class=\"dataframe\">\n",
       "  <thead>\n",
       "    <tr style=\"text-align: right;\">\n",
       "      <th></th>\n",
       "      <th>0</th>\n",
       "      <th>1</th>\n",
       "    </tr>\n",
       "  </thead>\n",
       "  <tbody>\n",
       "    <tr>\n",
       "      <th>0</th>\n",
       "      <td>0.000000</td>\n",
       "      <td>0.000002</td>\n",
       "    </tr>\n",
       "    <tr>\n",
       "      <th>1</th>\n",
       "      <td>0.005008</td>\n",
       "      <td>0.000002</td>\n",
       "    </tr>\n",
       "    <tr>\n",
       "      <th>2</th>\n",
       "      <td>0.015025</td>\n",
       "      <td>0.000001</td>\n",
       "    </tr>\n",
       "    <tr>\n",
       "      <th>3</th>\n",
       "      <td>0.025042</td>\n",
       "      <td>0.000001</td>\n",
       "    </tr>\n",
       "    <tr>\n",
       "      <th>4</th>\n",
       "      <td>0.035059</td>\n",
       "      <td>0.000001</td>\n",
       "    </tr>\n",
       "  </tbody>\n",
       "</table>\n",
       "</div>"
      ],
      "text/plain": [
       "          0         1\n",
       "0  0.000000  0.000002\n",
       "1  0.005008  0.000002\n",
       "2  0.015025  0.000001\n",
       "3  0.025042  0.000001\n",
       "4  0.035059  0.000001"
      ]
     },
     "execution_count": 70,
     "metadata": {},
     "output_type": "execute_result"
    }
   ],
   "source": [
    "diff_dehp.head()"
   ]
  },
  {
   "cell_type": "code",
   "execution_count": 72,
   "id": "0075a8c6",
   "metadata": {},
   "outputs": [
    {
     "data": {
      "text/html": [
       "<div>\n",
       "<style scoped>\n",
       "    .dataframe tbody tr th:only-of-type {\n",
       "        vertical-align: middle;\n",
       "    }\n",
       "\n",
       "    .dataframe tbody tr th {\n",
       "        vertical-align: top;\n",
       "    }\n",
       "\n",
       "    .dataframe thead th {\n",
       "        text-align: right;\n",
       "    }\n",
       "</style>\n",
       "<table border=\"1\" class=\"dataframe\">\n",
       "  <thead>\n",
       "    <tr style=\"text-align: right;\">\n",
       "      <th></th>\n",
       "      <th>0</th>\n",
       "      <th>1</th>\n",
       "    </tr>\n",
       "  </thead>\n",
       "  <tbody>\n",
       "    <tr>\n",
       "      <th>396</th>\n",
       "      <td>3.961698</td>\n",
       "      <td>0.000010</td>\n",
       "    </tr>\n",
       "    <tr>\n",
       "      <th>397</th>\n",
       "      <td>3.971715</td>\n",
       "      <td>0.000009</td>\n",
       "    </tr>\n",
       "    <tr>\n",
       "      <th>398</th>\n",
       "      <td>3.981732</td>\n",
       "      <td>0.000009</td>\n",
       "    </tr>\n",
       "    <tr>\n",
       "      <th>399</th>\n",
       "      <td>3.991749</td>\n",
       "      <td>0.000009</td>\n",
       "    </tr>\n",
       "    <tr>\n",
       "      <th>400</th>\n",
       "      <td>4.000000</td>\n",
       "      <td>0.000009</td>\n",
       "    </tr>\n",
       "  </tbody>\n",
       "</table>\n",
       "</div>"
      ],
      "text/plain": [
       "            0         1\n",
       "396  3.961698  0.000010\n",
       "397  3.971715  0.000009\n",
       "398  3.981732  0.000009\n",
       "399  3.991749  0.000009\n",
       "400  4.000000  0.000009"
      ]
     },
     "execution_count": 72,
     "metadata": {},
     "output_type": "execute_result"
    }
   ],
   "source": [
    "diff_dehp.tail()"
   ]
  },
  {
   "cell_type": "code",
   "execution_count": 73,
   "id": "37506a3e",
   "metadata": {},
   "outputs": [
    {
     "data": {
      "text/html": [
       "<div>\n",
       "<style scoped>\n",
       "    .dataframe tbody tr th:only-of-type {\n",
       "        vertical-align: middle;\n",
       "    }\n",
       "\n",
       "    .dataframe tbody tr th {\n",
       "        vertical-align: top;\n",
       "    }\n",
       "\n",
       "    .dataframe thead th {\n",
       "        text-align: right;\n",
       "    }\n",
       "</style>\n",
       "<table border=\"1\" class=\"dataframe\">\n",
       "  <thead>\n",
       "    <tr style=\"text-align: right;\">\n",
       "      <th></th>\n",
       "      <th>0</th>\n",
       "      <th>1</th>\n",
       "      <th>2</th>\n",
       "      <th>3</th>\n",
       "    </tr>\n",
       "  </thead>\n",
       "  <tbody>\n",
       "    <tr>\n",
       "      <th>396</th>\n",
       "      <td>3.961698</td>\n",
       "      <td>0.121398</td>\n",
       "      <td>0.022350</td>\n",
       "      <td>1.050210</td>\n",
       "    </tr>\n",
       "    <tr>\n",
       "      <th>397</th>\n",
       "      <td>3.971715</td>\n",
       "      <td>0.132617</td>\n",
       "      <td>0.013916</td>\n",
       "      <td>1.054976</td>\n",
       "    </tr>\n",
       "    <tr>\n",
       "      <th>398</th>\n",
       "      <td>3.981732</td>\n",
       "      <td>0.100150</td>\n",
       "      <td>0.014667</td>\n",
       "      <td>1.041243</td>\n",
       "    </tr>\n",
       "    <tr>\n",
       "      <th>399</th>\n",
       "      <td>3.991749</td>\n",
       "      <td>0.097642</td>\n",
       "      <td>0.014463</td>\n",
       "      <td>1.040190</td>\n",
       "    </tr>\n",
       "    <tr>\n",
       "      <th>400</th>\n",
       "      <td>4.000000</td>\n",
       "      <td>0.097642</td>\n",
       "      <td>0.014463</td>\n",
       "      <td>1.040190</td>\n",
       "    </tr>\n",
       "  </tbody>\n",
       "</table>\n",
       "</div>"
      ],
      "text/plain": [
       "            0         1         2         3\n",
       "396  3.961698  0.121398  0.022350  1.050210\n",
       "397  3.971715  0.132617  0.013916  1.054976\n",
       "398  3.981732  0.100150  0.014667  1.041243\n",
       "399  3.991749  0.097642  0.014463  1.040190\n",
       "400  4.000000  0.097642  0.014463  1.040190"
      ]
     },
     "execution_count": 73,
     "metadata": {},
     "output_type": "execute_result"
    }
   ],
   "source": [
    "pmf_dehp.tail()"
   ]
  },
  {
   "cell_type": "code",
   "execution_count": 76,
   "id": "9f0c3d23",
   "metadata": {},
   "outputs": [
    {
     "data": {
      "text/plain": [
       "[<matplotlib.lines.Line2D at 0x7f4e507b12b0>]"
      ]
     },
     "execution_count": 76,
     "metadata": {},
     "output_type": "execute_result"
    },
    {
     "data": {
      "image/png": "[encoded data removed]",
      "text/plain": [
       "<Figure size 432x288 with 1 Axes>"
      ]
     },
     "metadata": {
      "needs_background": "light"
     },
     "output_type": "display_data"
    }
   ],
   "source": [
    "# Plotting both these two\n",
    "plt.plot(diff_dehp[0], diff_dehp[1])"
   ]
  },
  {
   "cell_type": "code",
   "execution_count": 77,
   "id": "33b4a81e",
   "metadata": {},
   "outputs": [
    {
     "data": {
      "text/plain": [
       "[<matplotlib.lines.Line2D at 0x7f4e50138880>]"
      ]
     },
     "execution_count": 77,
     "metadata": {},
     "output_type": "execute_result"
    },
    {
     "data": {
      "image/png": "[encoded data removed]",
      "text/plain": [
       "<Figure size 432x288 with 1 Axes>"
      ]
     },
     "metadata": {
      "needs_background": "light"
     },
     "output_type": "display_data"
    }
   ],
   "source": [
    "plt.plot(pmf_dehp[0], pmf_dehp[1])"
   ]
  },
  {
   "cell_type": "code",
   "execution_count": 78,
   "id": "a9f41c9e",
   "metadata": {},
   "outputs": [],
   "source": [
    "# Converting diffusion coefficient into nm^2/s and adding it into the last column\n",
    "diff_dehp[2] = diff_dehp[1] * 1 * 10 ** 14"
   ]
  },
  {
   "cell_type": "code",
   "execution_count": 80,
   "id": "969e2205",
   "metadata": {},
   "outputs": [
    {
     "data": {
      "text/html": [
       "<div>\n",
       "<style scoped>\n",
       "    .dataframe tbody tr th:only-of-type {\n",
       "        vertical-align: middle;\n",
       "    }\n",
       "\n",
       "    .dataframe tbody tr th {\n",
       "        vertical-align: top;\n",
       "    }\n",
       "\n",
       "    .dataframe thead th {\n",
       "        text-align: right;\n",
       "    }\n",
       "</style>\n",
       "<table border=\"1\" class=\"dataframe\">\n",
       "  <thead>\n",
       "    <tr style=\"text-align: right;\">\n",
       "      <th></th>\n",
       "      <th>0</th>\n",
       "      <th>1</th>\n",
       "      <th>2</th>\n",
       "    </tr>\n",
       "  </thead>\n",
       "  <tbody>\n",
       "    <tr>\n",
       "      <th>0</th>\n",
       "      <td>0.000000</td>\n",
       "      <td>0.000002</td>\n",
       "      <td>1.616121e+08</td>\n",
       "    </tr>\n",
       "    <tr>\n",
       "      <th>1</th>\n",
       "      <td>0.005008</td>\n",
       "      <td>0.000002</td>\n",
       "      <td>1.563347e+08</td>\n",
       "    </tr>\n",
       "    <tr>\n",
       "      <th>2</th>\n",
       "      <td>0.015025</td>\n",
       "      <td>0.000001</td>\n",
       "      <td>1.457799e+08</td>\n",
       "    </tr>\n",
       "    <tr>\n",
       "      <th>3</th>\n",
       "      <td>0.025042</td>\n",
       "      <td>0.000001</td>\n",
       "      <td>1.352250e+08</td>\n",
       "    </tr>\n",
       "    <tr>\n",
       "      <th>4</th>\n",
       "      <td>0.035059</td>\n",
       "      <td>0.000001</td>\n",
       "      <td>1.246702e+08</td>\n",
       "    </tr>\n",
       "  </tbody>\n",
       "</table>\n",
       "</div>"
      ],
      "text/plain": [
       "          0         1             2\n",
       "0  0.000000  0.000002  1.616121e+08\n",
       "1  0.005008  0.000002  1.563347e+08\n",
       "2  0.015025  0.000001  1.457799e+08\n",
       "3  0.025042  0.000001  1.352250e+08\n",
       "4  0.035059  0.000001  1.246702e+08"
      ]
     },
     "execution_count": 80,
     "metadata": {},
     "output_type": "execute_result"
    }
   ],
   "source": [
    "diff_dehp.head()"
   ]
  },
  {
   "cell_type": "code",
   "execution_count": 82,
   "id": "856c8153",
   "metadata": {},
   "outputs": [
    {
     "data": {
      "text/plain": [
       "[<matplotlib.lines.Line2D at 0x7f4e506b8ca0>]"
      ]
     },
     "execution_count": 82,
     "metadata": {},
     "output_type": "execute_result"
    },
    {
     "data": {
      "image/png": "[encoded data removed]",
      "text/plain": [
       "<Figure size 432x288 with 1 Axes>"
      ]
     },
     "metadata": {
      "needs_background": "light"
     },
     "output_type": "display_data"
    }
   ],
   "source": [
    "# Again, plotting to check\n",
    "plt.plot(diff_dehp[0], diff_dehp[2])"
   ]
  },
  {
   "cell_type": "code",
   "execution_count": 83,
   "id": "2846eb43",
   "metadata": {},
   "outputs": [
    {
     "data": {
      "text/html": [
       "<div>\n",
       "<style scoped>\n",
       "    .dataframe tbody tr th:only-of-type {\n",
       "        vertical-align: middle;\n",
       "    }\n",
       "\n",
       "    .dataframe tbody tr th {\n",
       "        vertical-align: top;\n",
       "    }\n",
       "\n",
       "    .dataframe thead th {\n",
       "        text-align: right;\n",
       "    }\n",
       "</style>\n",
       "<table border=\"1\" class=\"dataframe\">\n",
       "  <thead>\n",
       "    <tr style=\"text-align: right;\">\n",
       "      <th></th>\n",
       "      <th>0</th>\n",
       "      <th>1</th>\n",
       "      <th>2</th>\n",
       "      <th>3</th>\n",
       "    </tr>\n",
       "  </thead>\n",
       "  <tbody>\n",
       "    <tr>\n",
       "      <th>0</th>\n",
       "      <td>0.000000</td>\n",
       "      <td>-44.65238</td>\n",
       "      <td>1.794111</td>\n",
       "      <td>1.493552e-08</td>\n",
       "    </tr>\n",
       "    <tr>\n",
       "      <th>1</th>\n",
       "      <td>0.005008</td>\n",
       "      <td>-44.65238</td>\n",
       "      <td>1.794111</td>\n",
       "      <td>1.493552e-08</td>\n",
       "    </tr>\n",
       "    <tr>\n",
       "      <th>2</th>\n",
       "      <td>0.015025</td>\n",
       "      <td>-44.65342</td>\n",
       "      <td>1.790558</td>\n",
       "      <td>1.492925e-08</td>\n",
       "    </tr>\n",
       "    <tr>\n",
       "      <th>3</th>\n",
       "      <td>0.025042</td>\n",
       "      <td>-44.62829</td>\n",
       "      <td>1.788121</td>\n",
       "      <td>1.508142e-08</td>\n",
       "    </tr>\n",
       "    <tr>\n",
       "      <th>4</th>\n",
       "      <td>0.035059</td>\n",
       "      <td>-44.61256</td>\n",
       "      <td>1.785940</td>\n",
       "      <td>1.517746e-08</td>\n",
       "    </tr>\n",
       "  </tbody>\n",
       "</table>\n",
       "</div>"
      ],
      "text/plain": [
       "          0         1         2             3\n",
       "0  0.000000 -44.65238  1.794111  1.493552e-08\n",
       "1  0.005008 -44.65238  1.794111  1.493552e-08\n",
       "2  0.015025 -44.65342  1.790558  1.492925e-08\n",
       "3  0.025042 -44.62829  1.788121  1.508142e-08\n",
       "4  0.035059 -44.61256  1.785940  1.517746e-08"
      ]
     },
     "execution_count": 83,
     "metadata": {},
     "output_type": "execute_result"
    }
   ],
   "source": [
    "pmf_dehp.head()"
   ]
  },
  {
   "cell_type": "code",
   "execution_count": 84,
   "id": "4a91f0c5",
   "metadata": {},
   "outputs": [],
   "source": [
    "integrand = pmf_dehp[3]/diff_dehp[2]"
   ]
  },
  {
   "cell_type": "code",
   "execution_count": 85,
   "id": "34916ba1",
   "metadata": {},
   "outputs": [
    {
     "data": {
      "text/plain": [
       "0      9.241584e-17\n",
       "1      9.553554e-17\n",
       "2      1.024096e-16\n",
       "3      1.115283e-16\n",
       "4      1.217409e-16\n",
       "           ...     \n",
       "396    1.090068e-09\n",
       "397    1.121885e-09\n",
       "398    1.135137e-09\n",
       "399    1.163253e-09\n",
       "400    1.188516e-09\n",
       "Length: 401, dtype: float64"
      ]
     },
     "execution_count": 85,
     "metadata": {},
     "output_type": "execute_result"
    }
   ],
   "source": [
    "integrand"
   ]
  },
  {
   "cell_type": "code",
   "execution_count": 87,
   "id": "10837dd0",
   "metadata": {},
   "outputs": [
    {
     "data": {
      "text/plain": [
       "2.961257081456148e-07"
      ]
     },
     "execution_count": 87,
     "metadata": {},
     "output_type": "execute_result"
    }
   ],
   "source": [
    "trapz(integrand, pmf_dehp[0])"
   ]
  },
  {
   "cell_type": "code",
   "execution_count": 88,
   "id": "87ef3959",
   "metadata": {},
   "outputs": [
    {
     "data": {
      "text/plain": [
       "3376944.2250122605"
      ]
     },
     "execution_count": 88,
     "metadata": {},
     "output_type": "execute_result"
    }
   ],
   "source": [
    "1/trapz(integrand, pmf_dehp[0]) # This is now in nm/s"
   ]
  },
  {
   "cell_type": "code",
   "execution_count": 89,
   "id": "6c9ce673",
   "metadata": {},
   "outputs": [
    {
     "data": {
      "text/plain": [
       "0.33769442250122605"
      ]
     },
     "execution_count": 89,
     "metadata": {},
     "output_type": "execute_result"
    }
   ],
   "source": [
    "# Converting into cm/s\n",
    "1/trapz(integrand, pmf_dehp[0]) * 1 * 10 ** -7"
   ]
  },
  {
   "cell_type": "code",
   "execution_count": 90,
   "id": "a3f947f4",
   "metadata": {},
   "outputs": [],
   "source": [
    "# So, both the methods I have mentioned in here fetches us the same result"
   ]
  },
  {
   "cell_type": "code",
   "execution_count": 91,
   "id": "11f33ffd",
   "metadata": {},
   "outputs": [
    {
     "data": {
      "text/plain": [
       "0.34781739341334267"
      ]
     },
     "execution_count": 91,
     "metadata": {},
     "output_type": "execute_result"
    }
   ],
   "source": [
    "1/simps(integrand, pmf_dehp[0]) * 1 * 10 ** -7"
   ]
  },
  {
   "cell_type": "code",
   "execution_count": null,
   "id": "6dfaf6fc",
   "metadata": {},
   "outputs": [],
   "source": []
  }
 ],
 "metadata": {
  "kernelspec": {
   "display_name": "Python 3",
   "language": "python",
   "name": "python3"
  },
  "language_info": {
   "codemirror_mode": {
    "name": "ipython",
    "version": 3
   },
   "file_extension": ".py",
   "mimetype": "text/x-python",
   "name": "python",
   "nbconvert_exporter": "python",
   "pygments_lexer": "ipython3",
   "version": "3.8.8"
  }
 },
 "nbformat": 4,
 "nbformat_minor": 5
}

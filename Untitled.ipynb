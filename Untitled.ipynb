{
 "cells": [
  {
   "cell_type": "code",
   "execution_count": 2,
   "id": "7d8e348b",
   "metadata": {},
   "outputs": [],
   "source": [
    "import pandas as pd\n",
    "import numpy as np\n",
    "import matplotlib.pyplot as plt\n",
    "from scipy.integrate import trapz, simps\n",
    "\n"
   ]
  },
  {
   "cell_type": "code",
   "execution_count": 3,
   "id": "fb1dc8ff",
   "metadata": {},
   "outputs": [],
   "source": [
    "pmf = pd.read_csv('2-DEHP.xvg', header = None, delim_whitespace= True)"
   ]
  },
  {
   "cell_type": "code",
   "execution_count": 19,
   "id": "c8bf0c81",
   "metadata": {},
   "outputs": [],
   "source": [
    "def permeability(xvg, txt):\n",
    "    pmf = pd.read_csv(xvg, header = None, delim_whitespace= True)\n",
    "    df = pd.DataFrame({0: 0.000000, 1: [pmf[1][0]], 2: [pmf[2][0]]})\n",
    "    df = df.append(pmf)\n",
    "    df = df.reset_index(drop = True)\n",
    "    pmf = df.copy(deep = True)\n",
    "    pmf = pmf[pmf[0] <= 4.000000]\n",
    "    pmf = pmf.append({0: 4.000000, 1: pmf[1].iloc[-1] , 2: pmf[2].iloc[-1]}, ignore_index=True)\n",
    "    pmf[3] = np.exp(pmf[1]/2.478)\n",
    "    diff = pd.read_csv(txt, header = None, delim_whitespace= True)\n",
    "    diffusion_interpl = np.interp(pmf[0], diff[0], diff[1])\n",
    "    pmf[0] = pmf[0] * 1 * 10 ** -7\n",
    "    diff = pd.DataFrame({0: pmf[0], 1: diffusion_interpl })\n",
    "    integrand = pmf[3]/diff[1]\n",
    "    return 1/trapz(integrand, pmf[0])"
   ]
  },
  {
   "cell_type": "code",
   "execution_count": 20,
   "id": "42a4734c",
   "metadata": {},
   "outputs": [
    {
     "data": {
      "text/plain": [
       "11.655809121307291"
      ]
     },
     "execution_count": 20,
     "metadata": {},
     "output_type": "execute_result"
    }
   ],
   "source": [
    "permeability('1-DEP.xvg', 'DEP_dif.txt')"
   ]
  },
  {
   "cell_type": "code",
   "execution_count": 17,
   "id": "e037dd5d",
   "metadata": {},
   "outputs": [
    {
     "data": {
      "text/plain": [
       "0.337694422500776"
      ]
     },
     "execution_count": 17,
     "metadata": {},
     "output_type": "execute_result"
    }
   ],
   "source": [
    "permeability('2-DEHP.xvg', 'DEHP_dif.txt')"
   ]
  },
  {
   "cell_type": "code",
   "execution_count": 21,
   "id": "c5b55e22",
   "metadata": {},
   "outputs": [
    {
     "data": {
      "text/plain": [
       "24.386727043876455"
      ]
     },
     "execution_count": 21,
     "metadata": {},
     "output_type": "execute_result"
    }
   ],
   "source": [
    "permeability('3-DIDP.xvg', 'DIDP_dif.txt')"
   ]
  },
  {
   "cell_type": "code",
   "execution_count": null,
   "id": "637a0506",
   "metadata": {},
   "outputs": [],
   "source": [
    "def perm_weighted()"
   ]
  }
 ],
 "metadata": {
  "kernelspec": {
   "display_name": "Python 3",
   "language": "python",
   "name": "python3"
  },
  "language_info": {
   "codemirror_mode": {
    "name": "ipython",
    "version": 3
   },
   "file_extension": ".py",
   "mimetype": "text/x-python",
   "name": "python",
   "nbconvert_exporter": "python",
   "pygments_lexer": "ipython3",
   "version": "3.8.8"
  }
 },
 "nbformat": 4,
 "nbformat_minor": 5
}

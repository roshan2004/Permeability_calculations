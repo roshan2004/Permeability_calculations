{
 "cells": [
  {
   "cell_type": "code",
   "execution_count": 1,
   "id": "d743f06d",
   "metadata": {},
   "outputs": [],
   "source": [
    "# Importing necessary libraries\n",
    "import pandas as pd\n",
    "import numpy as np\n",
    "import matplotlib.pyplot as plt\n",
    "from scipy.integrate import trapz, simps #Importing trapz, and simps module from scipy for numerical integration\n"
   ]
  },
  {
   "cell_type": "code",
   "execution_count": 2,
   "id": "aa89cfd9",
   "metadata": {},
   "outputs": [],
   "source": [
    "pmf_dehp = pd.read_csv('2-DEHP.xvg', header = None, delim_whitespace=True)"
   ]
  },
  {
   "cell_type": "code",
   "execution_count": 3,
   "id": "bfb35748",
   "metadata": {},
   "outputs": [
    {
     "data": {
      "text/html": [
       "<div>\n",
       "<style scoped>\n",
       "    .dataframe tbody tr th:only-of-type {\n",
       "        vertical-align: middle;\n",
       "    }\n",
       "\n",
       "    .dataframe tbody tr th {\n",
       "        vertical-align: top;\n",
       "    }\n",
       "\n",
       "    .dataframe thead th {\n",
       "        text-align: right;\n",
       "    }\n",
       "</style>\n",
       "<table border=\"1\" class=\"dataframe\">\n",
       "  <thead>\n",
       "    <tr style=\"text-align: right;\">\n",
       "      <th></th>\n",
       "      <th>0</th>\n",
       "      <th>1</th>\n",
       "      <th>2</th>\n",
       "    </tr>\n",
       "  </thead>\n",
       "  <tbody>\n",
       "    <tr>\n",
       "      <th>0</th>\n",
       "      <td>0.005008</td>\n",
       "      <td>-44.65238</td>\n",
       "      <td>1.794111</td>\n",
       "    </tr>\n",
       "    <tr>\n",
       "      <th>1</th>\n",
       "      <td>0.015025</td>\n",
       "      <td>-44.65342</td>\n",
       "      <td>1.790558</td>\n",
       "    </tr>\n",
       "    <tr>\n",
       "      <th>2</th>\n",
       "      <td>0.025042</td>\n",
       "      <td>-44.62829</td>\n",
       "      <td>1.788121</td>\n",
       "    </tr>\n",
       "    <tr>\n",
       "      <th>3</th>\n",
       "      <td>0.035059</td>\n",
       "      <td>-44.61256</td>\n",
       "      <td>1.785940</td>\n",
       "    </tr>\n",
       "    <tr>\n",
       "      <th>4</th>\n",
       "      <td>0.045076</td>\n",
       "      <td>-44.59555</td>\n",
       "      <td>1.783410</td>\n",
       "    </tr>\n",
       "  </tbody>\n",
       "</table>\n",
       "</div>"
      ],
      "text/plain": [
       "          0         1         2\n",
       "0  0.005008 -44.65238  1.794111\n",
       "1  0.015025 -44.65342  1.790558\n",
       "2  0.025042 -44.62829  1.788121\n",
       "3  0.035059 -44.61256  1.785940\n",
       "4  0.045076 -44.59555  1.783410"
      ]
     },
     "execution_count": 3,
     "metadata": {},
     "output_type": "execute_result"
    }
   ],
   "source": [
    "# Checking the few data from pmf_dehp\n",
    "pmf_dehp.head()"
   ]
  },
  {
   "cell_type": "code",
   "execution_count": 4,
   "id": "8a3ee67f",
   "metadata": {},
   "outputs": [],
   "source": [
    "# Extrapolating for the data at 0\n",
    "df = pd.DataFrame({0: [0.000000], 1: -44.65238, 2:1.794111})\n",
    "df = df.append(pmf_dehp)\n",
    "df = df.reset_index(drop=True)"
   ]
  },
  {
   "cell_type": "code",
   "execution_count": 5,
   "id": "04de3935",
   "metadata": {},
   "outputs": [],
   "source": [
    "# Just making a copy to have same name as original\n",
    "pmf_dehp = df.copy(deep=True)"
   ]
  },
  {
   "cell_type": "code",
   "execution_count": 6,
   "id": "d6ddc703",
   "metadata": {},
   "outputs": [
    {
     "data": {
      "text/html": [
       "<div>\n",
       "<style scoped>\n",
       "    .dataframe tbody tr th:only-of-type {\n",
       "        vertical-align: middle;\n",
       "    }\n",
       "\n",
       "    .dataframe tbody tr th {\n",
       "        vertical-align: top;\n",
       "    }\n",
       "\n",
       "    .dataframe thead th {\n",
       "        text-align: right;\n",
       "    }\n",
       "</style>\n",
       "<table border=\"1\" class=\"dataframe\">\n",
       "  <thead>\n",
       "    <tr style=\"text-align: right;\">\n",
       "      <th></th>\n",
       "      <th>0</th>\n",
       "      <th>1</th>\n",
       "      <th>2</th>\n",
       "    </tr>\n",
       "  </thead>\n",
       "  <tbody>\n",
       "    <tr>\n",
       "      <th>0</th>\n",
       "      <td>0.000000</td>\n",
       "      <td>-44.652380</td>\n",
       "      <td>1.794111</td>\n",
       "    </tr>\n",
       "    <tr>\n",
       "      <th>1</th>\n",
       "      <td>0.005008</td>\n",
       "      <td>-44.652380</td>\n",
       "      <td>1.794111</td>\n",
       "    </tr>\n",
       "    <tr>\n",
       "      <th>2</th>\n",
       "      <td>0.015025</td>\n",
       "      <td>-44.653420</td>\n",
       "      <td>1.790558</td>\n",
       "    </tr>\n",
       "    <tr>\n",
       "      <th>3</th>\n",
       "      <td>0.025042</td>\n",
       "      <td>-44.628290</td>\n",
       "      <td>1.788121</td>\n",
       "    </tr>\n",
       "    <tr>\n",
       "      <th>4</th>\n",
       "      <td>0.035059</td>\n",
       "      <td>-44.612560</td>\n",
       "      <td>1.785940</td>\n",
       "    </tr>\n",
       "    <tr>\n",
       "      <th>...</th>\n",
       "      <td>...</td>\n",
       "      <td>...</td>\n",
       "      <td>...</td>\n",
       "    </tr>\n",
       "    <tr>\n",
       "      <th>417</th>\n",
       "      <td>4.172054</td>\n",
       "      <td>-0.101668</td>\n",
       "      <td>0.014071</td>\n",
       "    </tr>\n",
       "    <tr>\n",
       "      <th>418</th>\n",
       "      <td>4.182071</td>\n",
       "      <td>0.049095</td>\n",
       "      <td>0.015160</td>\n",
       "    </tr>\n",
       "    <tr>\n",
       "      <th>419</th>\n",
       "      <td>4.192088</td>\n",
       "      <td>-0.149261</td>\n",
       "      <td>0.015889</td>\n",
       "    </tr>\n",
       "    <tr>\n",
       "      <th>420</th>\n",
       "      <td>4.202105</td>\n",
       "      <td>0.595437</td>\n",
       "      <td>0.016376</td>\n",
       "    </tr>\n",
       "    <tr>\n",
       "      <th>421</th>\n",
       "      <td>4.212122</td>\n",
       "      <td>0.766363</td>\n",
       "      <td>0.016703</td>\n",
       "    </tr>\n",
       "  </tbody>\n",
       "</table>\n",
       "<p>422 rows × 3 columns</p>\n",
       "</div>"
      ],
      "text/plain": [
       "            0          1         2\n",
       "0    0.000000 -44.652380  1.794111\n",
       "1    0.005008 -44.652380  1.794111\n",
       "2    0.015025 -44.653420  1.790558\n",
       "3    0.025042 -44.628290  1.788121\n",
       "4    0.035059 -44.612560  1.785940\n",
       "..        ...        ...       ...\n",
       "417  4.172054  -0.101668  0.014071\n",
       "418  4.182071   0.049095  0.015160\n",
       "419  4.192088  -0.149261  0.015889\n",
       "420  4.202105   0.595437  0.016376\n",
       "421  4.212122   0.766363  0.016703\n",
       "\n",
       "[422 rows x 3 columns]"
      ]
     },
     "execution_count": 6,
     "metadata": {},
     "output_type": "execute_result"
    }
   ],
   "source": [
    "pmf_dehp"
   ]
  },
  {
   "cell_type": "code",
   "execution_count": 7,
   "id": "685506e5",
   "metadata": {},
   "outputs": [],
   "source": [
    "# We don't want the values of z distance above 4, so\n",
    "pmf_dehp = pmf_dehp[pmf_dehp[0] <= 4.000000]"
   ]
  },
  {
   "cell_type": "code",
   "execution_count": 8,
   "id": "871ef9db",
   "metadata": {},
   "outputs": [
    {
     "data": {
      "text/html": [
       "<div>\n",
       "<style scoped>\n",
       "    .dataframe tbody tr th:only-of-type {\n",
       "        vertical-align: middle;\n",
       "    }\n",
       "\n",
       "    .dataframe tbody tr th {\n",
       "        vertical-align: top;\n",
       "    }\n",
       "\n",
       "    .dataframe thead th {\n",
       "        text-align: right;\n",
       "    }\n",
       "</style>\n",
       "<table border=\"1\" class=\"dataframe\">\n",
       "  <thead>\n",
       "    <tr style=\"text-align: right;\">\n",
       "      <th></th>\n",
       "      <th>0</th>\n",
       "      <th>1</th>\n",
       "      <th>2</th>\n",
       "    </tr>\n",
       "  </thead>\n",
       "  <tbody>\n",
       "    <tr>\n",
       "      <th>395</th>\n",
       "      <td>3.951681</td>\n",
       "      <td>0.124851</td>\n",
       "      <td>0.022008</td>\n",
       "    </tr>\n",
       "    <tr>\n",
       "      <th>396</th>\n",
       "      <td>3.961698</td>\n",
       "      <td>0.121398</td>\n",
       "      <td>0.022350</td>\n",
       "    </tr>\n",
       "    <tr>\n",
       "      <th>397</th>\n",
       "      <td>3.971715</td>\n",
       "      <td>0.132617</td>\n",
       "      <td>0.013916</td>\n",
       "    </tr>\n",
       "    <tr>\n",
       "      <th>398</th>\n",
       "      <td>3.981732</td>\n",
       "      <td>0.100150</td>\n",
       "      <td>0.014667</td>\n",
       "    </tr>\n",
       "    <tr>\n",
       "      <th>399</th>\n",
       "      <td>3.991749</td>\n",
       "      <td>0.097642</td>\n",
       "      <td>0.014463</td>\n",
       "    </tr>\n",
       "  </tbody>\n",
       "</table>\n",
       "</div>"
      ],
      "text/plain": [
       "            0         1         2\n",
       "395  3.951681  0.124851  0.022008\n",
       "396  3.961698  0.121398  0.022350\n",
       "397  3.971715  0.132617  0.013916\n",
       "398  3.981732  0.100150  0.014667\n",
       "399  3.991749  0.097642  0.014463"
      ]
     },
     "execution_count": 8,
     "metadata": {},
     "output_type": "execute_result"
    }
   ],
   "source": [
    "pmf_dehp.tail()"
   ]
  },
  {
   "cell_type": "code",
   "execution_count": 9,
   "id": "fe9d856f",
   "metadata": {},
   "outputs": [],
   "source": [
    "# Just extrapolating to have the same value in z = 4 nm as in z = 3.991749\n",
    "pmf_dehp = pmf_dehp.append({0: 4.000000, 1: 0.097642, 2: 0.014463}, ignore_index = True)"
   ]
  },
  {
   "cell_type": "code",
   "execution_count": 10,
   "id": "1c75ee7a",
   "metadata": {},
   "outputs": [
    {
     "data": {
      "text/html": [
       "<div>\n",
       "<style scoped>\n",
       "    .dataframe tbody tr th:only-of-type {\n",
       "        vertical-align: middle;\n",
       "    }\n",
       "\n",
       "    .dataframe tbody tr th {\n",
       "        vertical-align: top;\n",
       "    }\n",
       "\n",
       "    .dataframe thead th {\n",
       "        text-align: right;\n",
       "    }\n",
       "</style>\n",
       "<table border=\"1\" class=\"dataframe\">\n",
       "  <thead>\n",
       "    <tr style=\"text-align: right;\">\n",
       "      <th></th>\n",
       "      <th>0</th>\n",
       "      <th>1</th>\n",
       "      <th>2</th>\n",
       "    </tr>\n",
       "  </thead>\n",
       "  <tbody>\n",
       "    <tr>\n",
       "      <th>0</th>\n",
       "      <td>0.000000</td>\n",
       "      <td>-44.652380</td>\n",
       "      <td>1.794111</td>\n",
       "    </tr>\n",
       "    <tr>\n",
       "      <th>1</th>\n",
       "      <td>0.005008</td>\n",
       "      <td>-44.652380</td>\n",
       "      <td>1.794111</td>\n",
       "    </tr>\n",
       "    <tr>\n",
       "      <th>2</th>\n",
       "      <td>0.015025</td>\n",
       "      <td>-44.653420</td>\n",
       "      <td>1.790558</td>\n",
       "    </tr>\n",
       "    <tr>\n",
       "      <th>3</th>\n",
       "      <td>0.025042</td>\n",
       "      <td>-44.628290</td>\n",
       "      <td>1.788121</td>\n",
       "    </tr>\n",
       "    <tr>\n",
       "      <th>4</th>\n",
       "      <td>0.035059</td>\n",
       "      <td>-44.612560</td>\n",
       "      <td>1.785940</td>\n",
       "    </tr>\n",
       "    <tr>\n",
       "      <th>...</th>\n",
       "      <td>...</td>\n",
       "      <td>...</td>\n",
       "      <td>...</td>\n",
       "    </tr>\n",
       "    <tr>\n",
       "      <th>396</th>\n",
       "      <td>3.961698</td>\n",
       "      <td>0.121398</td>\n",
       "      <td>0.022350</td>\n",
       "    </tr>\n",
       "    <tr>\n",
       "      <th>397</th>\n",
       "      <td>3.971715</td>\n",
       "      <td>0.132617</td>\n",
       "      <td>0.013916</td>\n",
       "    </tr>\n",
       "    <tr>\n",
       "      <th>398</th>\n",
       "      <td>3.981732</td>\n",
       "      <td>0.100150</td>\n",
       "      <td>0.014667</td>\n",
       "    </tr>\n",
       "    <tr>\n",
       "      <th>399</th>\n",
       "      <td>3.991749</td>\n",
       "      <td>0.097642</td>\n",
       "      <td>0.014463</td>\n",
       "    </tr>\n",
       "    <tr>\n",
       "      <th>400</th>\n",
       "      <td>4.000000</td>\n",
       "      <td>0.097642</td>\n",
       "      <td>0.014463</td>\n",
       "    </tr>\n",
       "  </tbody>\n",
       "</table>\n",
       "<p>401 rows × 3 columns</p>\n",
       "</div>"
      ],
      "text/plain": [
       "            0          1         2\n",
       "0    0.000000 -44.652380  1.794111\n",
       "1    0.005008 -44.652380  1.794111\n",
       "2    0.015025 -44.653420  1.790558\n",
       "3    0.025042 -44.628290  1.788121\n",
       "4    0.035059 -44.612560  1.785940\n",
       "..        ...        ...       ...\n",
       "396  3.961698   0.121398  0.022350\n",
       "397  3.971715   0.132617  0.013916\n",
       "398  3.981732   0.100150  0.014667\n",
       "399  3.991749   0.097642  0.014463\n",
       "400  4.000000   0.097642  0.014463\n",
       "\n",
       "[401 rows x 3 columns]"
      ]
     },
     "execution_count": 10,
     "metadata": {},
     "output_type": "execute_result"
    }
   ],
   "source": [
    "pmf_dehp"
   ]
  },
  {
   "cell_type": "code",
   "execution_count": 13,
   "id": "71722cce",
   "metadata": {},
   "outputs": [
    {
     "data": {
      "text/plain": [
       "[<matplotlib.lines.Line2D at 0x7f55e907ec40>]"
      ]
     },
     "execution_count": 13,
     "metadata": {},
     "output_type": "execute_result"
    },
    {
     "data": {
      "image/png": "[encoded data removed]",
      "text/plain": [
       "<Figure size 432x288 with 1 Axes>"
      ]
     },
     "metadata": {
      "needs_background": "light"
     },
     "output_type": "display_data"
    }
   ],
   "source": [
    "# Now, check a rough plot for free energy\n",
    "plt.plot(pmf_dehp[0], pmf_dehp[1], color = 'r')\n",
    "plt.plot(-pmf_dehp[0], pmf_dehp[1], color = 'r')"
   ]
  },
  {
   "cell_type": "markdown",
   "id": "00820f1e",
   "metadata": {},
   "source": [
    "Now adding a $e^\\frac{\\Delta G}{RT}$ component in the last column of our PMF data. Here, $\\Delta G$ is obtained from the second column pmf_dehp[1] and RT is 2.478 KJ/mol at 298K."
   ]
  },
  {
   "cell_type": "code",
   "execution_count": 14,
   "id": "53666014",
   "metadata": {},
   "outputs": [],
   "source": [
    "pmf_dehp[3] = np.exp(pmf_dehp[1]/2.478)"
   ]
  },
  {
   "cell_type": "code",
   "execution_count": 15,
   "id": "fba9a973",
   "metadata": {},
   "outputs": [
    {
     "data": {
      "text/html": [
       "<div>\n",
       "<style scoped>\n",
       "    .dataframe tbody tr th:only-of-type {\n",
       "        vertical-align: middle;\n",
       "    }\n",
       "\n",
       "    .dataframe tbody tr th {\n",
       "        vertical-align: top;\n",
       "    }\n",
       "\n",
       "    .dataframe thead th {\n",
       "        text-align: right;\n",
       "    }\n",
       "</style>\n",
       "<table border=\"1\" class=\"dataframe\">\n",
       "  <thead>\n",
       "    <tr style=\"text-align: right;\">\n",
       "      <th></th>\n",
       "      <th>0</th>\n",
       "      <th>1</th>\n",
       "      <th>2</th>\n",
       "      <th>3</th>\n",
       "    </tr>\n",
       "  </thead>\n",
       "  <tbody>\n",
       "    <tr>\n",
       "      <th>0</th>\n",
       "      <td>0.000000</td>\n",
       "      <td>-44.652380</td>\n",
       "      <td>1.794111</td>\n",
       "      <td>1.493552e-08</td>\n",
       "    </tr>\n",
       "    <tr>\n",
       "      <th>1</th>\n",
       "      <td>0.005008</td>\n",
       "      <td>-44.652380</td>\n",
       "      <td>1.794111</td>\n",
       "      <td>1.493552e-08</td>\n",
       "    </tr>\n",
       "    <tr>\n",
       "      <th>2</th>\n",
       "      <td>0.015025</td>\n",
       "      <td>-44.653420</td>\n",
       "      <td>1.790558</td>\n",
       "      <td>1.492925e-08</td>\n",
       "    </tr>\n",
       "    <tr>\n",
       "      <th>3</th>\n",
       "      <td>0.025042</td>\n",
       "      <td>-44.628290</td>\n",
       "      <td>1.788121</td>\n",
       "      <td>1.508142e-08</td>\n",
       "    </tr>\n",
       "    <tr>\n",
       "      <th>4</th>\n",
       "      <td>0.035059</td>\n",
       "      <td>-44.612560</td>\n",
       "      <td>1.785940</td>\n",
       "      <td>1.517746e-08</td>\n",
       "    </tr>\n",
       "    <tr>\n",
       "      <th>...</th>\n",
       "      <td>...</td>\n",
       "      <td>...</td>\n",
       "      <td>...</td>\n",
       "      <td>...</td>\n",
       "    </tr>\n",
       "    <tr>\n",
       "      <th>396</th>\n",
       "      <td>3.961698</td>\n",
       "      <td>0.121398</td>\n",
       "      <td>0.022350</td>\n",
       "      <td>1.050210e+00</td>\n",
       "    </tr>\n",
       "    <tr>\n",
       "      <th>397</th>\n",
       "      <td>3.971715</td>\n",
       "      <td>0.132617</td>\n",
       "      <td>0.013916</td>\n",
       "      <td>1.054976e+00</td>\n",
       "    </tr>\n",
       "    <tr>\n",
       "      <th>398</th>\n",
       "      <td>3.981732</td>\n",
       "      <td>0.100150</td>\n",
       "      <td>0.014667</td>\n",
       "      <td>1.041243e+00</td>\n",
       "    </tr>\n",
       "    <tr>\n",
       "      <th>399</th>\n",
       "      <td>3.991749</td>\n",
       "      <td>0.097642</td>\n",
       "      <td>0.014463</td>\n",
       "      <td>1.040190e+00</td>\n",
       "    </tr>\n",
       "    <tr>\n",
       "      <th>400</th>\n",
       "      <td>4.000000</td>\n",
       "      <td>0.097642</td>\n",
       "      <td>0.014463</td>\n",
       "      <td>1.040190e+00</td>\n",
       "    </tr>\n",
       "  </tbody>\n",
       "</table>\n",
       "<p>401 rows × 4 columns</p>\n",
       "</div>"
      ],
      "text/plain": [
       "            0          1         2             3\n",
       "0    0.000000 -44.652380  1.794111  1.493552e-08\n",
       "1    0.005008 -44.652380  1.794111  1.493552e-08\n",
       "2    0.015025 -44.653420  1.790558  1.492925e-08\n",
       "3    0.025042 -44.628290  1.788121  1.508142e-08\n",
       "4    0.035059 -44.612560  1.785940  1.517746e-08\n",
       "..        ...        ...       ...           ...\n",
       "396  3.961698   0.121398  0.022350  1.050210e+00\n",
       "397  3.971715   0.132617  0.013916  1.054976e+00\n",
       "398  3.981732   0.100150  0.014667  1.041243e+00\n",
       "399  3.991749   0.097642  0.014463  1.040190e+00\n",
       "400  4.000000   0.097642  0.014463  1.040190e+00\n",
       "\n",
       "[401 rows x 4 columns]"
      ]
     },
     "execution_count": 15,
     "metadata": {},
     "output_type": "execute_result"
    }
   ],
   "source": [
    "pmf_dehp"
   ]
  },
  {
   "cell_type": "code",
   "execution_count": 16,
   "id": "49938b10",
   "metadata": {},
   "outputs": [
    {
     "data": {
      "text/plain": [
       "1.4935516397821283e-08"
      ]
     },
     "execution_count": 16,
     "metadata": {},
     "output_type": "execute_result"
    }
   ],
   "source": [
    "# Just checking some values in the last column if it makes sense\n",
    "np.exp(-44.652380/2.478)"
   ]
  },
  {
   "cell_type": "code",
   "execution_count": 17,
   "id": "cd8da198",
   "metadata": {},
   "outputs": [],
   "source": [
    "diff_dehp = pd.read_csv('DEHP_dif.txt', header = None, delim_whitespace=True)"
   ]
  },
  {
   "cell_type": "code",
   "execution_count": 19,
   "id": "e8b0e61f",
   "metadata": {},
   "outputs": [
    {
     "data": {
      "text/html": [
       "<div>\n",
       "<style scoped>\n",
       "    .dataframe tbody tr th:only-of-type {\n",
       "        vertical-align: middle;\n",
       "    }\n",
       "\n",
       "    .dataframe tbody tr th {\n",
       "        vertical-align: top;\n",
       "    }\n",
       "\n",
       "    .dataframe thead th {\n",
       "        text-align: right;\n",
       "    }\n",
       "</style>\n",
       "<table border=\"1\" class=\"dataframe\">\n",
       "  <thead>\n",
       "    <tr style=\"text-align: right;\">\n",
       "      <th></th>\n",
       "      <th>0</th>\n",
       "      <th>1</th>\n",
       "    </tr>\n",
       "  </thead>\n",
       "  <tbody>\n",
       "    <tr>\n",
       "      <th>0</th>\n",
       "      <td>0.0</td>\n",
       "      <td>1.616121e-06</td>\n",
       "    </tr>\n",
       "    <tr>\n",
       "      <th>1</th>\n",
       "      <td>0.1</td>\n",
       "      <td>5.624232e-07</td>\n",
       "    </tr>\n",
       "    <tr>\n",
       "      <th>2</th>\n",
       "      <td>0.2</td>\n",
       "      <td>8.932635e-09</td>\n",
       "    </tr>\n",
       "    <tr>\n",
       "      <th>3</th>\n",
       "      <td>0.3</td>\n",
       "      <td>5.504893e-07</td>\n",
       "    </tr>\n",
       "    <tr>\n",
       "      <th>4</th>\n",
       "      <td>0.4</td>\n",
       "      <td>1.965968e-07</td>\n",
       "    </tr>\n",
       "  </tbody>\n",
       "</table>\n",
       "</div>"
      ],
      "text/plain": [
       "     0             1\n",
       "0  0.0  1.616121e-06\n",
       "1  0.1  5.624232e-07\n",
       "2  0.2  8.932635e-09\n",
       "3  0.3  5.504893e-07\n",
       "4  0.4  1.965968e-07"
      ]
     },
     "execution_count": 19,
     "metadata": {},
     "output_type": "execute_result"
    }
   ],
   "source": [
    "diff_dehp.head()"
   ]
  },
  {
   "cell_type": "code",
   "execution_count": 21,
   "id": "f2fd7ef6",
   "metadata": {},
   "outputs": [
    {
     "data": {
      "text/plain": [
       "[<matplotlib.lines.Line2D at 0x7f55e7c615b0>]"
      ]
     },
     "execution_count": 21,
     "metadata": {},
     "output_type": "execute_result"
    },
    {
     "data": {
      "image/png": "[encoded data removed]",
      "text/plain": [
       "<Figure size 432x288 with 1 Axes>"
      ]
     },
     "metadata": {
      "needs_background": "light"
     },
     "output_type": "display_data"
    }
   ],
   "source": [
    "# Let's plot the data for diffusion coefficent of DEP\n",
    "plt.plot(diff_dehp[0], diff_dehp[1], '--o', color = 'k')"
   ]
  },
  {
   "cell_type": "markdown",
   "id": "d93672c8",
   "metadata": {},
   "source": [
    "Here, the linear interpolation is done for our diffusion coefficient so that we can obtain the missing values at the position specified by the PMF data. The function takes these values **np.interp(The z-coordinates at which to evaluate the interpolated values, The z-coordinates of the data points, The function values of these data points)**"
   ]
  },
  {
   "cell_type": "code",
   "execution_count": 22,
   "id": "63214cfb",
   "metadata": {},
   "outputs": [],
   "source": [
    "diffusion_interpl = np.interp(pmf_dehp[0], diff_dehp[0], diff_dehp[1])"
   ]
  },
  {
   "cell_type": "code",
   "execution_count": 23,
   "id": "645d0775",
   "metadata": {},
   "outputs": [
    {
     "data": {
      "text/plain": [
       "[<matplotlib.lines.Line2D at 0x7f55e7f73af0>]"
      ]
     },
     "execution_count": 23,
     "metadata": {},
     "output_type": "execute_result"
    },
    {
     "data": {
      "image/png": "[encoded data removed]",
      "text/plain": [
       "<Figure size 432x288 with 1 Axes>"
      ]
     },
     "metadata": {
      "needs_background": "light"
     },
     "output_type": "display_data"
    }
   ],
   "source": [
    "## Let's plot these interpolated values against the z - data points given by pmf_dep[0]\n",
    "plt.plot(pmf_dehp[0], diffusion_interpl, '--o')"
   ]
  },
  {
   "cell_type": "code",
   "execution_count": 24,
   "id": "034e84b9",
   "metadata": {},
   "outputs": [],
   "source": [
    "diff_dehp = pd.DataFrame({0: pmf_dehp[0].copy(deep = True), 1 : diffusion_interpl})"
   ]
  },
  {
   "cell_type": "code",
   "execution_count": 25,
   "id": "f8e23044",
   "metadata": {},
   "outputs": [
    {
     "data": {
      "text/html": [
       "<div>\n",
       "<style scoped>\n",
       "    .dataframe tbody tr th:only-of-type {\n",
       "        vertical-align: middle;\n",
       "    }\n",
       "\n",
       "    .dataframe tbody tr th {\n",
       "        vertical-align: top;\n",
       "    }\n",
       "\n",
       "    .dataframe thead th {\n",
       "        text-align: right;\n",
       "    }\n",
       "</style>\n",
       "<table border=\"1\" class=\"dataframe\">\n",
       "  <thead>\n",
       "    <tr style=\"text-align: right;\">\n",
       "      <th></th>\n",
       "      <th>0</th>\n",
       "      <th>1</th>\n",
       "    </tr>\n",
       "  </thead>\n",
       "  <tbody>\n",
       "    <tr>\n",
       "      <th>0</th>\n",
       "      <td>0.000000</td>\n",
       "      <td>0.000002</td>\n",
       "    </tr>\n",
       "    <tr>\n",
       "      <th>1</th>\n",
       "      <td>0.005008</td>\n",
       "      <td>0.000002</td>\n",
       "    </tr>\n",
       "    <tr>\n",
       "      <th>2</th>\n",
       "      <td>0.015025</td>\n",
       "      <td>0.000001</td>\n",
       "    </tr>\n",
       "    <tr>\n",
       "      <th>3</th>\n",
       "      <td>0.025042</td>\n",
       "      <td>0.000001</td>\n",
       "    </tr>\n",
       "    <tr>\n",
       "      <th>4</th>\n",
       "      <td>0.035059</td>\n",
       "      <td>0.000001</td>\n",
       "    </tr>\n",
       "  </tbody>\n",
       "</table>\n",
       "</div>"
      ],
      "text/plain": [
       "          0         1\n",
       "0  0.000000  0.000002\n",
       "1  0.005008  0.000002\n",
       "2  0.015025  0.000001\n",
       "3  0.025042  0.000001\n",
       "4  0.035059  0.000001"
      ]
     },
     "execution_count": 25,
     "metadata": {},
     "output_type": "execute_result"
    }
   ],
   "source": [
    "diff_dehp.head()"
   ]
  },
  {
   "cell_type": "code",
   "execution_count": 26,
   "id": "b9e86f5e",
   "metadata": {},
   "outputs": [
    {
     "data": {
      "text/html": [
       "<div>\n",
       "<style scoped>\n",
       "    .dataframe tbody tr th:only-of-type {\n",
       "        vertical-align: middle;\n",
       "    }\n",
       "\n",
       "    .dataframe tbody tr th {\n",
       "        vertical-align: top;\n",
       "    }\n",
       "\n",
       "    .dataframe thead th {\n",
       "        text-align: right;\n",
       "    }\n",
       "</style>\n",
       "<table border=\"1\" class=\"dataframe\">\n",
       "  <thead>\n",
       "    <tr style=\"text-align: right;\">\n",
       "      <th></th>\n",
       "      <th>0</th>\n",
       "      <th>1</th>\n",
       "      <th>2</th>\n",
       "      <th>3</th>\n",
       "    </tr>\n",
       "  </thead>\n",
       "  <tbody>\n",
       "    <tr>\n",
       "      <th>0</th>\n",
       "      <td>0.000000</td>\n",
       "      <td>-44.65238</td>\n",
       "      <td>1.794111</td>\n",
       "      <td>1.493552e-08</td>\n",
       "    </tr>\n",
       "    <tr>\n",
       "      <th>1</th>\n",
       "      <td>0.005008</td>\n",
       "      <td>-44.65238</td>\n",
       "      <td>1.794111</td>\n",
       "      <td>1.493552e-08</td>\n",
       "    </tr>\n",
       "    <tr>\n",
       "      <th>2</th>\n",
       "      <td>0.015025</td>\n",
       "      <td>-44.65342</td>\n",
       "      <td>1.790558</td>\n",
       "      <td>1.492925e-08</td>\n",
       "    </tr>\n",
       "    <tr>\n",
       "      <th>3</th>\n",
       "      <td>0.025042</td>\n",
       "      <td>-44.62829</td>\n",
       "      <td>1.788121</td>\n",
       "      <td>1.508142e-08</td>\n",
       "    </tr>\n",
       "    <tr>\n",
       "      <th>4</th>\n",
       "      <td>0.035059</td>\n",
       "      <td>-44.61256</td>\n",
       "      <td>1.785940</td>\n",
       "      <td>1.517746e-08</td>\n",
       "    </tr>\n",
       "  </tbody>\n",
       "</table>\n",
       "</div>"
      ],
      "text/plain": [
       "          0         1         2             3\n",
       "0  0.000000 -44.65238  1.794111  1.493552e-08\n",
       "1  0.005008 -44.65238  1.794111  1.493552e-08\n",
       "2  0.015025 -44.65342  1.790558  1.492925e-08\n",
       "3  0.025042 -44.62829  1.788121  1.508142e-08\n",
       "4  0.035059 -44.61256  1.785940  1.517746e-08"
      ]
     },
     "execution_count": 26,
     "metadata": {},
     "output_type": "execute_result"
    }
   ],
   "source": [
    "pmf_dehp.head()"
   ]
  },
  {
   "cell_type": "code",
   "execution_count": 27,
   "id": "721dbb4c",
   "metadata": {},
   "outputs": [
    {
     "data": {
      "text/plain": [
       "[<matplotlib.lines.Line2D at 0x7f55e8194bb0>]"
      ]
     },
     "execution_count": 27,
     "metadata": {},
     "output_type": "execute_result"
    },
    {
     "data": {
      "image/png": "[encoded data removed]",
      "text/plain": [
       "<Figure size 432x288 with 1 Axes>"
      ]
     },
     "metadata": {
      "needs_background": "light"
     },
     "output_type": "display_data"
    }
   ],
   "source": [
    "plt.plot(diff_dehp[0], diff_dehp[1])"
   ]
  },
  {
   "cell_type": "markdown",
   "id": "d0449fa5",
   "metadata": {},
   "source": [
    "#### My first approach for the numerical integration will be to convert the distance in z which are in nm into cm for both pmf as well as diffusion coefficient. "
   ]
  },
  {
   "cell_type": "code",
   "execution_count": 28,
   "id": "8aeda8cb",
   "metadata": {},
   "outputs": [
    {
     "data": {
      "text/html": [
       "<div>\n",
       "<style scoped>\n",
       "    .dataframe tbody tr th:only-of-type {\n",
       "        vertical-align: middle;\n",
       "    }\n",
       "\n",
       "    .dataframe tbody tr th {\n",
       "        vertical-align: top;\n",
       "    }\n",
       "\n",
       "    .dataframe thead th {\n",
       "        text-align: right;\n",
       "    }\n",
       "</style>\n",
       "<table border=\"1\" class=\"dataframe\">\n",
       "  <thead>\n",
       "    <tr style=\"text-align: right;\">\n",
       "      <th></th>\n",
       "      <th>0</th>\n",
       "      <th>1</th>\n",
       "      <th>2</th>\n",
       "      <th>3</th>\n",
       "    </tr>\n",
       "  </thead>\n",
       "  <tbody>\n",
       "    <tr>\n",
       "      <th>0</th>\n",
       "      <td>0.000000e+00</td>\n",
       "      <td>-44.65238</td>\n",
       "      <td>1.794111</td>\n",
       "      <td>1.493552e-08</td>\n",
       "    </tr>\n",
       "    <tr>\n",
       "      <th>1</th>\n",
       "      <td>5.008469e-10</td>\n",
       "      <td>-44.65238</td>\n",
       "      <td>1.794111</td>\n",
       "      <td>1.493552e-08</td>\n",
       "    </tr>\n",
       "    <tr>\n",
       "      <th>2</th>\n",
       "      <td>1.502540e-09</td>\n",
       "      <td>-44.65342</td>\n",
       "      <td>1.790558</td>\n",
       "      <td>1.492925e-08</td>\n",
       "    </tr>\n",
       "    <tr>\n",
       "      <th>3</th>\n",
       "      <td>2.504234e-09</td>\n",
       "      <td>-44.62829</td>\n",
       "      <td>1.788121</td>\n",
       "      <td>1.508142e-08</td>\n",
       "    </tr>\n",
       "    <tr>\n",
       "      <th>4</th>\n",
       "      <td>3.505928e-09</td>\n",
       "      <td>-44.61256</td>\n",
       "      <td>1.785940</td>\n",
       "      <td>1.517746e-08</td>\n",
       "    </tr>\n",
       "  </tbody>\n",
       "</table>\n",
       "</div>"
      ],
      "text/plain": [
       "              0         1         2             3\n",
       "0  0.000000e+00 -44.65238  1.794111  1.493552e-08\n",
       "1  5.008469e-10 -44.65238  1.794111  1.493552e-08\n",
       "2  1.502540e-09 -44.65342  1.790558  1.492925e-08\n",
       "3  2.504234e-09 -44.62829  1.788121  1.508142e-08\n",
       "4  3.505928e-09 -44.61256  1.785940  1.517746e-08"
      ]
     },
     "execution_count": 28,
     "metadata": {},
     "output_type": "execute_result"
    }
   ],
   "source": [
    "# For pmf_dep it will be ---\n",
    "pmf_dehp[0] = pmf_dehp[0] * 1 * 10 ** -7\n",
    "pmf_dehp.head()\n",
    "# Here, the only columns we need to worry about is at the index 0 and 3 which are the values for z-distance in cm,\n",
    "# exp(Delta G/RT)"
   ]
  },
  {
   "cell_type": "code",
   "execution_count": 29,
   "id": "6477f89b",
   "metadata": {},
   "outputs": [
    {
     "data": {
      "text/html": [
       "<div>\n",
       "<style scoped>\n",
       "    .dataframe tbody tr th:only-of-type {\n",
       "        vertical-align: middle;\n",
       "    }\n",
       "\n",
       "    .dataframe tbody tr th {\n",
       "        vertical-align: top;\n",
       "    }\n",
       "\n",
       "    .dataframe thead th {\n",
       "        text-align: right;\n",
       "    }\n",
       "</style>\n",
       "<table border=\"1\" class=\"dataframe\">\n",
       "  <thead>\n",
       "    <tr style=\"text-align: right;\">\n",
       "      <th></th>\n",
       "      <th>0</th>\n",
       "      <th>1</th>\n",
       "      <th>2</th>\n",
       "      <th>3</th>\n",
       "    </tr>\n",
       "  </thead>\n",
       "  <tbody>\n",
       "    <tr>\n",
       "      <th>396</th>\n",
       "      <td>3.961698e-07</td>\n",
       "      <td>0.121398</td>\n",
       "      <td>0.022350</td>\n",
       "      <td>1.050210</td>\n",
       "    </tr>\n",
       "    <tr>\n",
       "      <th>397</th>\n",
       "      <td>3.971715e-07</td>\n",
       "      <td>0.132617</td>\n",
       "      <td>0.013916</td>\n",
       "      <td>1.054976</td>\n",
       "    </tr>\n",
       "    <tr>\n",
       "      <th>398</th>\n",
       "      <td>3.981732e-07</td>\n",
       "      <td>0.100150</td>\n",
       "      <td>0.014667</td>\n",
       "      <td>1.041243</td>\n",
       "    </tr>\n",
       "    <tr>\n",
       "      <th>399</th>\n",
       "      <td>3.991749e-07</td>\n",
       "      <td>0.097642</td>\n",
       "      <td>0.014463</td>\n",
       "      <td>1.040190</td>\n",
       "    </tr>\n",
       "    <tr>\n",
       "      <th>400</th>\n",
       "      <td>4.000000e-07</td>\n",
       "      <td>0.097642</td>\n",
       "      <td>0.014463</td>\n",
       "      <td>1.040190</td>\n",
       "    </tr>\n",
       "  </tbody>\n",
       "</table>\n",
       "</div>"
      ],
      "text/plain": [
       "                0         1         2         3\n",
       "396  3.961698e-07  0.121398  0.022350  1.050210\n",
       "397  3.971715e-07  0.132617  0.013916  1.054976\n",
       "398  3.981732e-07  0.100150  0.014667  1.041243\n",
       "399  3.991749e-07  0.097642  0.014463  1.040190\n",
       "400  4.000000e-07  0.097642  0.014463  1.040190"
      ]
     },
     "execution_count": 29,
     "metadata": {},
     "output_type": "execute_result"
    }
   ],
   "source": [
    "pmf_dehp.tail()"
   ]
  },
  {
   "cell_type": "code",
   "execution_count": 30,
   "id": "22e3dace",
   "metadata": {},
   "outputs": [],
   "source": [
    "integrand = pmf_dehp[3]/diff_dehp[1]"
   ]
  },
  {
   "cell_type": "code",
   "execution_count": 35,
   "id": "02224801",
   "metadata": {},
   "outputs": [
    {
     "data": {
      "text/plain": [
       "0.009241584167360066"
      ]
     },
     "execution_count": 35,
     "metadata": {},
     "output_type": "execute_result"
    }
   ],
   "source": [
    "np.exp(-44.65238/2.478)/1.6161208e-06"
   ]
  },
  {
   "cell_type": "code",
   "execution_count": 32,
   "id": "3bbc1d34",
   "metadata": {},
   "outputs": [
    {
     "data": {
      "text/plain": [
       "0.009241584167360067"
      ]
     },
     "execution_count": 32,
     "metadata": {},
     "output_type": "execute_result"
    }
   ],
   "source": [
    "integrand[0]"
   ]
  },
  {
   "cell_type": "code",
   "execution_count": 34,
   "id": "f85239b0",
   "metadata": {},
   "outputs": [
    {
     "data": {
      "text/plain": [
       "1.6161208e-06"
      ]
     },
     "execution_count": 34,
     "metadata": {},
     "output_type": "execute_result"
    }
   ],
   "source": [
    "diff_dehp[1][0]"
   ]
  },
  {
   "cell_type": "code",
   "execution_count": 36,
   "id": "a528a545",
   "metadata": {},
   "outputs": [
    {
     "data": {
      "text/plain": [
       "2.961257081456137"
      ]
     },
     "execution_count": 36,
     "metadata": {},
     "output_type": "execute_result"
    }
   ],
   "source": [
    "trapz(integrand, pmf_dehp[0])"
   ]
  },
  {
   "cell_type": "code",
   "execution_count": 37,
   "id": "6a15e6d2",
   "metadata": {},
   "outputs": [
    {
     "data": {
      "text/plain": [
       "0      0.000000e+00\n",
       "1      5.008469e-10\n",
       "2      1.502540e-09\n",
       "3      2.504234e-09\n",
       "4      3.505928e-09\n",
       "           ...     \n",
       "396    3.961698e-07\n",
       "397    3.971715e-07\n",
       "398    3.981732e-07\n",
       "399    3.991749e-07\n",
       "400    4.000000e-07\n",
       "Name: 0, Length: 401, dtype: float64"
      ]
     },
     "execution_count": 37,
     "metadata": {},
     "output_type": "execute_result"
    }
   ],
   "source": [
    "pmf_dehp[0]"
   ]
  },
  {
   "cell_type": "code",
   "execution_count": 38,
   "id": "ab950bf0",
   "metadata": {},
   "outputs": [
    {
     "data": {
      "text/plain": [
       "0.3376944225012273"
      ]
     },
     "execution_count": 38,
     "metadata": {},
     "output_type": "execute_result"
    }
   ],
   "source": [
    "1/trapz(integrand, diff_dehp[0] * 1 * 10 **-7)"
   ]
  },
  {
   "cell_type": "code",
   "execution_count": 41,
   "id": "9e182466",
   "metadata": {},
   "outputs": [],
   "source": [
    "integ = pd.DataFrame({0: pmf_dehp[0], 1: integrand})"
   ]
  },
  {
   "cell_type": "code",
   "execution_count": 42,
   "id": "9700e4b4",
   "metadata": {},
   "outputs": [
    {
     "data": {
      "text/html": [
       "<div>\n",
       "<style scoped>\n",
       "    .dataframe tbody tr th:only-of-type {\n",
       "        vertical-align: middle;\n",
       "    }\n",
       "\n",
       "    .dataframe tbody tr th {\n",
       "        vertical-align: top;\n",
       "    }\n",
       "\n",
       "    .dataframe thead th {\n",
       "        text-align: right;\n",
       "    }\n",
       "</style>\n",
       "<table border=\"1\" class=\"dataframe\">\n",
       "  <thead>\n",
       "    <tr style=\"text-align: right;\">\n",
       "      <th></th>\n",
       "      <th>0</th>\n",
       "      <th>1</th>\n",
       "    </tr>\n",
       "  </thead>\n",
       "  <tbody>\n",
       "    <tr>\n",
       "      <th>0</th>\n",
       "      <td>0.000000e+00</td>\n",
       "      <td>0.009242</td>\n",
       "    </tr>\n",
       "    <tr>\n",
       "      <th>1</th>\n",
       "      <td>5.008469e-10</td>\n",
       "      <td>0.009554</td>\n",
       "    </tr>\n",
       "    <tr>\n",
       "      <th>2</th>\n",
       "      <td>1.502540e-09</td>\n",
       "      <td>0.010241</td>\n",
       "    </tr>\n",
       "    <tr>\n",
       "      <th>3</th>\n",
       "      <td>2.504234e-09</td>\n",
       "      <td>0.011153</td>\n",
       "    </tr>\n",
       "    <tr>\n",
       "      <th>4</th>\n",
       "      <td>3.505928e-09</td>\n",
       "      <td>0.012174</td>\n",
       "    </tr>\n",
       "    <tr>\n",
       "      <th>...</th>\n",
       "      <td>...</td>\n",
       "      <td>...</td>\n",
       "    </tr>\n",
       "    <tr>\n",
       "      <th>396</th>\n",
       "      <td>3.961698e-07</td>\n",
       "      <td>109006.778151</td>\n",
       "    </tr>\n",
       "    <tr>\n",
       "      <th>397</th>\n",
       "      <td>3.971715e-07</td>\n",
       "      <td>112188.536238</td>\n",
       "    </tr>\n",
       "    <tr>\n",
       "      <th>398</th>\n",
       "      <td>3.981732e-07</td>\n",
       "      <td>113513.732187</td>\n",
       "    </tr>\n",
       "    <tr>\n",
       "      <th>399</th>\n",
       "      <td>3.991749e-07</td>\n",
       "      <td>116325.283242</td>\n",
       "    </tr>\n",
       "    <tr>\n",
       "      <th>400</th>\n",
       "      <td>4.000000e-07</td>\n",
       "      <td>118851.609861</td>\n",
       "    </tr>\n",
       "  </tbody>\n",
       "</table>\n",
       "<p>401 rows × 2 columns</p>\n",
       "</div>"
      ],
      "text/plain": [
       "                0              1\n",
       "0    0.000000e+00       0.009242\n",
       "1    5.008469e-10       0.009554\n",
       "2    1.502540e-09       0.010241\n",
       "3    2.504234e-09       0.011153\n",
       "4    3.505928e-09       0.012174\n",
       "..            ...            ...\n",
       "396  3.961698e-07  109006.778151\n",
       "397  3.971715e-07  112188.536238\n",
       "398  3.981732e-07  113513.732187\n",
       "399  3.991749e-07  116325.283242\n",
       "400  4.000000e-07  118851.609861\n",
       "\n",
       "[401 rows x 2 columns]"
      ]
     },
     "execution_count": 42,
     "metadata": {},
     "output_type": "execute_result"
    }
   ],
   "source": [
    "integ"
   ]
  },
  {
   "cell_type": "code",
   "execution_count": 43,
   "id": "ea7ab464",
   "metadata": {},
   "outputs": [],
   "source": [
    "# You can also export the data to xmgrace and calculate the area by yourself\n",
    "integ.to_csv('integrand_dehp.xvg', index = False, header = None, sep = ' ')"
   ]
  },
  {
   "cell_type": "code",
   "execution_count": 44,
   "id": "d9dbb095",
   "metadata": {},
   "outputs": [],
   "source": [
    "!xmgrace integrand_dehp.xvg"
   ]
  },
  {
   "cell_type": "code",
   "execution_count": 47,
   "id": "73af5b2f",
   "metadata": {},
   "outputs": [
    {
     "data": {
      "text/plain": [
       "[<matplotlib.lines.Line2D at 0x7f55e6d0ce80>]"
      ]
     },
     "execution_count": 47,
     "metadata": {},
     "output_type": "execute_result"
    },
    {
     "data": {
      "image/png": "[encoded data removed]",
      "text/plain": [
       "<Figure size 432x288 with 1 Axes>"
      ]
     },
     "metadata": {
      "needs_background": "light"
     },
     "output_type": "display_data"
    }
   ],
   "source": [
    "plt.plot(integ[0], integ[1])"
   ]
  },
  {
   "cell_type": "code",
   "execution_count": null,
   "id": "8d33beed",
   "metadata": {},
   "outputs": [],
   "source": []
  }
 ],
 "metadata": {
  "kernelspec": {
   "display_name": "Python 3",
   "language": "python",
   "name": "python3"
  },
  "language_info": {
   "codemirror_mode": {
    "name": "ipython",
    "version": 3
   },
   "file_extension": ".py",
   "mimetype": "text/x-python",
   "name": "python",
   "nbconvert_exporter": "python",
   "pygments_lexer": "ipython3",
   "version": "3.8.8"
  }
 },
 "nbformat": 4,
 "nbformat_minor": 5
}
